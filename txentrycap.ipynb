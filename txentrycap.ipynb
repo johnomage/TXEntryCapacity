{
 "cells": [
  {
   "cell_type": "code",
   "execution_count": 221,
   "metadata": {},
   "outputs": [],
   "source": [
    "import pandas as pd\n",
    "import numpy as np\n",
    "import plotly.express as px\n",
    "from plotly.subplots import make_subplots\n",
    "import plotly.graph_objects as go\n",
    "import requests\n",
    "import os\n",
    "import sys\n",
    "import matplotlib.pyplot as plt\n",
    "from bs4 import BeautifulSoup"
   ]
  },
  {
   "cell_type": "markdown",
   "metadata": {},
   "source": [
    "Get package versions"
   ]
  },
  {
   "cell_type": "code",
   "execution_count": 227,
   "metadata": {},
   "outputs": [
    {
     "name": "stdout",
     "output_type": "stream",
     "text": [
      "pandas==2.2.2\n",
      "numpy==1.26.4\n",
      "seaborn==0.13.2\n",
      "plotly==5.22.0\n",
      "matplotlib==3.8.4\n",
      "bs4==4.12.3\n"
     ]
    }
   ],
   "source": [
    "import plotly, matplotlib, bs4\n",
    "for package in [pd, np, sns, plotly, matplotlib, bs4]:\n",
    "    print(f'{package.__name__}=={package.__version__}')"
   ]
  },
  {
   "cell_type": "markdown",
   "metadata": {},
   "source": [
    "download data"
   ]
  },
  {
   "cell_type": "code",
   "execution_count": 198,
   "metadata": {},
   "outputs": [],
   "source": [
    "def download_data(url, filename):\n",
    "    resp = requests.get(url)\n",
    "    os.makedirs('datastore', exist_ok=True)\n",
    "    if resp.ok:\n",
    "        \n",
    "        with open(filename, 'wb') as f:\n",
    "            f.write(resp.content)\n",
    "    else:\n",
    "        return"
   ]
  },
  {
   "cell_type": "code",
   "execution_count": 199,
   "metadata": {},
   "outputs": [
    {
     "name": "stdout",
     "output_type": "stream",
     "text": [
      "Element not found\n"
     ]
    }
   ],
   "source": [
    "def extract_last_date_updated(url, selector):\n",
    "    headers = {\n",
    "        'User-Agent': 'Mozilla/5.0 (Windows NT 10.0; Win64; x64) AppleWebKit/537.36 (KHTML, like Gecko) Chrome/90.0.4430.212 Safari/537.36'\n",
    "    }\n",
    "    \n",
    "    try:\n",
    "        # Fetch the webpage content\n",
    "        response = requests.get(url, headers=headers)\n",
    "\n",
    "        soup = BeautifulSoup(response.text, 'lxml')\n",
    "\n",
    "        # Extract the text from the target element using the provided selector\n",
    "        last_updated = soup.select(selector)\n",
    "        extracted_texts = [element.text.strip() for element in last_updated if element.name == 'td' and \"hours\" in element.text]\n",
    "\n",
    "        return extracted_texts[0] if extracted_texts else \"Element not found\"\n",
    "    \n",
    "    except requests.RequestException as e:\n",
    "        return [f\"Error fetching the URL: {e}\"]\n",
    "    \n",
    "\n",
    "\n",
    "url = \"https://www.neso.energy/data-portal/transmission-entry-capacity-tec-register\"\n",
    "selector = 'div.layout-region-resources .views-field-changed.is-active'\n",
    "\n",
    "extracted_text = extract_last_date_updated(url, selector)\n",
    "print(extracted_text)"
   ]
  },
  {
   "cell_type": "code",
   "execution_count": null,
   "metadata": {},
   "outputs": [],
   "source": [
    " "
   ]
  },
  {
   "cell_type": "code",
   "execution_count": 200,
   "metadata": {},
   "outputs": [
    {
     "data": {
      "text/html": [
       "<div>\n",
       "<style scoped>\n",
       "    .dataframe tbody tr th:only-of-type {\n",
       "        vertical-align: middle;\n",
       "    }\n",
       "\n",
       "    .dataframe tbody tr th {\n",
       "        vertical-align: top;\n",
       "    }\n",
       "\n",
       "    .dataframe thead th {\n",
       "        text-align: right;\n",
       "    }\n",
       "</style>\n",
       "<table border=\"1\" class=\"dataframe\">\n",
       "  <thead>\n",
       "    <tr style=\"text-align: right;\">\n",
       "      <th></th>\n",
       "      <th>Project Name</th>\n",
       "      <th>Customer Name</th>\n",
       "      <th>Connection Site</th>\n",
       "      <th>Stage</th>\n",
       "      <th>MW Connected</th>\n",
       "      <th>MW Increase / Decrease</th>\n",
       "      <th>Cumulative Total Capacity (MW)</th>\n",
       "      <th>MW Effective From</th>\n",
       "      <th>Project Status</th>\n",
       "      <th>Agreement Type</th>\n",
       "      <th>HOST TO</th>\n",
       "      <th>Plant Type</th>\n",
       "      <th>Project ID</th>\n",
       "      <th>Project Number</th>\n",
       "    </tr>\n",
       "  </thead>\n",
       "  <tbody>\n",
       "    <tr>\n",
       "      <th>0</th>\n",
       "      <td>[23-0225] UPPER GREENFIELDS - 175MW BESS</td>\n",
       "      <td>Lower 48 Energy BESS Limited</td>\n",
       "      <td>New Deer 2 400kV Substation</td>\n",
       "      <td>NaN</td>\n",
       "      <td>0.0</td>\n",
       "      <td>175.00</td>\n",
       "      <td>175.00</td>\n",
       "      <td>2033-10-31</td>\n",
       "      <td>Scoping</td>\n",
       "      <td>Direct Connection</td>\n",
       "      <td>SHET</td>\n",
       "      <td>Energy Storage System</td>\n",
       "      <td>a0l8e000000ewjHAAQ</td>\n",
       "      <td>PRO-003682</td>\n",
       "    </tr>\n",
       "    <tr>\n",
       "      <th>1</th>\n",
       "      <td>012 NEP Coventry West</td>\n",
       "      <td>NEW ENERGY PARTNERSHIP LIMITED</td>\n",
       "      <td>Berkswell GSP</td>\n",
       "      <td>NaN</td>\n",
       "      <td>0.0</td>\n",
       "      <td>92.40</td>\n",
       "      <td>92.40</td>\n",
       "      <td>2034-10-31</td>\n",
       "      <td>Scoping</td>\n",
       "      <td>Embedded</td>\n",
       "      <td>NGET</td>\n",
       "      <td>Energy Storage System</td>\n",
       "      <td>a0l8e000000f3zXAAQ</td>\n",
       "      <td>PRO-003804</td>\n",
       "    </tr>\n",
       "    <tr>\n",
       "      <th>2</th>\n",
       "      <td>17 Acres and BESS</td>\n",
       "      <td>AEUK BATTERY PROJECT II LTD</td>\n",
       "      <td>Tealing 275/33kV Substation</td>\n",
       "      <td>NaN</td>\n",
       "      <td>0.0</td>\n",
       "      <td>95.76</td>\n",
       "      <td>95.76</td>\n",
       "      <td>2032-06-30</td>\n",
       "      <td>Scoping</td>\n",
       "      <td>Direct Connection</td>\n",
       "      <td>SHET</td>\n",
       "      <td>Energy Storage System</td>\n",
       "      <td>a0l8e0000012ezRAAQ</td>\n",
       "      <td>PRO-004392</td>\n",
       "    </tr>\n",
       "    <tr>\n",
       "      <th>3</th>\n",
       "      <td>Abedare</td>\n",
       "      <td>UK POWER RESERVE LIMITED</td>\n",
       "      <td>Upperboat 132kV Substation</td>\n",
       "      <td>NaN</td>\n",
       "      <td>10.0</td>\n",
       "      <td>0.00</td>\n",
       "      <td>10.00</td>\n",
       "      <td>NaN</td>\n",
       "      <td>Built</td>\n",
       "      <td>Embedded</td>\n",
       "      <td>NGET</td>\n",
       "      <td>CCGT (Combined Cycle Gas Turbine)</td>\n",
       "      <td>a0l4L0000005iWRQAY</td>\n",
       "      <td>PRO-000001</td>\n",
       "    </tr>\n",
       "    <tr>\n",
       "      <th>4</th>\n",
       "      <td>Aberarder Extension Wind Farm</td>\n",
       "      <td>Renewable Energy Systems Limited</td>\n",
       "      <td>Tomatin 275/132 kV Substation</td>\n",
       "      <td>NaN</td>\n",
       "      <td>0.0</td>\n",
       "      <td>138.00</td>\n",
       "      <td>138.00</td>\n",
       "      <td>2031-04-30</td>\n",
       "      <td>Scoping</td>\n",
       "      <td>Direct Connection</td>\n",
       "      <td>SHET</td>\n",
       "      <td>Energy Storage System;Wind Onshore</td>\n",
       "      <td>a0l8e0000010wQ0AAI</td>\n",
       "      <td>PRO-002589</td>\n",
       "    </tr>\n",
       "  </tbody>\n",
       "</table>\n",
       "</div>"
      ],
      "text/plain": [
       "                               Project Name                     Customer Name  \\\n",
       "0  [23-0225] UPPER GREENFIELDS - 175MW BESS      Lower 48 Energy BESS Limited   \n",
       "1                     012 NEP Coventry West    NEW ENERGY PARTNERSHIP LIMITED   \n",
       "2                         17 Acres and BESS       AEUK BATTERY PROJECT II LTD   \n",
       "3                                   Abedare          UK POWER RESERVE LIMITED   \n",
       "4             Aberarder Extension Wind Farm  Renewable Energy Systems Limited   \n",
       "\n",
       "                 Connection Site  Stage  MW Connected  MW Increase / Decrease  \\\n",
       "0    New Deer 2 400kV Substation    NaN           0.0                  175.00   \n",
       "1                  Berkswell GSP    NaN           0.0                   92.40   \n",
       "2    Tealing 275/33kV Substation    NaN           0.0                   95.76   \n",
       "3     Upperboat 132kV Substation    NaN          10.0                    0.00   \n",
       "4  Tomatin 275/132 kV Substation    NaN           0.0                  138.00   \n",
       "\n",
       "   Cumulative Total Capacity (MW) MW Effective From Project Status  \\\n",
       "0                          175.00        2033-10-31        Scoping   \n",
       "1                           92.40        2034-10-31        Scoping   \n",
       "2                           95.76        2032-06-30        Scoping   \n",
       "3                           10.00               NaN          Built   \n",
       "4                          138.00        2031-04-30        Scoping   \n",
       "\n",
       "      Agreement Type HOST TO                          Plant Type  \\\n",
       "0  Direct Connection    SHET               Energy Storage System   \n",
       "1           Embedded    NGET               Energy Storage System   \n",
       "2  Direct Connection    SHET               Energy Storage System   \n",
       "3           Embedded    NGET   CCGT (Combined Cycle Gas Turbine)   \n",
       "4  Direct Connection    SHET  Energy Storage System;Wind Onshore   \n",
       "\n",
       "           Project ID Project Number  \n",
       "0  a0l8e000000ewjHAAQ     PRO-003682  \n",
       "1  a0l8e000000f3zXAAQ     PRO-003804  \n",
       "2  a0l8e0000012ezRAAQ     PRO-004392  \n",
       "3  a0l4L0000005iWRQAY     PRO-000001  \n",
       "4  a0l8e0000010wQ0AAI     PRO-002589  "
      ]
     },
     "execution_count": 200,
     "metadata": {},
     "output_type": "execute_result"
    }
   ],
   "source": [
    "url = 'https://api.neso.energy/dataset/cbd45e54-e6e2-4a38-99f1-8de6fd96d7c1/resource/17becbab-e3e8-473f-b303-3806f43a6a10/download/tec-register-27-09-2024.csv'\n",
    "filename = 'tecregister.csv'\n",
    "filepath = f'./datastore/{filename}'\n",
    "\n",
    "download_data(url, filepath)\n",
    "\n",
    "\n",
    "data = pd.read_csv(filepath)\n",
    "data.head()"
   ]
  },
  {
   "cell_type": "code",
   "execution_count": 201,
   "metadata": {},
   "outputs": [
    {
     "data": {
      "text/html": [
       "<div>\n",
       "<style scoped>\n",
       "    .dataframe tbody tr th:only-of-type {\n",
       "        vertical-align: middle;\n",
       "    }\n",
       "\n",
       "    .dataframe tbody tr th {\n",
       "        vertical-align: top;\n",
       "    }\n",
       "\n",
       "    .dataframe thead th {\n",
       "        text-align: right;\n",
       "    }\n",
       "</style>\n",
       "<table border=\"1\" class=\"dataframe\">\n",
       "  <thead>\n",
       "    <tr style=\"text-align: right;\">\n",
       "      <th></th>\n",
       "      <th>Project Name</th>\n",
       "      <th>Customer Name</th>\n",
       "      <th>Connection Site</th>\n",
       "      <th>Stage</th>\n",
       "      <th>MW Connected</th>\n",
       "      <th>MW Change</th>\n",
       "      <th>Connection Cap (MW)</th>\n",
       "      <th>Connection Date</th>\n",
       "      <th>Project Status</th>\n",
       "      <th>Agreement Type</th>\n",
       "      <th>HOST TO</th>\n",
       "      <th>Plant Type</th>\n",
       "      <th>Project ID</th>\n",
       "      <th>Project Number</th>\n",
       "    </tr>\n",
       "  </thead>\n",
       "  <tbody>\n",
       "    <tr>\n",
       "      <th>0</th>\n",
       "      <td>[23-0225] UPPER GREENFIELDS - 175MW BESS</td>\n",
       "      <td>Lower 48 Energy BESS Limited</td>\n",
       "      <td>New Deer 2 400kV Substation</td>\n",
       "      <td>NaN</td>\n",
       "      <td>0.0</td>\n",
       "      <td>175.00</td>\n",
       "      <td>175.00</td>\n",
       "      <td>2033-10-31</td>\n",
       "      <td>Scoping</td>\n",
       "      <td>Direct Connection</td>\n",
       "      <td>SHET</td>\n",
       "      <td>Energy Storage System</td>\n",
       "      <td>a0l8e000000ewjHAAQ</td>\n",
       "      <td>PRO-003682</td>\n",
       "    </tr>\n",
       "    <tr>\n",
       "      <th>1</th>\n",
       "      <td>012 NEP Coventry West</td>\n",
       "      <td>NEW ENERGY PARTNERSHIP LIMITED</td>\n",
       "      <td>Berkswell GSP</td>\n",
       "      <td>NaN</td>\n",
       "      <td>0.0</td>\n",
       "      <td>92.40</td>\n",
       "      <td>92.40</td>\n",
       "      <td>2034-10-31</td>\n",
       "      <td>Scoping</td>\n",
       "      <td>Embedded</td>\n",
       "      <td>NGET</td>\n",
       "      <td>Energy Storage System</td>\n",
       "      <td>a0l8e000000f3zXAAQ</td>\n",
       "      <td>PRO-003804</td>\n",
       "    </tr>\n",
       "    <tr>\n",
       "      <th>2</th>\n",
       "      <td>17 Acres and BESS</td>\n",
       "      <td>AEUK BATTERY PROJECT II LTD</td>\n",
       "      <td>Tealing 275/33kV Substation</td>\n",
       "      <td>NaN</td>\n",
       "      <td>0.0</td>\n",
       "      <td>95.76</td>\n",
       "      <td>95.76</td>\n",
       "      <td>2032-06-30</td>\n",
       "      <td>Scoping</td>\n",
       "      <td>Direct Connection</td>\n",
       "      <td>SHET</td>\n",
       "      <td>Energy Storage System</td>\n",
       "      <td>a0l8e0000012ezRAAQ</td>\n",
       "      <td>PRO-004392</td>\n",
       "    </tr>\n",
       "    <tr>\n",
       "      <th>3</th>\n",
       "      <td>Abedare</td>\n",
       "      <td>UK POWER RESERVE LIMITED</td>\n",
       "      <td>Upperboat 132kV Substation</td>\n",
       "      <td>NaN</td>\n",
       "      <td>10.0</td>\n",
       "      <td>0.00</td>\n",
       "      <td>10.00</td>\n",
       "      <td>NaT</td>\n",
       "      <td>Built</td>\n",
       "      <td>Embedded</td>\n",
       "      <td>NGET</td>\n",
       "      <td>CCGT (Combined Cycle Gas Turbine)</td>\n",
       "      <td>a0l4L0000005iWRQAY</td>\n",
       "      <td>PRO-000001</td>\n",
       "    </tr>\n",
       "    <tr>\n",
       "      <th>4</th>\n",
       "      <td>Aberarder Extension Wind Farm</td>\n",
       "      <td>Renewable Energy Systems Limited</td>\n",
       "      <td>Tomatin 275/132 kV Substation</td>\n",
       "      <td>NaN</td>\n",
       "      <td>0.0</td>\n",
       "      <td>138.00</td>\n",
       "      <td>138.00</td>\n",
       "      <td>2031-04-30</td>\n",
       "      <td>Scoping</td>\n",
       "      <td>Direct Connection</td>\n",
       "      <td>SHET</td>\n",
       "      <td>Energy Storage System;Wind Onshore</td>\n",
       "      <td>a0l8e0000010wQ0AAI</td>\n",
       "      <td>PRO-002589</td>\n",
       "    </tr>\n",
       "  </tbody>\n",
       "</table>\n",
       "</div>"
      ],
      "text/plain": [
       "                               Project Name                     Customer Name  \\\n",
       "0  [23-0225] UPPER GREENFIELDS - 175MW BESS      Lower 48 Energy BESS Limited   \n",
       "1                     012 NEP Coventry West    NEW ENERGY PARTNERSHIP LIMITED   \n",
       "2                         17 Acres and BESS       AEUK BATTERY PROJECT II LTD   \n",
       "3                                   Abedare          UK POWER RESERVE LIMITED   \n",
       "4             Aberarder Extension Wind Farm  Renewable Energy Systems Limited   \n",
       "\n",
       "                 Connection Site  Stage  MW Connected  MW Change  \\\n",
       "0    New Deer 2 400kV Substation    NaN           0.0     175.00   \n",
       "1                  Berkswell GSP    NaN           0.0      92.40   \n",
       "2    Tealing 275/33kV Substation    NaN           0.0      95.76   \n",
       "3     Upperboat 132kV Substation    NaN          10.0       0.00   \n",
       "4  Tomatin 275/132 kV Substation    NaN           0.0     138.00   \n",
       "\n",
       "   Connection Cap (MW) Connection Date Project Status     Agreement Type  \\\n",
       "0               175.00      2033-10-31        Scoping  Direct Connection   \n",
       "1                92.40      2034-10-31        Scoping           Embedded   \n",
       "2                95.76      2032-06-30        Scoping  Direct Connection   \n",
       "3                10.00             NaT          Built           Embedded   \n",
       "4               138.00      2031-04-30        Scoping  Direct Connection   \n",
       "\n",
       "  HOST TO                          Plant Type          Project ID  \\\n",
       "0    SHET               Energy Storage System  a0l8e000000ewjHAAQ   \n",
       "1    NGET               Energy Storage System  a0l8e000000f3zXAAQ   \n",
       "2    SHET               Energy Storage System  a0l8e0000012ezRAAQ   \n",
       "3    NGET   CCGT (Combined Cycle Gas Turbine)  a0l4L0000005iWRQAY   \n",
       "4    SHET  Energy Storage System;Wind Onshore  a0l8e0000010wQ0AAI   \n",
       "\n",
       "  Project Number  \n",
       "0     PRO-003682  \n",
       "1     PRO-003804  \n",
       "2     PRO-004392  \n",
       "3     PRO-000001  \n",
       "4     PRO-002589  "
      ]
     },
     "execution_count": 201,
     "metadata": {},
     "output_type": "execute_result"
    }
   ],
   "source": [
    "# Convert to datetime and format date\n",
    "data['MW Effective From'] = pd.to_datetime(data['MW Effective From'], errors='coerce')\n",
    "\n",
    "def change_names():\n",
    "    data.rename(columns={'MW Increase / Decrease': 'MW Change',\n",
    "                             'Cumulative Total Capacity (MW)': 'Connection Cap (MW)',\n",
    "                             'MW Effective From': 'Connection Date',}, inplace=True)\n",
    "    return data\n",
    "\n",
    "data = change_names()\n",
    "data.head()\n"
   ]
  },
  {
   "cell_type": "code",
   "execution_count": 202,
   "metadata": {},
   "outputs": [
    {
     "data": {
      "text/html": [
       "<div>\n",
       "<style scoped>\n",
       "    .dataframe tbody tr th:only-of-type {\n",
       "        vertical-align: middle;\n",
       "    }\n",
       "\n",
       "    .dataframe tbody tr th {\n",
       "        vertical-align: top;\n",
       "    }\n",
       "\n",
       "    .dataframe thead th {\n",
       "        text-align: right;\n",
       "    }\n",
       "</style>\n",
       "<table border=\"1\" class=\"dataframe\">\n",
       "  <thead>\n",
       "    <tr style=\"text-align: right;\">\n",
       "      <th></th>\n",
       "      <th>Stage</th>\n",
       "      <th>MW Connected</th>\n",
       "      <th>MW Change</th>\n",
       "      <th>Connection Cap (MW)</th>\n",
       "      <th>Connection Date</th>\n",
       "    </tr>\n",
       "  </thead>\n",
       "  <tbody>\n",
       "    <tr>\n",
       "      <th>count</th>\n",
       "      <td>251.000000</td>\n",
       "      <td>1896.000000</td>\n",
       "      <td>1896.000000</td>\n",
       "      <td>1896.000000</td>\n",
       "      <td>1595</td>\n",
       "    </tr>\n",
       "    <tr>\n",
       "      <th>mean</th>\n",
       "      <td>1.705179</td>\n",
       "      <td>39.042468</td>\n",
       "      <td>277.981428</td>\n",
       "      <td>340.112596</td>\n",
       "      <td>2030-11-18 04:19:06.583072256</td>\n",
       "    </tr>\n",
       "    <tr>\n",
       "      <th>min</th>\n",
       "      <td>1.000000</td>\n",
       "      <td>0.000000</td>\n",
       "      <td>-1120.000000</td>\n",
       "      <td>0.000000</td>\n",
       "      <td>2019-09-06 00:00:00</td>\n",
       "    </tr>\n",
       "    <tr>\n",
       "      <th>25%</th>\n",
       "      <td>1.000000</td>\n",
       "      <td>0.000000</td>\n",
       "      <td>47.500000</td>\n",
       "      <td>57.000000</td>\n",
       "      <td>2027-07-07 00:00:00</td>\n",
       "    </tr>\n",
       "    <tr>\n",
       "      <th>50%</th>\n",
       "      <td>2.000000</td>\n",
       "      <td>0.000000</td>\n",
       "      <td>150.000000</td>\n",
       "      <td>200.000000</td>\n",
       "      <td>2030-10-30 00:00:00</td>\n",
       "    </tr>\n",
       "    <tr>\n",
       "      <th>75%</th>\n",
       "      <td>2.000000</td>\n",
       "      <td>0.000000</td>\n",
       "      <td>400.000000</td>\n",
       "      <td>437.000000</td>\n",
       "      <td>2033-10-31 00:00:00</td>\n",
       "    </tr>\n",
       "    <tr>\n",
       "      <th>max</th>\n",
       "      <td>6.000000</td>\n",
       "      <td>2363.000000</td>\n",
       "      <td>4800.000000</td>\n",
       "      <td>4800.000000</td>\n",
       "      <td>2039-10-31 00:00:00</td>\n",
       "    </tr>\n",
       "    <tr>\n",
       "      <th>std</th>\n",
       "      <td>0.800458</td>\n",
       "      <td>189.214526</td>\n",
       "      <td>403.084425</td>\n",
       "      <td>453.060015</td>\n",
       "      <td>NaN</td>\n",
       "    </tr>\n",
       "  </tbody>\n",
       "</table>\n",
       "</div>"
      ],
      "text/plain": [
       "            Stage  MW Connected    MW Change  Connection Cap (MW)  \\\n",
       "count  251.000000   1896.000000  1896.000000          1896.000000   \n",
       "mean     1.705179     39.042468   277.981428           340.112596   \n",
       "min      1.000000      0.000000 -1120.000000             0.000000   \n",
       "25%      1.000000      0.000000    47.500000            57.000000   \n",
       "50%      2.000000      0.000000   150.000000           200.000000   \n",
       "75%      2.000000      0.000000   400.000000           437.000000   \n",
       "max      6.000000   2363.000000  4800.000000          4800.000000   \n",
       "std      0.800458    189.214526   403.084425           453.060015   \n",
       "\n",
       "                     Connection Date  \n",
       "count                           1595  \n",
       "mean   2030-11-18 04:19:06.583072256  \n",
       "min              2019-09-06 00:00:00  \n",
       "25%              2027-07-07 00:00:00  \n",
       "50%              2030-10-30 00:00:00  \n",
       "75%              2033-10-31 00:00:00  \n",
       "max              2039-10-31 00:00:00  \n",
       "std                              NaN  "
      ]
     },
     "execution_count": 202,
     "metadata": {},
     "output_type": "execute_result"
    }
   ],
   "source": [
    "data.describe()"
   ]
  },
  {
   "cell_type": "code",
   "execution_count": 203,
   "metadata": {},
   "outputs": [
    {
     "name": "stdout",
     "output_type": "stream",
     "text": [
      "<class 'pandas.core.frame.DataFrame'>\n",
      "RangeIndex: 1896 entries, 0 to 1895\n",
      "Data columns (total 14 columns):\n",
      " #   Column               Non-Null Count  Dtype         \n",
      "---  ------               --------------  -----         \n",
      " 0   Project Name         1896 non-null   object        \n",
      " 1   Customer Name        1896 non-null   object        \n",
      " 2   Connection Site      1896 non-null   object        \n",
      " 3   Stage                251 non-null    float64       \n",
      " 4   MW Connected         1896 non-null   float64       \n",
      " 5   MW Change            1896 non-null   float64       \n",
      " 6   Connection Cap (MW)  1896 non-null   float64       \n",
      " 7   Connection Date      1595 non-null   datetime64[ns]\n",
      " 8   Project Status       1896 non-null   object        \n",
      " 9   Agreement Type       1896 non-null   object        \n",
      " 10  HOST TO              1896 non-null   object        \n",
      " 11  Plant Type           1896 non-null   object        \n",
      " 12  Project ID           1896 non-null   object        \n",
      " 13  Project Number       1896 non-null   object        \n",
      "dtypes: datetime64[ns](1), float64(4), object(9)\n",
      "memory usage: 207.5+ KB\n"
     ]
    }
   ],
   "source": [
    "data.info()"
   ]
  },
  {
   "cell_type": "markdown",
   "metadata": {},
   "source": [
    "Missing Values"
   ]
  },
  {
   "cell_type": "markdown",
   "metadata": {},
   "source": [
    "Tracking Missing Values"
   ]
  },
  {
   "cell_type": "code",
   "execution_count": 204,
   "metadata": {},
   "outputs": [
    {
     "data": {
      "text/plain": [
       "Project Name              0\n",
       "Customer Name             0\n",
       "Connection Site           0\n",
       "Stage                  1645\n",
       "MW Connected              0\n",
       "MW Change                 0\n",
       "Connection Cap (MW)       0\n",
       "Connection Date         301\n",
       "Project Status            0\n",
       "Agreement Type            0\n",
       "HOST TO                   0\n",
       "Plant Type                0\n",
       "Project ID                0\n",
       "Project Number            0\n",
       "dtype: int64"
      ]
     },
     "execution_count": 204,
     "metadata": {},
     "output_type": "execute_result"
    }
   ],
   "source": [
    "data.isna().sum()"
   ]
  },
  {
   "cell_type": "markdown",
   "metadata": {},
   "source": [
    "Data shows 301 missing values for `Connection Date` (Date), which signifies that 301 customers are either already connected or have not completed their contractual requirements etc."
   ]
  },
  {
   "cell_type": "code",
   "execution_count": 205,
   "metadata": {},
   "outputs": [
    {
     "data": {
      "text/plain": [
       "HOST TO\n",
       "NGET    486966.335\n",
       "OFTO      4338.400\n",
       "SHET     80322.587\n",
       "SPT      73226.160\n",
       "Name: Connection Cap (MW), dtype: float64"
      ]
     },
     "execution_count": 205,
     "metadata": {},
     "output_type": "execute_result"
    }
   ],
   "source": [
    "data.groupby(['HOST TO'])['Connection Cap (MW)'].sum()"
   ]
  },
  {
   "cell_type": "markdown",
   "metadata": {},
   "source": [
    "> **Analysis**\n",
    "\n",
    "The grouped analysis indicates a clear disparity in total capacity across the different hosts, with NGET being the primary player in the UK electricity transmission landscape. Understanding these dynamics is crucial for stakeholders in energy policy, investment, and operational planning moving forward.\n",
    "\n",
    " - **Dominance of NGET**: NGET accounts for the vast majority of the cumulative total capacity, with approximately 88.5% of the total capacity across all hosts. This indicates that the National Grid plays a critical role in electricity transmission and likely serves as the primary backbone for the electricity network in the UK.\n",
    " - **Relative Contribution of OFTO**: The Offshore Transmission Operators have a significantly smaller capacity compared to NGET, contributing only about 0.9% of the total. This may suggest a growing but still limited role in the overall electricity transmission capacity, likely due to the current scale of offshore projects.\n",
    " - **Capacity Distribution in Scotland**: Both SHET and SPT, which are specific to the Scottish region, show moderate capacities at 80.3GW and 73.2GW, respectively. Together, they account for approximately 12% of the total capacity. This reflects Scotland's significant investment in renewable energy and its distinct grid requirements.\n",
    "\n",
    "\n",
    " With the increasing emphasis on renewable energy, especially offshore wind, the role of OFTOs may grow."
   ]
  },
  {
   "cell_type": "code",
   "execution_count": 206,
   "metadata": {},
   "outputs": [
    {
     "data": {
      "text/html": [
       "<div>\n",
       "<style scoped>\n",
       "    .dataframe tbody tr th:only-of-type {\n",
       "        vertical-align: middle;\n",
       "    }\n",
       "\n",
       "    .dataframe tbody tr th {\n",
       "        vertical-align: top;\n",
       "    }\n",
       "\n",
       "    .dataframe thead th {\n",
       "        text-align: right;\n",
       "    }\n",
       "</style>\n",
       "<table border=\"1\" class=\"dataframe\">\n",
       "  <thead>\n",
       "    <tr style=\"text-align: right;\">\n",
       "      <th></th>\n",
       "      <th>Project Status</th>\n",
       "      <th>Connection Cap (MW)</th>\n",
       "    </tr>\n",
       "    <tr>\n",
       "      <th>HOST TO</th>\n",
       "      <th></th>\n",
       "      <th></th>\n",
       "    </tr>\n",
       "  </thead>\n",
       "  <tbody>\n",
       "    <tr>\n",
       "      <th>NGET</th>\n",
       "      <td>1147</td>\n",
       "      <td>486966.335</td>\n",
       "    </tr>\n",
       "    <tr>\n",
       "      <th>OFTO</th>\n",
       "      <td>17</td>\n",
       "      <td>4338.400</td>\n",
       "    </tr>\n",
       "    <tr>\n",
       "      <th>SHET</th>\n",
       "      <td>350</td>\n",
       "      <td>80322.587</td>\n",
       "    </tr>\n",
       "    <tr>\n",
       "      <th>SPT</th>\n",
       "      <td>382</td>\n",
       "      <td>73226.160</td>\n",
       "    </tr>\n",
       "  </tbody>\n",
       "</table>\n",
       "</div>"
      ],
      "text/plain": [
       "         Project Status  Connection Cap (MW)\n",
       "HOST TO                                     \n",
       "NGET               1147           486966.335\n",
       "OFTO                 17             4338.400\n",
       "SHET                350            80322.587\n",
       "SPT                 382            73226.160"
      ]
     },
     "execution_count": 206,
     "metadata": {},
     "output_type": "execute_result"
    }
   ],
   "source": [
    "data.groupby(['HOST TO']).agg({'Project Status': 'count',\n",
    "                                   'Connection Cap (MW)': 'sum'})\n",
    "                                   "
   ]
  },
  {
   "cell_type": "code",
   "execution_count": 207,
   "metadata": {},
   "outputs": [
    {
     "data": {
      "text/html": [
       "<div>\n",
       "<style scoped>\n",
       "    .dataframe tbody tr th:only-of-type {\n",
       "        vertical-align: middle;\n",
       "    }\n",
       "\n",
       "    .dataframe tbody tr th {\n",
       "        vertical-align: top;\n",
       "    }\n",
       "\n",
       "    .dataframe thead th {\n",
       "        text-align: right;\n",
       "    }\n",
       "</style>\n",
       "<table border=\"1\" class=\"dataframe\">\n",
       "  <thead>\n",
       "    <tr style=\"text-align: right;\">\n",
       "      <th>HOST TO</th>\n",
       "      <th>NGET</th>\n",
       "      <th>OFTO</th>\n",
       "      <th>SHET</th>\n",
       "      <th>SPT</th>\n",
       "      <th>Total</th>\n",
       "    </tr>\n",
       "    <tr>\n",
       "      <th>Plant Type</th>\n",
       "      <th></th>\n",
       "      <th></th>\n",
       "      <th></th>\n",
       "      <th></th>\n",
       "      <th></th>\n",
       "    </tr>\n",
       "  </thead>\n",
       "  <tbody>\n",
       "    <tr>\n",
       "      <th>Biomass</th>\n",
       "      <td>3083.000</td>\n",
       "      <td>0.0</td>\n",
       "      <td>0.000</td>\n",
       "      <td>55.00</td>\n",
       "      <td>3138.000</td>\n",
       "    </tr>\n",
       "    <tr>\n",
       "      <th>CCGT (Combined Cycle Gas Turbine)</th>\n",
       "      <td>34822.000</td>\n",
       "      <td>0.0</td>\n",
       "      <td>2090.000</td>\n",
       "      <td>20.00</td>\n",
       "      <td>36932.000</td>\n",
       "    </tr>\n",
       "    <tr>\n",
       "      <th>CCGT (Combined Cycle Gas Turbine);Demand</th>\n",
       "      <td>2406.000</td>\n",
       "      <td>0.0</td>\n",
       "      <td>0.000</td>\n",
       "      <td>0.00</td>\n",
       "      <td>2406.000</td>\n",
       "    </tr>\n",
       "    <tr>\n",
       "      <th>CCGT (Combined Cycle Gas Turbine);Demand;Energy Storage System</th>\n",
       "      <td>21600.000</td>\n",
       "      <td>0.0</td>\n",
       "      <td>0.000</td>\n",
       "      <td>0.00</td>\n",
       "      <td>21600.000</td>\n",
       "    </tr>\n",
       "    <tr>\n",
       "      <th>CCGT (Combined Cycle Gas Turbine);Energy Storage System</th>\n",
       "      <td>5714.000</td>\n",
       "      <td>0.0</td>\n",
       "      <td>0.000</td>\n",
       "      <td>0.00</td>\n",
       "      <td>5714.000</td>\n",
       "    </tr>\n",
       "    <tr>\n",
       "      <th>CCGT (Combined Cycle Gas Turbine);Energy Storage System;OCGT (Open Cycle Gas Turbine)</th>\n",
       "      <td>7600.000</td>\n",
       "      <td>0.0</td>\n",
       "      <td>0.000</td>\n",
       "      <td>0.00</td>\n",
       "      <td>7600.000</td>\n",
       "    </tr>\n",
       "    <tr>\n",
       "      <th>CCGT (Combined Cycle Gas Turbine);Reactive Compensation</th>\n",
       "      <td>1517.000</td>\n",
       "      <td>0.0</td>\n",
       "      <td>0.000</td>\n",
       "      <td>0.00</td>\n",
       "      <td>1517.000</td>\n",
       "    </tr>\n",
       "    <tr>\n",
       "      <th>CHP (Combined Heat and Power)</th>\n",
       "      <td>734.040</td>\n",
       "      <td>0.0</td>\n",
       "      <td>0.000</td>\n",
       "      <td>120.00</td>\n",
       "      <td>854.040</td>\n",
       "    </tr>\n",
       "    <tr>\n",
       "      <th>CHP (Combined Heat and Power);Energy Storage System</th>\n",
       "      <td>1268.000</td>\n",
       "      <td>0.0</td>\n",
       "      <td>0.000</td>\n",
       "      <td>0.00</td>\n",
       "      <td>1268.000</td>\n",
       "    </tr>\n",
       "    <tr>\n",
       "      <th>Coal</th>\n",
       "      <td>2051.000</td>\n",
       "      <td>0.0</td>\n",
       "      <td>0.000</td>\n",
       "      <td>0.00</td>\n",
       "      <td>2051.000</td>\n",
       "    </tr>\n",
       "    <tr>\n",
       "      <th>Demand;Energy Storage System</th>\n",
       "      <td>100.000</td>\n",
       "      <td>0.0</td>\n",
       "      <td>847.900</td>\n",
       "      <td>1051.00</td>\n",
       "      <td>1998.900</td>\n",
       "    </tr>\n",
       "    <tr>\n",
       "      <th>Demand;Energy Storage System;PV Array (Photo Voltaic/solar)</th>\n",
       "      <td>3132.400</td>\n",
       "      <td>0.0</td>\n",
       "      <td>0.000</td>\n",
       "      <td>0.00</td>\n",
       "      <td>3132.400</td>\n",
       "    </tr>\n",
       "    <tr>\n",
       "      <th>Demand;Energy Storage System;PV Array (Photo Voltaic/solar);Reactive Compensation</th>\n",
       "      <td>10927.000</td>\n",
       "      <td>0.0</td>\n",
       "      <td>0.000</td>\n",
       "      <td>150.00</td>\n",
       "      <td>11077.000</td>\n",
       "    </tr>\n",
       "    <tr>\n",
       "      <th>Demand;Energy Storage System;Reactive Compensation</th>\n",
       "      <td>0.000</td>\n",
       "      <td>0.0</td>\n",
       "      <td>0.000</td>\n",
       "      <td>200.00</td>\n",
       "      <td>200.000</td>\n",
       "    </tr>\n",
       "    <tr>\n",
       "      <th>Demand;PV Array (Photo Voltaic/solar)</th>\n",
       "      <td>4000.000</td>\n",
       "      <td>0.0</td>\n",
       "      <td>20.000</td>\n",
       "      <td>0.00</td>\n",
       "      <td>4020.000</td>\n",
       "    </tr>\n",
       "    <tr>\n",
       "      <th>Demand;PV Array (Photo Voltaic/solar);Waste</th>\n",
       "      <td>2021.000</td>\n",
       "      <td>0.0</td>\n",
       "      <td>0.000</td>\n",
       "      <td>0.00</td>\n",
       "      <td>2021.000</td>\n",
       "    </tr>\n",
       "    <tr>\n",
       "      <th>Demand;Wind Offshore</th>\n",
       "      <td>1500.000</td>\n",
       "      <td>0.0</td>\n",
       "      <td>300.000</td>\n",
       "      <td>0.00</td>\n",
       "      <td>1800.000</td>\n",
       "    </tr>\n",
       "    <tr>\n",
       "      <th>Demand;Wind Onshore</th>\n",
       "      <td>0.000</td>\n",
       "      <td>0.0</td>\n",
       "      <td>112.200</td>\n",
       "      <td>0.00</td>\n",
       "      <td>112.200</td>\n",
       "    </tr>\n",
       "    <tr>\n",
       "      <th>Energy Storage System</th>\n",
       "      <td>86221.795</td>\n",
       "      <td>0.0</td>\n",
       "      <td>17120.660</td>\n",
       "      <td>31201.74</td>\n",
       "      <td>134544.195</td>\n",
       "    </tr>\n",
       "    <tr>\n",
       "      <th>Energy Storage System;Gas Reciprocating</th>\n",
       "      <td>1094.000</td>\n",
       "      <td>0.0</td>\n",
       "      <td>0.000</td>\n",
       "      <td>0.00</td>\n",
       "      <td>1094.000</td>\n",
       "    </tr>\n",
       "    <tr>\n",
       "      <th>Energy Storage System;Hydro;Nuclear;PV Array (Photo Voltaic/solar);Wind Onshore</th>\n",
       "      <td>1000.000</td>\n",
       "      <td>0.0</td>\n",
       "      <td>0.000</td>\n",
       "      <td>0.00</td>\n",
       "      <td>1000.000</td>\n",
       "    </tr>\n",
       "    <tr>\n",
       "      <th>Energy Storage System;Nuclear;PV Array (Photo Voltaic/solar);Reactive Compensation;Wind Onshore</th>\n",
       "      <td>3000.000</td>\n",
       "      <td>0.0</td>\n",
       "      <td>0.000</td>\n",
       "      <td>0.00</td>\n",
       "      <td>3000.000</td>\n",
       "    </tr>\n",
       "    <tr>\n",
       "      <th>Energy Storage System;Nuclear;PV Array (Photo Voltaic/solar);Wind Onshore</th>\n",
       "      <td>4000.000</td>\n",
       "      <td>0.0</td>\n",
       "      <td>0.000</td>\n",
       "      <td>0.00</td>\n",
       "      <td>4000.000</td>\n",
       "    </tr>\n",
       "    <tr>\n",
       "      <th>Energy Storage System;OCGT (Open Cycle Gas Turbine)</th>\n",
       "      <td>6714.980</td>\n",
       "      <td>0.0</td>\n",
       "      <td>0.000</td>\n",
       "      <td>0.00</td>\n",
       "      <td>6714.980</td>\n",
       "    </tr>\n",
       "    <tr>\n",
       "      <th>Energy Storage System;PV Array (Photo Voltaic/solar)</th>\n",
       "      <td>143319.675</td>\n",
       "      <td>0.0</td>\n",
       "      <td>4951.277</td>\n",
       "      <td>5568.90</td>\n",
       "      <td>153839.852</td>\n",
       "    </tr>\n",
       "    <tr>\n",
       "      <th>Energy Storage System;PV Array (Photo Voltaic/solar);Reactive Compensation</th>\n",
       "      <td>2325.000</td>\n",
       "      <td>0.0</td>\n",
       "      <td>0.000</td>\n",
       "      <td>0.00</td>\n",
       "      <td>2325.000</td>\n",
       "    </tr>\n",
       "    <tr>\n",
       "      <th>Energy Storage System;PV Array (Photo Voltaic/solar);Reactive Compensation;Wind Onshore</th>\n",
       "      <td>1000.000</td>\n",
       "      <td>0.0</td>\n",
       "      <td>0.000</td>\n",
       "      <td>0.00</td>\n",
       "      <td>1000.000</td>\n",
       "    </tr>\n",
       "    <tr>\n",
       "      <th>Energy Storage System;PV Array (Photo Voltaic/solar);Wind Offshore</th>\n",
       "      <td>2500.000</td>\n",
       "      <td>0.0</td>\n",
       "      <td>0.000</td>\n",
       "      <td>0.00</td>\n",
       "      <td>2500.000</td>\n",
       "    </tr>\n",
       "    <tr>\n",
       "      <th>Energy Storage System;PV Array (Photo Voltaic/solar);Wind Onshore</th>\n",
       "      <td>7424.000</td>\n",
       "      <td>0.0</td>\n",
       "      <td>50.000</td>\n",
       "      <td>1663.80</td>\n",
       "      <td>9137.800</td>\n",
       "    </tr>\n",
       "    <tr>\n",
       "      <th>Energy Storage System;Reactive Compensation</th>\n",
       "      <td>1848.700</td>\n",
       "      <td>0.0</td>\n",
       "      <td>96.000</td>\n",
       "      <td>1000.00</td>\n",
       "      <td>2944.700</td>\n",
       "    </tr>\n",
       "    <tr>\n",
       "      <th>Energy Storage System;Wind Offshore</th>\n",
       "      <td>7340.000</td>\n",
       "      <td>0.0</td>\n",
       "      <td>0.000</td>\n",
       "      <td>0.00</td>\n",
       "      <td>7340.000</td>\n",
       "    </tr>\n",
       "    <tr>\n",
       "      <th>Energy Storage System;Wind Onshore</th>\n",
       "      <td>700.000</td>\n",
       "      <td>0.0</td>\n",
       "      <td>2852.700</td>\n",
       "      <td>2395.90</td>\n",
       "      <td>5948.600</td>\n",
       "    </tr>\n",
       "    <tr>\n",
       "      <th>Gas Reciprocating</th>\n",
       "      <td>661.780</td>\n",
       "      <td>0.0</td>\n",
       "      <td>0.000</td>\n",
       "      <td>0.00</td>\n",
       "      <td>661.780</td>\n",
       "    </tr>\n",
       "    <tr>\n",
       "      <th>Hydro</th>\n",
       "      <td>129.000</td>\n",
       "      <td>0.0</td>\n",
       "      <td>872.400</td>\n",
       "      <td>0.00</td>\n",
       "      <td>1001.400</td>\n",
       "    </tr>\n",
       "    <tr>\n",
       "      <th>Nuclear</th>\n",
       "      <td>16821.000</td>\n",
       "      <td>0.0</td>\n",
       "      <td>0.000</td>\n",
       "      <td>2270.00</td>\n",
       "      <td>19091.000</td>\n",
       "    </tr>\n",
       "    <tr>\n",
       "      <th>OCGT (Open Cycle Gas Turbine)</th>\n",
       "      <td>2847.900</td>\n",
       "      <td>0.0</td>\n",
       "      <td>0.000</td>\n",
       "      <td>0.00</td>\n",
       "      <td>2847.900</td>\n",
       "    </tr>\n",
       "    <tr>\n",
       "      <th>Oil &amp; AGT (Advanced Gas Turbine)</th>\n",
       "      <td>61.500</td>\n",
       "      <td>0.0</td>\n",
       "      <td>0.000</td>\n",
       "      <td>0.00</td>\n",
       "      <td>61.500</td>\n",
       "    </tr>\n",
       "    <tr>\n",
       "      <th>PV Array (Photo Voltaic/solar)</th>\n",
       "      <td>6672.185</td>\n",
       "      <td>0.0</td>\n",
       "      <td>142.000</td>\n",
       "      <td>590.70</td>\n",
       "      <td>7404.885</td>\n",
       "    </tr>\n",
       "    <tr>\n",
       "      <th>PV Array (Photo Voltaic/solar);Wind Onshore</th>\n",
       "      <td>180.000</td>\n",
       "      <td>0.0</td>\n",
       "      <td>0.000</td>\n",
       "      <td>0.00</td>\n",
       "      <td>180.000</td>\n",
       "    </tr>\n",
       "    <tr>\n",
       "      <th>Pump Storage</th>\n",
       "      <td>2004.000</td>\n",
       "      <td>0.0</td>\n",
       "      <td>8953.000</td>\n",
       "      <td>1730.00</td>\n",
       "      <td>12687.000</td>\n",
       "    </tr>\n",
       "    <tr>\n",
       "      <th>Reactive Compensation</th>\n",
       "      <td>21.000</td>\n",
       "      <td>0.0</td>\n",
       "      <td>0.000</td>\n",
       "      <td>0.00</td>\n",
       "      <td>21.000</td>\n",
       "    </tr>\n",
       "    <tr>\n",
       "      <th>Thermal</th>\n",
       "      <td>299.130</td>\n",
       "      <td>0.0</td>\n",
       "      <td>0.000</td>\n",
       "      <td>0.00</td>\n",
       "      <td>299.130</td>\n",
       "    </tr>\n",
       "    <tr>\n",
       "      <th>Tidal</th>\n",
       "      <td>590.000</td>\n",
       "      <td>0.0</td>\n",
       "      <td>777.000</td>\n",
       "      <td>0.00</td>\n",
       "      <td>1367.000</td>\n",
       "    </tr>\n",
       "    <tr>\n",
       "      <th>Waste</th>\n",
       "      <td>132.900</td>\n",
       "      <td>0.0</td>\n",
       "      <td>40.000</td>\n",
       "      <td>0.00</td>\n",
       "      <td>172.900</td>\n",
       "    </tr>\n",
       "    <tr>\n",
       "      <th>Wind Offshore</th>\n",
       "      <td>81271.250</td>\n",
       "      <td>4338.4</td>\n",
       "      <td>30061.100</td>\n",
       "      <td>11606.00</td>\n",
       "      <td>127276.750</td>\n",
       "    </tr>\n",
       "    <tr>\n",
       "      <th>Wind Onshore</th>\n",
       "      <td>4311.100</td>\n",
       "      <td>0.0</td>\n",
       "      <td>11036.350</td>\n",
       "      <td>13603.12</td>\n",
       "      <td>28950.570</td>\n",
       "    </tr>\n",
       "    <tr>\n",
       "      <th>Total</th>\n",
       "      <td>486966.335</td>\n",
       "      <td>4338.4</td>\n",
       "      <td>80322.587</td>\n",
       "      <td>73226.16</td>\n",
       "      <td>644853.482</td>\n",
       "    </tr>\n",
       "  </tbody>\n",
       "</table>\n",
       "</div>"
      ],
      "text/plain": [
       "HOST TO                                                   NGET    OFTO  \\\n",
       "Plant Type                                                               \n",
       "Biomass                                               3083.000     0.0   \n",
       "CCGT (Combined Cycle Gas Turbine)                    34822.000     0.0   \n",
       "CCGT (Combined Cycle Gas Turbine);Demand              2406.000     0.0   \n",
       "CCGT (Combined Cycle Gas Turbine);Demand;Energy...   21600.000     0.0   \n",
       "CCGT (Combined Cycle Gas Turbine);Energy Storag...    5714.000     0.0   \n",
       "CCGT (Combined Cycle Gas Turbine);Energy Storag...    7600.000     0.0   \n",
       "CCGT (Combined Cycle Gas Turbine);Reactive Comp...    1517.000     0.0   \n",
       "CHP (Combined Heat and Power)                          734.040     0.0   \n",
       "CHP (Combined Heat and Power);Energy Storage Sy...    1268.000     0.0   \n",
       "Coal                                                  2051.000     0.0   \n",
       "Demand;Energy Storage System                           100.000     0.0   \n",
       "Demand;Energy Storage System;PV Array (Photo Vo...    3132.400     0.0   \n",
       "Demand;Energy Storage System;PV Array (Photo Vo...   10927.000     0.0   \n",
       "Demand;Energy Storage System;Reactive Compensation       0.000     0.0   \n",
       "Demand;PV Array (Photo Voltaic/solar)                 4000.000     0.0   \n",
       "Demand;PV Array (Photo Voltaic/solar);Waste           2021.000     0.0   \n",
       "Demand;Wind Offshore                                  1500.000     0.0   \n",
       "Demand;Wind Onshore                                      0.000     0.0   \n",
       "Energy Storage System                                86221.795     0.0   \n",
       "Energy Storage System;Gas Reciprocating               1094.000     0.0   \n",
       "Energy Storage System;Hydro;Nuclear;PV Array (P...    1000.000     0.0   \n",
       "Energy Storage System;Nuclear;PV Array (Photo V...    3000.000     0.0   \n",
       "Energy Storage System;Nuclear;PV Array (Photo V...    4000.000     0.0   \n",
       "Energy Storage System;OCGT (Open Cycle Gas Turb...    6714.980     0.0   \n",
       "Energy Storage System;PV Array (Photo Voltaic/s...  143319.675     0.0   \n",
       "Energy Storage System;PV Array (Photo Voltaic/s...    2325.000     0.0   \n",
       "Energy Storage System;PV Array (Photo Voltaic/s...    1000.000     0.0   \n",
       "Energy Storage System;PV Array (Photo Voltaic/s...    2500.000     0.0   \n",
       "Energy Storage System;PV Array (Photo Voltaic/s...    7424.000     0.0   \n",
       "Energy Storage System;Reactive Compensation           1848.700     0.0   \n",
       "Energy Storage System;Wind Offshore                   7340.000     0.0   \n",
       "Energy Storage System;Wind Onshore                     700.000     0.0   \n",
       "Gas Reciprocating                                      661.780     0.0   \n",
       "Hydro                                                  129.000     0.0   \n",
       "Nuclear                                              16821.000     0.0   \n",
       "OCGT (Open Cycle Gas Turbine)                         2847.900     0.0   \n",
       "Oil & AGT (Advanced Gas Turbine)                        61.500     0.0   \n",
       "PV Array (Photo Voltaic/solar)                        6672.185     0.0   \n",
       "PV Array (Photo Voltaic/solar);Wind Onshore            180.000     0.0   \n",
       "Pump Storage                                          2004.000     0.0   \n",
       "Reactive Compensation                                   21.000     0.0   \n",
       "Thermal                                                299.130     0.0   \n",
       "Tidal                                                  590.000     0.0   \n",
       "Waste                                                  132.900     0.0   \n",
       "Wind Offshore                                        81271.250  4338.4   \n",
       "Wind Onshore                                          4311.100     0.0   \n",
       "Total                                               486966.335  4338.4   \n",
       "\n",
       "HOST TO                                                  SHET       SPT  \\\n",
       "Plant Type                                                                \n",
       "Biomass                                                 0.000     55.00   \n",
       "CCGT (Combined Cycle Gas Turbine)                    2090.000     20.00   \n",
       "CCGT (Combined Cycle Gas Turbine);Demand                0.000      0.00   \n",
       "CCGT (Combined Cycle Gas Turbine);Demand;Energy...      0.000      0.00   \n",
       "CCGT (Combined Cycle Gas Turbine);Energy Storag...      0.000      0.00   \n",
       "CCGT (Combined Cycle Gas Turbine);Energy Storag...      0.000      0.00   \n",
       "CCGT (Combined Cycle Gas Turbine);Reactive Comp...      0.000      0.00   \n",
       "CHP (Combined Heat and Power)                           0.000    120.00   \n",
       "CHP (Combined Heat and Power);Energy Storage Sy...      0.000      0.00   \n",
       "Coal                                                    0.000      0.00   \n",
       "Demand;Energy Storage System                          847.900   1051.00   \n",
       "Demand;Energy Storage System;PV Array (Photo Vo...      0.000      0.00   \n",
       "Demand;Energy Storage System;PV Array (Photo Vo...      0.000    150.00   \n",
       "Demand;Energy Storage System;Reactive Compensation      0.000    200.00   \n",
       "Demand;PV Array (Photo Voltaic/solar)                  20.000      0.00   \n",
       "Demand;PV Array (Photo Voltaic/solar);Waste             0.000      0.00   \n",
       "Demand;Wind Offshore                                  300.000      0.00   \n",
       "Demand;Wind Onshore                                   112.200      0.00   \n",
       "Energy Storage System                               17120.660  31201.74   \n",
       "Energy Storage System;Gas Reciprocating                 0.000      0.00   \n",
       "Energy Storage System;Hydro;Nuclear;PV Array (P...      0.000      0.00   \n",
       "Energy Storage System;Nuclear;PV Array (Photo V...      0.000      0.00   \n",
       "Energy Storage System;Nuclear;PV Array (Photo V...      0.000      0.00   \n",
       "Energy Storage System;OCGT (Open Cycle Gas Turb...      0.000      0.00   \n",
       "Energy Storage System;PV Array (Photo Voltaic/s...   4951.277   5568.90   \n",
       "Energy Storage System;PV Array (Photo Voltaic/s...      0.000      0.00   \n",
       "Energy Storage System;PV Array (Photo Voltaic/s...      0.000      0.00   \n",
       "Energy Storage System;PV Array (Photo Voltaic/s...      0.000      0.00   \n",
       "Energy Storage System;PV Array (Photo Voltaic/s...     50.000   1663.80   \n",
       "Energy Storage System;Reactive Compensation            96.000   1000.00   \n",
       "Energy Storage System;Wind Offshore                     0.000      0.00   \n",
       "Energy Storage System;Wind Onshore                   2852.700   2395.90   \n",
       "Gas Reciprocating                                       0.000      0.00   \n",
       "Hydro                                                 872.400      0.00   \n",
       "Nuclear                                                 0.000   2270.00   \n",
       "OCGT (Open Cycle Gas Turbine)                           0.000      0.00   \n",
       "Oil & AGT (Advanced Gas Turbine)                        0.000      0.00   \n",
       "PV Array (Photo Voltaic/solar)                        142.000    590.70   \n",
       "PV Array (Photo Voltaic/solar);Wind Onshore             0.000      0.00   \n",
       "Pump Storage                                         8953.000   1730.00   \n",
       "Reactive Compensation                                   0.000      0.00   \n",
       "Thermal                                                 0.000      0.00   \n",
       "Tidal                                                 777.000      0.00   \n",
       "Waste                                                  40.000      0.00   \n",
       "Wind Offshore                                       30061.100  11606.00   \n",
       "Wind Onshore                                        11036.350  13603.12   \n",
       "Total                                               80322.587  73226.16   \n",
       "\n",
       "HOST TO                                                  Total  \n",
       "Plant Type                                                      \n",
       "Biomass                                               3138.000  \n",
       "CCGT (Combined Cycle Gas Turbine)                    36932.000  \n",
       "CCGT (Combined Cycle Gas Turbine);Demand              2406.000  \n",
       "CCGT (Combined Cycle Gas Turbine);Demand;Energy...   21600.000  \n",
       "CCGT (Combined Cycle Gas Turbine);Energy Storag...    5714.000  \n",
       "CCGT (Combined Cycle Gas Turbine);Energy Storag...    7600.000  \n",
       "CCGT (Combined Cycle Gas Turbine);Reactive Comp...    1517.000  \n",
       "CHP (Combined Heat and Power)                          854.040  \n",
       "CHP (Combined Heat and Power);Energy Storage Sy...    1268.000  \n",
       "Coal                                                  2051.000  \n",
       "Demand;Energy Storage System                          1998.900  \n",
       "Demand;Energy Storage System;PV Array (Photo Vo...    3132.400  \n",
       "Demand;Energy Storage System;PV Array (Photo Vo...   11077.000  \n",
       "Demand;Energy Storage System;Reactive Compensation     200.000  \n",
       "Demand;PV Array (Photo Voltaic/solar)                 4020.000  \n",
       "Demand;PV Array (Photo Voltaic/solar);Waste           2021.000  \n",
       "Demand;Wind Offshore                                  1800.000  \n",
       "Demand;Wind Onshore                                    112.200  \n",
       "Energy Storage System                               134544.195  \n",
       "Energy Storage System;Gas Reciprocating               1094.000  \n",
       "Energy Storage System;Hydro;Nuclear;PV Array (P...    1000.000  \n",
       "Energy Storage System;Nuclear;PV Array (Photo V...    3000.000  \n",
       "Energy Storage System;Nuclear;PV Array (Photo V...    4000.000  \n",
       "Energy Storage System;OCGT (Open Cycle Gas Turb...    6714.980  \n",
       "Energy Storage System;PV Array (Photo Voltaic/s...  153839.852  \n",
       "Energy Storage System;PV Array (Photo Voltaic/s...    2325.000  \n",
       "Energy Storage System;PV Array (Photo Voltaic/s...    1000.000  \n",
       "Energy Storage System;PV Array (Photo Voltaic/s...    2500.000  \n",
       "Energy Storage System;PV Array (Photo Voltaic/s...    9137.800  \n",
       "Energy Storage System;Reactive Compensation           2944.700  \n",
       "Energy Storage System;Wind Offshore                   7340.000  \n",
       "Energy Storage System;Wind Onshore                    5948.600  \n",
       "Gas Reciprocating                                      661.780  \n",
       "Hydro                                                 1001.400  \n",
       "Nuclear                                              19091.000  \n",
       "OCGT (Open Cycle Gas Turbine)                         2847.900  \n",
       "Oil & AGT (Advanced Gas Turbine)                        61.500  \n",
       "PV Array (Photo Voltaic/solar)                        7404.885  \n",
       "PV Array (Photo Voltaic/solar);Wind Onshore            180.000  \n",
       "Pump Storage                                         12687.000  \n",
       "Reactive Compensation                                   21.000  \n",
       "Thermal                                                299.130  \n",
       "Tidal                                                 1367.000  \n",
       "Waste                                                  172.900  \n",
       "Wind Offshore                                       127276.750  \n",
       "Wind Onshore                                         28950.570  \n",
       "Total                                               644853.482  "
      ]
     },
     "execution_count": 207,
     "metadata": {},
     "output_type": "execute_result"
    }
   ],
   "source": [
    "capacity_by_TO_plant = data.pivot_table(index='Plant Type', columns='HOST TO', values='Connection Cap (MW)', fill_value=0, aggfunc='sum', margins=True, margins_name='Total')\n",
    "capacity_by_TO_plant"
   ]
  },
  {
   "cell_type": "markdown",
   "metadata": {},
   "source": [
    "> **Analysis**\n",
    "\n",
    "Analysis of Energy Generation Capacity by Plant Type\n",
    "This analysis examines the connection capacity (in MW) of various energy plant types across different host connections, summarized from the provided pivot table. The data offers insights into the distribution of energy generation capabilities among different technologies.\n",
    "\n",
    "**Overview of the Data**\n",
    "Total Connection Capacity: The overall capacity across all plant types is approximately 644,853.48 MW (or 644.85 GW), indicating a significant generation capacity within the network.\n",
    "\n",
    "Key Host Connections: The data, as analysed previously, is divided into four primary host connections:\n",
    " + NGET (National Grid Electricity Transmission)\n",
    " + OFTO (Offshore Transmission Owner)\n",
    " + SHET (Scottish Hydro Electric Transmission)\n",
    " + SPT (Scottish Power Transmission)\n",
    "\n",
    " <br><br>\n",
    "<u>Key Findings</u>\n",
    "\n",
    "\n",
    " - __Dominance of CCGT and Energy Storage Systems__: CCGT (Combined Cycle Gas Turbine) plants, including various configurations, account for a total of approximately 36.93GW connected primarily to NGET.\n",
    "Energy Storage Systems dominate with an impressive total of 134.54GW, showcasing their critical role in stabilizing the grid and integrating renewable energy sources.\n",
    " - __Wind Offshore Leading Renewable Generation__: Wind Offshore plants show a substantial capacity of 127.28GW, indicating their pivotal role in the current energy mix. They are well-represented across all connections, especially NGET and SHET. Wind Onshore contributes a capacity of 28.95 GW, reinforcing the importance of both offshore and onshore wind in the renewable sector.\n",
    " - __Limited Capacity from Conventional Sources__: Conventional sources like Coal, Oil & AGT, and Gas Reciprocating show relatively low contributions (e.g., 2.05GW, 61.5 MW, and 661.78 MW respectively). This trend reflects a broader shift towards cleaner energy sources. Nuclear Power provides a significant capacity of 19.09 GW, still an essential component of the low-carbon energy landscape.\n",
    "\n",
    "<br></br>\n",
    "<u>Diversity in Energy Storage Solutions:</u>\n",
    "\n",
    "**Energy Storage Systems** not only enhance grid reliability but also support various generation types, indicated by their multiple configurations (e.g., Energy Storage with PV, Wind).\n",
    "The substantial combined capacity of Energy Storage Systems signifies their growing importance in enabling the transition to renewable energy.\n",
    "\n",
    " - High Contributions from PV Arrays: PV Array (Photo Voltaic/Solar) plants account for 7.40 GW, with various configurations also contributing to overall capacity, underscoring solar power's expanding role.\n",
    " - Reactive Compensation: The data includes various configurations for reactive compensation, which, while individually small (e.g., 21 MW), cumulatively support grid stability.\n",
    "\n",
    "\n",
    "**Summary**\n",
    " - The analysis of connection capacities reveals a clear transition towards renewable energy sources, particularly wind and energy storage technologies. The dominance of CCGT and Energy Storage Systems illustrates the critical roles they play in ensuring a reliable and flexible energy grid. As the energy landscape evolves, these insights could guide future investments and policies aimed at optimizing energy production and reducing carbon emissions."
   ]
  },
  {
   "cell_type": "code",
   "execution_count": 208,
   "metadata": {},
   "outputs": [
    {
     "data": {
      "text/html": [
       "<div>\n",
       "<style scoped>\n",
       "    .dataframe tbody tr th:only-of-type {\n",
       "        vertical-align: middle;\n",
       "    }\n",
       "\n",
       "    .dataframe tbody tr th {\n",
       "        vertical-align: top;\n",
       "    }\n",
       "\n",
       "    .dataframe thead th {\n",
       "        text-align: right;\n",
       "    }\n",
       "</style>\n",
       "<table border=\"1\" class=\"dataframe\">\n",
       "  <thead>\n",
       "    <tr style=\"text-align: right;\">\n",
       "      <th></th>\n",
       "      <th>Plant Type</th>\n",
       "      <th>HOST TO</th>\n",
       "      <th>Connection Cap (MW)</th>\n",
       "    </tr>\n",
       "  </thead>\n",
       "  <tbody>\n",
       "    <tr>\n",
       "      <th>0</th>\n",
       "      <td>Biomass</td>\n",
       "      <td>NGET</td>\n",
       "      <td>3083.00</td>\n",
       "    </tr>\n",
       "    <tr>\n",
       "      <th>1</th>\n",
       "      <td>CCGT (Combined Cycle Gas Turbine)</td>\n",
       "      <td>NGET</td>\n",
       "      <td>34822.00</td>\n",
       "    </tr>\n",
       "    <tr>\n",
       "      <th>2</th>\n",
       "      <td>CCGT (Combined Cycle Gas Turbine);Demand</td>\n",
       "      <td>NGET</td>\n",
       "      <td>2406.00</td>\n",
       "    </tr>\n",
       "    <tr>\n",
       "      <th>3</th>\n",
       "      <td>CCGT (Combined Cycle Gas Turbine);Demand;Energ...</td>\n",
       "      <td>NGET</td>\n",
       "      <td>21600.00</td>\n",
       "    </tr>\n",
       "    <tr>\n",
       "      <th>4</th>\n",
       "      <td>CCGT (Combined Cycle Gas Turbine);Energy Stora...</td>\n",
       "      <td>NGET</td>\n",
       "      <td>5714.00</td>\n",
       "    </tr>\n",
       "    <tr>\n",
       "      <th>...</th>\n",
       "      <td>...</td>\n",
       "      <td>...</td>\n",
       "      <td>...</td>\n",
       "    </tr>\n",
       "    <tr>\n",
       "      <th>183</th>\n",
       "      <td>Tidal</td>\n",
       "      <td>SPT</td>\n",
       "      <td>0.00</td>\n",
       "    </tr>\n",
       "    <tr>\n",
       "      <th>184</th>\n",
       "      <td>Waste</td>\n",
       "      <td>SPT</td>\n",
       "      <td>0.00</td>\n",
       "    </tr>\n",
       "    <tr>\n",
       "      <th>185</th>\n",
       "      <td>Wind Offshore</td>\n",
       "      <td>SPT</td>\n",
       "      <td>11606.00</td>\n",
       "    </tr>\n",
       "    <tr>\n",
       "      <th>186</th>\n",
       "      <td>Wind Onshore</td>\n",
       "      <td>SPT</td>\n",
       "      <td>13603.12</td>\n",
       "    </tr>\n",
       "    <tr>\n",
       "      <th>187</th>\n",
       "      <td>Total</td>\n",
       "      <td>SPT</td>\n",
       "      <td>73226.16</td>\n",
       "    </tr>\n",
       "  </tbody>\n",
       "</table>\n",
       "<p>188 rows × 3 columns</p>\n",
       "</div>"
      ],
      "text/plain": [
       "                                            Plant Type HOST TO  \\\n",
       "0                                              Biomass    NGET   \n",
       "1                    CCGT (Combined Cycle Gas Turbine)    NGET   \n",
       "2             CCGT (Combined Cycle Gas Turbine);Demand    NGET   \n",
       "3    CCGT (Combined Cycle Gas Turbine);Demand;Energ...    NGET   \n",
       "4    CCGT (Combined Cycle Gas Turbine);Energy Stora...    NGET   \n",
       "..                                                 ...     ...   \n",
       "183                                              Tidal     SPT   \n",
       "184                                              Waste     SPT   \n",
       "185                                      Wind Offshore     SPT   \n",
       "186                                       Wind Onshore     SPT   \n",
       "187                                              Total     SPT   \n",
       "\n",
       "     Connection Cap (MW)  \n",
       "0                3083.00  \n",
       "1               34822.00  \n",
       "2                2406.00  \n",
       "3               21600.00  \n",
       "4                5714.00  \n",
       "..                   ...  \n",
       "183                 0.00  \n",
       "184                 0.00  \n",
       "185             11606.00  \n",
       "186             13603.12  \n",
       "187             73226.16  \n",
       "\n",
       "[188 rows x 3 columns]"
      ]
     },
     "execution_count": 208,
     "metadata": {},
     "output_type": "execute_result"
    }
   ],
   "source": [
    "unpivot_capacity_by_TO_plant = capacity_by_TO_plant.drop('Total', axis=1).reset_index().melt(id_vars='Plant Type', value_name='Connection Cap (MW)', var_name='HOST TO')\n",
    "unpivot_capacity_by_TO_plant"
   ]
  },
  {
   "cell_type": "code",
   "execution_count": 209,
   "metadata": {},
   "outputs": [
    {
     "data": {
      "application/vnd.plotly.v1+json": {
       "config": {
        "plotlyServerURL": "https://plot.ly"
       },
       "data": [
        {
         "alignmentgroup": "True",
         "hovertemplate": "HOST TO=NGET<br>Plant Type=%{x}<br>Connection Cap (MW)=%{y}<extra></extra>",
         "legendgroup": "NGET",
         "marker": {
          "color": "#636efa",
          "pattern": {
           "shape": ""
          }
         },
         "name": "NGET",
         "offsetgroup": "NGET",
         "orientation": "v",
         "showlegend": true,
         "textposition": "auto",
         "type": "bar",
         "x": [
          "Biomass",
          "CCGT (Combined Cycle Gas Turbine)",
          "CCGT (Combined Cycle Gas Turbine);Demand",
          "CCGT (Combined Cycle Gas Turbine);Demand;Energy Storage System",
          "CCGT (Combined Cycle Gas Turbine);Energy Storage System",
          "CCGT (Combined Cycle Gas Turbine);Energy Storage System;OCGT (Open Cycle Gas Turbine)",
          "CCGT (Combined Cycle Gas Turbine);Reactive Compensation",
          "CHP (Combined Heat and Power)",
          "CHP (Combined Heat and Power);Energy Storage System",
          "Coal",
          "Demand;Energy Storage System",
          "Demand;Energy Storage System;PV Array (Photo Voltaic/solar)",
          "Demand;Energy Storage System;PV Array (Photo Voltaic/solar);Reactive Compensation",
          "Demand;Energy Storage System;Reactive Compensation",
          "Demand;PV Array (Photo Voltaic/solar)",
          "Demand;PV Array (Photo Voltaic/solar);Waste",
          "Demand;Wind Offshore",
          "Demand;Wind Onshore",
          "Energy Storage System",
          "Energy Storage System;Gas Reciprocating",
          "Energy Storage System;Hydro;Nuclear;PV Array (Photo Voltaic/solar);Wind Onshore",
          "Energy Storage System;Nuclear;PV Array (Photo Voltaic/solar);Reactive Compensation;Wind Onshore",
          "Energy Storage System;Nuclear;PV Array (Photo Voltaic/solar);Wind Onshore",
          "Energy Storage System;OCGT (Open Cycle Gas Turbine)",
          "Energy Storage System;PV Array (Photo Voltaic/solar)",
          "Energy Storage System;PV Array (Photo Voltaic/solar);Reactive Compensation",
          "Energy Storage System;PV Array (Photo Voltaic/solar);Reactive Compensation;Wind Onshore",
          "Energy Storage System;PV Array (Photo Voltaic/solar);Wind Offshore",
          "Energy Storage System;PV Array (Photo Voltaic/solar);Wind Onshore",
          "Energy Storage System;Reactive Compensation",
          "Energy Storage System;Wind Offshore",
          "Energy Storage System;Wind Onshore",
          "Gas Reciprocating",
          "Hydro",
          "Nuclear",
          "OCGT (Open Cycle Gas Turbine)",
          "Oil & AGT (Advanced Gas Turbine)",
          "PV Array (Photo Voltaic/solar)",
          "PV Array (Photo Voltaic/solar);Wind Onshore",
          "Pump Storage",
          "Reactive Compensation",
          "Thermal",
          "Tidal",
          "Waste",
          "Wind Offshore",
          "Wind Onshore",
          "Total"
         ],
         "xaxis": "x",
         "y": [
          3083,
          34822,
          2406,
          21600,
          5714,
          7600,
          1517,
          734.04,
          1268,
          2051,
          100,
          3132.4,
          10927,
          0,
          4000,
          2021,
          1500,
          0,
          86221.795,
          1094,
          1000,
          3000,
          4000,
          6714.98,
          143319.675,
          2325,
          1000,
          2500,
          7424,
          1848.7,
          7340,
          700,
          661.78,
          129,
          16821,
          2847.9,
          61.5,
          6672.1849999999995,
          180,
          2004,
          21,
          299.13,
          590,
          132.9,
          81271.25,
          4311.1,
          486966.335
         ],
         "yaxis": "y"
        },
        {
         "alignmentgroup": "True",
         "hovertemplate": "HOST TO=OFTO<br>Plant Type=%{x}<br>Connection Cap (MW)=%{y}<extra></extra>",
         "legendgroup": "OFTO",
         "marker": {
          "color": "#EF553B",
          "pattern": {
           "shape": ""
          }
         },
         "name": "OFTO",
         "offsetgroup": "OFTO",
         "orientation": "v",
         "showlegend": true,
         "textposition": "auto",
         "type": "bar",
         "x": [
          "Biomass",
          "CCGT (Combined Cycle Gas Turbine)",
          "CCGT (Combined Cycle Gas Turbine);Demand",
          "CCGT (Combined Cycle Gas Turbine);Demand;Energy Storage System",
          "CCGT (Combined Cycle Gas Turbine);Energy Storage System",
          "CCGT (Combined Cycle Gas Turbine);Energy Storage System;OCGT (Open Cycle Gas Turbine)",
          "CCGT (Combined Cycle Gas Turbine);Reactive Compensation",
          "CHP (Combined Heat and Power)",
          "CHP (Combined Heat and Power);Energy Storage System",
          "Coal",
          "Demand;Energy Storage System",
          "Demand;Energy Storage System;PV Array (Photo Voltaic/solar)",
          "Demand;Energy Storage System;PV Array (Photo Voltaic/solar);Reactive Compensation",
          "Demand;Energy Storage System;Reactive Compensation",
          "Demand;PV Array (Photo Voltaic/solar)",
          "Demand;PV Array (Photo Voltaic/solar);Waste",
          "Demand;Wind Offshore",
          "Demand;Wind Onshore",
          "Energy Storage System",
          "Energy Storage System;Gas Reciprocating",
          "Energy Storage System;Hydro;Nuclear;PV Array (Photo Voltaic/solar);Wind Onshore",
          "Energy Storage System;Nuclear;PV Array (Photo Voltaic/solar);Reactive Compensation;Wind Onshore",
          "Energy Storage System;Nuclear;PV Array (Photo Voltaic/solar);Wind Onshore",
          "Energy Storage System;OCGT (Open Cycle Gas Turbine)",
          "Energy Storage System;PV Array (Photo Voltaic/solar)",
          "Energy Storage System;PV Array (Photo Voltaic/solar);Reactive Compensation",
          "Energy Storage System;PV Array (Photo Voltaic/solar);Reactive Compensation;Wind Onshore",
          "Energy Storage System;PV Array (Photo Voltaic/solar);Wind Offshore",
          "Energy Storage System;PV Array (Photo Voltaic/solar);Wind Onshore",
          "Energy Storage System;Reactive Compensation",
          "Energy Storage System;Wind Offshore",
          "Energy Storage System;Wind Onshore",
          "Gas Reciprocating",
          "Hydro",
          "Nuclear",
          "OCGT (Open Cycle Gas Turbine)",
          "Oil & AGT (Advanced Gas Turbine)",
          "PV Array (Photo Voltaic/solar)",
          "PV Array (Photo Voltaic/solar);Wind Onshore",
          "Pump Storage",
          "Reactive Compensation",
          "Thermal",
          "Tidal",
          "Waste",
          "Wind Offshore",
          "Wind Onshore",
          "Total"
         ],
         "xaxis": "x",
         "y": [
          0,
          0,
          0,
          0,
          0,
          0,
          0,
          0,
          0,
          0,
          0,
          0,
          0,
          0,
          0,
          0,
          0,
          0,
          0,
          0,
          0,
          0,
          0,
          0,
          0,
          0,
          0,
          0,
          0,
          0,
          0,
          0,
          0,
          0,
          0,
          0,
          0,
          0,
          0,
          0,
          0,
          0,
          0,
          0,
          4338.4,
          0,
          4338.4
         ],
         "yaxis": "y"
        },
        {
         "alignmentgroup": "True",
         "hovertemplate": "HOST TO=SHET<br>Plant Type=%{x}<br>Connection Cap (MW)=%{y}<extra></extra>",
         "legendgroup": "SHET",
         "marker": {
          "color": "#00cc96",
          "pattern": {
           "shape": ""
          }
         },
         "name": "SHET",
         "offsetgroup": "SHET",
         "orientation": "v",
         "showlegend": true,
         "textposition": "auto",
         "type": "bar",
         "x": [
          "Biomass",
          "CCGT (Combined Cycle Gas Turbine)",
          "CCGT (Combined Cycle Gas Turbine);Demand",
          "CCGT (Combined Cycle Gas Turbine);Demand;Energy Storage System",
          "CCGT (Combined Cycle Gas Turbine);Energy Storage System",
          "CCGT (Combined Cycle Gas Turbine);Energy Storage System;OCGT (Open Cycle Gas Turbine)",
          "CCGT (Combined Cycle Gas Turbine);Reactive Compensation",
          "CHP (Combined Heat and Power)",
          "CHP (Combined Heat and Power);Energy Storage System",
          "Coal",
          "Demand;Energy Storage System",
          "Demand;Energy Storage System;PV Array (Photo Voltaic/solar)",
          "Demand;Energy Storage System;PV Array (Photo Voltaic/solar);Reactive Compensation",
          "Demand;Energy Storage System;Reactive Compensation",
          "Demand;PV Array (Photo Voltaic/solar)",
          "Demand;PV Array (Photo Voltaic/solar);Waste",
          "Demand;Wind Offshore",
          "Demand;Wind Onshore",
          "Energy Storage System",
          "Energy Storage System;Gas Reciprocating",
          "Energy Storage System;Hydro;Nuclear;PV Array (Photo Voltaic/solar);Wind Onshore",
          "Energy Storage System;Nuclear;PV Array (Photo Voltaic/solar);Reactive Compensation;Wind Onshore",
          "Energy Storage System;Nuclear;PV Array (Photo Voltaic/solar);Wind Onshore",
          "Energy Storage System;OCGT (Open Cycle Gas Turbine)",
          "Energy Storage System;PV Array (Photo Voltaic/solar)",
          "Energy Storage System;PV Array (Photo Voltaic/solar);Reactive Compensation",
          "Energy Storage System;PV Array (Photo Voltaic/solar);Reactive Compensation;Wind Onshore",
          "Energy Storage System;PV Array (Photo Voltaic/solar);Wind Offshore",
          "Energy Storage System;PV Array (Photo Voltaic/solar);Wind Onshore",
          "Energy Storage System;Reactive Compensation",
          "Energy Storage System;Wind Offshore",
          "Energy Storage System;Wind Onshore",
          "Gas Reciprocating",
          "Hydro",
          "Nuclear",
          "OCGT (Open Cycle Gas Turbine)",
          "Oil & AGT (Advanced Gas Turbine)",
          "PV Array (Photo Voltaic/solar)",
          "PV Array (Photo Voltaic/solar);Wind Onshore",
          "Pump Storage",
          "Reactive Compensation",
          "Thermal",
          "Tidal",
          "Waste",
          "Wind Offshore",
          "Wind Onshore",
          "Total"
         ],
         "xaxis": "x",
         "y": [
          0,
          2090,
          0,
          0,
          0,
          0,
          0,
          0,
          0,
          0,
          847.9,
          0,
          0,
          0,
          20,
          0,
          300,
          112.2,
          17120.66,
          0,
          0,
          0,
          0,
          0,
          4951.277,
          0,
          0,
          0,
          50,
          96,
          0,
          2852.7,
          0,
          872.4,
          0,
          0,
          0,
          142,
          0,
          8953,
          0,
          0,
          777,
          40,
          30061.1,
          11036.35,
          80322.587
         ],
         "yaxis": "y"
        },
        {
         "alignmentgroup": "True",
         "hovertemplate": "HOST TO=SPT<br>Plant Type=%{x}<br>Connection Cap (MW)=%{y}<extra></extra>",
         "legendgroup": "SPT",
         "marker": {
          "color": "#ab63fa",
          "pattern": {
           "shape": ""
          }
         },
         "name": "SPT",
         "offsetgroup": "SPT",
         "orientation": "v",
         "showlegend": true,
         "textposition": "auto",
         "type": "bar",
         "x": [
          "Biomass",
          "CCGT (Combined Cycle Gas Turbine)",
          "CCGT (Combined Cycle Gas Turbine);Demand",
          "CCGT (Combined Cycle Gas Turbine);Demand;Energy Storage System",
          "CCGT (Combined Cycle Gas Turbine);Energy Storage System",
          "CCGT (Combined Cycle Gas Turbine);Energy Storage System;OCGT (Open Cycle Gas Turbine)",
          "CCGT (Combined Cycle Gas Turbine);Reactive Compensation",
          "CHP (Combined Heat and Power)",
          "CHP (Combined Heat and Power);Energy Storage System",
          "Coal",
          "Demand;Energy Storage System",
          "Demand;Energy Storage System;PV Array (Photo Voltaic/solar)",
          "Demand;Energy Storage System;PV Array (Photo Voltaic/solar);Reactive Compensation",
          "Demand;Energy Storage System;Reactive Compensation",
          "Demand;PV Array (Photo Voltaic/solar)",
          "Demand;PV Array (Photo Voltaic/solar);Waste",
          "Demand;Wind Offshore",
          "Demand;Wind Onshore",
          "Energy Storage System",
          "Energy Storage System;Gas Reciprocating",
          "Energy Storage System;Hydro;Nuclear;PV Array (Photo Voltaic/solar);Wind Onshore",
          "Energy Storage System;Nuclear;PV Array (Photo Voltaic/solar);Reactive Compensation;Wind Onshore",
          "Energy Storage System;Nuclear;PV Array (Photo Voltaic/solar);Wind Onshore",
          "Energy Storage System;OCGT (Open Cycle Gas Turbine)",
          "Energy Storage System;PV Array (Photo Voltaic/solar)",
          "Energy Storage System;PV Array (Photo Voltaic/solar);Reactive Compensation",
          "Energy Storage System;PV Array (Photo Voltaic/solar);Reactive Compensation;Wind Onshore",
          "Energy Storage System;PV Array (Photo Voltaic/solar);Wind Offshore",
          "Energy Storage System;PV Array (Photo Voltaic/solar);Wind Onshore",
          "Energy Storage System;Reactive Compensation",
          "Energy Storage System;Wind Offshore",
          "Energy Storage System;Wind Onshore",
          "Gas Reciprocating",
          "Hydro",
          "Nuclear",
          "OCGT (Open Cycle Gas Turbine)",
          "Oil & AGT (Advanced Gas Turbine)",
          "PV Array (Photo Voltaic/solar)",
          "PV Array (Photo Voltaic/solar);Wind Onshore",
          "Pump Storage",
          "Reactive Compensation",
          "Thermal",
          "Tidal",
          "Waste",
          "Wind Offshore",
          "Wind Onshore",
          "Total"
         ],
         "xaxis": "x",
         "y": [
          55,
          20,
          0,
          0,
          0,
          0,
          0,
          120,
          0,
          0,
          1051,
          0,
          150,
          200,
          0,
          0,
          0,
          0,
          31201.74,
          0,
          0,
          0,
          0,
          0,
          5568.9,
          0,
          0,
          0,
          1663.8,
          1000,
          0,
          2395.9,
          0,
          0,
          2270,
          0,
          0,
          590.7,
          0,
          1730,
          0,
          0,
          0,
          0,
          11606,
          13603.12,
          73226.16
         ],
         "yaxis": "y"
        }
       ],
       "layout": {
        "barmode": "relative",
        "height": 900,
        "legend": {
         "title": {
          "text": "HOST TO"
         },
         "tracegroupgap": 0
        },
        "margin": {
         "t": 60
        },
        "template": {
         "data": {
          "bar": [
           {
            "error_x": {
             "color": "#2a3f5f"
            },
            "error_y": {
             "color": "#2a3f5f"
            },
            "marker": {
             "line": {
              "color": "#E5ECF6",
              "width": 0.5
             },
             "pattern": {
              "fillmode": "overlay",
              "size": 10,
              "solidity": 0.2
             }
            },
            "type": "bar"
           }
          ],
          "barpolar": [
           {
            "marker": {
             "line": {
              "color": "#E5ECF6",
              "width": 0.5
             },
             "pattern": {
              "fillmode": "overlay",
              "size": 10,
              "solidity": 0.2
             }
            },
            "type": "barpolar"
           }
          ],
          "carpet": [
           {
            "aaxis": {
             "endlinecolor": "#2a3f5f",
             "gridcolor": "white",
             "linecolor": "white",
             "minorgridcolor": "white",
             "startlinecolor": "#2a3f5f"
            },
            "baxis": {
             "endlinecolor": "#2a3f5f",
             "gridcolor": "white",
             "linecolor": "white",
             "minorgridcolor": "white",
             "startlinecolor": "#2a3f5f"
            },
            "type": "carpet"
           }
          ],
          "choropleth": [
           {
            "colorbar": {
             "outlinewidth": 0,
             "ticks": ""
            },
            "type": "choropleth"
           }
          ],
          "contour": [
           {
            "colorbar": {
             "outlinewidth": 0,
             "ticks": ""
            },
            "colorscale": [
             [
              0,
              "#0d0887"
             ],
             [
              0.1111111111111111,
              "#46039f"
             ],
             [
              0.2222222222222222,
              "#7201a8"
             ],
             [
              0.3333333333333333,
              "#9c179e"
             ],
             [
              0.4444444444444444,
              "#bd3786"
             ],
             [
              0.5555555555555556,
              "#d8576b"
             ],
             [
              0.6666666666666666,
              "#ed7953"
             ],
             [
              0.7777777777777778,
              "#fb9f3a"
             ],
             [
              0.8888888888888888,
              "#fdca26"
             ],
             [
              1,
              "#f0f921"
             ]
            ],
            "type": "contour"
           }
          ],
          "contourcarpet": [
           {
            "colorbar": {
             "outlinewidth": 0,
             "ticks": ""
            },
            "type": "contourcarpet"
           }
          ],
          "heatmap": [
           {
            "colorbar": {
             "outlinewidth": 0,
             "ticks": ""
            },
            "colorscale": [
             [
              0,
              "#0d0887"
             ],
             [
              0.1111111111111111,
              "#46039f"
             ],
             [
              0.2222222222222222,
              "#7201a8"
             ],
             [
              0.3333333333333333,
              "#9c179e"
             ],
             [
              0.4444444444444444,
              "#bd3786"
             ],
             [
              0.5555555555555556,
              "#d8576b"
             ],
             [
              0.6666666666666666,
              "#ed7953"
             ],
             [
              0.7777777777777778,
              "#fb9f3a"
             ],
             [
              0.8888888888888888,
              "#fdca26"
             ],
             [
              1,
              "#f0f921"
             ]
            ],
            "type": "heatmap"
           }
          ],
          "heatmapgl": [
           {
            "colorbar": {
             "outlinewidth": 0,
             "ticks": ""
            },
            "colorscale": [
             [
              0,
              "#0d0887"
             ],
             [
              0.1111111111111111,
              "#46039f"
             ],
             [
              0.2222222222222222,
              "#7201a8"
             ],
             [
              0.3333333333333333,
              "#9c179e"
             ],
             [
              0.4444444444444444,
              "#bd3786"
             ],
             [
              0.5555555555555556,
              "#d8576b"
             ],
             [
              0.6666666666666666,
              "#ed7953"
             ],
             [
              0.7777777777777778,
              "#fb9f3a"
             ],
             [
              0.8888888888888888,
              "#fdca26"
             ],
             [
              1,
              "#f0f921"
             ]
            ],
            "type": "heatmapgl"
           }
          ],
          "histogram": [
           {
            "marker": {
             "pattern": {
              "fillmode": "overlay",
              "size": 10,
              "solidity": 0.2
             }
            },
            "type": "histogram"
           }
          ],
          "histogram2d": [
           {
            "colorbar": {
             "outlinewidth": 0,
             "ticks": ""
            },
            "colorscale": [
             [
              0,
              "#0d0887"
             ],
             [
              0.1111111111111111,
              "#46039f"
             ],
             [
              0.2222222222222222,
              "#7201a8"
             ],
             [
              0.3333333333333333,
              "#9c179e"
             ],
             [
              0.4444444444444444,
              "#bd3786"
             ],
             [
              0.5555555555555556,
              "#d8576b"
             ],
             [
              0.6666666666666666,
              "#ed7953"
             ],
             [
              0.7777777777777778,
              "#fb9f3a"
             ],
             [
              0.8888888888888888,
              "#fdca26"
             ],
             [
              1,
              "#f0f921"
             ]
            ],
            "type": "histogram2d"
           }
          ],
          "histogram2dcontour": [
           {
            "colorbar": {
             "outlinewidth": 0,
             "ticks": ""
            },
            "colorscale": [
             [
              0,
              "#0d0887"
             ],
             [
              0.1111111111111111,
              "#46039f"
             ],
             [
              0.2222222222222222,
              "#7201a8"
             ],
             [
              0.3333333333333333,
              "#9c179e"
             ],
             [
              0.4444444444444444,
              "#bd3786"
             ],
             [
              0.5555555555555556,
              "#d8576b"
             ],
             [
              0.6666666666666666,
              "#ed7953"
             ],
             [
              0.7777777777777778,
              "#fb9f3a"
             ],
             [
              0.8888888888888888,
              "#fdca26"
             ],
             [
              1,
              "#f0f921"
             ]
            ],
            "type": "histogram2dcontour"
           }
          ],
          "mesh3d": [
           {
            "colorbar": {
             "outlinewidth": 0,
             "ticks": ""
            },
            "type": "mesh3d"
           }
          ],
          "parcoords": [
           {
            "line": {
             "colorbar": {
              "outlinewidth": 0,
              "ticks": ""
             }
            },
            "type": "parcoords"
           }
          ],
          "pie": [
           {
            "automargin": true,
            "type": "pie"
           }
          ],
          "scatter": [
           {
            "fillpattern": {
             "fillmode": "overlay",
             "size": 10,
             "solidity": 0.2
            },
            "type": "scatter"
           }
          ],
          "scatter3d": [
           {
            "line": {
             "colorbar": {
              "outlinewidth": 0,
              "ticks": ""
             }
            },
            "marker": {
             "colorbar": {
              "outlinewidth": 0,
              "ticks": ""
             }
            },
            "type": "scatter3d"
           }
          ],
          "scattercarpet": [
           {
            "marker": {
             "colorbar": {
              "outlinewidth": 0,
              "ticks": ""
             }
            },
            "type": "scattercarpet"
           }
          ],
          "scattergeo": [
           {
            "marker": {
             "colorbar": {
              "outlinewidth": 0,
              "ticks": ""
             }
            },
            "type": "scattergeo"
           }
          ],
          "scattergl": [
           {
            "marker": {
             "colorbar": {
              "outlinewidth": 0,
              "ticks": ""
             }
            },
            "type": "scattergl"
           }
          ],
          "scattermapbox": [
           {
            "marker": {
             "colorbar": {
              "outlinewidth": 0,
              "ticks": ""
             }
            },
            "type": "scattermapbox"
           }
          ],
          "scatterpolar": [
           {
            "marker": {
             "colorbar": {
              "outlinewidth": 0,
              "ticks": ""
             }
            },
            "type": "scatterpolar"
           }
          ],
          "scatterpolargl": [
           {
            "marker": {
             "colorbar": {
              "outlinewidth": 0,
              "ticks": ""
             }
            },
            "type": "scatterpolargl"
           }
          ],
          "scatterternary": [
           {
            "marker": {
             "colorbar": {
              "outlinewidth": 0,
              "ticks": ""
             }
            },
            "type": "scatterternary"
           }
          ],
          "surface": [
           {
            "colorbar": {
             "outlinewidth": 0,
             "ticks": ""
            },
            "colorscale": [
             [
              0,
              "#0d0887"
             ],
             [
              0.1111111111111111,
              "#46039f"
             ],
             [
              0.2222222222222222,
              "#7201a8"
             ],
             [
              0.3333333333333333,
              "#9c179e"
             ],
             [
              0.4444444444444444,
              "#bd3786"
             ],
             [
              0.5555555555555556,
              "#d8576b"
             ],
             [
              0.6666666666666666,
              "#ed7953"
             ],
             [
              0.7777777777777778,
              "#fb9f3a"
             ],
             [
              0.8888888888888888,
              "#fdca26"
             ],
             [
              1,
              "#f0f921"
             ]
            ],
            "type": "surface"
           }
          ],
          "table": [
           {
            "cells": {
             "fill": {
              "color": "#EBF0F8"
             },
             "line": {
              "color": "white"
             }
            },
            "header": {
             "fill": {
              "color": "#C8D4E3"
             },
             "line": {
              "color": "white"
             }
            },
            "type": "table"
           }
          ]
         },
         "layout": {
          "annotationdefaults": {
           "arrowcolor": "#2a3f5f",
           "arrowhead": 0,
           "arrowwidth": 1
          },
          "autotypenumbers": "strict",
          "coloraxis": {
           "colorbar": {
            "outlinewidth": 0,
            "ticks": ""
           }
          },
          "colorscale": {
           "diverging": [
            [
             0,
             "#8e0152"
            ],
            [
             0.1,
             "#c51b7d"
            ],
            [
             0.2,
             "#de77ae"
            ],
            [
             0.3,
             "#f1b6da"
            ],
            [
             0.4,
             "#fde0ef"
            ],
            [
             0.5,
             "#f7f7f7"
            ],
            [
             0.6,
             "#e6f5d0"
            ],
            [
             0.7,
             "#b8e186"
            ],
            [
             0.8,
             "#7fbc41"
            ],
            [
             0.9,
             "#4d9221"
            ],
            [
             1,
             "#276419"
            ]
           ],
           "sequential": [
            [
             0,
             "#0d0887"
            ],
            [
             0.1111111111111111,
             "#46039f"
            ],
            [
             0.2222222222222222,
             "#7201a8"
            ],
            [
             0.3333333333333333,
             "#9c179e"
            ],
            [
             0.4444444444444444,
             "#bd3786"
            ],
            [
             0.5555555555555556,
             "#d8576b"
            ],
            [
             0.6666666666666666,
             "#ed7953"
            ],
            [
             0.7777777777777778,
             "#fb9f3a"
            ],
            [
             0.8888888888888888,
             "#fdca26"
            ],
            [
             1,
             "#f0f921"
            ]
           ],
           "sequentialminus": [
            [
             0,
             "#0d0887"
            ],
            [
             0.1111111111111111,
             "#46039f"
            ],
            [
             0.2222222222222222,
             "#7201a8"
            ],
            [
             0.3333333333333333,
             "#9c179e"
            ],
            [
             0.4444444444444444,
             "#bd3786"
            ],
            [
             0.5555555555555556,
             "#d8576b"
            ],
            [
             0.6666666666666666,
             "#ed7953"
            ],
            [
             0.7777777777777778,
             "#fb9f3a"
            ],
            [
             0.8888888888888888,
             "#fdca26"
            ],
            [
             1,
             "#f0f921"
            ]
           ]
          },
          "colorway": [
           "#636efa",
           "#EF553B",
           "#00cc96",
           "#ab63fa",
           "#FFA15A",
           "#19d3f3",
           "#FF6692",
           "#B6E880",
           "#FF97FF",
           "#FECB52"
          ],
          "font": {
           "color": "#2a3f5f"
          },
          "geo": {
           "bgcolor": "white",
           "lakecolor": "white",
           "landcolor": "#E5ECF6",
           "showlakes": true,
           "showland": true,
           "subunitcolor": "white"
          },
          "hoverlabel": {
           "align": "left"
          },
          "hovermode": "closest",
          "mapbox": {
           "style": "light"
          },
          "paper_bgcolor": "white",
          "plot_bgcolor": "#E5ECF6",
          "polar": {
           "angularaxis": {
            "gridcolor": "white",
            "linecolor": "white",
            "ticks": ""
           },
           "bgcolor": "#E5ECF6",
           "radialaxis": {
            "gridcolor": "white",
            "linecolor": "white",
            "ticks": ""
           }
          },
          "scene": {
           "xaxis": {
            "backgroundcolor": "#E5ECF6",
            "gridcolor": "white",
            "gridwidth": 2,
            "linecolor": "white",
            "showbackground": true,
            "ticks": "",
            "zerolinecolor": "white"
           },
           "yaxis": {
            "backgroundcolor": "#E5ECF6",
            "gridcolor": "white",
            "gridwidth": 2,
            "linecolor": "white",
            "showbackground": true,
            "ticks": "",
            "zerolinecolor": "white"
           },
           "zaxis": {
            "backgroundcolor": "#E5ECF6",
            "gridcolor": "white",
            "gridwidth": 2,
            "linecolor": "white",
            "showbackground": true,
            "ticks": "",
            "zerolinecolor": "white"
           }
          },
          "shapedefaults": {
           "line": {
            "color": "#2a3f5f"
           }
          },
          "ternary": {
           "aaxis": {
            "gridcolor": "white",
            "linecolor": "white",
            "ticks": ""
           },
           "baxis": {
            "gridcolor": "white",
            "linecolor": "white",
            "ticks": ""
           },
           "bgcolor": "#E5ECF6",
           "caxis": {
            "gridcolor": "white",
            "linecolor": "white",
            "ticks": ""
           }
          },
          "title": {
           "x": 0.05
          },
          "xaxis": {
           "automargin": true,
           "gridcolor": "white",
           "linecolor": "white",
           "ticks": "",
           "title": {
            "standoff": 15
           },
           "zerolinecolor": "white",
           "zerolinewidth": 2
          },
          "yaxis": {
           "automargin": true,
           "gridcolor": "white",
           "linecolor": "white",
           "ticks": "",
           "title": {
            "standoff": 15
           },
           "zerolinecolor": "white",
           "zerolinewidth": 2
          }
         }
        },
        "xaxis": {
         "anchor": "y",
         "domain": [
          0,
          1
         ],
         "title": {
          "text": "Plant Type"
         }
        },
        "yaxis": {
         "anchor": "x",
         "domain": [
          0,
          1
         ],
         "title": {
          "text": "Connection Cap (MW)"
         }
        }
       }
      }
     },
     "metadata": {},
     "output_type": "display_data"
    }
   ],
   "source": [
    "fig = px.bar(data_frame=unpivot_capacity_by_TO_plant,\n",
    "             x='Plant Type',\n",
    "             y='Connection Cap (MW)',\n",
    "             color='HOST TO',\n",
    "             color_continuous_scale=px.colors.diverging.RdBu_r,\n",
    "             height=900)\n",
    "fig.show()"
   ]
  },
  {
   "cell_type": "code",
   "execution_count": 210,
   "metadata": {},
   "outputs": [
    {
     "data": {
      "text/plain": [
       "Index(['Project Name', 'Customer Name', 'Connection Site', 'Stage',\n",
       "       'MW Connected', 'MW Change', 'Connection Cap (MW)', 'Connection Date',\n",
       "       'Project Status', 'Agreement Type', 'HOST TO', 'Plant Type',\n",
       "       'Project ID', 'Project Number'],\n",
       "      dtype='object')"
      ]
     },
     "execution_count": 210,
     "metadata": {},
     "output_type": "execute_result"
    }
   ],
   "source": [
    "data.columns\n"
   ]
  },
  {
   "cell_type": "code",
   "execution_count": 211,
   "metadata": {},
   "outputs": [
    {
     "data": {
      "text/plain": [
       "(1896, 14)"
      ]
     },
     "execution_count": 211,
     "metadata": {},
     "output_type": "execute_result"
    }
   ],
   "source": [
    "data.shape\n"
   ]
  },
  {
   "cell_type": "code",
   "execution_count": 212,
   "metadata": {},
   "outputs": [
    {
     "data": {
      "application/vnd.plotly.v1+json": {
       "config": {
        "plotlyServerURL": "https://plot.ly"
       },
       "data": [
        {
         "branchvalues": "total",
         "customdata": [
          [
           "(?)",
           73226.16,
           "SPT"
          ],
          [
           "(?)",
           21600,
           "NGET"
          ],
          [
           "(?)",
           2406,
           "NGET"
          ],
          [
           "(?)",
           5714,
           "NGET"
          ],
          [
           "(?)",
           7600,
           "NGET"
          ],
          [
           "(?)",
           734.04,
           "NGET"
          ],
          [
           "(?)",
           2485,
           "SHET"
          ],
          [
           "(?)",
           5152,
           "NGET"
          ],
          [
           "Thainstone Energy Park",
           40,
           "SHET"
          ],
          [
           "SHBEC",
           83,
           "NGET"
          ],
          [
           "MeyGen Tidal",
           99,
           "SHET"
          ],
          [
           "(?)",
           0,
           "SPT"
          ],
          [
           "(?)",
           0,
           "SHET"
          ],
          [
           "Didcot Battery",
           100,
           "NGET"
          ],
          [
           "(?)",
           847.9,
           "SHET"
          ],
          [
           "(?)",
           1051,
           "SPT"
          ],
          [
           "(?)",
           3132.4,
           "NGET"
          ],
          [
           "Halbeath",
           150,
           "SPT"
          ],
          [
           "(?)",
           61.9,
           "NGET"
          ],
          [
           "Highview Hunterston East Cryobattery",
           200,
           "SPT"
          ],
          [
           "(?)",
           4000,
           "NGET"
          ],
          [
           "SAGE Solar",
           20,
           "SHET"
          ],
          [
           "Ratcliffe on Soar",
           2021,
           "NGET"
          ],
          [
           "CENOS",
           1500,
           "NGET"
          ],
          [
           "Trawsfynydd B Cwmni Egino",
           940,
           "NGET"
          ],
          [
           "Teindland Wind Farm",
           112.2,
           "SHET"
          ],
          [
           "Damhead Creek 2",
           1800,
           "NGET"
          ],
          [
           "(?)",
           86221.795,
           "NGET"
          ],
          [
           "(?)",
           2400,
           "NGET"
          ],
          [
           "Market Harborough Green Energy Hub",
           1000,
           "NGET"
          ],
          [
           "(?)",
           897,
           "NGET"
          ],
          [
           "Hinkley Point C",
           5010,
           "NGET"
          ],
          [
           "(?)",
           405.9,
           "NGET"
          ],
          [
           "(?)",
           6372.39,
           "NGET"
          ],
          [
           "(?)",
           1,
           "NGET"
          ],
          [
           "(?)",
           0,
           "SPT"
          ],
          [
           "(?)",
           154.49,
           "NGET"
          ],
          [
           "(?)",
           1208.9,
           "NGET"
          ],
          [
           "(?)",
           590,
           "NGET"
          ],
          [
           "(?)",
           80322.587,
           "SHET"
          ],
          [
           "MeyGen Tidal",
           287,
           "SHET"
          ],
          [
           "(?)",
           64064.25,
           "NGET"
          ],
          [
           "(?)",
           25943,
           "SHET"
          ],
          [
           "(?)",
           1300,
           "NGET"
          ],
          [
           "(?)",
           5518.9,
           "SPT"
          ],
          [
           "(?)",
           4325.287,
           "SHET"
          ],
          [
           "(?)",
           116195.6,
           "NGET"
          ],
          [
           "(?)",
           6496,
           "SHET"
          ],
          [
           "(?)",
           6194.7,
           "SPT"
          ],
          [
           "(?)",
           1260,
           "NGET"
          ],
          [
           "(?)",
           16426.76,
           "SHET"
          ],
          [
           "JG Pears",
           30,
           "NGET"
          ],
          [
           "Teindland Wind Farm",
           112.2,
           "SHET"
          ],
          [
           "CENOS",
           1500,
           "NGET"
          ],
          [
           "SAGE Solar",
           20,
           "SHET"
          ],
          [
           "(?)",
           4000,
           "NGET"
          ],
          [
           "(?)",
           510.28,
           "NGET"
          ],
          [
           "Tees CCPP",
           150,
           "NGET"
          ],
          [
           "(?)",
           449.98,
           "NGET"
          ],
          [
           "(?)",
           1051,
           "SPT"
          ],
          [
           "(?)",
           3000,
           "NGET"
          ],
          [
           "Green Volt Offshore Windfarm",
           300,
           "SHET"
          ],
          [
           "(?)",
           143319.675,
           "NGET"
          ],
          [
           "(?)",
           872.4,
           "SHET"
          ],
          [
           "Grain",
           1517,
           "NGET"
          ],
          [
           "(?)",
           16821,
           "NGET"
          ],
          [
           "(?)",
           2270,
           "SPT"
          ],
          [
           "(?)",
           2847.9,
           "NGET"
          ],
          [
           "(?)",
           61.5,
           "NGET"
          ],
          [
           "(?)",
           6672.1849999999995,
           "NGET"
          ],
          [
           "(?)",
           142,
           "SHET"
          ],
          [
           "(?)",
           8953,
           "SHET"
          ],
          [
           "(?)",
           1730,
           "SPT"
          ],
          [
           "(?)",
           21,
           "NGET"
          ],
          [
           "MeyGen Tidal",
           391,
           "SHET"
          ],
          [
           "Immingham",
           1268,
           "NGET"
          ],
          [
           "(?)",
           299.13,
           "NGET"
          ],
          [
           "Thainstone Energy Park",
           40,
           "SHET"
          ],
          [
           "(?)",
           81271.25,
           "NGET"
          ],
          [
           "(?)",
           4338.4,
           "OFTO"
          ],
          [
           "(?)",
           30061.1,
           "SHET"
          ],
          [
           "Cilfynydd",
           400,
           "NGET"
          ],
          [
           "Willington Green Energy Centre",
           1025,
           "NGET"
          ],
          [
           "(?)",
           560,
           "SHET"
          ],
          [
           "(?)",
           23697.395,
           "NGET"
          ],
          [
           "(?)",
           11036.35,
           "SHET"
          ],
          [
           "(?)",
           5527,
           "NGET"
          ],
          [
           "(?)",
           4338.4,
           "OFTO"
          ],
          [
           "(?)",
           5490,
           "NGET"
          ],
          [
           "(?)",
           132.9,
           "NGET"
          ],
          [
           "Drax (Coal)",
           2001,
           "NGET"
          ],
          [
           "(?)",
           704.04,
           "NGET"
          ],
          [
           "(?)",
           661.78,
           "NGET"
          ],
          [
           "(?)",
           1633.1,
           "SHET"
          ],
          [
           "(?)",
           4951.277,
           "SHET"
          ],
          [
           "(?)",
           5568.9,
           "SPT"
          ],
          [
           "(?)",
           144.64,
           "NGET"
          ],
          [
           "(?)",
           2325,
           "NGET"
          ],
          [
           "Wymondley High Impact Green Energy Hub (HIGEH) 1",
           1000,
           "NGET"
          ],
          [
           "Portwind",
           2500,
           "NGET"
          ],
          [
           "(?)",
           2004,
           "NGET"
          ],
          [
           "Beechgreen Energyfarm",
           49.9,
           "NGET"
          ],
          [
           "(?)",
           61.5,
           "NGET"
          ],
          [
           "(?)",
           129,
           "NGET"
          ],
          [
           "(?)",
           129,
           "NGET"
          ],
          [
           "(?)",
           106,
           "NGET"
          ],
          [
           "(?)",
           872.4,
           "SHET"
          ],
          [
           "ER TWD Energy",
           700,
           "NGET"
          ],
          [
           "(?)",
           2395.9,
           "SPT"
          ],
          [
           "(?)",
           2852.7,
           "SHET"
          ],
          [
           "(?)",
           71.4,
           "SHET"
          ],
          [
           "Spalding Energy Expansion",
           299.99,
           "NGET"
          ],
          [
           "(?)",
           7340,
           "NGET"
          ],
          [
           "Medway 3 Power Station",
           500,
           "NGET"
          ],
          [
           "Burbo Bank Offshore Wind Farm",
           90,
           "NGET"
          ],
          [
           "(?)",
           1000,
           "SPT"
          ],
          [
           "Green Volt Offshore Windfarm",
           300,
           "SHET"
          ],
          [
           "Grain",
           1517,
           "NGET"
          ],
          [
           "(?)",
           34822,
           "NGET"
          ],
          [
           "(?)",
           142,
           "SHET"
          ],
          [
           "(?)",
           590.7,
           "SPT"
          ],
          [
           "(?)",
           211.5,
           "SPT"
          ],
          [
           "(?)",
           486966.335,
           "NGET"
          ],
          [
           "Seagreen 1A Offshore Wind Farm",
           500,
           "SPT"
          ],
          [
           "(?)",
           11606,
           "SPT"
          ],
          [
           "(?)",
           3984.1,
           "NGET"
          ],
          [
           "Grangemouth CHP",
           120,
           "SPT"
          ],
          [
           "(?)",
           0,
           "SHET"
          ],
          [
           "(?)",
           0,
           "SPT"
          ],
          [
           "(?)",
           7424,
           "NGET"
          ],
          [
           "(?)",
           1663.8,
           "SPT"
          ],
          [
           "(?)",
           1848.7,
           "NGET"
          ],
          [
           "(?)",
           9578,
           "SPT"
          ],
          [
           "(?)",
           4000,
           "NGET"
          ],
          [
           "Immingham",
           1268,
           "NGET"
          ],
          [
           "(?)",
           1752,
           "NGET"
          ],
          [
           "Allt an Tuir Renewable Energy Park",
           50,
           "SHET"
          ],
          [
           "(?)",
           249.89499999999998,
           "NGET"
          ],
          [
           "Walpole Flexible Generation",
           2000,
           "NGET"
          ],
          [
           "(?)",
           1536.44,
           "SPT"
          ],
          [
           "Peterhead Carbon Capture",
           910,
           "SHET"
          ],
          [
           "(?)",
           1564.63,
           "SPT"
          ],
          [
           "(?)",
           0,
           "NGET"
          ],
          [
           "West Burton B",
           3714,
           "NGET"
          ],
          [
           "Almondell Lodge BESS & Solar Development",
           50,
           "SPT"
          ],
          [
           "(?)",
           65.99000000000001,
           "SHET"
          ],
          [
           "Rugeley",
           50,
           "NGET"
          ],
          [
           "(?)",
           49,
           "SHET"
          ],
          [
           "(?)",
           5456.495,
           "NGET"
          ],
          [
           "Conrad (Winchester) Limited",
           19,
           "NGET"
          ],
          [
           "Iron Acton",
           49.9,
           "NGET"
          ],
          [
           "(?)",
           5861,
           "NGET"
          ],
          [
           "(?)",
           2270,
           "SPT"
          ],
          [
           "(?)",
           2537.95,
           "SHET"
          ],
          [
           "(?)",
           1450.9,
           "NGET"
          ],
          [
           "(?)",
           4338.4,
           "OFTO"
          ],
          [
           "(?)",
           6655,
           "NGET"
          ],
          [
           "Wishaw Energy Storage Facility",
           49.95,
           "SPT"
          ],
          [
           "Didcot Battery",
           100,
           "NGET"
          ],
          [
           "(?)",
           21600,
           "NGET"
          ],
          [
           "(?)",
           2000,
           "NGET"
          ],
          [
           "Sheilhill Battery Storage",
           100,
           "SHET"
          ],
          [
           "(?)",
           5596.37,
           "NGET"
          ],
          [
           "(?)",
           1084,
           "SPT"
          ],
          [
           "Grendon High Impact Green Energy Hub (HIGEH) 1",
           1000,
           "NGET"
          ],
          [
           "Spirebush Renewable Energy Project",
           400,
           "SPT"
          ],
          [
           "(?)",
           577.9,
           "NGET"
          ],
          [
           "(?)",
           1263.8,
           "SPT"
          ],
          [
           "(?)",
           7024,
           "NGET"
          ],
          [
           "Portwind",
           2500,
           "NGET"
          ],
          [
           "Wymondley High Impact Green Energy Hub (HIGEH) 1",
           1000,
           "NGET"
          ],
          [
           "(?)",
           4000,
           "NGET"
          ],
          [
           "(?)",
           747.9,
           "SHET"
          ],
          [
           "Market Harborough Green Energy Hub",
           1000,
           "NGET"
          ],
          [
           "Cruachan",
           440,
           "SPT"
          ],
          [
           "(?)",
           73592.85,
           "NGET"
          ],
          [
           "Sizewell C",
           5010,
           "NGET"
          ],
          [
           "(?)",
           1075,
           "NGET"
          ],
          [
           "(?)",
           309,
           "SHET"
          ],
          [
           "(?)",
           577,
           "SPT"
          ],
          [
           "MeyGen Tidal",
           777,
           "SHET"
          ],
          [
           "(?)",
           13603.12,
           "SPT"
          ],
          [
           "Allt an Tuir Renewable Energy Park",
           50,
           "SHET"
          ],
          [
           "Ratcliffe EMERGE",
           49.9,
           "NGET"
          ],
          [
           "(?)",
           4311.1,
           "NGET"
          ],
          [
           "(?)",
           3000,
           "NGET"
          ],
          [
           "(?)",
           96,
           "SHET"
          ],
          [
           "Keith 132 Greener Grid Park",
           0,
           "SHET"
          ],
          [
           "Gaerwen Wind Farm",
           67,
           "NGET"
          ],
          [
           "Hirfynydd and Mynydd Drumaur",
           180,
           "NGET"
          ],
          [
           "(?)",
           590.7,
           "SPT"
          ],
          [
           "Foyers",
           300,
           "SHET"
          ],
          [
           "(?)",
           1065.8,
           "NGET"
          ],
          [
           "Ratcliffe on Soar",
           2021,
           "NGET"
          ],
          [
           "(?)",
           2004,
           "NGET"
          ],
          [
           "Grangemouth CHP",
           120,
           "SPT"
          ],
          [
           "Caledonian Paper Mill (Meadowhead)",
           20,
           "SPT"
          ],
          [
           "Peterhead",
           1180,
           "SHET"
          ],
          [
           "(?)",
           26330,
           "NGET"
          ],
          [
           "Markinch (Rothes) Biomass CHP Plant",
           55,
           "SPT"
          ],
          [
           "(?)",
           2723,
           "NGET"
          ],
          [
           "(?)",
           273.8,
           "SHET"
          ],
          [
           "(?)",
           590,
           "NGET"
          ],
          [
           "(?)",
           2472.3,
           "SHET"
          ],
          [
           "(?)",
           260,
           "NGET"
          ],
          [
           "Caledonian Paper Mill (Meadowhead)",
           20,
           "SPT"
          ],
          [
           "(?)",
           2090,
           "SHET"
          ],
          [
           "Markinch (Rothes) Biomass CHP Plant",
           55,
           "SPT"
          ],
          [
           "(?)",
           3083,
           "NGET"
          ],
          [
           "Ferrybridge D",
           310,
           "NGET"
          ],
          [
           "(?)",
           3132.4,
           "NGET"
          ],
          [
           "(?)",
           5400,
           "NGET"
          ],
          [
           "Halbeath",
           150,
           "SPT"
          ],
          [
           "(?)",
           2406,
           "NGET"
          ],
          [
           "Highview Hunterston East Cryobattery",
           200,
           "SPT"
          ],
          [
           "Baillie Greener Grid Park",
           48,
           "SHET"
          ],
          [
           "(?)",
           1000,
           "SPT"
          ],
          [
           "Beatrice Sync Comp",
           0,
           "SHET"
          ],
          [
           "(?)",
           2000,
           "NGET"
          ],
          [
           "(?)",
           1080,
           "SPT"
          ],
          [
           "(?)",
           8041,
           "SHET"
          ],
          [
           "Hirfynydd and Mynydd Drumaur",
           180,
           "NGET"
          ],
          [
           "ER TWD Energy",
           700,
           "NGET"
          ],
          [
           "(?)",
           29886.79,
           "SPT"
          ],
          [
           "(?)",
           20,
           "NGET"
          ],
          [
           "(?)",
           3900,
           "NGET"
          ],
          [
           "(?)",
           1528,
           "SPT"
          ],
          [
           "(?)",
           6714.98,
           "NGET"
          ],
          [
           "(?)",
           4095.85,
           "SPT"
          ],
          [
           "Recell at Penrhos (BEGA)",
           360,
           "NGET"
          ],
          [
           "(?)",
           1094,
           "NGET"
          ],
          [
           "(?)",
           31201.74,
           "SPT"
          ],
          [
           "(?)",
           1818.9,
           "SPT"
          ],
          [
           "(?)",
           1580,
           "NGET"
          ],
          [
           "(?)",
           644.9,
           "SHET"
          ],
          [
           "(?)",
           1728.6,
           "SHET"
          ],
          [
           "(?)",
           181,
           "SPT"
          ],
          [
           "(?)",
           2926.8,
           "NGET"
          ],
          [
           "Keith 132 Greener Grid Park",
           48,
           "SHET"
          ],
          [
           "(?)",
           10927,
           "NGET"
          ],
          [
           "Hornsea Power Station 3",
           5250,
           "NGET"
          ],
          [
           "(?)",
           149.88,
           "NGET"
          ],
          [
           "Coire Glas Pumped Storage",
           612,
           "SHET"
          ],
          [
           "Glenmuckloch Pumped Storage",
           210,
           "SPT"
          ],
          [
           "(?)",
           2051,
           "NGET"
          ],
          [
           "(?)",
           6264.99,
           "NGET"
          ],
          [
           "(?)",
           17120.66,
           "SHET"
          ]
         ],
         "domain": {
          "x": [
           0,
           1
          ],
          "y": [
           0,
           1
          ]
         },
         "hovertemplate": "labels=%{label}<br>Connection Cap (MW)=%{customdata[1]}<br>parent=%{parent}<br>id=%{id}<br>Project Name=%{customdata[0]}<br>HOST TO=%{customdata[2]}<extra></extra>",
         "ids": [
          "SPT",
          "NGET/CCGT (Combined Cycle Gas Turbine);Demand;Energy Storage System",
          "NGET/CCGT (Combined Cycle Gas Turbine);Demand/Scoping",
          "NGET/CCGT (Combined Cycle Gas Turbine);Energy Storage System",
          "NGET/CCGT (Combined Cycle Gas Turbine);Energy Storage System;OCGT (Open Cycle Gas Turbine)",
          "NGET/CHP (Combined Heat and Power)",
          "SHET/Wind Offshore/Consents Approved",
          "NGET/Wind Offshore/Consents Approved",
          "SHET/Waste/Consents Approved",
          "NGET/Waste/Consents Approved",
          "SHET/Tidal/Consents Approved",
          "SPT/Reactive Compensation/Consents Approved",
          "SHET/Reactive Compensation/Consents Approved",
          "NGET/Demand;Energy Storage System",
          "SHET/Demand;Energy Storage System",
          "SPT/Demand;Energy Storage System",
          "NGET/Demand;Energy Storage System;PV Array (Photo Voltaic/solar)",
          "SPT/Demand;Energy Storage System;PV Array (Photo Voltaic/solar);Reactive Compensation",
          "NGET/Energy Storage System;Reactive Compensation/Consents Approved",
          "SPT/Demand;Energy Storage System;Reactive Compensation",
          "NGET/Demand;PV Array (Photo Voltaic/solar)",
          "SHET/Demand;PV Array (Photo Voltaic/solar)",
          "NGET/Demand;PV Array (Photo Voltaic/solar);Waste",
          "NGET/Demand;Wind Offshore",
          "NGET/Nuclear/Scoping",
          "SHET/Demand;Wind Onshore",
          "NGET/CCGT (Combined Cycle Gas Turbine);Energy Storage System;OCGT (Open Cycle Gas Turbine)/Consents Approved",
          "NGET/Energy Storage System",
          "NGET/Wind Offshore/Under Construction/Commissioning",
          "NGET/Energy Storage System;Hydro;Nuclear;PV Array (Photo Voltaic/solar);Wind Onshore",
          "NGET/OCGT (Open Cycle Gas Turbine)/Under Construction/Commissioning",
          "NGET/Nuclear/Under Construction/Commissioning",
          "NGET/Gas Reciprocating/Scoping",
          "NGET/PV Array (Photo Voltaic/solar)/Scoping",
          "NGET/Reactive Compensation/Scoping",
          "SPT/Reactive Compensation/Scoping",
          "NGET/Thermal/Scoping",
          "NGET/Energy Storage System;Reactive Compensation/Scoping",
          "NGET/Tidal/Scoping",
          "SHET",
          "SHET/Tidal/Scoping",
          "NGET/Wind Offshore/Scoping",
          "SHET/Wind Offshore/Scoping",
          "NGET/Energy Storage System;PV Array (Photo Voltaic/solar);Reactive Compensation/Scoping",
          "SPT/Energy Storage System;PV Array (Photo Voltaic/solar)/Scoping",
          "SHET/Energy Storage System;PV Array (Photo Voltaic/solar)/Scoping",
          "NGET/Energy Storage System;PV Array (Photo Voltaic/solar)/Scoping",
          "SHET/Wind Onshore/Scoping",
          "SPT/Wind Onshore/Scoping",
          "NGET/CCGT (Combined Cycle Gas Turbine)/Under Construction/Commissioning",
          "SHET/Energy Storage System/Scoping",
          "NGET/CHP (Combined Heat and Power)/Under Construction/Commissioning",
          "SHET/Demand;Wind Onshore/Scoping",
          "NGET/Demand;Wind Offshore/Scoping",
          "SHET/Demand;PV Array (Photo Voltaic/solar)/Scoping",
          "NGET/Demand;PV Array (Photo Voltaic/solar)/Scoping",
          "NGET/Energy Storage System/Under Construction/Commissioning",
          "NGET/Energy Storage System;OCGT (Open Cycle Gas Turbine)/Under Construction/Commissioning",
          "NGET/Energy Storage System;PV Array (Photo Voltaic/solar)/Under Construction/Commissioning",
          "SPT/Demand;Energy Storage System/Scoping",
          "NGET/Energy Storage System;Nuclear;PV Array (Photo Voltaic/solar);Reactive Compensation;Wind Onshore",
          "SHET/Demand;Wind Offshore",
          "NGET/Energy Storage System;PV Array (Photo Voltaic/solar)",
          "SHET/Hydro",
          "NGET/CCGT (Combined Cycle Gas Turbine);Reactive Compensation/Built",
          "NGET/Nuclear",
          "SPT/Nuclear",
          "NGET/OCGT (Open Cycle Gas Turbine)",
          "NGET/Oil & AGT (Advanced Gas Turbine)",
          "NGET/PV Array (Photo Voltaic/solar)",
          "SHET/PV Array (Photo Voltaic/solar)",
          "SHET/Pump Storage",
          "SPT/Pump Storage",
          "NGET/Reactive Compensation",
          "SHET/Tidal/Awaiting Consents",
          "NGET/CHP (Combined Heat and Power);Energy Storage System/Built",
          "NGET/Thermal",
          "SHET/Waste",
          "NGET/Wind Offshore",
          "OFTO/Wind Offshore",
          "SHET/Wind Offshore",
          "NGET/Energy Storage System;PV Array (Photo Voltaic/solar);Wind Onshore/Awaiting Consents",
          "NGET/Energy Storage System;PV Array (Photo Voltaic/solar);Reactive Compensation/Awaiting Consents",
          "SHET/Energy Storage System;PV Array (Photo Voltaic/solar)/Awaiting Consents",
          "NGET/Energy Storage System;PV Array (Photo Voltaic/solar)/Awaiting Consents",
          "SHET/Wind Onshore",
          "NGET/Demand;Energy Storage System;PV Array (Photo Voltaic/solar);Reactive Compensation/Awaiting Consents",
          "OFTO",
          "NGET/CCGT (Combined Cycle Gas Turbine);Energy Storage System;OCGT (Open Cycle Gas Turbine)/Awaiting Consents",
          "NGET/Waste",
          "NGET/Coal/Built",
          "NGET/CHP (Combined Heat and Power)/Built",
          "NGET/Gas Reciprocating",
          "SHET/Wind Offshore/Built",
          "SHET/Energy Storage System;PV Array (Photo Voltaic/solar)",
          "SPT/Energy Storage System;PV Array (Photo Voltaic/solar)",
          "NGET/Thermal/Built",
          "NGET/Energy Storage System;PV Array (Photo Voltaic/solar);Reactive Compensation",
          "NGET/Energy Storage System;PV Array (Photo Voltaic/solar);Reactive Compensation;Wind Onshore",
          "NGET/Energy Storage System;PV Array (Photo Voltaic/solar);Wind Offshore",
          "NGET/Pump Storage/Built",
          "NGET/PV Array (Photo Voltaic/solar)/Built",
          "NGET/Oil & AGT (Advanced Gas Turbine)/Built",
          "NGET/Hydro",
          "NGET/Hydro/Built",
          "NGET/Gas Reciprocating/Built",
          "SHET/Hydro/Built",
          "NGET/Energy Storage System;Wind Onshore",
          "SPT/Energy Storage System;Wind Onshore",
          "SHET/Energy Storage System;Wind Onshore",
          "SHET/Energy Storage System;Wind Onshore/Built",
          "NGET/Energy Storage System;OCGT (Open Cycle Gas Turbine)/Built",
          "NGET/Energy Storage System;Wind Offshore",
          "NGET/OCGT (Open Cycle Gas Turbine)/Scoping",
          "NGET/Energy Storage System;Wind Offshore/Built",
          "SPT/Energy Storage System;Reactive Compensation",
          "SHET/Demand;Wind Offshore/Scoping",
          "NGET/CCGT (Combined Cycle Gas Turbine);Reactive Compensation",
          "NGET/CCGT (Combined Cycle Gas Turbine)",
          "SHET/PV Array (Photo Voltaic/solar)/Scoping",
          "SPT/PV Array (Photo Voltaic/solar)/Scoping",
          "SPT/Wind Onshore/Under Construction/Commissioning",
          "NGET",
          "SPT/Wind Offshore/Under Construction/Commissioning",
          "SPT/Wind Offshore",
          "NGET/Wind Onshore/Scoping",
          "SPT/CHP (Combined Heat and Power)",
          "SHET/Reactive Compensation",
          "SPT/Reactive Compensation",
          "NGET/Energy Storage System;PV Array (Photo Voltaic/solar);Wind Onshore",
          "SPT/Energy Storage System;PV Array (Photo Voltaic/solar);Wind Onshore",
          "NGET/Energy Storage System;Reactive Compensation",
          "SPT/Wind Offshore/Scoping",
          "NGET/Energy Storage System;Nuclear;PV Array (Photo Voltaic/solar);Wind Onshore",
          "NGET/CHP (Combined Heat and Power);Energy Storage System",
          "NGET/CCGT (Combined Cycle Gas Turbine)/Awaiting Consents",
          "SHET/Energy Storage System;PV Array (Photo Voltaic/solar);Wind Onshore/Scoping",
          "NGET/PV Array (Photo Voltaic/solar)/Awaiting Consents",
          "NGET/CCGT (Combined Cycle Gas Turbine);Energy Storage System/Scoping",
          "SPT/Wind Onshore/Awaiting Consents",
          "SHET/CCGT (Combined Cycle Gas Turbine)/Scoping",
          "SPT/Wind Onshore/Consents Approved",
          "NGET/Reactive Compensation/Consents Approved",
          "NGET/CCGT (Combined Cycle Gas Turbine);Energy Storage System/Built",
          "SPT/Energy Storage System;PV Array (Photo Voltaic/solar)/Consents Approved",
          "SHET/Energy Storage System;PV Array (Photo Voltaic/solar)/Consents Approved",
          "NGET/Coal/Scoping",
          "SHET/Energy Storage System/Built",
          "NGET/Energy Storage System/Consents Approved",
          "NGET/Energy Storage System;Gas Reciprocating/Built",
          "NGET/Energy Storage System;PV Array (Photo Voltaic/solar)/Built",
          "NGET/Nuclear/Built",
          "SPT/Nuclear/Built",
          "SHET/Wind Onshore/Built",
          "NGET/OCGT (Open Cycle Gas Turbine)/Built",
          "OFTO/Wind Offshore/Built",
          "NGET/Wind Offshore/Built",
          "SPT/Energy Storage System/Built",
          "NGET/Demand;Energy Storage System/Scoping",
          "NGET/CCGT (Combined Cycle Gas Turbine);Demand;Energy Storage System/Scoping",
          "NGET/Energy Storage System;Nuclear;PV Array (Photo Voltaic/solar);Reactive Compensation;Wind Onshore/Scoping",
          "SHET/Demand;Energy Storage System/Awaiting Consents",
          "NGET/Energy Storage System/Awaiting Consents",
          "SPT/Energy Storage System/Awaiting Consents",
          "NGET/Energy Storage System;Nuclear;PV Array (Photo Voltaic/solar);Reactive Compensation;Wind Onshore/Awaiting Consents",
          "SPT/Energy Storage System;PV Array (Photo Voltaic/solar);Wind Onshore/Awaiting Consents",
          "NGET/Energy Storage System;Reactive Compensation/Awaiting Consents",
          "SPT/Energy Storage System;PV Array (Photo Voltaic/solar);Wind Onshore/Scoping",
          "NGET/Energy Storage System;PV Array (Photo Voltaic/solar);Wind Onshore/Scoping",
          "NGET/Energy Storage System;PV Array (Photo Voltaic/solar);Wind Offshore/Scoping",
          "NGET/Energy Storage System;PV Array (Photo Voltaic/solar);Reactive Compensation;Wind Onshore/Scoping",
          "NGET/Energy Storage System;Nuclear;PV Array (Photo Voltaic/solar);Wind Onshore/Scoping",
          "SHET/Demand;Energy Storage System/Scoping",
          "NGET/Energy Storage System;Hydro;Nuclear;PV Array (Photo Voltaic/solar);Wind Onshore/Scoping",
          "SPT/Pump Storage/Built",
          "NGET/Energy Storage System/Scoping",
          "NGET/Nuclear/Awaiting Consents",
          "NGET/Energy Storage System;Gas Reciprocating/Scoping",
          "SHET/Energy Storage System;Wind Onshore/Awaiting Consents",
          "SPT/Energy Storage System;Wind Onshore/Awaiting Consents",
          "SHET/Tidal",
          "SPT/Wind Onshore",
          "SHET/Energy Storage System;PV Array (Photo Voltaic/solar);Wind Onshore",
          "NGET/Waste/Awaiting Consents",
          "NGET/Wind Onshore",
          "NGET/Wind Offshore/Awaiting Consents",
          "SHET/Energy Storage System;Reactive Compensation",
          "SHET/Energy Storage System;Reactive Compensation/Built",
          "NGET/Wind Onshore/Awaiting Consents",
          "NGET/PV Array (Photo Voltaic/solar);Wind Onshore",
          "SPT/PV Array (Photo Voltaic/solar)",
          "SHET/Pump Storage/Built",
          "NGET/Energy Storage System/Built",
          "NGET/Demand;PV Array (Photo Voltaic/solar);Waste/Built",
          "NGET/Pump Storage",
          "SPT/CHP (Combined Heat and Power)/Built",
          "SPT/CCGT (Combined Cycle Gas Turbine)/Built",
          "SHET/CCGT (Combined Cycle Gas Turbine)/Built",
          "NGET/CCGT (Combined Cycle Gas Turbine)/Built",
          "SPT/Biomass/Built",
          "NGET/Biomass/Built",
          "SHET/Wind Onshore/Awaiting Consents",
          "NGET/Tidal",
          "SHET/Energy Storage System;Wind Onshore/Scoping",
          "NGET/Wind Onshore/Built",
          "SPT/CCGT (Combined Cycle Gas Turbine)",
          "SHET/CCGT (Combined Cycle Gas Turbine)",
          "SPT/Biomass",
          "NGET/Biomass",
          "NGET/CCGT (Combined Cycle Gas Turbine);Energy Storage System;OCGT (Open Cycle Gas Turbine)/Scoping",
          "NGET/Demand;Energy Storage System;PV Array (Photo Voltaic/solar)/Scoping",
          "NGET/Demand;Energy Storage System;PV Array (Photo Voltaic/solar);Reactive Compensation/Scoping",
          "SPT/Demand;Energy Storage System;PV Array (Photo Voltaic/solar);Reactive Compensation/Scoping",
          "NGET/CCGT (Combined Cycle Gas Turbine);Demand",
          "SPT/Demand;Energy Storage System;Reactive Compensation/Scoping",
          "SHET/Energy Storage System;Reactive Compensation/Scoping",
          "SPT/Energy Storage System;Reactive Compensation/Scoping",
          "SHET/Reactive Compensation/Scoping",
          "NGET/Energy Storage System;Wind Offshore/Scoping",
          "SPT/Pump Storage/Scoping",
          "SHET/Pump Storage/Scoping",
          "NGET/PV Array (Photo Voltaic/solar);Wind Onshore/Scoping",
          "NGET/Energy Storage System;Wind Onshore/Scoping",
          "SPT/Energy Storage System/Scoping",
          "NGET/Reactive Compensation/Built",
          "NGET/CCGT (Combined Cycle Gas Turbine)/Scoping",
          "SPT/Wind Offshore/Consents Approved",
          "NGET/Energy Storage System;OCGT (Open Cycle Gas Turbine)",
          "SPT/Wind Onshore/Built",
          "NGET/Biomass/Consents Approved",
          "NGET/Energy Storage System;Gas Reciprocating",
          "SPT/Energy Storage System",
          "SPT/Energy Storage System;Wind Onshore/Scoping",
          "NGET/CCGT (Combined Cycle Gas Turbine)/Consents Approved",
          "SHET/Energy Storage System/Consents Approved",
          "SHET/Wind Onshore/Consents Approved",
          "SPT/Energy Storage System/Consents Approved",
          "NGET/Energy Storage System;PV Array (Photo Voltaic/solar)/Consents Approved",
          "SHET/Energy Storage System;Reactive Compensation/Consents Approved",
          "NGET/Demand;Energy Storage System;PV Array (Photo Voltaic/solar);Reactive Compensation",
          "NGET/Energy Storage System;Wind Offshore/Consents Approved",
          "NGET/Gas Reciprocating/Consents Approved",
          "SHET/Pump Storage/Consents Approved",
          "SPT/Pump Storage/Consents Approved",
          "NGET/Coal",
          "NGET/Energy Storage System;OCGT (Open Cycle Gas Turbine)/Consents Approved",
          "SHET/Energy Storage System"
         ],
         "labels": [
          "SPT",
          "CCGT (Combined Cycle Gas Turbine);Demand;Energy Storage System",
          "Scoping",
          "CCGT (Combined Cycle Gas Turbine);Energy Storage System",
          "CCGT (Combined Cycle Gas Turbine);Energy Storage System;OCGT (Open Cycle Gas Turbine)",
          "CHP (Combined Heat and Power)",
          "Consents Approved",
          "Consents Approved",
          "Consents Approved",
          "Consents Approved",
          "Consents Approved",
          "Consents Approved",
          "Consents Approved",
          "Demand;Energy Storage System",
          "Demand;Energy Storage System",
          "Demand;Energy Storage System",
          "Demand;Energy Storage System;PV Array (Photo Voltaic/solar)",
          "Demand;Energy Storage System;PV Array (Photo Voltaic/solar);Reactive Compensation",
          "Consents Approved",
          "Demand;Energy Storage System;Reactive Compensation",
          "Demand;PV Array (Photo Voltaic/solar)",
          "Demand;PV Array (Photo Voltaic/solar)",
          "Demand;PV Array (Photo Voltaic/solar);Waste",
          "Demand;Wind Offshore",
          "Scoping",
          "Demand;Wind Onshore",
          "Consents Approved",
          "Energy Storage System",
          "Under Construction/Commissioning",
          "Energy Storage System;Hydro;Nuclear;PV Array (Photo Voltaic/solar);Wind Onshore",
          "Under Construction/Commissioning",
          "Under Construction/Commissioning",
          "Scoping",
          "Scoping",
          "Scoping",
          "Scoping",
          "Scoping",
          "Scoping",
          "Scoping",
          "SHET",
          "Scoping",
          "Scoping",
          "Scoping",
          "Scoping",
          "Scoping",
          "Scoping",
          "Scoping",
          "Scoping",
          "Scoping",
          "Under Construction/Commissioning",
          "Scoping",
          "Under Construction/Commissioning",
          "Scoping",
          "Scoping",
          "Scoping",
          "Scoping",
          "Under Construction/Commissioning",
          "Under Construction/Commissioning",
          "Under Construction/Commissioning",
          "Scoping",
          "Energy Storage System;Nuclear;PV Array (Photo Voltaic/solar);Reactive Compensation;Wind Onshore",
          "Demand;Wind Offshore",
          "Energy Storage System;PV Array (Photo Voltaic/solar)",
          "Hydro",
          "Built",
          "Nuclear",
          "Nuclear",
          "OCGT (Open Cycle Gas Turbine)",
          "Oil & AGT (Advanced Gas Turbine)",
          "PV Array (Photo Voltaic/solar)",
          "PV Array (Photo Voltaic/solar)",
          "Pump Storage",
          "Pump Storage",
          "Reactive Compensation",
          "Awaiting Consents",
          "Built",
          "Thermal",
          "Waste",
          "Wind Offshore",
          "Wind Offshore",
          "Wind Offshore",
          "Awaiting Consents",
          "Awaiting Consents",
          "Awaiting Consents",
          "Awaiting Consents",
          "Wind Onshore",
          "Awaiting Consents",
          "OFTO",
          "Awaiting Consents",
          "Waste",
          "Built",
          "Built",
          "Gas Reciprocating",
          "Built",
          "Energy Storage System;PV Array (Photo Voltaic/solar)",
          "Energy Storage System;PV Array (Photo Voltaic/solar)",
          "Built",
          "Energy Storage System;PV Array (Photo Voltaic/solar);Reactive Compensation",
          "Energy Storage System;PV Array (Photo Voltaic/solar);Reactive Compensation;Wind Onshore",
          "Energy Storage System;PV Array (Photo Voltaic/solar);Wind Offshore",
          "Built",
          "Built",
          "Built",
          "Hydro",
          "Built",
          "Built",
          "Built",
          "Energy Storage System;Wind Onshore",
          "Energy Storage System;Wind Onshore",
          "Energy Storage System;Wind Onshore",
          "Built",
          "Built",
          "Energy Storage System;Wind Offshore",
          "Scoping",
          "Built",
          "Energy Storage System;Reactive Compensation",
          "Scoping",
          "CCGT (Combined Cycle Gas Turbine);Reactive Compensation",
          "CCGT (Combined Cycle Gas Turbine)",
          "Scoping",
          "Scoping",
          "Under Construction/Commissioning",
          "NGET",
          "Under Construction/Commissioning",
          "Wind Offshore",
          "Scoping",
          "CHP (Combined Heat and Power)",
          "Reactive Compensation",
          "Reactive Compensation",
          "Energy Storage System;PV Array (Photo Voltaic/solar);Wind Onshore",
          "Energy Storage System;PV Array (Photo Voltaic/solar);Wind Onshore",
          "Energy Storage System;Reactive Compensation",
          "Scoping",
          "Energy Storage System;Nuclear;PV Array (Photo Voltaic/solar);Wind Onshore",
          "CHP (Combined Heat and Power);Energy Storage System",
          "Awaiting Consents",
          "Scoping",
          "Awaiting Consents",
          "Scoping",
          "Awaiting Consents",
          "Scoping",
          "Consents Approved",
          "Consents Approved",
          "Built",
          "Consents Approved",
          "Consents Approved",
          "Scoping",
          "Built",
          "Consents Approved",
          "Built",
          "Built",
          "Built",
          "Built",
          "Built",
          "Built",
          "Built",
          "Built",
          "Built",
          "Scoping",
          "Scoping",
          "Scoping",
          "Awaiting Consents",
          "Awaiting Consents",
          "Awaiting Consents",
          "Awaiting Consents",
          "Awaiting Consents",
          "Awaiting Consents",
          "Scoping",
          "Scoping",
          "Scoping",
          "Scoping",
          "Scoping",
          "Scoping",
          "Scoping",
          "Built",
          "Scoping",
          "Awaiting Consents",
          "Scoping",
          "Awaiting Consents",
          "Awaiting Consents",
          "Tidal",
          "Wind Onshore",
          "Energy Storage System;PV Array (Photo Voltaic/solar);Wind Onshore",
          "Awaiting Consents",
          "Wind Onshore",
          "Awaiting Consents",
          "Energy Storage System;Reactive Compensation",
          "Built",
          "Awaiting Consents",
          "PV Array (Photo Voltaic/solar);Wind Onshore",
          "PV Array (Photo Voltaic/solar)",
          "Built",
          "Built",
          "Built",
          "Pump Storage",
          "Built",
          "Built",
          "Built",
          "Built",
          "Built",
          "Built",
          "Awaiting Consents",
          "Tidal",
          "Scoping",
          "Built",
          "CCGT (Combined Cycle Gas Turbine)",
          "CCGT (Combined Cycle Gas Turbine)",
          "Biomass",
          "Biomass",
          "Scoping",
          "Scoping",
          "Scoping",
          "Scoping",
          "CCGT (Combined Cycle Gas Turbine);Demand",
          "Scoping",
          "Scoping",
          "Scoping",
          "Scoping",
          "Scoping",
          "Scoping",
          "Scoping",
          "Scoping",
          "Scoping",
          "Scoping",
          "Built",
          "Scoping",
          "Consents Approved",
          "Energy Storage System;OCGT (Open Cycle Gas Turbine)",
          "Built",
          "Consents Approved",
          "Energy Storage System;Gas Reciprocating",
          "Energy Storage System",
          "Scoping",
          "Consents Approved",
          "Consents Approved",
          "Consents Approved",
          "Consents Approved",
          "Consents Approved",
          "Consents Approved",
          "Demand;Energy Storage System;PV Array (Photo Voltaic/solar);Reactive Compensation",
          "Consents Approved",
          "Consents Approved",
          "Consents Approved",
          "Consents Approved",
          "Coal",
          "Consents Approved",
          "Energy Storage System"
         ],
         "marker": {
          "colors": [
           "#800080",
           "#2B5D18",
           "#2B5D18",
           "#2B5D18",
           "#2B5D18",
           "#2B5D18",
           "#FFD700",
           "#2B5D18",
           "#FFD700",
           "#2B5D18",
           "#FFD700",
           "#800080",
           "#FFD700",
           "#2B5D18",
           "#FFD700",
           "#800080",
           "#2B5D18",
           "#800080",
           "#2B5D18",
           "#800080",
           "#2B5D18",
           "#FFD700",
           "#2B5D18",
           "#2B5D18",
           "#2B5D18",
           "#FFD700",
           "#2B5D18",
           "#2B5D18",
           "#2B5D18",
           "#2B5D18",
           "#2B5D18",
           "#2B5D18",
           "#2B5D18",
           "#2B5D18",
           "#2B5D18",
           "#800080",
           "#2B5D18",
           "#2B5D18",
           "#2B5D18",
           "#FFD700",
           "#FFD700",
           "#2B5D18",
           "#FFD700",
           "#2B5D18",
           "#800080",
           "#FFD700",
           "#2B5D18",
           "#FFD700",
           "#800080",
           "#2B5D18",
           "#FFD700",
           "#2B5D18",
           "#FFD700",
           "#2B5D18",
           "#FFD700",
           "#2B5D18",
           "#2B5D18",
           "#2B5D18",
           "#2B5D18",
           "#800080",
           "#2B5D18",
           "#FFD700",
           "#2B5D18",
           "#FFD700",
           "#2B5D18",
           "#2B5D18",
           "#800080",
           "#2B5D18",
           "#2B5D18",
           "#2B5D18",
           "#FFD700",
           "#FFD700",
           "#800080",
           "#2B5D18",
           "#FFD700",
           "#2B5D18",
           "#2B5D18",
           "#FFD700",
           "#2B5D18",
           "#2CFF05",
           "#FFD700",
           "#2B5D18",
           "#2B5D18",
           "#FFD700",
           "#2B5D18",
           "#FFD700",
           "#2B5D18",
           "#2CFF05",
           "#2B5D18",
           "#2B5D18",
           "#2B5D18",
           "#2B5D18",
           "#2B5D18",
           "#FFD700",
           "#FFD700",
           "#800080",
           "#2B5D18",
           "#2B5D18",
           "#2B5D18",
           "#2B5D18",
           "#2B5D18",
           "#2B5D18",
           "#2B5D18",
           "#2B5D18",
           "#2B5D18",
           "#2B5D18",
           "#FFD700",
           "#2B5D18",
           "#800080",
           "#FFD700",
           "#FFD700",
           "#2B5D18",
           "#2B5D18",
           "#2B5D18",
           "#2B5D18",
           "#800080",
           "#FFD700",
           "#2B5D18",
           "#2B5D18",
           "#FFD700",
           "#800080",
           "#800080",
           "#2B5D18",
           "#800080",
           "#800080",
           "#2B5D18",
           "#800080",
           "#FFD700",
           "#800080",
           "#2B5D18",
           "#800080",
           "#2B5D18",
           "#800080",
           "#2B5D18",
           "#2B5D18",
           "#2B5D18",
           "#FFD700",
           "#2B5D18",
           "#2B5D18",
           "#800080",
           "#FFD700",
           "#800080",
           "#2B5D18",
           "#2B5D18",
           "#800080",
           "#FFD700",
           "#2B5D18",
           "#FFD700",
           "#2B5D18",
           "#2B5D18",
           "#2B5D18",
           "#2B5D18",
           "#800080",
           "#FFD700",
           "#2B5D18",
           "#2CFF05",
           "#2B5D18",
           "#800080",
           "#2B5D18",
           "#2B5D18",
           "#2B5D18",
           "#FFD700",
           "#2B5D18",
           "#800080",
           "#2B5D18",
           "#800080",
           "#2B5D18",
           "#800080",
           "#2B5D18",
           "#2B5D18",
           "#2B5D18",
           "#2B5D18",
           "#FFD700",
           "#2B5D18",
           "#800080",
           "#2B5D18",
           "#2B5D18",
           "#2B5D18",
           "#FFD700",
           "#800080",
           "#FFD700",
           "#800080",
           "#FFD700",
           "#2B5D18",
           "#2B5D18",
           "#2B5D18",
           "#FFD700",
           "#FFD700",
           "#2B5D18",
           "#2B5D18",
           "#800080",
           "#FFD700",
           "#2B5D18",
           "#2B5D18",
           "#2B5D18",
           "#800080",
           "#800080",
           "#FFD700",
           "#2B5D18",
           "#800080",
           "#2B5D18",
           "#FFD700",
           "#2B5D18",
           "#FFD700",
           "#2B5D18",
           "#800080",
           "#FFD700",
           "#800080",
           "#2B5D18",
           "#2B5D18",
           "#2B5D18",
           "#2B5D18",
           "#800080",
           "#2B5D18",
           "#800080",
           "#FFD700",
           "#800080",
           "#FFD700",
           "#2B5D18",
           "#800080",
           "#FFD700",
           "#2B5D18",
           "#2B5D18",
           "#800080",
           "#2B5D18",
           "#2B5D18",
           "#800080",
           "#2B5D18",
           "#800080",
           "#2B5D18",
           "#2B5D18",
           "#800080",
           "#800080",
           "#2B5D18",
           "#FFD700",
           "#FFD700",
           "#800080",
           "#2B5D18",
           "#FFD700",
           "#2B5D18",
           "#2B5D18",
           "#2B5D18",
           "#FFD700",
           "#800080",
           "#2B5D18",
           "#2B5D18",
           "#FFD700"
          ]
         },
         "name": "",
         "parents": [
          "",
          "NGET",
          "NGET/CCGT (Combined Cycle Gas Turbine);Demand",
          "NGET",
          "NGET",
          "NGET",
          "SHET/Wind Offshore",
          "NGET/Wind Offshore",
          "SHET/Waste",
          "NGET/Waste",
          "SHET/Tidal",
          "SPT/Reactive Compensation",
          "SHET/Reactive Compensation",
          "NGET",
          "SHET",
          "SPT",
          "NGET",
          "SPT",
          "NGET/Energy Storage System;Reactive Compensation",
          "SPT",
          "NGET",
          "SHET",
          "NGET",
          "NGET",
          "NGET/Nuclear",
          "SHET",
          "NGET/CCGT (Combined Cycle Gas Turbine);Energy Storage System;OCGT (Open Cycle Gas Turbine)",
          "NGET",
          "NGET/Wind Offshore",
          "NGET",
          "NGET/OCGT (Open Cycle Gas Turbine)",
          "NGET/Nuclear",
          "NGET/Gas Reciprocating",
          "NGET/PV Array (Photo Voltaic/solar)",
          "NGET/Reactive Compensation",
          "SPT/Reactive Compensation",
          "NGET/Thermal",
          "NGET/Energy Storage System;Reactive Compensation",
          "NGET/Tidal",
          "",
          "SHET/Tidal",
          "NGET/Wind Offshore",
          "SHET/Wind Offshore",
          "NGET/Energy Storage System;PV Array (Photo Voltaic/solar);Reactive Compensation",
          "SPT/Energy Storage System;PV Array (Photo Voltaic/solar)",
          "SHET/Energy Storage System;PV Array (Photo Voltaic/solar)",
          "NGET/Energy Storage System;PV Array (Photo Voltaic/solar)",
          "SHET/Wind Onshore",
          "SPT/Wind Onshore",
          "NGET/CCGT (Combined Cycle Gas Turbine)",
          "SHET/Energy Storage System",
          "NGET/CHP (Combined Heat and Power)",
          "SHET/Demand;Wind Onshore",
          "NGET/Demand;Wind Offshore",
          "SHET/Demand;PV Array (Photo Voltaic/solar)",
          "NGET/Demand;PV Array (Photo Voltaic/solar)",
          "NGET/Energy Storage System",
          "NGET/Energy Storage System;OCGT (Open Cycle Gas Turbine)",
          "NGET/Energy Storage System;PV Array (Photo Voltaic/solar)",
          "SPT/Demand;Energy Storage System",
          "NGET",
          "SHET",
          "NGET",
          "SHET",
          "NGET/CCGT (Combined Cycle Gas Turbine);Reactive Compensation",
          "NGET",
          "SPT",
          "NGET",
          "NGET",
          "NGET",
          "SHET",
          "SHET",
          "SPT",
          "NGET",
          "SHET/Tidal",
          "NGET/CHP (Combined Heat and Power);Energy Storage System",
          "NGET",
          "SHET",
          "NGET",
          "OFTO",
          "SHET",
          "NGET/Energy Storage System;PV Array (Photo Voltaic/solar);Wind Onshore",
          "NGET/Energy Storage System;PV Array (Photo Voltaic/solar);Reactive Compensation",
          "SHET/Energy Storage System;PV Array (Photo Voltaic/solar)",
          "NGET/Energy Storage System;PV Array (Photo Voltaic/solar)",
          "SHET",
          "NGET/Demand;Energy Storage System;PV Array (Photo Voltaic/solar);Reactive Compensation",
          "",
          "NGET/CCGT (Combined Cycle Gas Turbine);Energy Storage System;OCGT (Open Cycle Gas Turbine)",
          "NGET",
          "NGET/Coal",
          "NGET/CHP (Combined Heat and Power)",
          "NGET",
          "SHET/Wind Offshore",
          "SHET",
          "SPT",
          "NGET/Thermal",
          "NGET",
          "NGET",
          "NGET",
          "NGET/Pump Storage",
          "NGET/PV Array (Photo Voltaic/solar)",
          "NGET/Oil & AGT (Advanced Gas Turbine)",
          "NGET",
          "NGET/Hydro",
          "NGET/Gas Reciprocating",
          "SHET/Hydro",
          "NGET",
          "SPT",
          "SHET",
          "SHET/Energy Storage System;Wind Onshore",
          "NGET/Energy Storage System;OCGT (Open Cycle Gas Turbine)",
          "NGET",
          "NGET/OCGT (Open Cycle Gas Turbine)",
          "NGET/Energy Storage System;Wind Offshore",
          "SPT",
          "SHET/Demand;Wind Offshore",
          "NGET",
          "NGET",
          "SHET/PV Array (Photo Voltaic/solar)",
          "SPT/PV Array (Photo Voltaic/solar)",
          "SPT/Wind Onshore",
          "",
          "SPT/Wind Offshore",
          "SPT",
          "NGET/Wind Onshore",
          "SPT",
          "SHET",
          "SPT",
          "NGET",
          "SPT",
          "NGET",
          "SPT/Wind Offshore",
          "NGET",
          "NGET",
          "NGET/CCGT (Combined Cycle Gas Turbine)",
          "SHET/Energy Storage System;PV Array (Photo Voltaic/solar);Wind Onshore",
          "NGET/PV Array (Photo Voltaic/solar)",
          "NGET/CCGT (Combined Cycle Gas Turbine);Energy Storage System",
          "SPT/Wind Onshore",
          "SHET/CCGT (Combined Cycle Gas Turbine)",
          "SPT/Wind Onshore",
          "NGET/Reactive Compensation",
          "NGET/CCGT (Combined Cycle Gas Turbine);Energy Storage System",
          "SPT/Energy Storage System;PV Array (Photo Voltaic/solar)",
          "SHET/Energy Storage System;PV Array (Photo Voltaic/solar)",
          "NGET/Coal",
          "SHET/Energy Storage System",
          "NGET/Energy Storage System",
          "NGET/Energy Storage System;Gas Reciprocating",
          "NGET/Energy Storage System;PV Array (Photo Voltaic/solar)",
          "NGET/Nuclear",
          "SPT/Nuclear",
          "SHET/Wind Onshore",
          "NGET/OCGT (Open Cycle Gas Turbine)",
          "OFTO/Wind Offshore",
          "NGET/Wind Offshore",
          "SPT/Energy Storage System",
          "NGET/Demand;Energy Storage System",
          "NGET/CCGT (Combined Cycle Gas Turbine);Demand;Energy Storage System",
          "NGET/Energy Storage System;Nuclear;PV Array (Photo Voltaic/solar);Reactive Compensation;Wind Onshore",
          "SHET/Demand;Energy Storage System",
          "NGET/Energy Storage System",
          "SPT/Energy Storage System",
          "NGET/Energy Storage System;Nuclear;PV Array (Photo Voltaic/solar);Reactive Compensation;Wind Onshore",
          "SPT/Energy Storage System;PV Array (Photo Voltaic/solar);Wind Onshore",
          "NGET/Energy Storage System;Reactive Compensation",
          "SPT/Energy Storage System;PV Array (Photo Voltaic/solar);Wind Onshore",
          "NGET/Energy Storage System;PV Array (Photo Voltaic/solar);Wind Onshore",
          "NGET/Energy Storage System;PV Array (Photo Voltaic/solar);Wind Offshore",
          "NGET/Energy Storage System;PV Array (Photo Voltaic/solar);Reactive Compensation;Wind Onshore",
          "NGET/Energy Storage System;Nuclear;PV Array (Photo Voltaic/solar);Wind Onshore",
          "SHET/Demand;Energy Storage System",
          "NGET/Energy Storage System;Hydro;Nuclear;PV Array (Photo Voltaic/solar);Wind Onshore",
          "SPT/Pump Storage",
          "NGET/Energy Storage System",
          "NGET/Nuclear",
          "NGET/Energy Storage System;Gas Reciprocating",
          "SHET/Energy Storage System;Wind Onshore",
          "SPT/Energy Storage System;Wind Onshore",
          "SHET",
          "SPT",
          "SHET",
          "NGET/Waste",
          "NGET",
          "NGET/Wind Offshore",
          "SHET",
          "SHET/Energy Storage System;Reactive Compensation",
          "NGET/Wind Onshore",
          "NGET",
          "SPT",
          "SHET/Pump Storage",
          "NGET/Energy Storage System",
          "NGET/Demand;PV Array (Photo Voltaic/solar);Waste",
          "NGET",
          "SPT/CHP (Combined Heat and Power)",
          "SPT/CCGT (Combined Cycle Gas Turbine)",
          "SHET/CCGT (Combined Cycle Gas Turbine)",
          "NGET/CCGT (Combined Cycle Gas Turbine)",
          "SPT/Biomass",
          "NGET/Biomass",
          "SHET/Wind Onshore",
          "NGET",
          "SHET/Energy Storage System;Wind Onshore",
          "NGET/Wind Onshore",
          "SPT",
          "SHET",
          "SPT",
          "NGET",
          "NGET/CCGT (Combined Cycle Gas Turbine);Energy Storage System;OCGT (Open Cycle Gas Turbine)",
          "NGET/Demand;Energy Storage System;PV Array (Photo Voltaic/solar)",
          "NGET/Demand;Energy Storage System;PV Array (Photo Voltaic/solar);Reactive Compensation",
          "SPT/Demand;Energy Storage System;PV Array (Photo Voltaic/solar);Reactive Compensation",
          "NGET",
          "SPT/Demand;Energy Storage System;Reactive Compensation",
          "SHET/Energy Storage System;Reactive Compensation",
          "SPT/Energy Storage System;Reactive Compensation",
          "SHET/Reactive Compensation",
          "NGET/Energy Storage System;Wind Offshore",
          "SPT/Pump Storage",
          "SHET/Pump Storage",
          "NGET/PV Array (Photo Voltaic/solar);Wind Onshore",
          "NGET/Energy Storage System;Wind Onshore",
          "SPT/Energy Storage System",
          "NGET/Reactive Compensation",
          "NGET/CCGT (Combined Cycle Gas Turbine)",
          "SPT/Wind Offshore",
          "NGET",
          "SPT/Wind Onshore",
          "NGET/Biomass",
          "NGET",
          "SPT",
          "SPT/Energy Storage System;Wind Onshore",
          "NGET/CCGT (Combined Cycle Gas Turbine)",
          "SHET/Energy Storage System",
          "SHET/Wind Onshore",
          "SPT/Energy Storage System",
          "NGET/Energy Storage System;PV Array (Photo Voltaic/solar)",
          "SHET/Energy Storage System;Reactive Compensation",
          "NGET",
          "NGET/Energy Storage System;Wind Offshore",
          "NGET/Gas Reciprocating",
          "SHET/Pump Storage",
          "SPT/Pump Storage",
          "NGET",
          "NGET/Energy Storage System;OCGT (Open Cycle Gas Turbine)",
          "SHET"
         ],
         "type": "sunburst",
         "values": [
          73226.16,
          21600,
          2406,
          5714,
          7600,
          734.04,
          2485,
          5152,
          40,
          83,
          99,
          0,
          0,
          100,
          847.9,
          1051,
          3132.4,
          150,
          61.9,
          200,
          4000,
          20,
          2021,
          1500,
          940,
          112.2,
          1800,
          86221.795,
          2400,
          1000,
          897,
          5010,
          405.9,
          6372.39,
          1,
          0,
          154.49,
          1208.9,
          590,
          80322.587,
          287,
          64064.25,
          25943,
          1300,
          5518.9,
          4325.287,
          116195.6,
          6496,
          6194.7,
          1260,
          16426.76,
          30,
          112.2,
          1500,
          20,
          4000,
          510.28,
          150,
          449.98,
          1051,
          3000,
          300,
          143319.675,
          872.4,
          1517,
          16821,
          2270,
          2847.9,
          61.5,
          6672.1849999999995,
          142,
          8953,
          1730,
          21,
          391,
          1268,
          299.13,
          40,
          81271.25,
          4338.4,
          30061.1,
          400,
          1025,
          560,
          23697.395,
          11036.35,
          5527,
          4338.4,
          5490,
          132.9,
          2001,
          704.04,
          661.78,
          1633.1,
          4951.277,
          5568.9,
          144.64,
          2325,
          1000,
          2500,
          2004,
          49.9,
          61.5,
          129,
          129,
          106,
          872.4,
          700,
          2395.9,
          2852.7,
          71.4,
          299.99,
          7340,
          500,
          90,
          1000,
          300,
          1517,
          34822,
          142,
          590.7,
          211.5,
          486966.335,
          500,
          11606,
          3984.1,
          120,
          0,
          0,
          7424,
          1663.8,
          1848.7,
          9578,
          4000,
          1268,
          1752,
          50,
          249.89499999999998,
          2000,
          1536.44,
          910,
          1564.63,
          0,
          3714,
          50,
          65.99000000000001,
          50,
          49,
          5456.495,
          19,
          49.9,
          5861,
          2270,
          2537.95,
          1450.9,
          4338.4,
          6655,
          49.95,
          100,
          21600,
          2000,
          100,
          5596.37,
          1084,
          1000,
          400,
          577.9,
          1263.8,
          7024,
          2500,
          1000,
          4000,
          747.9,
          1000,
          440,
          73592.85,
          5010,
          1075,
          309,
          577,
          777,
          13603.12,
          50,
          49.9,
          4311.1,
          3000,
          96,
          0,
          67,
          180,
          590.7,
          300,
          1065.8,
          2021,
          2004,
          120,
          20,
          1180,
          26330,
          55,
          2723,
          273.8,
          590,
          2472.3,
          260,
          20,
          2090,
          55,
          3083,
          310,
          3132.4,
          5400,
          150,
          2406,
          200,
          48,
          1000,
          0,
          2000,
          1080,
          8041,
          180,
          700,
          29886.79,
          20,
          3900,
          1528,
          6714.98,
          4095.85,
          360,
          1094,
          31201.74,
          1818.9,
          1580,
          644.9,
          1728.6,
          181,
          2926.8,
          48,
          10927,
          5250,
          149.88,
          612,
          210,
          2051,
          6264.99,
          17120.66
         ]
        }
       ],
       "layout": {
        "height": 800,
        "legend": {
         "tracegroupgap": 0
        },
        "sunburstcolorway": [
         "#800080",
         "#2B5D18",
         "#FFD700",
         "#2CFF05",
         "#800080",
         "#2B5D18",
         "#FFD700",
         "#2CFF05",
         "#800080",
         "#2B5D18",
         "#FFD700",
         "#2CFF05",
         "#800080",
         "#2B5D18",
         "#FFD700",
         "#2CFF05",
         "#800080",
         "#2B5D18",
         "#FFD700",
         "#2CFF05",
         "#800080",
         "#2B5D18",
         "#FFD700",
         "#2CFF05",
         "#800080",
         "#2B5D18",
         "#FFD700",
         "#2CFF05",
         "#800080",
         "#2B5D18",
         "#FFD700",
         "#2CFF05",
         "#800080",
         "#2B5D18",
         "#FFD700",
         "#2CFF05",
         "#800080",
         "#2B5D18",
         "#FFD700",
         "#2CFF05",
         "#800080",
         "#2B5D18",
         "#FFD700",
         "#2CFF05",
         "#800080",
         "#2B5D18",
         "#FFD700",
         "#2CFF05",
         "#800080",
         "#2B5D18",
         "#FFD700",
         "#2CFF05",
         "#800080",
         "#2B5D18",
         "#FFD700",
         "#2CFF05",
         "#800080",
         "#2B5D18",
         "#FFD700",
         "#2CFF05",
         "#800080",
         "#2B5D18",
         "#FFD700",
         "#2CFF05",
         "#800080",
         "#2B5D18",
         "#FFD700",
         "#2CFF05",
         "#800080",
         "#2B5D18",
         "#FFD700",
         "#2CFF05",
         "#800080",
         "#2B5D18",
         "#FFD700",
         "#2CFF05",
         "#800080",
         "#2B5D18",
         "#FFD700",
         "#2CFF05",
         "#800080",
         "#2B5D18",
         "#FFD700",
         "#2CFF05",
         "#800080",
         "#2B5D18",
         "#FFD700",
         "#2CFF05",
         "#800080",
         "#2B5D18",
         "#FFD700",
         "#2CFF05",
         "#800080",
         "#2B5D18",
         "#FFD700",
         "#2CFF05",
         "#800080",
         "#2B5D18",
         "#FFD700",
         "#2CFF05",
         "#800080",
         "#2B5D18",
         "#FFD700",
         "#2CFF05",
         "#800080",
         "#2B5D18",
         "#FFD700",
         "#2CFF05",
         "#800080",
         "#2B5D18",
         "#FFD700",
         "#2CFF05",
         "#800080",
         "#2B5D18",
         "#FFD700",
         "#2CFF05",
         "#800080",
         "#2B5D18",
         "#FFD700",
         "#2CFF05",
         "#800080",
         "#2B5D18",
         "#FFD700",
         "#2CFF05",
         "#800080",
         "#2B5D18",
         "#FFD700",
         "#2CFF05",
         "#800080",
         "#2B5D18",
         "#FFD700",
         "#2CFF05",
         "#800080",
         "#2B5D18",
         "#FFD700",
         "#2CFF05",
         "#800080",
         "#2B5D18",
         "#FFD700",
         "#2CFF05",
         "#800080",
         "#2B5D18",
         "#FFD700",
         "#2CFF05",
         "#800080",
         "#2B5D18",
         "#FFD700",
         "#2CFF05",
         "#800080",
         "#2B5D18",
         "#FFD700",
         "#2CFF05",
         "#800080",
         "#2B5D18",
         "#FFD700",
         "#2CFF05",
         "#800080",
         "#2B5D18",
         "#FFD700",
         "#2CFF05",
         "#800080",
         "#2B5D18",
         "#FFD700",
         "#2CFF05",
         "#800080",
         "#2B5D18",
         "#FFD700",
         "#2CFF05",
         "#800080",
         "#2B5D18",
         "#FFD700",
         "#2CFF05",
         "#800080",
         "#2B5D18",
         "#FFD700",
         "#2CFF05",
         "#800080",
         "#2B5D18",
         "#FFD700",
         "#2CFF05",
         "#800080",
         "#2B5D18",
         "#FFD700",
         "#2CFF05",
         "#800080",
         "#2B5D18",
         "#FFD700",
         "#2CFF05",
         "#800080",
         "#2B5D18",
         "#FFD700",
         "#2CFF05",
         "#800080",
         "#2B5D18",
         "#FFD700",
         "#2CFF05",
         "#800080",
         "#2B5D18",
         "#FFD700",
         "#2CFF05",
         "#800080",
         "#2B5D18",
         "#FFD700",
         "#2CFF05",
         "#800080",
         "#2B5D18",
         "#FFD700",
         "#2CFF05",
         "#800080",
         "#2B5D18",
         "#FFD700",
         "#2CFF05",
         "#800080",
         "#2B5D18",
         "#FFD700",
         "#2CFF05",
         "#800080",
         "#2B5D18",
         "#FFD700",
         "#2CFF05",
         "#800080",
         "#2B5D18",
         "#FFD700",
         "#2CFF05",
         "#800080",
         "#2B5D18",
         "#FFD700",
         "#2CFF05",
         "#800080",
         "#2B5D18",
         "#FFD700",
         "#2CFF05",
         "#800080",
         "#2B5D18",
         "#FFD700",
         "#2CFF05",
         "#800080",
         "#2B5D18",
         "#FFD700",
         "#2CFF05",
         "#800080",
         "#2B5D18",
         "#FFD700",
         "#2CFF05",
         "#800080",
         "#2B5D18",
         "#FFD700",
         "#2CFF05",
         "#800080",
         "#2B5D18",
         "#FFD700",
         "#2CFF05",
         "#800080",
         "#2B5D18",
         "#FFD700",
         "#2CFF05",
         "#800080",
         "#2B5D18",
         "#FFD700",
         "#2CFF05",
         "#800080",
         "#2B5D18",
         "#FFD700",
         "#2CFF05",
         "#800080",
         "#2B5D18",
         "#FFD700",
         "#2CFF05",
         "#800080",
         "#2B5D18",
         "#FFD700",
         "#2CFF05",
         "#800080",
         "#2B5D18",
         "#FFD700",
         "#2CFF05",
         "#800080",
         "#2B5D18",
         "#FFD700",
         "#2CFF05",
         "#800080",
         "#2B5D18",
         "#FFD700",
         "#2CFF05",
         "#800080",
         "#2B5D18",
         "#FFD700",
         "#2CFF05",
         "#800080",
         "#2B5D18",
         "#FFD700",
         "#2CFF05",
         "#800080",
         "#2B5D18",
         "#FFD700",
         "#2CFF05",
         "#800080",
         "#2B5D18",
         "#FFD700",
         "#2CFF05",
         "#800080",
         "#2B5D18",
         "#FFD700",
         "#2CFF05",
         "#800080",
         "#2B5D18",
         "#FFD700",
         "#2CFF05",
         "#800080",
         "#2B5D18",
         "#FFD700",
         "#2CFF05",
         "#800080",
         "#2B5D18",
         "#FFD700",
         "#2CFF05",
         "#800080",
         "#2B5D18",
         "#FFD700",
         "#2CFF05",
         "#800080",
         "#2B5D18",
         "#FFD700",
         "#2CFF05",
         "#800080",
         "#2B5D18",
         "#FFD700",
         "#2CFF05",
         "#800080",
         "#2B5D18",
         "#FFD700",
         "#2CFF05",
         "#800080",
         "#2B5D18",
         "#FFD700",
         "#2CFF05",
         "#800080",
         "#2B5D18",
         "#FFD700",
         "#2CFF05",
         "#800080",
         "#2B5D18",
         "#FFD700",
         "#2CFF05",
         "#800080",
         "#2B5D18",
         "#FFD700",
         "#2CFF05",
         "#800080",
         "#2B5D18",
         "#FFD700",
         "#2CFF05",
         "#800080",
         "#2B5D18",
         "#FFD700",
         "#2CFF05",
         "#800080",
         "#2B5D18",
         "#FFD700",
         "#2CFF05",
         "#800080",
         "#2B5D18",
         "#FFD700",
         "#2CFF05",
         "#800080",
         "#2B5D18",
         "#FFD700",
         "#2CFF05",
         "#800080",
         "#2B5D18",
         "#FFD700",
         "#2CFF05",
         "#800080",
         "#2B5D18",
         "#FFD700",
         "#2CFF05",
         "#800080",
         "#2B5D18",
         "#FFD700",
         "#2CFF05",
         "#800080",
         "#2B5D18",
         "#FFD700",
         "#2CFF05",
         "#800080",
         "#2B5D18",
         "#FFD700",
         "#2CFF05",
         "#800080",
         "#2B5D18",
         "#FFD700",
         "#2CFF05",
         "#800080",
         "#2B5D18",
         "#FFD700",
         "#2CFF05",
         "#800080",
         "#2B5D18",
         "#FFD700",
         "#2CFF05",
         "#800080",
         "#2B5D18",
         "#FFD700",
         "#2CFF05",
         "#800080",
         "#2B5D18",
         "#FFD700",
         "#2CFF05",
         "#800080",
         "#2B5D18",
         "#FFD700",
         "#2CFF05",
         "#800080",
         "#2B5D18",
         "#FFD700",
         "#2CFF05",
         "#800080",
         "#2B5D18",
         "#FFD700",
         "#2CFF05",
         "#800080",
         "#2B5D18",
         "#FFD700",
         "#2CFF05",
         "#800080",
         "#2B5D18",
         "#FFD700",
         "#2CFF05",
         "#800080",
         "#2B5D18",
         "#FFD700",
         "#2CFF05",
         "#800080",
         "#2B5D18",
         "#FFD700",
         "#2CFF05",
         "#800080",
         "#2B5D18",
         "#FFD700",
         "#2CFF05",
         "#800080",
         "#2B5D18",
         "#FFD700",
         "#2CFF05",
         "#800080",
         "#2B5D18",
         "#FFD700",
         "#2CFF05",
         "#800080",
         "#2B5D18",
         "#FFD700",
         "#2CFF05",
         "#800080",
         "#2B5D18",
         "#FFD700",
         "#2CFF05",
         "#800080",
         "#2B5D18",
         "#FFD700",
         "#2CFF05",
         "#800080",
         "#2B5D18",
         "#FFD700",
         "#2CFF05",
         "#800080",
         "#2B5D18",
         "#FFD700",
         "#2CFF05",
         "#800080",
         "#2B5D18",
         "#FFD700",
         "#2CFF05",
         "#800080",
         "#2B5D18",
         "#FFD700",
         "#2CFF05",
         "#800080",
         "#2B5D18",
         "#FFD700",
         "#2CFF05",
         "#800080",
         "#2B5D18",
         "#FFD700",
         "#2CFF05",
         "#800080",
         "#2B5D18",
         "#FFD700",
         "#2CFF05",
         "#800080",
         "#2B5D18",
         "#FFD700",
         "#2CFF05",
         "#800080",
         "#2B5D18",
         "#FFD700",
         "#2CFF05",
         "#800080",
         "#2B5D18",
         "#FFD700",
         "#2CFF05",
         "#800080",
         "#2B5D18",
         "#FFD700",
         "#2CFF05",
         "#800080",
         "#2B5D18",
         "#FFD700",
         "#2CFF05",
         "#800080",
         "#2B5D18",
         "#FFD700",
         "#2CFF05",
         "#800080",
         "#2B5D18",
         "#FFD700",
         "#2CFF05",
         "#800080",
         "#2B5D18",
         "#FFD700",
         "#2CFF05",
         "#800080",
         "#2B5D18",
         "#FFD700",
         "#2CFF05",
         "#800080",
         "#2B5D18",
         "#FFD700",
         "#2CFF05",
         "#800080",
         "#2B5D18",
         "#FFD700",
         "#2CFF05",
         "#800080",
         "#2B5D18",
         "#FFD700",
         "#2CFF05",
         "#800080",
         "#2B5D18",
         "#FFD700",
         "#2CFF05",
         "#800080",
         "#2B5D18",
         "#FFD700",
         "#2CFF05",
         "#800080",
         "#2B5D18",
         "#FFD700",
         "#2CFF05",
         "#800080",
         "#2B5D18",
         "#FFD700",
         "#2CFF05",
         "#800080",
         "#2B5D18",
         "#FFD700",
         "#2CFF05",
         "#800080",
         "#2B5D18",
         "#FFD700",
         "#2CFF05",
         "#800080",
         "#2B5D18",
         "#FFD700",
         "#2CFF05",
         "#800080",
         "#2B5D18",
         "#FFD700",
         "#2CFF05",
         "#800080",
         "#2B5D18",
         "#FFD700",
         "#2CFF05",
         "#800080",
         "#2B5D18",
         "#FFD700",
         "#2CFF05",
         "#800080",
         "#2B5D18",
         "#FFD700",
         "#2CFF05",
         "#800080",
         "#2B5D18",
         "#FFD700",
         "#2CFF05",
         "#800080",
         "#2B5D18",
         "#FFD700",
         "#2CFF05",
         "#800080",
         "#2B5D18",
         "#FFD700",
         "#2CFF05",
         "#800080",
         "#2B5D18",
         "#FFD700",
         "#2CFF05",
         "#800080",
         "#2B5D18",
         "#FFD700",
         "#2CFF05",
         "#800080",
         "#2B5D18",
         "#FFD700",
         "#2CFF05",
         "#800080",
         "#2B5D18",
         "#FFD700",
         "#2CFF05",
         "#800080",
         "#2B5D18",
         "#FFD700",
         "#2CFF05",
         "#800080",
         "#2B5D18",
         "#FFD700",
         "#2CFF05",
         "#800080",
         "#2B5D18",
         "#FFD700",
         "#2CFF05",
         "#800080",
         "#2B5D18",
         "#FFD700",
         "#2CFF05",
         "#800080",
         "#2B5D18",
         "#FFD700",
         "#2CFF05",
         "#800080",
         "#2B5D18",
         "#FFD700",
         "#2CFF05",
         "#800080",
         "#2B5D18",
         "#FFD700",
         "#2CFF05",
         "#800080",
         "#2B5D18",
         "#FFD700",
         "#2CFF05",
         "#800080",
         "#2B5D18",
         "#FFD700",
         "#2CFF05",
         "#800080",
         "#2B5D18",
         "#FFD700",
         "#2CFF05",
         "#800080",
         "#2B5D18",
         "#FFD700",
         "#2CFF05",
         "#800080",
         "#2B5D18",
         "#FFD700",
         "#2CFF05",
         "#800080",
         "#2B5D18",
         "#FFD700",
         "#2CFF05",
         "#800080",
         "#2B5D18",
         "#FFD700",
         "#2CFF05",
         "#800080",
         "#2B5D18",
         "#FFD700",
         "#2CFF05",
         "#800080",
         "#2B5D18",
         "#FFD700",
         "#2CFF05",
         "#800080",
         "#2B5D18",
         "#FFD700",
         "#2CFF05",
         "#800080",
         "#2B5D18",
         "#FFD700",
         "#2CFF05",
         "#800080",
         "#2B5D18",
         "#FFD700",
         "#2CFF05",
         "#800080",
         "#2B5D18",
         "#FFD700",
         "#2CFF05",
         "#800080",
         "#2B5D18",
         "#FFD700",
         "#2CFF05",
         "#800080",
         "#2B5D18",
         "#FFD700",
         "#2CFF05",
         "#800080",
         "#2B5D18",
         "#FFD700",
         "#2CFF05",
         "#800080",
         "#2B5D18",
         "#FFD700",
         "#2CFF05",
         "#800080",
         "#2B5D18",
         "#FFD700",
         "#2CFF05",
         "#800080",
         "#2B5D18",
         "#FFD700",
         "#2CFF05",
         "#800080",
         "#2B5D18",
         "#FFD700",
         "#2CFF05",
         "#800080",
         "#2B5D18",
         "#FFD700",
         "#2CFF05",
         "#800080",
         "#2B5D18",
         "#FFD700",
         "#2CFF05",
         "#800080",
         "#2B5D18",
         "#FFD700",
         "#2CFF05",
         "#800080",
         "#2B5D18",
         "#FFD700",
         "#2CFF05",
         "#800080",
         "#2B5D18",
         "#FFD700",
         "#2CFF05",
         "#800080",
         "#2B5D18",
         "#FFD700",
         "#2CFF05",
         "#800080",
         "#2B5D18",
         "#FFD700",
         "#2CFF05",
         "#800080",
         "#2B5D18",
         "#FFD700",
         "#2CFF05",
         "#800080",
         "#2B5D18",
         "#FFD700",
         "#2CFF05",
         "#800080",
         "#2B5D18",
         "#FFD700",
         "#2CFF05",
         "#800080",
         "#2B5D18",
         "#FFD700",
         "#2CFF05",
         "#800080",
         "#2B5D18",
         "#FFD700",
         "#2CFF05",
         "#800080",
         "#2B5D18",
         "#FFD700",
         "#2CFF05",
         "#800080",
         "#2B5D18",
         "#FFD700",
         "#2CFF05",
         "#800080",
         "#2B5D18",
         "#FFD700",
         "#2CFF05",
         "#800080",
         "#2B5D18",
         "#FFD700",
         "#2CFF05",
         "#800080",
         "#2B5D18",
         "#FFD700",
         "#2CFF05",
         "#800080",
         "#2B5D18",
         "#FFD700",
         "#2CFF05",
         "#800080",
         "#2B5D18",
         "#FFD700",
         "#2CFF05",
         "#800080",
         "#2B5D18",
         "#FFD700",
         "#2CFF05",
         "#800080",
         "#2B5D18",
         "#FFD700",
         "#2CFF05",
         "#800080",
         "#2B5D18",
         "#FFD700",
         "#2CFF05",
         "#800080",
         "#2B5D18",
         "#FFD700",
         "#2CFF05",
         "#800080",
         "#2B5D18",
         "#FFD700",
         "#2CFF05",
         "#800080",
         "#2B5D18",
         "#FFD700",
         "#2CFF05",
         "#800080",
         "#2B5D18",
         "#FFD700",
         "#2CFF05",
         "#800080",
         "#2B5D18",
         "#FFD700",
         "#2CFF05",
         "#800080",
         "#2B5D18",
         "#FFD700",
         "#2CFF05",
         "#800080",
         "#2B5D18",
         "#FFD700",
         "#2CFF05",
         "#800080",
         "#2B5D18",
         "#FFD700",
         "#2CFF05",
         "#800080",
         "#2B5D18",
         "#FFD700",
         "#2CFF05",
         "#800080",
         "#2B5D18",
         "#FFD700",
         "#2CFF05",
         "#800080",
         "#2B5D18",
         "#FFD700",
         "#2CFF05",
         "#800080",
         "#2B5D18",
         "#FFD700",
         "#2CFF05",
         "#800080",
         "#2B5D18",
         "#FFD700",
         "#2CFF05",
         "#800080",
         "#2B5D18",
         "#FFD700",
         "#2CFF05",
         "#800080",
         "#2B5D18",
         "#FFD700",
         "#2CFF05",
         "#800080",
         "#2B5D18",
         "#FFD700",
         "#2CFF05",
         "#800080",
         "#2B5D18",
         "#FFD700",
         "#2CFF05",
         "#800080",
         "#2B5D18",
         "#FFD700",
         "#2CFF05",
         "#800080",
         "#2B5D18",
         "#FFD700",
         "#2CFF05",
         "#800080",
         "#2B5D18",
         "#FFD700",
         "#2CFF05",
         "#800080",
         "#2B5D18",
         "#FFD700",
         "#2CFF05",
         "#800080",
         "#2B5D18",
         "#FFD700",
         "#2CFF05",
         "#800080",
         "#2B5D18",
         "#FFD700",
         "#2CFF05",
         "#800080",
         "#2B5D18",
         "#FFD700",
         "#2CFF05",
         "#800080",
         "#2B5D18",
         "#FFD700",
         "#2CFF05",
         "#800080",
         "#2B5D18",
         "#FFD700",
         "#2CFF05",
         "#800080",
         "#2B5D18",
         "#FFD700",
         "#2CFF05",
         "#800080",
         "#2B5D18",
         "#FFD700",
         "#2CFF05",
         "#800080",
         "#2B5D18",
         "#FFD700",
         "#2CFF05",
         "#800080",
         "#2B5D18",
         "#FFD700",
         "#2CFF05",
         "#800080",
         "#2B5D18",
         "#FFD700",
         "#2CFF05",
         "#800080",
         "#2B5D18",
         "#FFD700",
         "#2CFF05",
         "#800080",
         "#2B5D18",
         "#FFD700",
         "#2CFF05",
         "#800080",
         "#2B5D18",
         "#FFD700",
         "#2CFF05",
         "#800080",
         "#2B5D18",
         "#FFD700",
         "#2CFF05",
         "#800080",
         "#2B5D18",
         "#FFD700",
         "#2CFF05",
         "#800080",
         "#2B5D18",
         "#FFD700",
         "#2CFF05",
         "#800080",
         "#2B5D18",
         "#FFD700",
         "#2CFF05",
         "#800080",
         "#2B5D18",
         "#FFD700",
         "#2CFF05",
         "#800080",
         "#2B5D18",
         "#FFD700",
         "#2CFF05",
         "#800080",
         "#2B5D18",
         "#FFD700",
         "#2CFF05",
         "#800080",
         "#2B5D18",
         "#FFD700",
         "#2CFF05",
         "#800080",
         "#2B5D18",
         "#FFD700",
         "#2CFF05",
         "#800080",
         "#2B5D18",
         "#FFD700",
         "#2CFF05",
         "#800080",
         "#2B5D18",
         "#FFD700",
         "#2CFF05",
         "#800080",
         "#2B5D18",
         "#FFD700",
         "#2CFF05",
         "#800080",
         "#2B5D18",
         "#FFD700",
         "#2CFF05",
         "#800080",
         "#2B5D18",
         "#FFD700",
         "#2CFF05",
         "#800080",
         "#2B5D18",
         "#FFD700",
         "#2CFF05",
         "#800080",
         "#2B5D18",
         "#FFD700",
         "#2CFF05",
         "#800080",
         "#2B5D18",
         "#FFD700",
         "#2CFF05",
         "#800080",
         "#2B5D18",
         "#FFD700",
         "#2CFF05",
         "#800080",
         "#2B5D18",
         "#FFD700",
         "#2CFF05",
         "#800080",
         "#2B5D18",
         "#FFD700",
         "#2CFF05",
         "#800080",
         "#2B5D18",
         "#FFD700",
         "#2CFF05",
         "#800080",
         "#2B5D18",
         "#FFD700",
         "#2CFF05",
         "#800080",
         "#2B5D18",
         "#FFD700",
         "#2CFF05",
         "#800080",
         "#2B5D18",
         "#FFD700",
         "#2CFF05",
         "#800080",
         "#2B5D18",
         "#FFD700",
         "#2CFF05",
         "#800080",
         "#2B5D18",
         "#FFD700",
         "#2CFF05",
         "#800080",
         "#2B5D18",
         "#FFD700",
         "#2CFF05",
         "#800080",
         "#2B5D18",
         "#FFD700",
         "#2CFF05",
         "#800080",
         "#2B5D18",
         "#FFD700",
         "#2CFF05",
         "#800080",
         "#2B5D18",
         "#FFD700",
         "#2CFF05",
         "#800080",
         "#2B5D18",
         "#FFD700",
         "#2CFF05",
         "#800080",
         "#2B5D18",
         "#FFD700",
         "#2CFF05",
         "#800080",
         "#2B5D18",
         "#FFD700",
         "#2CFF05",
         "#800080",
         "#2B5D18",
         "#FFD700",
         "#2CFF05",
         "#800080",
         "#2B5D18",
         "#FFD700",
         "#2CFF05",
         "#800080",
         "#2B5D18",
         "#FFD700",
         "#2CFF05",
         "#800080",
         "#2B5D18",
         "#FFD700",
         "#2CFF05",
         "#800080",
         "#2B5D18",
         "#FFD700",
         "#2CFF05",
         "#800080",
         "#2B5D18",
         "#FFD700",
         "#2CFF05",
         "#800080",
         "#2B5D18",
         "#FFD700",
         "#2CFF05",
         "#800080",
         "#2B5D18",
         "#FFD700",
         "#2CFF05",
         "#800080",
         "#2B5D18",
         "#FFD700",
         "#2CFF05",
         "#800080",
         "#2B5D18",
         "#FFD700",
         "#2CFF05",
         "#800080",
         "#2B5D18",
         "#FFD700",
         "#2CFF05",
         "#800080",
         "#2B5D18",
         "#FFD700",
         "#2CFF05",
         "#800080",
         "#2B5D18",
         "#FFD700",
         "#2CFF05",
         "#800080",
         "#2B5D18",
         "#FFD700",
         "#2CFF05",
         "#800080",
         "#2B5D18",
         "#FFD700",
         "#2CFF05",
         "#800080",
         "#2B5D18",
         "#FFD700",
         "#2CFF05",
         "#800080",
         "#2B5D18",
         "#FFD700",
         "#2CFF05",
         "#800080",
         "#2B5D18",
         "#FFD700",
         "#2CFF05",
         "#800080",
         "#2B5D18",
         "#FFD700",
         "#2CFF05",
         "#800080",
         "#2B5D18",
         "#FFD700",
         "#2CFF05",
         "#800080",
         "#2B5D18",
         "#FFD700",
         "#2CFF05",
         "#800080",
         "#2B5D18",
         "#FFD700",
         "#2CFF05",
         "#800080",
         "#2B5D18",
         "#FFD700",
         "#2CFF05",
         "#800080",
         "#2B5D18",
         "#FFD700",
         "#2CFF05",
         "#800080",
         "#2B5D18",
         "#FFD700",
         "#2CFF05",
         "#800080",
         "#2B5D18",
         "#FFD700",
         "#2CFF05",
         "#800080",
         "#2B5D18",
         "#FFD700",
         "#2CFF05",
         "#800080",
         "#2B5D18",
         "#FFD700",
         "#2CFF05",
         "#800080",
         "#2B5D18",
         "#FFD700",
         "#2CFF05",
         "#800080",
         "#2B5D18",
         "#FFD700",
         "#2CFF05",
         "#800080",
         "#2B5D18",
         "#FFD700",
         "#2CFF05",
         "#800080",
         "#2B5D18",
         "#FFD700",
         "#2CFF05",
         "#800080",
         "#2B5D18",
         "#FFD700",
         "#2CFF05",
         "#800080",
         "#2B5D18",
         "#FFD700",
         "#2CFF05",
         "#800080",
         "#2B5D18",
         "#FFD700",
         "#2CFF05",
         "#800080",
         "#2B5D18",
         "#FFD700",
         "#2CFF05",
         "#800080",
         "#2B5D18",
         "#FFD700",
         "#2CFF05",
         "#800080",
         "#2B5D18",
         "#FFD700",
         "#2CFF05",
         "#800080",
         "#2B5D18",
         "#FFD700",
         "#2CFF05",
         "#800080",
         "#2B5D18",
         "#FFD700",
         "#2CFF05",
         "#800080",
         "#2B5D18",
         "#FFD700",
         "#2CFF05",
         "#800080",
         "#2B5D18",
         "#FFD700",
         "#2CFF05",
         "#800080",
         "#2B5D18",
         "#FFD700",
         "#2CFF05",
         "#800080",
         "#2B5D18",
         "#FFD700",
         "#2CFF05",
         "#800080",
         "#2B5D18",
         "#FFD700",
         "#2CFF05",
         "#800080",
         "#2B5D18",
         "#FFD700",
         "#2CFF05",
         "#800080",
         "#2B5D18",
         "#FFD700",
         "#2CFF05",
         "#800080",
         "#2B5D18",
         "#FFD700",
         "#2CFF05",
         "#800080",
         "#2B5D18",
         "#FFD700",
         "#2CFF05",
         "#800080",
         "#2B5D18",
         "#FFD700",
         "#2CFF05",
         "#800080",
         "#2B5D18",
         "#FFD700",
         "#2CFF05",
         "#800080",
         "#2B5D18",
         "#FFD700",
         "#2CFF05",
         "#800080",
         "#2B5D18",
         "#FFD700",
         "#2CFF05",
         "#800080",
         "#2B5D18",
         "#FFD700",
         "#2CFF05",
         "#800080",
         "#2B5D18",
         "#FFD700",
         "#2CFF05",
         "#800080",
         "#2B5D18",
         "#FFD700",
         "#2CFF05",
         "#800080",
         "#2B5D18",
         "#FFD700",
         "#2CFF05",
         "#800080",
         "#2B5D18",
         "#FFD700",
         "#2CFF05",
         "#800080",
         "#2B5D18",
         "#FFD700",
         "#2CFF05",
         "#800080",
         "#2B5D18",
         "#FFD700",
         "#2CFF05",
         "#800080",
         "#2B5D18",
         "#FFD700",
         "#2CFF05",
         "#800080",
         "#2B5D18",
         "#FFD700",
         "#2CFF05",
         "#800080",
         "#2B5D18",
         "#FFD700",
         "#2CFF05",
         "#800080",
         "#2B5D18",
         "#FFD700",
         "#2CFF05",
         "#800080",
         "#2B5D18",
         "#FFD700",
         "#2CFF05",
         "#800080",
         "#2B5D18",
         "#FFD700",
         "#2CFF05",
         "#800080",
         "#2B5D18",
         "#FFD700",
         "#2CFF05",
         "#800080",
         "#2B5D18",
         "#FFD700",
         "#2CFF05",
         "#800080",
         "#2B5D18",
         "#FFD700",
         "#2CFF05",
         "#800080",
         "#2B5D18",
         "#FFD700",
         "#2CFF05",
         "#800080",
         "#2B5D18",
         "#FFD700",
         "#2CFF05",
         "#800080",
         "#2B5D18",
         "#FFD700",
         "#2CFF05",
         "#800080",
         "#2B5D18",
         "#FFD700",
         "#2CFF05",
         "#800080",
         "#2B5D18",
         "#FFD700",
         "#2CFF05",
         "#800080",
         "#2B5D18",
         "#FFD700",
         "#2CFF05",
         "#800080",
         "#2B5D18",
         "#FFD700",
         "#2CFF05",
         "#800080",
         "#2B5D18",
         "#FFD700",
         "#2CFF05",
         "#800080",
         "#2B5D18",
         "#FFD700",
         "#2CFF05",
         "#800080",
         "#2B5D18",
         "#FFD700",
         "#2CFF05",
         "#800080",
         "#2B5D18",
         "#FFD700",
         "#2CFF05",
         "#800080",
         "#2B5D18",
         "#FFD700",
         "#2CFF05",
         "#800080",
         "#2B5D18",
         "#FFD700",
         "#2CFF05",
         "#800080",
         "#2B5D18",
         "#FFD700",
         "#2CFF05",
         "#800080",
         "#2B5D18",
         "#FFD700",
         "#2CFF05",
         "#800080",
         "#2B5D18",
         "#FFD700",
         "#2CFF05",
         "#800080",
         "#2B5D18",
         "#FFD700",
         "#2CFF05",
         "#800080",
         "#2B5D18",
         "#FFD700",
         "#2CFF05",
         "#800080",
         "#2B5D18",
         "#FFD700",
         "#2CFF05",
         "#800080",
         "#2B5D18",
         "#FFD700",
         "#2CFF05",
         "#800080",
         "#2B5D18",
         "#FFD700",
         "#2CFF05",
         "#800080",
         "#2B5D18",
         "#FFD700",
         "#2CFF05",
         "#800080",
         "#2B5D18",
         "#FFD700",
         "#2CFF05",
         "#800080",
         "#2B5D18",
         "#FFD700",
         "#2CFF05",
         "#800080",
         "#2B5D18",
         "#FFD700",
         "#2CFF05",
         "#800080",
         "#2B5D18",
         "#FFD700",
         "#2CFF05",
         "#800080",
         "#2B5D18",
         "#FFD700",
         "#2CFF05",
         "#800080",
         "#2B5D18",
         "#FFD700",
         "#2CFF05",
         "#800080",
         "#2B5D18",
         "#FFD700",
         "#2CFF05",
         "#800080",
         "#2B5D18",
         "#FFD700",
         "#2CFF05",
         "#800080",
         "#2B5D18",
         "#FFD700",
         "#2CFF05",
         "#800080",
         "#2B5D18",
         "#FFD700",
         "#2CFF05",
         "#800080",
         "#2B5D18",
         "#FFD700",
         "#2CFF05",
         "#800080",
         "#2B5D18",
         "#FFD700",
         "#2CFF05",
         "#800080",
         "#2B5D18",
         "#FFD700",
         "#2CFF05",
         "#800080",
         "#2B5D18",
         "#FFD700",
         "#2CFF05",
         "#800080",
         "#2B5D18",
         "#FFD700",
         "#2CFF05",
         "#800080",
         "#2B5D18",
         "#FFD700",
         "#2CFF05",
         "#800080",
         "#2B5D18",
         "#FFD700",
         "#2CFF05",
         "#800080",
         "#2B5D18",
         "#FFD700",
         "#2CFF05",
         "#800080",
         "#2B5D18",
         "#FFD700",
         "#2CFF05",
         "#800080",
         "#2B5D18",
         "#FFD700",
         "#2CFF05",
         "#800080",
         "#2B5D18",
         "#FFD700",
         "#2CFF05",
         "#800080",
         "#2B5D18",
         "#FFD700",
         "#2CFF05",
         "#800080",
         "#2B5D18",
         "#FFD700",
         "#2CFF05",
         "#800080",
         "#2B5D18",
         "#FFD700",
         "#2CFF05",
         "#800080",
         "#2B5D18",
         "#FFD700",
         "#2CFF05",
         "#800080",
         "#2B5D18",
         "#FFD700",
         "#2CFF05",
         "#800080",
         "#2B5D18",
         "#FFD700",
         "#2CFF05",
         "#800080",
         "#2B5D18",
         "#FFD700",
         "#2CFF05",
         "#800080",
         "#2B5D18",
         "#FFD700",
         "#2CFF05",
         "#800080",
         "#2B5D18",
         "#FFD700",
         "#2CFF05",
         "#800080",
         "#2B5D18",
         "#FFD700",
         "#2CFF05",
         "#800080",
         "#2B5D18",
         "#FFD700",
         "#2CFF05",
         "#800080",
         "#2B5D18",
         "#FFD700",
         "#2CFF05",
         "#800080",
         "#2B5D18",
         "#FFD700",
         "#2CFF05",
         "#800080",
         "#2B5D18",
         "#FFD700",
         "#2CFF05",
         "#800080",
         "#2B5D18",
         "#FFD700",
         "#2CFF05",
         "#800080",
         "#2B5D18",
         "#FFD700",
         "#2CFF05",
         "#800080",
         "#2B5D18",
         "#FFD700",
         "#2CFF05",
         "#800080",
         "#2B5D18",
         "#FFD700",
         "#2CFF05",
         "#800080",
         "#2B5D18",
         "#FFD700",
         "#2CFF05",
         "#800080",
         "#2B5D18",
         "#FFD700",
         "#2CFF05",
         "#800080",
         "#2B5D18",
         "#FFD700",
         "#2CFF05",
         "#800080",
         "#2B5D18",
         "#FFD700",
         "#2CFF05",
         "#800080",
         "#2B5D18",
         "#FFD700",
         "#2CFF05",
         "#800080",
         "#2B5D18",
         "#FFD700",
         "#2CFF05",
         "#800080",
         "#2B5D18",
         "#FFD700",
         "#2CFF05",
         "#800080",
         "#2B5D18",
         "#FFD700",
         "#2CFF05",
         "#800080",
         "#2B5D18",
         "#FFD700",
         "#2CFF05",
         "#800080",
         "#2B5D18",
         "#FFD700",
         "#2CFF05",
         "#800080",
         "#2B5D18",
         "#FFD700",
         "#2CFF05",
         "#800080",
         "#2B5D18",
         "#FFD700",
         "#2CFF05",
         "#800080",
         "#2B5D18",
         "#FFD700",
         "#2CFF05",
         "#800080",
         "#2B5D18",
         "#FFD700",
         "#2CFF05",
         "#800080",
         "#2B5D18",
         "#FFD700",
         "#2CFF05",
         "#800080",
         "#2B5D18",
         "#FFD700",
         "#2CFF05",
         "#800080",
         "#2B5D18",
         "#FFD700",
         "#2CFF05",
         "#800080",
         "#2B5D18",
         "#FFD700",
         "#2CFF05",
         "#800080",
         "#2B5D18",
         "#FFD700",
         "#2CFF05",
         "#800080",
         "#2B5D18",
         "#FFD700",
         "#2CFF05",
         "#800080",
         "#2B5D18",
         "#FFD700",
         "#2CFF05",
         "#800080",
         "#2B5D18",
         "#FFD700",
         "#2CFF05",
         "#800080",
         "#2B5D18",
         "#FFD700",
         "#2CFF05",
         "#800080",
         "#2B5D18",
         "#FFD700",
         "#2CFF05",
         "#800080",
         "#2B5D18",
         "#FFD700",
         "#2CFF05",
         "#800080",
         "#2B5D18",
         "#FFD700",
         "#2CFF05",
         "#800080",
         "#2B5D18",
         "#FFD700",
         "#2CFF05",
         "#800080",
         "#2B5D18",
         "#FFD700",
         "#2CFF05",
         "#800080",
         "#2B5D18",
         "#FFD700",
         "#2CFF05",
         "#800080",
         "#2B5D18",
         "#FFD700",
         "#2CFF05",
         "#800080",
         "#2B5D18",
         "#FFD700",
         "#2CFF05",
         "#800080",
         "#2B5D18",
         "#FFD700",
         "#2CFF05",
         "#800080",
         "#2B5D18",
         "#FFD700",
         "#2CFF05",
         "#800080",
         "#2B5D18",
         "#FFD700",
         "#2CFF05",
         "#800080",
         "#2B5D18",
         "#FFD700",
         "#2CFF05",
         "#800080",
         "#2B5D18",
         "#FFD700",
         "#2CFF05",
         "#800080",
         "#2B5D18",
         "#FFD700",
         "#2CFF05",
         "#800080",
         "#2B5D18",
         "#FFD700",
         "#2CFF05",
         "#800080",
         "#2B5D18",
         "#FFD700",
         "#2CFF05",
         "#800080",
         "#2B5D18",
         "#FFD700",
         "#2CFF05",
         "#800080",
         "#2B5D18",
         "#FFD700",
         "#2CFF05",
         "#800080",
         "#2B5D18",
         "#FFD700",
         "#2CFF05",
         "#800080",
         "#2B5D18",
         "#FFD700",
         "#2CFF05",
         "#800080",
         "#2B5D18",
         "#FFD700",
         "#2CFF05",
         "#800080",
         "#2B5D18",
         "#FFD700",
         "#2CFF05",
         "#800080",
         "#2B5D18",
         "#FFD700",
         "#2CFF05",
         "#800080",
         "#2B5D18",
         "#FFD700",
         "#2CFF05",
         "#800080",
         "#2B5D18",
         "#FFD700",
         "#2CFF05",
         "#800080",
         "#2B5D18",
         "#FFD700",
         "#2CFF05",
         "#800080",
         "#2B5D18",
         "#FFD700",
         "#2CFF05",
         "#800080",
         "#2B5D18",
         "#FFD700",
         "#2CFF05",
         "#800080",
         "#2B5D18",
         "#FFD700",
         "#2CFF05",
         "#800080",
         "#2B5D18",
         "#FFD700",
         "#2CFF05",
         "#800080",
         "#2B5D18",
         "#FFD700",
         "#2CFF05",
         "#800080",
         "#2B5D18",
         "#FFD700",
         "#2CFF05",
         "#800080",
         "#2B5D18",
         "#FFD700",
         "#2CFF05",
         "#800080",
         "#2B5D18",
         "#FFD700",
         "#2CFF05",
         "#800080",
         "#2B5D18",
         "#FFD700",
         "#2CFF05",
         "#800080",
         "#2B5D18",
         "#FFD700",
         "#2CFF05",
         "#800080",
         "#2B5D18",
         "#FFD700",
         "#2CFF05",
         "#800080",
         "#2B5D18",
         "#FFD700",
         "#2CFF05",
         "#800080",
         "#2B5D18",
         "#FFD700",
         "#2CFF05",
         "#800080",
         "#2B5D18",
         "#FFD700",
         "#2CFF05",
         "#800080",
         "#2B5D18",
         "#FFD700",
         "#2CFF05",
         "#800080",
         "#2B5D18",
         "#FFD700",
         "#2CFF05",
         "#800080",
         "#2B5D18",
         "#FFD700",
         "#2CFF05",
         "#800080",
         "#2B5D18",
         "#FFD700",
         "#2CFF05",
         "#800080",
         "#2B5D18",
         "#FFD700",
         "#2CFF05",
         "#800080",
         "#2B5D18",
         "#FFD700",
         "#2CFF05",
         "#800080",
         "#2B5D18",
         "#FFD700",
         "#2CFF05",
         "#800080",
         "#2B5D18",
         "#FFD700",
         "#2CFF05",
         "#800080",
         "#2B5D18",
         "#FFD700",
         "#2CFF05",
         "#800080",
         "#2B5D18",
         "#FFD700",
         "#2CFF05",
         "#800080",
         "#2B5D18",
         "#FFD700",
         "#2CFF05",
         "#800080",
         "#2B5D18",
         "#FFD700",
         "#2CFF05",
         "#800080",
         "#2B5D18",
         "#FFD700",
         "#2CFF05",
         "#800080",
         "#2B5D18",
         "#FFD700",
         "#2CFF05"
        ],
        "template": {
         "data": {
          "bar": [
           {
            "error_x": {
             "color": "#2a3f5f"
            },
            "error_y": {
             "color": "#2a3f5f"
            },
            "marker": {
             "line": {
              "color": "#E5ECF6",
              "width": 0.5
             },
             "pattern": {
              "fillmode": "overlay",
              "size": 10,
              "solidity": 0.2
             }
            },
            "type": "bar"
           }
          ],
          "barpolar": [
           {
            "marker": {
             "line": {
              "color": "#E5ECF6",
              "width": 0.5
             },
             "pattern": {
              "fillmode": "overlay",
              "size": 10,
              "solidity": 0.2
             }
            },
            "type": "barpolar"
           }
          ],
          "carpet": [
           {
            "aaxis": {
             "endlinecolor": "#2a3f5f",
             "gridcolor": "white",
             "linecolor": "white",
             "minorgridcolor": "white",
             "startlinecolor": "#2a3f5f"
            },
            "baxis": {
             "endlinecolor": "#2a3f5f",
             "gridcolor": "white",
             "linecolor": "white",
             "minorgridcolor": "white",
             "startlinecolor": "#2a3f5f"
            },
            "type": "carpet"
           }
          ],
          "choropleth": [
           {
            "colorbar": {
             "outlinewidth": 0,
             "ticks": ""
            },
            "type": "choropleth"
           }
          ],
          "contour": [
           {
            "colorbar": {
             "outlinewidth": 0,
             "ticks": ""
            },
            "colorscale": [
             [
              0,
              "#0d0887"
             ],
             [
              0.1111111111111111,
              "#46039f"
             ],
             [
              0.2222222222222222,
              "#7201a8"
             ],
             [
              0.3333333333333333,
              "#9c179e"
             ],
             [
              0.4444444444444444,
              "#bd3786"
             ],
             [
              0.5555555555555556,
              "#d8576b"
             ],
             [
              0.6666666666666666,
              "#ed7953"
             ],
             [
              0.7777777777777778,
              "#fb9f3a"
             ],
             [
              0.8888888888888888,
              "#fdca26"
             ],
             [
              1,
              "#f0f921"
             ]
            ],
            "type": "contour"
           }
          ],
          "contourcarpet": [
           {
            "colorbar": {
             "outlinewidth": 0,
             "ticks": ""
            },
            "type": "contourcarpet"
           }
          ],
          "heatmap": [
           {
            "colorbar": {
             "outlinewidth": 0,
             "ticks": ""
            },
            "colorscale": [
             [
              0,
              "#0d0887"
             ],
             [
              0.1111111111111111,
              "#46039f"
             ],
             [
              0.2222222222222222,
              "#7201a8"
             ],
             [
              0.3333333333333333,
              "#9c179e"
             ],
             [
              0.4444444444444444,
              "#bd3786"
             ],
             [
              0.5555555555555556,
              "#d8576b"
             ],
             [
              0.6666666666666666,
              "#ed7953"
             ],
             [
              0.7777777777777778,
              "#fb9f3a"
             ],
             [
              0.8888888888888888,
              "#fdca26"
             ],
             [
              1,
              "#f0f921"
             ]
            ],
            "type": "heatmap"
           }
          ],
          "heatmapgl": [
           {
            "colorbar": {
             "outlinewidth": 0,
             "ticks": ""
            },
            "colorscale": [
             [
              0,
              "#0d0887"
             ],
             [
              0.1111111111111111,
              "#46039f"
             ],
             [
              0.2222222222222222,
              "#7201a8"
             ],
             [
              0.3333333333333333,
              "#9c179e"
             ],
             [
              0.4444444444444444,
              "#bd3786"
             ],
             [
              0.5555555555555556,
              "#d8576b"
             ],
             [
              0.6666666666666666,
              "#ed7953"
             ],
             [
              0.7777777777777778,
              "#fb9f3a"
             ],
             [
              0.8888888888888888,
              "#fdca26"
             ],
             [
              1,
              "#f0f921"
             ]
            ],
            "type": "heatmapgl"
           }
          ],
          "histogram": [
           {
            "marker": {
             "pattern": {
              "fillmode": "overlay",
              "size": 10,
              "solidity": 0.2
             }
            },
            "type": "histogram"
           }
          ],
          "histogram2d": [
           {
            "colorbar": {
             "outlinewidth": 0,
             "ticks": ""
            },
            "colorscale": [
             [
              0,
              "#0d0887"
             ],
             [
              0.1111111111111111,
              "#46039f"
             ],
             [
              0.2222222222222222,
              "#7201a8"
             ],
             [
              0.3333333333333333,
              "#9c179e"
             ],
             [
              0.4444444444444444,
              "#bd3786"
             ],
             [
              0.5555555555555556,
              "#d8576b"
             ],
             [
              0.6666666666666666,
              "#ed7953"
             ],
             [
              0.7777777777777778,
              "#fb9f3a"
             ],
             [
              0.8888888888888888,
              "#fdca26"
             ],
             [
              1,
              "#f0f921"
             ]
            ],
            "type": "histogram2d"
           }
          ],
          "histogram2dcontour": [
           {
            "colorbar": {
             "outlinewidth": 0,
             "ticks": ""
            },
            "colorscale": [
             [
              0,
              "#0d0887"
             ],
             [
              0.1111111111111111,
              "#46039f"
             ],
             [
              0.2222222222222222,
              "#7201a8"
             ],
             [
              0.3333333333333333,
              "#9c179e"
             ],
             [
              0.4444444444444444,
              "#bd3786"
             ],
             [
              0.5555555555555556,
              "#d8576b"
             ],
             [
              0.6666666666666666,
              "#ed7953"
             ],
             [
              0.7777777777777778,
              "#fb9f3a"
             ],
             [
              0.8888888888888888,
              "#fdca26"
             ],
             [
              1,
              "#f0f921"
             ]
            ],
            "type": "histogram2dcontour"
           }
          ],
          "mesh3d": [
           {
            "colorbar": {
             "outlinewidth": 0,
             "ticks": ""
            },
            "type": "mesh3d"
           }
          ],
          "parcoords": [
           {
            "line": {
             "colorbar": {
              "outlinewidth": 0,
              "ticks": ""
             }
            },
            "type": "parcoords"
           }
          ],
          "pie": [
           {
            "automargin": true,
            "type": "pie"
           }
          ],
          "scatter": [
           {
            "fillpattern": {
             "fillmode": "overlay",
             "size": 10,
             "solidity": 0.2
            },
            "type": "scatter"
           }
          ],
          "scatter3d": [
           {
            "line": {
             "colorbar": {
              "outlinewidth": 0,
              "ticks": ""
             }
            },
            "marker": {
             "colorbar": {
              "outlinewidth": 0,
              "ticks": ""
             }
            },
            "type": "scatter3d"
           }
          ],
          "scattercarpet": [
           {
            "marker": {
             "colorbar": {
              "outlinewidth": 0,
              "ticks": ""
             }
            },
            "type": "scattercarpet"
           }
          ],
          "scattergeo": [
           {
            "marker": {
             "colorbar": {
              "outlinewidth": 0,
              "ticks": ""
             }
            },
            "type": "scattergeo"
           }
          ],
          "scattergl": [
           {
            "marker": {
             "colorbar": {
              "outlinewidth": 0,
              "ticks": ""
             }
            },
            "type": "scattergl"
           }
          ],
          "scattermapbox": [
           {
            "marker": {
             "colorbar": {
              "outlinewidth": 0,
              "ticks": ""
             }
            },
            "type": "scattermapbox"
           }
          ],
          "scatterpolar": [
           {
            "marker": {
             "colorbar": {
              "outlinewidth": 0,
              "ticks": ""
             }
            },
            "type": "scatterpolar"
           }
          ],
          "scatterpolargl": [
           {
            "marker": {
             "colorbar": {
              "outlinewidth": 0,
              "ticks": ""
             }
            },
            "type": "scatterpolargl"
           }
          ],
          "scatterternary": [
           {
            "marker": {
             "colorbar": {
              "outlinewidth": 0,
              "ticks": ""
             }
            },
            "type": "scatterternary"
           }
          ],
          "surface": [
           {
            "colorbar": {
             "outlinewidth": 0,
             "ticks": ""
            },
            "colorscale": [
             [
              0,
              "#0d0887"
             ],
             [
              0.1111111111111111,
              "#46039f"
             ],
             [
              0.2222222222222222,
              "#7201a8"
             ],
             [
              0.3333333333333333,
              "#9c179e"
             ],
             [
              0.4444444444444444,
              "#bd3786"
             ],
             [
              0.5555555555555556,
              "#d8576b"
             ],
             [
              0.6666666666666666,
              "#ed7953"
             ],
             [
              0.7777777777777778,
              "#fb9f3a"
             ],
             [
              0.8888888888888888,
              "#fdca26"
             ],
             [
              1,
              "#f0f921"
             ]
            ],
            "type": "surface"
           }
          ],
          "table": [
           {
            "cells": {
             "fill": {
              "color": "#EBF0F8"
             },
             "line": {
              "color": "white"
             }
            },
            "header": {
             "fill": {
              "color": "#C8D4E3"
             },
             "line": {
              "color": "white"
             }
            },
            "type": "table"
           }
          ]
         },
         "layout": {
          "annotationdefaults": {
           "arrowcolor": "#2a3f5f",
           "arrowhead": 0,
           "arrowwidth": 1
          },
          "autotypenumbers": "strict",
          "coloraxis": {
           "colorbar": {
            "outlinewidth": 0,
            "ticks": ""
           }
          },
          "colorscale": {
           "diverging": [
            [
             0,
             "#8e0152"
            ],
            [
             0.1,
             "#c51b7d"
            ],
            [
             0.2,
             "#de77ae"
            ],
            [
             0.3,
             "#f1b6da"
            ],
            [
             0.4,
             "#fde0ef"
            ],
            [
             0.5,
             "#f7f7f7"
            ],
            [
             0.6,
             "#e6f5d0"
            ],
            [
             0.7,
             "#b8e186"
            ],
            [
             0.8,
             "#7fbc41"
            ],
            [
             0.9,
             "#4d9221"
            ],
            [
             1,
             "#276419"
            ]
           ],
           "sequential": [
            [
             0,
             "#0d0887"
            ],
            [
             0.1111111111111111,
             "#46039f"
            ],
            [
             0.2222222222222222,
             "#7201a8"
            ],
            [
             0.3333333333333333,
             "#9c179e"
            ],
            [
             0.4444444444444444,
             "#bd3786"
            ],
            [
             0.5555555555555556,
             "#d8576b"
            ],
            [
             0.6666666666666666,
             "#ed7953"
            ],
            [
             0.7777777777777778,
             "#fb9f3a"
            ],
            [
             0.8888888888888888,
             "#fdca26"
            ],
            [
             1,
             "#f0f921"
            ]
           ],
           "sequentialminus": [
            [
             0,
             "#0d0887"
            ],
            [
             0.1111111111111111,
             "#46039f"
            ],
            [
             0.2222222222222222,
             "#7201a8"
            ],
            [
             0.3333333333333333,
             "#9c179e"
            ],
            [
             0.4444444444444444,
             "#bd3786"
            ],
            [
             0.5555555555555556,
             "#d8576b"
            ],
            [
             0.6666666666666666,
             "#ed7953"
            ],
            [
             0.7777777777777778,
             "#fb9f3a"
            ],
            [
             0.8888888888888888,
             "#fdca26"
            ],
            [
             1,
             "#f0f921"
            ]
           ]
          },
          "colorway": [
           "#636efa",
           "#EF553B",
           "#00cc96",
           "#ab63fa",
           "#FFA15A",
           "#19d3f3",
           "#FF6692",
           "#B6E880",
           "#FF97FF",
           "#FECB52"
          ],
          "font": {
           "color": "#2a3f5f"
          },
          "geo": {
           "bgcolor": "white",
           "lakecolor": "white",
           "landcolor": "#E5ECF6",
           "showlakes": true,
           "showland": true,
           "subunitcolor": "white"
          },
          "hoverlabel": {
           "align": "left"
          },
          "hovermode": "closest",
          "mapbox": {
           "style": "light"
          },
          "paper_bgcolor": "white",
          "plot_bgcolor": "#E5ECF6",
          "polar": {
           "angularaxis": {
            "gridcolor": "white",
            "linecolor": "white",
            "ticks": ""
           },
           "bgcolor": "#E5ECF6",
           "radialaxis": {
            "gridcolor": "white",
            "linecolor": "white",
            "ticks": ""
           }
          },
          "scene": {
           "xaxis": {
            "backgroundcolor": "#E5ECF6",
            "gridcolor": "white",
            "gridwidth": 2,
            "linecolor": "white",
            "showbackground": true,
            "ticks": "",
            "zerolinecolor": "white"
           },
           "yaxis": {
            "backgroundcolor": "#E5ECF6",
            "gridcolor": "white",
            "gridwidth": 2,
            "linecolor": "white",
            "showbackground": true,
            "ticks": "",
            "zerolinecolor": "white"
           },
           "zaxis": {
            "backgroundcolor": "#E5ECF6",
            "gridcolor": "white",
            "gridwidth": 2,
            "linecolor": "white",
            "showbackground": true,
            "ticks": "",
            "zerolinecolor": "white"
           }
          },
          "shapedefaults": {
           "line": {
            "color": "#2a3f5f"
           }
          },
          "ternary": {
           "aaxis": {
            "gridcolor": "white",
            "linecolor": "white",
            "ticks": ""
           },
           "baxis": {
            "gridcolor": "white",
            "linecolor": "white",
            "ticks": ""
           },
           "bgcolor": "#E5ECF6",
           "caxis": {
            "gridcolor": "white",
            "linecolor": "white",
            "ticks": ""
           }
          },
          "title": {
           "x": 0.05
          },
          "xaxis": {
           "automargin": true,
           "gridcolor": "white",
           "linecolor": "white",
           "ticks": "",
           "title": {
            "standoff": 15
           },
           "zerolinecolor": "white",
           "zerolinewidth": 2
          },
          "yaxis": {
           "automargin": true,
           "gridcolor": "white",
           "linecolor": "white",
           "ticks": "",
           "title": {
            "standoff": 15
           },
           "zerolinecolor": "white",
           "zerolinewidth": 2
          }
         }
        },
        "title": {
         "text": "Connection Capacity by Host TO, Plant Type, and Project Status. (click to Expand)"
        },
        "width": 800
       }
      }
     },
     "metadata": {},
     "output_type": "display_data"
    }
   ],
   "source": [
    "colors = ['#800080', '#2B5D18', '#FFD700', '#2CFF05']\n",
    "sun = px.sunburst(data_frame=data,\n",
    "                  values='Connection Cap (MW)',\n",
    "                  color='HOST TO',\n",
    "                  color_discrete_sequence=colors*(data.shape[0]//4 + 1),\n",
    "                  path=['HOST TO', 'Plant Type', 'Project Status'],\n",
    "                  hover_data=['Project Name', 'Connection Cap (MW)'],\n",
    "                  width=800, height=800,\n",
    "                  title='Connection Capacity by Host TO, Plant Type, and Project Status. (click to Expand)')\n",
    "\n",
    "sun.show()"
   ]
  },
  {
   "cell_type": "code",
   "execution_count": 213,
   "metadata": {},
   "outputs": [
    {
     "data": {
      "text/html": [
       "<div>\n",
       "<style scoped>\n",
       "    .dataframe tbody tr th:only-of-type {\n",
       "        vertical-align: middle;\n",
       "    }\n",
       "\n",
       "    .dataframe tbody tr th {\n",
       "        vertical-align: top;\n",
       "    }\n",
       "\n",
       "    .dataframe thead th {\n",
       "        text-align: right;\n",
       "    }\n",
       "</style>\n",
       "<table border=\"1\" class=\"dataframe\">\n",
       "  <thead>\n",
       "    <tr style=\"text-align: right;\">\n",
       "      <th></th>\n",
       "      <th></th>\n",
       "      <th>Connection Cap (MW)</th>\n",
       "      <th>Project Name</th>\n",
       "    </tr>\n",
       "    <tr>\n",
       "      <th>Project Status</th>\n",
       "      <th>HOST TO</th>\n",
       "      <th></th>\n",
       "      <th></th>\n",
       "    </tr>\n",
       "  </thead>\n",
       "  <tbody>\n",
       "    <tr>\n",
       "      <th rowspan=\"3\" valign=\"top\">Awaiting Consents</th>\n",
       "      <th>NGET</th>\n",
       "      <td>53442.460</td>\n",
       "      <td>120</td>\n",
       "    </tr>\n",
       "    <tr>\n",
       "      <th>SHET</th>\n",
       "      <td>1633.800</td>\n",
       "      <td>11</td>\n",
       "    </tr>\n",
       "    <tr>\n",
       "      <th>SPT</th>\n",
       "      <td>3597.440</td>\n",
       "      <td>26</td>\n",
       "    </tr>\n",
       "    <tr>\n",
       "      <th rowspan=\"4\" valign=\"top\">Built</th>\n",
       "      <th>NGET</th>\n",
       "      <td>58544.670</td>\n",
       "      <td>152</td>\n",
       "    </tr>\n",
       "    <tr>\n",
       "      <th>OFTO</th>\n",
       "      <td>4338.400</td>\n",
       "      <td>17</td>\n",
       "    </tr>\n",
       "    <tr>\n",
       "      <th>SHET</th>\n",
       "      <td>6643.850</td>\n",
       "      <td>80</td>\n",
       "    </tr>\n",
       "    <tr>\n",
       "      <th>SPT</th>\n",
       "      <td>7050.800</td>\n",
       "      <td>63</td>\n",
       "    </tr>\n",
       "    <tr>\n",
       "      <th rowspan=\"3\" valign=\"top\">Consents Approved</th>\n",
       "      <th>NGET</th>\n",
       "      <td>29085.065</td>\n",
       "      <td>81</td>\n",
       "    </tr>\n",
       "    <tr>\n",
       "      <th>SHET</th>\n",
       "      <td>5723.490</td>\n",
       "      <td>39</td>\n",
       "    </tr>\n",
       "    <tr>\n",
       "      <th>SPT</th>\n",
       "      <td>3533.630</td>\n",
       "      <td>28</td>\n",
       "    </tr>\n",
       "    <tr>\n",
       "      <th rowspan=\"3\" valign=\"top\">Scoping</th>\n",
       "      <th>NGET</th>\n",
       "      <td>335186.880</td>\n",
       "      <td>772</td>\n",
       "    </tr>\n",
       "    <tr>\n",
       "      <th>SHET</th>\n",
       "      <td>66321.447</td>\n",
       "      <td>220</td>\n",
       "    </tr>\n",
       "    <tr>\n",
       "      <th>SPT</th>\n",
       "      <td>58332.790</td>\n",
       "      <td>262</td>\n",
       "    </tr>\n",
       "    <tr>\n",
       "      <th rowspan=\"2\" valign=\"top\">Under Construction/Commissioning</th>\n",
       "      <th>NGET</th>\n",
       "      <td>10707.260</td>\n",
       "      <td>22</td>\n",
       "    </tr>\n",
       "    <tr>\n",
       "      <th>SPT</th>\n",
       "      <td>711.500</td>\n",
       "      <td>3</td>\n",
       "    </tr>\n",
       "  </tbody>\n",
       "</table>\n",
       "</div>"
      ],
      "text/plain": [
       "                                          Connection Cap (MW)  Project Name\n",
       "Project Status                   HOST TO                                   \n",
       "Awaiting Consents                NGET               53442.460           120\n",
       "                                 SHET                1633.800            11\n",
       "                                 SPT                 3597.440            26\n",
       "Built                            NGET               58544.670           152\n",
       "                                 OFTO                4338.400            17\n",
       "                                 SHET                6643.850            80\n",
       "                                 SPT                 7050.800            63\n",
       "Consents Approved                NGET               29085.065            81\n",
       "                                 SHET                5723.490            39\n",
       "                                 SPT                 3533.630            28\n",
       "Scoping                          NGET              335186.880           772\n",
       "                                 SHET               66321.447           220\n",
       "                                 SPT                58332.790           262\n",
       "Under Construction/Commissioning NGET               10707.260            22\n",
       "                                 SPT                  711.500             3"
      ]
     },
     "execution_count": 213,
     "metadata": {},
     "output_type": "execute_result"
    }
   ],
   "source": [
    "status_proj_cap = data.groupby(['Project Status', 'HOST TO']).agg({'Connection Cap (MW)': 'sum',\n",
    "                                        'Project Name': 'count'})\n",
    "status_proj_cap"
   ]
  },
  {
   "cell_type": "markdown",
   "metadata": {},
   "source": [
    "> Analysis of Project Status by Connection Capacity (in GW)\n",
    "\n",
    "The dataset categorizes projects by their connection capacity and status, summarized as follows:\n",
    "\n",
    "1. **Scoping**:\n",
    "   - **Capacity**: 459.84 GW\n",
    "   - **Number of Projects**: 1,254\n",
    "   - **Insight**: This category has the largest capacity, indicating a substantial number of projects in the planning phase. This suggests significant future potential for energy generation.\n",
    "\n",
    "2. **Built**:\n",
    "   - **Capacity**: 76.58 GW\n",
    "   - **Number of Projects**: 312\n",
    "   - **Insight**: Operational projects contribute a notable portion to the energy supply, reflecting established capacity.\n",
    "\n",
    "3. **Awaiting Consents**:\n",
    "   - **Capacity**: 58.67 GW\n",
    "   - **Number of Projects**: 157\n",
    "   - **Insight**: This significant capacity shows many projects waiting for approvals, which may delay future capacity additions to the grid.\n",
    "\n",
    "4. **Consents Approved**:\n",
    "   - **Capacity**: 38.34 GW\n",
    "   - **Number of Projects**: 148\n",
    "   - **Insight**: These projects are positioned for development but have less capacity than built and scoping projects.\n",
    "\n",
    "5. **Under Construction/Commissioning**:\n",
    "   - **Capacity**: 11.42 GW\n",
    "   - **Number of Projects**: 25\n",
    "   - **Insight**: This is the lowest capacity category, indicating limited current construction activity compared to planning stages.\n",
    "\n",
    "### Summary\n",
    "\n",
    "The analysis reveals a significant pipeline of projects in the scoping phase, suggesting future growth in capacity. Operational projects, while substantial, are outpaced by planned capacity, indicating potential challenges in meeting demand if regulatory approvals lag. The distribution highlights the importance of advancing projects through the consent and construction phases to ensure timely energy generation."
   ]
  },
  {
   "cell_type": "code",
   "execution_count": 256,
   "metadata": {},
   "outputs": [
    {
     "data": {
      "application/vnd.plotly.v1+json": {
       "config": {
        "plotlyServerURL": "https://plot.ly"
       },
       "data": [
        {
         "customdata": [
          [
           "SHET",
           "Scoping"
          ],
          [
           "NGET",
           "Scoping"
          ],
          [
           "SHET",
           "Scoping"
          ],
          [
           "NGET",
           "Built"
          ],
          [
           "SHET",
           "Scoping"
          ],
          [
           "SHET",
           "Consents Approved"
          ],
          [
           "SHET",
           "Built"
          ],
          [
           "NGET",
           "Scoping"
          ],
          [
           "NGET",
           "Scoping"
          ],
          [
           "NGET",
           "Scoping"
          ],
          [
           "NGET",
           "Scoping"
          ],
          [
           "SHET",
           "Scoping"
          ],
          [
           "SHET",
           "Scoping"
          ],
          [
           "SHET",
           "Scoping"
          ],
          [
           "SHET",
           "Built"
          ],
          [
           "SHET",
           "Scoping"
          ],
          [
           "SHET",
           "Scoping"
          ],
          [
           "NGET",
           "Scoping"
          ],
          [
           "SPT",
           "Built"
          ],
          [
           "SPT",
           "Scoping"
          ],
          [
           "SPT",
           "Scoping"
          ],
          [
           "SPT",
           "Scoping"
          ],
          [
           "SHET",
           "Built"
          ],
          [
           "SPT",
           "Built"
          ],
          [
           "SPT",
           "Built"
          ],
          [
           "SPT",
           "Built"
          ],
          [
           "SPT",
           "Awaiting Consents"
          ],
          [
           "SPT",
           "Scoping"
          ],
          [
           "SHET",
           "Scoping"
          ],
          [
           "NGET",
           "Consents Approved"
          ],
          [
           "NGET",
           "Scoping"
          ],
          [
           "SPT",
           "Scoping"
          ],
          [
           "NGET",
           "Scoping"
          ],
          [
           "NGET",
           "Scoping"
          ],
          [
           "SPT",
           "Scoping"
          ],
          [
           "SPT",
           "Scoping"
          ],
          [
           "SHET",
           "Scoping"
          ],
          [
           "SHET",
           "Scoping"
          ],
          [
           "SHET",
           "Scoping"
          ],
          [
           "NGET",
           "Scoping"
          ],
          [
           "SHET",
           "Scoping"
          ],
          [
           "SPT",
           "Consents Approved"
          ],
          [
           "NGET",
           "Scoping"
          ],
          [
           "NGET",
           "Scoping"
          ],
          [
           "NGET",
           "Scoping"
          ],
          [
           "NGET",
           "Scoping"
          ],
          [
           "NGET",
           "Scoping"
          ],
          [
           "SHET",
           "Scoping"
          ],
          [
           "SHET",
           "Scoping"
          ],
          [
           "SHET",
           "Scoping"
          ],
          [
           "NGET",
           "Scoping"
          ],
          [
           "NGET",
           "Scoping"
          ],
          [
           "NGET",
           "Scoping"
          ],
          [
           "SPT",
           "Scoping"
          ],
          [
           "SHET",
           "Built"
          ],
          [
           "SPT",
           "Built"
          ],
          [
           "NGET",
           "Scoping"
          ],
          [
           "SHET",
           "Consents Approved"
          ],
          [
           "SHET",
           "Built"
          ],
          [
           "NGET",
           "Scoping"
          ],
          [
           "SPT",
           "Scoping"
          ],
          [
           "SHET",
           "Scoping"
          ],
          [
           "SPT",
           "Built"
          ],
          [
           "SPT",
           "Scoping"
          ],
          [
           "SPT",
           "Scoping"
          ],
          [
           "NGET",
           "Scoping"
          ],
          [
           "SHET",
           "Awaiting Consents"
          ],
          [
           "SPT",
           "Scoping"
          ],
          [
           "SPT",
           "Scoping"
          ],
          [
           "SPT",
           "Scoping"
          ],
          [
           "SPT",
           "Scoping"
          ],
          [
           "SHET",
           "Scoping"
          ],
          [
           "SHET",
           "Scoping"
          ],
          [
           "NGET",
           "Scoping"
          ],
          [
           "SPT",
           "Scoping"
          ],
          [
           "SPT",
           "Scoping"
          ],
          [
           "SPT",
           "Built"
          ],
          [
           "SPT",
           "Scoping"
          ],
          [
           "SPT",
           "Built"
          ],
          [
           "SHET",
           "Scoping"
          ],
          [
           "NGET",
           "Scoping"
          ],
          [
           "NGET",
           "Scoping"
          ],
          [
           "NGET",
           "Scoping"
          ],
          [
           "NGET",
           "Scoping"
          ],
          [
           "NGET",
           "Awaiting Consents"
          ],
          [
           "NGET",
           "Scoping"
          ],
          [
           "NGET",
           "Scoping"
          ],
          [
           "SPT",
           "Scoping"
          ],
          [
           "SPT",
           "Scoping"
          ],
          [
           "SHET",
           "Scoping"
          ],
          [
           "SPT",
           "Scoping"
          ],
          [
           "SHET",
           "Built"
          ],
          [
           "NGET",
           "Scoping"
          ],
          [
           "SHET",
           "Scoping"
          ],
          [
           "SHET",
           "Built"
          ],
          [
           "SPT",
           "Consents Approved"
          ],
          [
           "SHET",
           "Scoping"
          ],
          [
           "SHET",
           "Scoping"
          ],
          [
           "SHET",
           "Scoping"
          ],
          [
           "NGET",
           "Scoping"
          ],
          [
           "SPT",
           "Scoping"
          ],
          [
           "SPT",
           "Scoping"
          ],
          [
           "SPT",
           "Scoping"
          ],
          [
           "SPT",
           "Consents Approved"
          ],
          [
           "NGET",
           "Scoping"
          ],
          [
           "NGET",
           "Scoping"
          ],
          [
           "NGET",
           "Scoping"
          ],
          [
           "OFTO",
           "Built"
          ],
          [
           "NGET",
           "Built"
          ],
          [
           "SHET",
           "Scoping"
          ],
          [
           "NGET",
           "Scoping"
          ],
          [
           "SPT",
           "Scoping"
          ],
          [
           "SHET",
           "Scoping"
          ],
          [
           "SHET",
           "Built"
          ],
          [
           "SHET",
           "Scoping"
          ],
          [
           "SHET",
           "Consents Approved"
          ],
          [
           "NGET",
           "Scoping"
          ],
          [
           "NGET",
           "Scoping"
          ],
          [
           "NGET",
           "Built"
          ],
          [
           "NGET",
           "Built"
          ],
          [
           "SHET",
           "Built"
          ],
          [
           "SHET",
           "Built"
          ],
          [
           "SHET",
           "Built"
          ],
          [
           "SHET",
           "Scoping"
          ],
          [
           "SHET",
           "Built"
          ],
          [
           "NGET",
           "Scoping"
          ],
          [
           "SPT",
           "Scoping"
          ],
          [
           "SPT",
           "Awaiting Consents"
          ],
          [
           "SPT",
           "Scoping"
          ],
          [
           "SPT",
           "Scoping"
          ],
          [
           "SPT",
           "Scoping"
          ],
          [
           "SPT",
           "Scoping"
          ],
          [
           "NGET",
           "Scoping"
          ],
          [
           "NGET",
           "Scoping"
          ],
          [
           "NGET",
           "Scoping"
          ],
          [
           "NGET",
           "Awaiting Consents"
          ],
          [
           "SHET",
           "Built"
          ],
          [
           "SHET",
           "Scoping"
          ],
          [
           "SPT",
           "Scoping"
          ],
          [
           "SPT",
           "Scoping"
          ],
          [
           "SPT",
           "Scoping"
          ],
          [
           "NGET",
           "Scoping"
          ],
          [
           "SPT",
           "Scoping"
          ],
          [
           "NGET",
           "Scoping"
          ],
          [
           "NGET",
           "Consents Approved"
          ],
          [
           "NGET",
           "Scoping"
          ],
          [
           "NGET",
           "Scoping"
          ],
          [
           "NGET",
           "Scoping"
          ],
          [
           "NGET",
           "Scoping"
          ],
          [
           "SHET",
           "Scoping"
          ],
          [
           "SHET",
           "Built"
          ],
          [
           "NGET",
           "Scoping"
          ],
          [
           "NGET",
           "Awaiting Consents"
          ],
          [
           "NGET",
           "Scoping"
          ],
          [
           "NGET",
           "Awaiting Consents"
          ],
          [
           "NGET",
           "Scoping"
          ],
          [
           "NGET",
           "Scoping"
          ],
          [
           "NGET",
           "Scoping"
          ],
          [
           "NGET",
           "Scoping"
          ],
          [
           "NGET",
           "Scoping"
          ],
          [
           "NGET",
           "Scoping"
          ],
          [
           "SHET",
           "Scoping"
          ],
          [
           "SHET",
           "Scoping"
          ],
          [
           "SPT",
           "Scoping"
          ],
          [
           "SPT",
           "Built"
          ],
          [
           "SHET",
           "Scoping"
          ],
          [
           "SPT",
           "Built"
          ],
          [
           "SPT",
           "Scoping"
          ],
          [
           "SPT",
           "Built"
          ],
          [
           "NGET",
           "Built"
          ],
          [
           "NGET",
           "Scoping"
          ],
          [
           "NGET",
           "Scoping"
          ],
          [
           "SHET",
           "Scoping"
          ],
          [
           "NGET",
           "Scoping"
          ],
          [
           "SHET",
           "Consents Approved"
          ],
          [
           "SHET",
           "Built"
          ],
          [
           "SPT",
           "Scoping"
          ],
          [
           "NGET",
           "Built"
          ],
          [
           "NGET",
           "Scoping"
          ],
          [
           "NGET",
           "Scoping"
          ],
          [
           "NGET",
           "Scoping"
          ],
          [
           "SPT",
           "Awaiting Consents"
          ],
          [
           "NGET",
           "Scoping"
          ],
          [
           "NGET",
           "Scoping"
          ],
          [
           "NGET",
           "Scoping"
          ],
          [
           "NGET",
           "Scoping"
          ],
          [
           "NGET",
           "Scoping"
          ],
          [
           "NGET",
           "Scoping"
          ],
          [
           "NGET",
           "Scoping"
          ],
          [
           "NGET",
           "Scoping"
          ],
          [
           "NGET",
           "Awaiting Consents"
          ],
          [
           "SPT",
           "Scoping"
          ],
          [
           "SPT",
           "Scoping"
          ],
          [
           "SPT",
           "Scoping"
          ],
          [
           "NGET",
           "Awaiting Consents"
          ],
          [
           "NGET",
           "Scoping"
          ],
          [
           "SHET",
           "Scoping"
          ],
          [
           "SPT",
           "Scoping"
          ],
          [
           "NGET",
           "Scoping"
          ],
          [
           "NGET",
           "Scoping"
          ],
          [
           "NGET",
           "Consents Approved"
          ],
          [
           "NGET",
           "Scoping"
          ],
          [
           "NGET",
           "Scoping"
          ],
          [
           "NGET",
           "Scoping"
          ],
          [
           "SHET",
           "Scoping"
          ],
          [
           "SPT",
           "Awaiting Consents"
          ],
          [
           "SHET",
           "Awaiting Consents"
          ],
          [
           "SHET",
           "Built"
          ],
          [
           "SPT",
           "Scoping"
          ],
          [
           "NGET",
           "Scoping"
          ],
          [
           "NGET",
           "Awaiting Consents"
          ],
          [
           "NGET",
           "Scoping"
          ],
          [
           "NGET",
           "Awaiting Consents"
          ],
          [
           "NGET",
           "Awaiting Consents"
          ],
          [
           "NGET",
           "Awaiting Consents"
          ],
          [
           "NGET",
           "Scoping"
          ],
          [
           "NGET",
           "Awaiting Consents"
          ],
          [
           "NGET",
           "Scoping"
          ],
          [
           "NGET",
           "Scoping"
          ],
          [
           "NGET",
           "Consents Approved"
          ],
          [
           "NGET",
           "Consents Approved"
          ],
          [
           "NGET",
           "Scoping"
          ],
          [
           "NGET",
           "Scoping"
          ],
          [
           "SPT",
           "Scoping"
          ],
          [
           "SPT",
           "Scoping"
          ],
          [
           "SPT",
           "Scoping"
          ],
          [
           "NGET",
           "Scoping"
          ],
          [
           "NGET",
           "Scoping"
          ],
          [
           "NGET",
           "Consents Approved"
          ],
          [
           "SHET",
           "Scoping"
          ],
          [
           "SHET",
           "Scoping"
          ],
          [
           "NGET",
           "Scoping"
          ],
          [
           "SPT",
           "Scoping"
          ],
          [
           "SPT",
           "Scoping"
          ],
          [
           "NGET",
           "Scoping"
          ],
          [
           "NGET",
           "Scoping"
          ],
          [
           "NGET",
           "Built"
          ],
          [
           "NGET",
           "Scoping"
          ],
          [
           "NGET",
           "Under Construction/Commissioning"
          ],
          [
           "SHET",
           "Scoping"
          ],
          [
           "SPT",
           "Built"
          ],
          [
           "NGET",
           "Under Construction/Commissioning"
          ],
          [
           "SPT",
           "Scoping"
          ],
          [
           "SHET",
           "Built"
          ],
          [
           "NGET",
           "Scoping"
          ],
          [
           "NGET",
           "Scoping"
          ],
          [
           "NGET",
           "Scoping"
          ],
          [
           "SHET",
           "Scoping"
          ],
          [
           "NGET",
           "Scoping"
          ],
          [
           "NGET",
           "Scoping"
          ],
          [
           "NGET",
           "Scoping"
          ],
          [
           "NGET",
           "Scoping"
          ],
          [
           "NGET",
           "Scoping"
          ],
          [
           "NGET",
           "Consents Approved"
          ],
          [
           "NGET",
           "Awaiting Consents"
          ],
          [
           "NGET",
           "Built"
          ],
          [
           "NGET",
           "Built"
          ],
          [
           "NGET",
           "Built"
          ],
          [
           "SHET",
           "Built"
          ],
          [
           "NGET",
           "Built"
          ],
          [
           "NGET",
           "Awaiting Consents"
          ],
          [
           "NGET",
           "Scoping"
          ],
          [
           "NGET",
           "Scoping"
          ],
          [
           "NGET",
           "Scoping"
          ],
          [
           "NGET",
           "Scoping"
          ],
          [
           "NGET",
           "Built"
          ],
          [
           "NGET",
           "Scoping"
          ],
          [
           "NGET",
           "Scoping"
          ],
          [
           "NGET",
           "Scoping"
          ],
          [
           "NGET",
           "Scoping"
          ],
          [
           "NGET",
           "Scoping"
          ],
          [
           "NGET",
           "Scoping"
          ],
          [
           "NGET",
           "Scoping"
          ],
          [
           "NGET",
           "Awaiting Consents"
          ],
          [
           "NGET",
           "Scoping"
          ],
          [
           "SHET",
           "Scoping"
          ],
          [
           "SHET",
           "Scoping"
          ],
          [
           "SHET",
           "Awaiting Consents"
          ],
          [
           "NGET",
           "Scoping"
          ],
          [
           "SPT",
           "Built"
          ],
          [
           "SPT",
           "Scoping"
          ],
          [
           "NGET",
           "Scoping"
          ],
          [
           "NGET",
           "Scoping"
          ],
          [
           "NGET",
           "Scoping"
          ],
          [
           "NGET",
           "Scoping"
          ],
          [
           "NGET",
           "Scoping"
          ],
          [
           "NGET",
           "Awaiting Consents"
          ],
          [
           "NGET",
           "Built"
          ],
          [
           "NGET",
           "Consents Approved"
          ],
          [
           "SHET",
           "Scoping"
          ],
          [
           "SPT",
           "Scoping"
          ],
          [
           "NGET",
           "Scoping"
          ],
          [
           "NGET",
           "Scoping"
          ],
          [
           "SHET",
           "Scoping"
          ],
          [
           "NGET",
           "Scoping"
          ],
          [
           "SHET",
           "Built"
          ],
          [
           "SPT",
           "Scoping"
          ],
          [
           "NGET",
           "Awaiting Consents"
          ],
          [
           "NGET",
           "Scoping"
          ],
          [
           "NGET",
           "Built"
          ],
          [
           "SHET",
           "Built"
          ],
          [
           "SPT",
           "Scoping"
          ],
          [
           "SPT",
           "Scoping"
          ],
          [
           "NGET",
           "Scoping"
          ],
          [
           "NGET",
           "Built"
          ],
          [
           "SHET",
           "Built"
          ],
          [
           "SHET",
           "Scoping"
          ],
          [
           "NGET",
           "Scoping"
          ],
          [
           "NGET",
           "Awaiting Consents"
          ],
          [
           "NGET",
           "Awaiting Consents"
          ],
          [
           "NGET",
           "Scoping"
          ],
          [
           "NGET",
           "Scoping"
          ],
          [
           "NGET",
           "Scoping"
          ],
          [
           "NGET",
           "Scoping"
          ],
          [
           "NGET",
           "Scoping"
          ],
          [
           "NGET",
           "Scoping"
          ],
          [
           "NGET",
           "Scoping"
          ],
          [
           "NGET",
           "Scoping"
          ],
          [
           "SPT",
           "Scoping"
          ],
          [
           "NGET",
           "Consents Approved"
          ],
          [
           "NGET",
           "Scoping"
          ],
          [
           "SPT",
           "Scoping"
          ],
          [
           "NGET",
           "Built"
          ],
          [
           "NGET",
           "Built"
          ],
          [
           "NGET",
           "Scoping"
          ],
          [
           "NGET",
           "Scoping"
          ],
          [
           "NGET",
           "Awaiting Consents"
          ],
          [
           "NGET",
           "Awaiting Consents"
          ],
          [
           "NGET",
           "Awaiting Consents"
          ],
          [
           "NGET",
           "Built"
          ],
          [
           "NGET",
           "Awaiting Consents"
          ],
          [
           "SPT",
           "Consents Approved"
          ],
          [
           "SHET",
           "Scoping"
          ],
          [
           "NGET",
           "Awaiting Consents"
          ],
          [
           "NGET",
           "Scoping"
          ],
          [
           "NGET",
           "Scoping"
          ],
          [
           "NGET",
           "Awaiting Consents"
          ],
          [
           "NGET",
           "Awaiting Consents"
          ],
          [
           "NGET",
           "Consents Approved"
          ],
          [
           "SHET",
           "Awaiting Consents"
          ],
          [
           "SHET",
           "Built"
          ],
          [
           "SHET",
           "Scoping"
          ],
          [
           "SPT",
           "Scoping"
          ],
          [
           "NGET",
           "Under Construction/Commissioning"
          ],
          [
           "NGET",
           "Under Construction/Commissioning"
          ],
          [
           "NGET",
           "Built"
          ],
          [
           "NGET",
           "Scoping"
          ],
          [
           "NGET",
           "Under Construction/Commissioning"
          ],
          [
           "SPT",
           "Scoping"
          ],
          [
           "NGET",
           "Scoping"
          ],
          [
           "NGET",
           "Scoping"
          ],
          [
           "SPT",
           "Scoping"
          ],
          [
           "SHET",
           "Scoping"
          ],
          [
           "SPT",
           "Awaiting Consents"
          ],
          [
           "SPT",
           "Scoping"
          ],
          [
           "SHET",
           "Scoping"
          ],
          [
           "SHET",
           "Built"
          ],
          [
           "SPT",
           "Built"
          ],
          [
           "SPT",
           "Built"
          ],
          [
           "SHET",
           "Scoping"
          ],
          [
           "SHET",
           "Scoping"
          ],
          [
           "SPT",
           "Scoping"
          ],
          [
           "SPT",
           "Scoping"
          ],
          [
           "NGET",
           "Scoping"
          ],
          [
           "NGET",
           "Scoping"
          ],
          [
           "NGET",
           "Scoping"
          ],
          [
           "SHET",
           "Consents Approved"
          ],
          [
           "SHET",
           "Consents Approved"
          ],
          [
           "SHET",
           "Scoping"
          ],
          [
           "SHET",
           "Built"
          ],
          [
           "NGET",
           "Scoping"
          ],
          [
           "SPT",
           "Scoping"
          ],
          [
           "SPT",
           "Scoping"
          ],
          [
           "NGET",
           "Built"
          ],
          [
           "NGET",
           "Built"
          ],
          [
           "NGET",
           "Built"
          ],
          [
           "NGET",
           "Built"
          ],
          [
           "NGET",
           "Built"
          ],
          [
           "NGET",
           "Built"
          ],
          [
           "SHET",
           "Scoping"
          ],
          [
           "NGET",
           "Scoping"
          ],
          [
           "NGET",
           "Built"
          ],
          [
           "NGET",
           "Scoping"
          ],
          [
           "SPT",
           "Scoping"
          ],
          [
           "NGET",
           "Scoping"
          ],
          [
           "SHET",
           "Built"
          ],
          [
           "SHET",
           "Scoping"
          ],
          [
           "SHET",
           "Scoping"
          ],
          [
           "SHET",
           "Built"
          ],
          [
           "SHET",
           "Scoping"
          ],
          [
           "NGET",
           "Scoping"
          ],
          [
           "NGET",
           "Built"
          ],
          [
           "SHET",
           "Consents Approved"
          ],
          [
           "NGET",
           "Scoping"
          ],
          [
           "NGET",
           "Scoping"
          ],
          [
           "NGET",
           "Scoping"
          ],
          [
           "NGET",
           "Consents Approved"
          ],
          [
           "NGET",
           "Scoping"
          ],
          [
           "SHET",
           "Consents Approved"
          ],
          [
           "SHET",
           "Scoping"
          ],
          [
           "SHET",
           "Built"
          ],
          [
           "NGET",
           "Built"
          ],
          [
           "NGET",
           "Built"
          ],
          [
           "NGET",
           "Built"
          ],
          [
           "NGET",
           "Scoping"
          ],
          [
           "NGET",
           "Scoping"
          ],
          [
           "NGET",
           "Scoping"
          ],
          [
           "NGET",
           "Scoping"
          ],
          [
           "SPT",
           "Scoping"
          ],
          [
           "SPT",
           "Awaiting Consents"
          ],
          [
           "NGET",
           "Scoping"
          ],
          [
           "SPT",
           "Built"
          ],
          [
           "SPT",
           "Scoping"
          ],
          [
           "SPT",
           "Scoping"
          ],
          [
           "SHET",
           "Scoping"
          ],
          [
           "SPT",
           "Scoping"
          ],
          [
           "SHET",
           "Scoping"
          ],
          [
           "SHET",
           "Built"
          ],
          [
           "SHET",
           "Consents Approved"
          ],
          [
           "NGET",
           "Scoping"
          ],
          [
           "NGET",
           "Consents Approved"
          ],
          [
           "NGET",
           "Scoping"
          ],
          [
           "NGET",
           "Scoping"
          ],
          [
           "SPT",
           "Built"
          ],
          [
           "SHET",
           "Scoping"
          ],
          [
           "SPT",
           "Built"
          ],
          [
           "SPT",
           "Scoping"
          ],
          [
           "SPT",
           "Scoping"
          ],
          [
           "NGET",
           "Consents Approved"
          ],
          [
           "SPT",
           "Built"
          ],
          [
           "SPT",
           "Built"
          ],
          [
           "SPT",
           "Under Construction/Commissioning"
          ],
          [
           "NGET",
           "Scoping"
          ],
          [
           "NGET",
           "Scoping"
          ],
          [
           "NGET",
           "Scoping"
          ],
          [
           "SHET",
           "Built"
          ],
          [
           "SPT",
           "Built"
          ],
          [
           "SPT",
           "Awaiting Consents"
          ],
          [
           "NGET",
           "Consents Approved"
          ],
          [
           "NGET",
           "Built"
          ],
          [
           "NGET",
           "Built"
          ],
          [
           "SHET",
           "Scoping"
          ],
          [
           "SPT",
           "Scoping"
          ],
          [
           "NGET",
           "Scoping"
          ],
          [
           "NGET",
           "Scoping"
          ],
          [
           "NGET",
           "Scoping"
          ],
          [
           "NGET",
           "Scoping"
          ],
          [
           "SHET",
           "Scoping"
          ],
          [
           "SPT",
           "Scoping"
          ],
          [
           "SPT",
           "Scoping"
          ],
          [
           "SPT",
           "Built"
          ],
          [
           "SPT",
           "Built"
          ],
          [
           "SPT",
           "Scoping"
          ],
          [
           "NGET",
           "Built"
          ],
          [
           "NGET",
           "Consents Approved"
          ],
          [
           "NGET",
           "Scoping"
          ],
          [
           "NGET",
           "Scoping"
          ],
          [
           "SHET",
           "Scoping"
          ],
          [
           "SPT",
           "Scoping"
          ],
          [
           "SHET",
           "Built"
          ],
          [
           "NGET",
           "Scoping"
          ],
          [
           "SHET",
           "Consents Approved"
          ],
          [
           "SPT",
           "Scoping"
          ],
          [
           "NGET",
           "Scoping"
          ],
          [
           "SPT",
           "Built"
          ],
          [
           "NGET",
           "Built"
          ],
          [
           "NGET",
           "Scoping"
          ],
          [
           "SHET",
           "Scoping"
          ],
          [
           "SPT",
           "Scoping"
          ],
          [
           "SPT",
           "Scoping"
          ],
          [
           "NGET",
           "Scoping"
          ],
          [
           "NGET",
           "Built"
          ],
          [
           "NGET",
           "Built"
          ],
          [
           "NGET",
           "Scoping"
          ],
          [
           "NGET",
           "Scoping"
          ],
          [
           "NGET",
           "Scoping"
          ],
          [
           "NGET",
           "Awaiting Consents"
          ],
          [
           "NGET",
           "Scoping"
          ],
          [
           "NGET",
           "Scoping"
          ],
          [
           "NGET",
           "Scoping"
          ],
          [
           "NGET",
           "Scoping"
          ],
          [
           "NGET",
           "Built"
          ],
          [
           "NGET",
           "Awaiting Consents"
          ],
          [
           "NGET",
           "Under Construction/Commissioning"
          ],
          [
           "NGET",
           "Under Construction/Commissioning"
          ],
          [
           "NGET",
           "Consents Approved"
          ],
          [
           "NGET",
           "Scoping"
          ],
          [
           "NGET",
           "Built"
          ],
          [
           "NGET",
           "Scoping"
          ],
          [
           "SPT",
           "Scoping"
          ],
          [
           "NGET",
           "Scoping"
          ],
          [
           "NGET",
           "Scoping"
          ],
          [
           "SHET",
           "Scoping"
          ],
          [
           "SHET",
           "Built"
          ],
          [
           "SHET",
           "Scoping"
          ],
          [
           "SPT",
           "Built"
          ],
          [
           "SPT",
           "Consents Approved"
          ],
          [
           "SPT",
           "Scoping"
          ],
          [
           "NGET",
           "Scoping"
          ],
          [
           "NGET",
           "Built"
          ],
          [
           "SPT",
           "Scoping"
          ],
          [
           "NGET",
           "Scoping"
          ],
          [
           "NGET",
           "Scoping"
          ],
          [
           "NGET",
           "Scoping"
          ],
          [
           "NGET",
           "Awaiting Consents"
          ],
          [
           "NGET",
           "Awaiting Consents"
          ],
          [
           "NGET",
           "Scoping"
          ],
          [
           "NGET",
           "Scoping"
          ],
          [
           "NGET",
           "Scoping"
          ],
          [
           "NGET",
           "Built"
          ],
          [
           "NGET",
           "Built"
          ],
          [
           "NGET",
           "Scoping"
          ],
          [
           "SPT",
           "Scoping"
          ],
          [
           "SHET",
           "Scoping"
          ],
          [
           "SHET",
           "Scoping"
          ],
          [
           "SHET",
           "Scoping"
          ],
          [
           "SPT",
           "Scoping"
          ],
          [
           "SHET",
           "Scoping"
          ],
          [
           "SPT",
           "Scoping"
          ],
          [
           "SHET",
           "Scoping"
          ],
          [
           "NGET",
           "Built"
          ],
          [
           "SHET",
           "Scoping"
          ],
          [
           "SHET",
           "Scoping"
          ],
          [
           "NGET",
           "Scoping"
          ],
          [
           "NGET",
           "Built"
          ],
          [
           "NGET",
           "Scoping"
          ],
          [
           "NGET",
           "Scoping"
          ],
          [
           "SPT",
           "Built"
          ],
          [
           "SHET",
           "Built"
          ],
          [
           "SHET",
           "Scoping"
          ],
          [
           "NGET",
           "Scoping"
          ],
          [
           "SHET",
           "Scoping"
          ],
          [
           "SHET",
           "Scoping"
          ],
          [
           "NGET",
           "Scoping"
          ],
          [
           "SHET",
           "Scoping"
          ],
          [
           "NGET",
           "Built"
          ],
          [
           "NGET",
           "Awaiting Consents"
          ],
          [
           "NGET",
           "Consents Approved"
          ],
          [
           "NGET",
           "Consents Approved"
          ],
          [
           "NGET",
           "Awaiting Consents"
          ],
          [
           "NGET",
           "Awaiting Consents"
          ],
          [
           "NGET",
           "Awaiting Consents"
          ],
          [
           "NGET",
           "Scoping"
          ],
          [
           "NGET",
           "Scoping"
          ],
          [
           "NGET",
           "Scoping"
          ],
          [
           "NGET",
           "Scoping"
          ],
          [
           "NGET",
           "Scoping"
          ],
          [
           "NGET",
           "Scoping"
          ],
          [
           "NGET",
           "Scoping"
          ],
          [
           "NGET",
           "Scoping"
          ],
          [
           "NGET",
           "Scoping"
          ],
          [
           "NGET",
           "Scoping"
          ],
          [
           "SPT",
           "Scoping"
          ],
          [
           "NGET",
           "Awaiting Consents"
          ],
          [
           "NGET",
           "Scoping"
          ],
          [
           "SPT",
           "Scoping"
          ],
          [
           "SPT",
           "Scoping"
          ],
          [
           "NGET",
           "Scoping"
          ],
          [
           "NGET",
           "Scoping"
          ],
          [
           "SPT",
           "Scoping"
          ],
          [
           "NGET",
           "Scoping"
          ],
          [
           "NGET",
           "Scoping"
          ],
          [
           "NGET",
           "Scoping"
          ],
          [
           "NGET",
           "Scoping"
          ],
          [
           "SHET",
           "Built"
          ],
          [
           "SHET",
           "Scoping"
          ],
          [
           "NGET",
           "Scoping"
          ],
          [
           "NGET",
           "Awaiting Consents"
          ],
          [
           "NGET",
           "Scoping"
          ],
          [
           "SHET",
           "Scoping"
          ],
          [
           "SHET",
           "Scoping"
          ],
          [
           "SHET",
           "Scoping"
          ],
          [
           "NGET",
           "Scoping"
          ],
          [
           "NGET",
           "Scoping"
          ],
          [
           "NGET",
           "Awaiting Consents"
          ],
          [
           "SPT",
           "Scoping"
          ],
          [
           "NGET",
           "Scoping"
          ],
          [
           "NGET",
           "Awaiting Consents"
          ],
          [
           "SPT",
           "Awaiting Consents"
          ],
          [
           "NGET",
           "Scoping"
          ],
          [
           "NGET",
           "Awaiting Consents"
          ],
          [
           "NGET",
           "Awaiting Consents"
          ],
          [
           "NGET",
           "Scoping"
          ],
          [
           "NGET",
           "Scoping"
          ],
          [
           "NGET",
           "Scoping"
          ],
          [
           "NGET",
           "Scoping"
          ],
          [
           "NGET",
           "Scoping"
          ],
          [
           "SPT",
           "Scoping"
          ],
          [
           "SPT",
           "Scoping"
          ],
          [
           "SPT",
           "Scoping"
          ],
          [
           "NGET",
           "Consents Approved"
          ],
          [
           "NGET",
           "Scoping"
          ],
          [
           "NGET",
           "Scoping"
          ],
          [
           "NGET",
           "Scoping"
          ],
          [
           "NGET",
           "Awaiting Consents"
          ],
          [
           "NGET",
           "Scoping"
          ],
          [
           "SHET",
           "Awaiting Consents"
          ],
          [
           "NGET",
           "Built"
          ],
          [
           "SPT",
           "Consents Approved"
          ],
          [
           "SHET",
           "Scoping"
          ],
          [
           "NGET",
           "Scoping"
          ],
          [
           "NGET",
           "Scoping"
          ],
          [
           "NGET",
           "Scoping"
          ],
          [
           "NGET",
           "Scoping"
          ],
          [
           "NGET",
           "Scoping"
          ],
          [
           "NGET",
           "Scoping"
          ],
          [
           "SPT",
           "Scoping"
          ],
          [
           "NGET",
           "Scoping"
          ],
          [
           "NGET",
           "Scoping"
          ],
          [
           "NGET",
           "Scoping"
          ],
          [
           "NGET",
           "Scoping"
          ],
          [
           "NGET",
           "Scoping"
          ],
          [
           "NGET",
           "Scoping"
          ],
          [
           "NGET",
           "Scoping"
          ],
          [
           "SPT",
           "Scoping"
          ],
          [
           "NGET",
           "Scoping"
          ],
          [
           "NGET",
           "Scoping"
          ],
          [
           "SHET",
           "Scoping"
          ],
          [
           "SHET",
           "Built"
          ],
          [
           "NGET",
           "Scoping"
          ],
          [
           "NGET",
           "Scoping"
          ],
          [
           "SPT",
           "Scoping"
          ],
          [
           "SPT",
           "Built"
          ],
          [
           "NGET",
           "Scoping"
          ],
          [
           "NGET",
           "Awaiting Consents"
          ],
          [
           "NGET",
           "Scoping"
          ],
          [
           "NGET",
           "Scoping"
          ],
          [
           "NGET",
           "Scoping"
          ],
          [
           "NGET",
           "Awaiting Consents"
          ],
          [
           "NGET",
           "Consents Approved"
          ],
          [
           "SHET",
           "Scoping"
          ],
          [
           "NGET",
           "Consents Approved"
          ],
          [
           "NGET",
           "Scoping"
          ],
          [
           "SPT",
           "Awaiting Consents"
          ],
          [
           "SPT",
           "Built"
          ],
          [
           "NGET",
           "Scoping"
          ],
          [
           "SHET",
           "Scoping"
          ],
          [
           "NGET",
           "Under Construction/Commissioning"
          ],
          [
           "SHET",
           "Built"
          ],
          [
           "SHET",
           "Scoping"
          ],
          [
           "SHET",
           "Built"
          ],
          [
           "SHET",
           "Built"
          ],
          [
           "SHET",
           "Scoping"
          ],
          [
           "SPT",
           "Awaiting Consents"
          ],
          [
           "NGET",
           "Built"
          ],
          [
           "NGET",
           "Scoping"
          ],
          [
           "SHET",
           "Scoping"
          ],
          [
           "NGET",
           "Awaiting Consents"
          ],
          [
           "NGET",
           "Scoping"
          ],
          [
           "NGET",
           "Scoping"
          ],
          [
           "NGET",
           "Scoping"
          ],
          [
           "NGET",
           "Scoping"
          ],
          [
           "NGET",
           "Scoping"
          ],
          [
           "NGET",
           "Scoping"
          ],
          [
           "SPT",
           "Scoping"
          ],
          [
           "NGET",
           "Scoping"
          ],
          [
           "NGET",
           "Scoping"
          ],
          [
           "NGET",
           "Scoping"
          ],
          [
           "NGET",
           "Scoping"
          ],
          [
           "NGET",
           "Scoping"
          ],
          [
           "NGET",
           "Awaiting Consents"
          ],
          [
           "NGET",
           "Awaiting Consents"
          ],
          [
           "NGET",
           "Scoping"
          ],
          [
           "NGET",
           "Built"
          ],
          [
           "SHET",
           "Scoping"
          ],
          [
           "NGET",
           "Scoping"
          ],
          [
           "NGET",
           "Scoping"
          ],
          [
           "SPT",
           "Scoping"
          ],
          [
           "SPT",
           "Scoping"
          ],
          [
           "SPT",
           "Scoping"
          ],
          [
           "SPT",
           "Scoping"
          ],
          [
           "SHET",
           "Built"
          ],
          [
           "NGET",
           "Scoping"
          ],
          [
           "NGET",
           "Consents Approved"
          ],
          [
           "NGET",
           "Scoping"
          ],
          [
           "NGET",
           "Scoping"
          ],
          [
           "NGET",
           "Consents Approved"
          ],
          [
           "NGET",
           "Scoping"
          ],
          [
           "NGET",
           "Scoping"
          ],
          [
           "NGET",
           "Awaiting Consents"
          ],
          [
           "NGET",
           "Scoping"
          ],
          [
           "SPT",
           "Scoping"
          ],
          [
           "SHET",
           "Scoping"
          ],
          [
           "NGET",
           "Built"
          ],
          [
           "SHET",
           "Built"
          ],
          [
           "SHET",
           "Built"
          ],
          [
           "NGET",
           "Scoping"
          ],
          [
           "NGET",
           "Scoping"
          ],
          [
           "NGET",
           "Scoping"
          ],
          [
           "SHET",
           "Scoping"
          ],
          [
           "NGET",
           "Awaiting Consents"
          ],
          [
           "SPT",
           "Built"
          ],
          [
           "NGET",
           "Scoping"
          ],
          [
           "SPT",
           "Scoping"
          ],
          [
           "SPT",
           "Scoping"
          ],
          [
           "NGET",
           "Built"
          ],
          [
           "NGET",
           "Scoping"
          ],
          [
           "NGET",
           "Scoping"
          ],
          [
           "SHET",
           "Consents Approved"
          ],
          [
           "NGET",
           "Scoping"
          ],
          [
           "SPT",
           "Scoping"
          ],
          [
           "SHET",
           "Scoping"
          ],
          [
           "NGET",
           "Scoping"
          ],
          [
           "NGET",
           "Consents Approved"
          ],
          [
           "NGET",
           "Consents Approved"
          ],
          [
           "NGET",
           "Scoping"
          ],
          [
           "NGET",
           "Scoping"
          ],
          [
           "NGET",
           "Scoping"
          ],
          [
           "NGET",
           "Scoping"
          ],
          [
           "NGET",
           "Scoping"
          ],
          [
           "NGET",
           "Scoping"
          ],
          [
           "SPT",
           "Scoping"
          ],
          [
           "SPT",
           "Scoping"
          ],
          [
           "SHET",
           "Scoping"
          ],
          [
           "NGET",
           "Built"
          ],
          [
           "SPT",
           "Scoping"
          ],
          [
           "SHET",
           "Scoping"
          ],
          [
           "NGET",
           "Scoping"
          ],
          [
           "SPT",
           "Built"
          ],
          [
           "SHET",
           "Built"
          ],
          [
           "SHET",
           "Scoping"
          ],
          [
           "SHET",
           "Scoping"
          ],
          [
           "SHET",
           "Consents Approved"
          ],
          [
           "SPT",
           "Built"
          ],
          [
           "SHET",
           "Built"
          ],
          [
           "SHET",
           "Scoping"
          ],
          [
           "SHET",
           "Built"
          ],
          [
           "SPT",
           "Consents Approved"
          ],
          [
           "SPT",
           "Awaiting Consents"
          ],
          [
           "SPT",
           "Scoping"
          ],
          [
           "SPT",
           "Scoping"
          ],
          [
           "SPT",
           "Consents Approved"
          ],
          [
           "SPT",
           "Scoping"
          ],
          [
           "SHET",
           "Built"
          ],
          [
           "SPT",
           "Consents Approved"
          ],
          [
           "SPT",
           "Scoping"
          ],
          [
           "SPT",
           "Scoping"
          ],
          [
           "SPT",
           "Scoping"
          ],
          [
           "SHET",
           "Scoping"
          ],
          [
           "NGET",
           "Built"
          ],
          [
           "SHET",
           "Built"
          ],
          [
           "SHET",
           "Built"
          ],
          [
           "NGET",
           "Scoping"
          ],
          [
           "NGET",
           "Built"
          ],
          [
           "NGET",
           "Scoping"
          ],
          [
           "NGET",
           "Consents Approved"
          ],
          [
           "NGET",
           "Consents Approved"
          ],
          [
           "SPT",
           "Scoping"
          ],
          [
           "SPT",
           "Built"
          ],
          [
           "NGET",
           "Scoping"
          ],
          [
           "NGET",
           "Scoping"
          ],
          [
           "NGET",
           "Built"
          ],
          [
           "OFTO",
           "Built"
          ],
          [
           "NGET",
           "Built"
          ],
          [
           "NGET",
           "Built"
          ],
          [
           "NGET",
           "Built"
          ],
          [
           "NGET",
           "Built"
          ],
          [
           "NGET",
           "Built"
          ],
          [
           "NGET",
           "Built"
          ],
          [
           "NGET",
           "Built"
          ],
          [
           "NGET",
           "Built"
          ],
          [
           "NGET",
           "Scoping"
          ],
          [
           "SHET",
           "Scoping"
          ],
          [
           "SPT",
           "Scoping"
          ],
          [
           "NGET",
           "Scoping"
          ],
          [
           "SPT",
           "Awaiting Consents"
          ],
          [
           "SPT",
           "Scoping"
          ],
          [
           "SPT",
           "Scoping"
          ],
          [
           "NGET",
           "Awaiting Consents"
          ],
          [
           "NGET",
           "Scoping"
          ],
          [
           "SPT",
           "Scoping"
          ],
          [
           "SHET",
           "Scoping"
          ],
          [
           "SPT",
           "Scoping"
          ],
          [
           "SPT",
           "Scoping"
          ],
          [
           "SPT",
           "Scoping"
          ],
          [
           "SPT",
           "Scoping"
          ],
          [
           "NGET",
           "Scoping"
          ],
          [
           "NGET",
           "Scoping"
          ],
          [
           "SPT",
           "Consents Approved"
          ],
          [
           "SHET",
           "Built"
          ],
          [
           "NGET",
           "Scoping"
          ],
          [
           "SHET",
           "Scoping"
          ],
          [
           "NGET",
           "Scoping"
          ],
          [
           "NGET",
           "Scoping"
          ],
          [
           "NGET",
           "Scoping"
          ],
          [
           "OFTO",
           "Built"
          ],
          [
           "OFTO",
           "Built"
          ],
          [
           "NGET",
           "Scoping"
          ],
          [
           "NGET",
           "Scoping"
          ],
          [
           "NGET",
           "Scoping"
          ],
          [
           "OFTO",
           "Built"
          ],
          [
           "SPT",
           "Built"
          ],
          [
           "SPT",
           "Consents Approved"
          ],
          [
           "SPT",
           "Consents Approved"
          ],
          [
           "SPT",
           "Scoping"
          ],
          [
           "SPT",
           "Scoping"
          ],
          [
           "SHET",
           "Scoping"
          ],
          [
           "NGET",
           "Scoping"
          ],
          [
           "SHET",
           "Built"
          ],
          [
           "NGET",
           "Scoping"
          ],
          [
           "NGET",
           "Scoping"
          ],
          [
           "SPT",
           "Built"
          ],
          [
           "SPT",
           "Awaiting Consents"
          ],
          [
           "SPT",
           "Built"
          ],
          [
           "SPT",
           "Scoping"
          ],
          [
           "SPT",
           "Scoping"
          ],
          [
           "SPT",
           "Built"
          ],
          [
           "SPT",
           "Under Construction/Commissioning"
          ],
          [
           "NGET",
           "Scoping"
          ],
          [
           "NGET",
           "Scoping"
          ],
          [
           "NGET",
           "Scoping"
          ],
          [
           "NGET",
           "Awaiting Consents"
          ],
          [
           "SPT",
           "Built"
          ],
          [
           "NGET",
           "Built"
          ],
          [
           "NGET",
           "Built"
          ],
          [
           "SPT",
           "Scoping"
          ],
          [
           "SPT",
           "Scoping"
          ],
          [
           "NGET",
           "Awaiting Consents"
          ],
          [
           "NGET",
           "Awaiting Consents"
          ],
          [
           "NGET",
           "Scoping"
          ],
          [
           "SHET",
           "Scoping"
          ],
          [
           "SPT",
           "Scoping"
          ],
          [
           "NGET",
           "Scoping"
          ],
          [
           "SPT",
           "Scoping"
          ],
          [
           "SHET",
           "Consents Approved"
          ],
          [
           "NGET",
           "Scoping"
          ],
          [
           "NGET",
           "Awaiting Consents"
          ],
          [
           "NGET",
           "Built"
          ],
          [
           "SHET",
           "Scoping"
          ],
          [
           "NGET",
           "Scoping"
          ],
          [
           "NGET",
           "Scoping"
          ],
          [
           "NGET",
           "Awaiting Consents"
          ],
          [
           "NGET",
           "Scoping"
          ],
          [
           "NGET",
           "Scoping"
          ],
          [
           "SPT",
           "Scoping"
          ],
          [
           "SHET",
           "Scoping"
          ],
          [
           "SHET",
           "Scoping"
          ],
          [
           "SHET",
           "Scoping"
          ],
          [
           "SPT",
           "Scoping"
          ],
          [
           "NGET",
           "Scoping"
          ],
          [
           "SHET",
           "Built"
          ],
          [
           "SHET",
           "Consents Approved"
          ],
          [
           "SHET",
           "Built"
          ],
          [
           "NGET",
           "Scoping"
          ],
          [
           "NGET",
           "Built"
          ],
          [
           "NGET",
           "Under Construction/Commissioning"
          ],
          [
           "NGET",
           "Under Construction/Commissioning"
          ],
          [
           "NGET",
           "Scoping"
          ],
          [
           "NGET",
           "Scoping"
          ],
          [
           "NGET",
           "Under Construction/Commissioning"
          ],
          [
           "NGET",
           "Scoping"
          ],
          [
           "NGET",
           "Scoping"
          ],
          [
           "NGET",
           "Scoping"
          ],
          [
           "NGET",
           "Built"
          ],
          [
           "SHET",
           "Scoping"
          ],
          [
           "SPT",
           "Scoping"
          ],
          [
           "NGET",
           "Scoping"
          ],
          [
           "NGET",
           "Scoping"
          ],
          [
           "SPT",
           "Consents Approved"
          ],
          [
           "NGET",
           "Built"
          ],
          [
           "NGET",
           "Built"
          ],
          [
           "NGET",
           "Built"
          ],
          [
           "NGET",
           "Built"
          ],
          [
           "NGET",
           "Built"
          ],
          [
           "NGET",
           "Built"
          ],
          [
           "NGET",
           "Consents Approved"
          ],
          [
           "NGET",
           "Consents Approved"
          ],
          [
           "NGET",
           "Scoping"
          ],
          [
           "NGET",
           "Scoping"
          ],
          [
           "NGET",
           "Scoping"
          ],
          [
           "OFTO",
           "Built"
          ],
          [
           "NGET",
           "Built"
          ],
          [
           "SPT",
           "Built"
          ],
          [
           "SPT",
           "Scoping"
          ],
          [
           "SPT",
           "Scoping"
          ],
          [
           "SPT",
           "Scoping"
          ],
          [
           "SPT",
           "Scoping"
          ],
          [
           "NGET",
           "Built"
          ],
          [
           "NGET",
           "Scoping"
          ],
          [
           "NGET",
           "Scoping"
          ],
          [
           "NGET",
           "Built"
          ],
          [
           "SHET",
           "Built"
          ],
          [
           "NGET",
           "Scoping"
          ],
          [
           "NGET",
           "Scoping"
          ],
          [
           "NGET",
           "Scoping"
          ],
          [
           "NGET",
           "Scoping"
          ],
          [
           "NGET",
           "Built"
          ],
          [
           "NGET",
           "Scoping"
          ],
          [
           "SPT",
           "Consents Approved"
          ],
          [
           "SPT",
           "Consents Approved"
          ],
          [
           "SPT",
           "Scoping"
          ],
          [
           "NGET",
           "Scoping"
          ],
          [
           "NGET",
           "Built"
          ],
          [
           "NGET",
           "Consents Approved"
          ],
          [
           "NGET",
           "Consents Approved"
          ],
          [
           "SPT",
           "Scoping"
          ],
          [
           "NGET",
           "Scoping"
          ],
          [
           "SHET",
           "Built"
          ],
          [
           "SHET",
           "Scoping"
          ],
          [
           "NGET",
           "Scoping"
          ],
          [
           "NGET",
           "Consents Approved"
          ],
          [
           "NGET",
           "Consents Approved"
          ],
          [
           "NGET",
           "Built"
          ],
          [
           "NGET",
           "Scoping"
          ],
          [
           "NGET",
           "Scoping"
          ],
          [
           "NGET",
           "Scoping"
          ],
          [
           "NGET",
           "Scoping"
          ],
          [
           "NGET",
           "Scoping"
          ],
          [
           "NGET",
           "Scoping"
          ],
          [
           "NGET",
           "Awaiting Consents"
          ],
          [
           "NGET",
           "Scoping"
          ],
          [
           "SHET",
           "Scoping"
          ],
          [
           "SHET",
           "Scoping"
          ],
          [
           "SHET",
           "Scoping"
          ],
          [
           "NGET",
           "Scoping"
          ],
          [
           "NGET",
           "Scoping"
          ],
          [
           "NGET",
           "Scoping"
          ],
          [
           "NGET",
           "Awaiting Consents"
          ],
          [
           "NGET",
           "Scoping"
          ],
          [
           "SHET",
           "Built"
          ],
          [
           "SHET",
           "Built"
          ],
          [
           "NGET",
           "Scoping"
          ],
          [
           "NGET",
           "Scoping"
          ],
          [
           "NGET",
           "Scoping"
          ],
          [
           "NGET",
           "Built"
          ],
          [
           "NGET",
           "Under Construction/Commissioning"
          ],
          [
           "NGET",
           "Scoping"
          ],
          [
           "SPT",
           "Scoping"
          ],
          [
           "NGET",
           "Built"
          ],
          [
           "NGET",
           "Scoping"
          ],
          [
           "NGET",
           "Scoping"
          ],
          [
           "NGET",
           "Awaiting Consents"
          ],
          [
           "NGET",
           "Built"
          ],
          [
           "NGET",
           "Awaiting Consents"
          ],
          [
           "NGET",
           "Scoping"
          ],
          [
           "SHET",
           "Scoping"
          ],
          [
           "SHET",
           "Built"
          ],
          [
           "SHET",
           "Consents Approved"
          ],
          [
           "SHET",
           "Scoping"
          ],
          [
           "SHET",
           "Scoping"
          ],
          [
           "SPT",
           "Built"
          ],
          [
           "SHET",
           "Scoping"
          ],
          [
           "SHET",
           "Consents Approved"
          ],
          [
           "SHET",
           "Consents Approved"
          ],
          [
           "SHET",
           "Scoping"
          ],
          [
           "SPT",
           "Scoping"
          ],
          [
           "SPT",
           "Scoping"
          ],
          [
           "NGET",
           "Built"
          ],
          [
           "NGET",
           "Built"
          ],
          [
           "SPT",
           "Scoping"
          ],
          [
           "SPT",
           "Consents Approved"
          ],
          [
           "SPT",
           "Built"
          ],
          [
           "SHET",
           "Scoping"
          ],
          [
           "SHET",
           "Built"
          ],
          [
           "SPT",
           "Built"
          ],
          [
           "SPT",
           "Consents Approved"
          ],
          [
           "NGET",
           "Built"
          ],
          [
           "NGET",
           "Scoping"
          ],
          [
           "SPT",
           "Scoping"
          ],
          [
           "SPT",
           "Scoping"
          ],
          [
           "SPT",
           "Scoping"
          ],
          [
           "SHET",
           "Built"
          ],
          [
           "SPT",
           "Scoping"
          ],
          [
           "SPT",
           "Scoping"
          ],
          [
           "SHET",
           "Built"
          ],
          [
           "SHET",
           "Scoping"
          ],
          [
           "NGET",
           "Scoping"
          ],
          [
           "NGET",
           "Built"
          ],
          [
           "NGET",
           "Scoping"
          ],
          [
           "NGET",
           "Scoping"
          ],
          [
           "NGET",
           "Scoping"
          ],
          [
           "SPT",
           "Scoping"
          ],
          [
           "SHET",
           "Scoping"
          ],
          [
           "SPT",
           "Built"
          ],
          [
           "NGET",
           "Consents Approved"
          ],
          [
           "NGET",
           "Scoping"
          ],
          [
           "NGET",
           "Scoping"
          ],
          [
           "NGET",
           "Scoping"
          ],
          [
           "SPT",
           "Scoping"
          ],
          [
           "SPT",
           "Scoping"
          ],
          [
           "SHET",
           "Scoping"
          ],
          [
           "SPT",
           "Scoping"
          ],
          [
           "SPT",
           "Scoping"
          ],
          [
           "SHET",
           "Scoping"
          ],
          [
           "SPT",
           "Scoping"
          ],
          [
           "SHET",
           "Scoping"
          ],
          [
           "NGET",
           "Scoping"
          ],
          [
           "NGET",
           "Scoping"
          ],
          [
           "NGET",
           "Scoping"
          ],
          [
           "NGET",
           "Scoping"
          ],
          [
           "NGET",
           "Scoping"
          ],
          [
           "SPT",
           "Scoping"
          ],
          [
           "NGET",
           "Scoping"
          ],
          [
           "NGET",
           "Scoping"
          ],
          [
           "NGET",
           "Scoping"
          ],
          [
           "NGET",
           "Scoping"
          ],
          [
           "SHET",
           "Scoping"
          ],
          [
           "SPT",
           "Built"
          ],
          [
           "SHET",
           "Scoping"
          ],
          [
           "SHET",
           "Scoping"
          ],
          [
           "SPT",
           "Scoping"
          ],
          [
           "NGET",
           "Scoping"
          ],
          [
           "NGET",
           "Scoping"
          ],
          [
           "SHET",
           "Scoping"
          ],
          [
           "SPT",
           "Scoping"
          ],
          [
           "SHET",
           "Consents Approved"
          ],
          [
           "NGET",
           "Consents Approved"
          ],
          [
           "NGET",
           "Scoping"
          ],
          [
           "NGET",
           "Scoping"
          ],
          [
           "SPT",
           "Scoping"
          ],
          [
           "SPT",
           "Scoping"
          ],
          [
           "NGET",
           "Scoping"
          ],
          [
           "SPT",
           "Scoping"
          ],
          [
           "SPT",
           "Scoping"
          ],
          [
           "NGET",
           "Consents Approved"
          ],
          [
           "NGET",
           "Built"
          ],
          [
           "NGET",
           "Scoping"
          ],
          [
           "NGET",
           "Scoping"
          ],
          [
           "NGET",
           "Scoping"
          ],
          [
           "NGET",
           "Scoping"
          ],
          [
           "NGET",
           "Scoping"
          ],
          [
           "SPT",
           "Scoping"
          ],
          [
           "NGET",
           "Scoping"
          ],
          [
           "SPT",
           "Scoping"
          ],
          [
           "NGET",
           "Scoping"
          ],
          [
           "SPT",
           "Scoping"
          ],
          [
           "SHET",
           "Scoping"
          ],
          [
           "NGET",
           "Scoping"
          ],
          [
           "NGET",
           "Scoping"
          ],
          [
           "NGET",
           "Awaiting Consents"
          ],
          [
           "NGET",
           "Awaiting Consents"
          ],
          [
           "NGET",
           "Awaiting Consents"
          ],
          [
           "NGET",
           "Consents Approved"
          ],
          [
           "NGET",
           "Scoping"
          ],
          [
           "SHET",
           "Scoping"
          ],
          [
           "NGET",
           "Scoping"
          ],
          [
           "SPT",
           "Consents Approved"
          ],
          [
           "SPT",
           "Scoping"
          ],
          [
           "SHET",
           "Scoping"
          ],
          [
           "SHET",
           "Scoping"
          ],
          [
           "SHET",
           "Scoping"
          ],
          [
           "SPT",
           "Scoping"
          ],
          [
           "NGET",
           "Scoping"
          ],
          [
           "NGET",
           "Scoping"
          ],
          [
           "NGET",
           "Scoping"
          ],
          [
           "NGET",
           "Scoping"
          ],
          [
           "NGET",
           "Scoping"
          ],
          [
           "NGET",
           "Scoping"
          ],
          [
           "NGET",
           "Scoping"
          ],
          [
           "NGET",
           "Scoping"
          ],
          [
           "NGET",
           "Scoping"
          ],
          [
           "NGET",
           "Scoping"
          ],
          [
           "NGET",
           "Scoping"
          ],
          [
           "SPT",
           "Scoping"
          ],
          [
           "NGET",
           "Scoping"
          ],
          [
           "NGET",
           "Scoping"
          ],
          [
           "NGET",
           "Scoping"
          ],
          [
           "NGET",
           "Scoping"
          ],
          [
           "NGET",
           "Scoping"
          ],
          [
           "NGET",
           "Scoping"
          ],
          [
           "SPT",
           "Scoping"
          ],
          [
           "NGET",
           "Scoping"
          ],
          [
           "NGET",
           "Scoping"
          ],
          [
           "SHET",
           "Consents Approved"
          ],
          [
           "NGET",
           "Scoping"
          ],
          [
           "OFTO",
           "Built"
          ],
          [
           "SHET",
           "Scoping"
          ],
          [
           "NGET",
           "Scoping"
          ],
          [
           "NGET",
           "Built"
          ],
          [
           "NGET",
           "Built"
          ],
          [
           "NGET",
           "Scoping"
          ],
          [
           "NGET",
           "Built"
          ],
          [
           "NGET",
           "Scoping"
          ],
          [
           "NGET",
           "Scoping"
          ],
          [
           "NGET",
           "Scoping"
          ],
          [
           "NGET",
           "Scoping"
          ],
          [
           "NGET",
           "Scoping"
          ],
          [
           "SPT",
           "Consents Approved"
          ],
          [
           "NGET",
           "Scoping"
          ],
          [
           "NGET",
           "Awaiting Consents"
          ],
          [
           "SHET",
           "Scoping"
          ],
          [
           "SHET",
           "Built"
          ],
          [
           "NGET",
           "Scoping"
          ],
          [
           "NGET",
           "Awaiting Consents"
          ],
          [
           "NGET",
           "Awaiting Consents"
          ],
          [
           "NGET",
           "Scoping"
          ],
          [
           "NGET",
           "Scoping"
          ],
          [
           "NGET",
           "Scoping"
          ],
          [
           "NGET",
           "Scoping"
          ],
          [
           "NGET",
           "Scoping"
          ],
          [
           "SHET",
           "Scoping"
          ],
          [
           "SHET",
           "Scoping"
          ],
          [
           "SHET",
           "Scoping"
          ],
          [
           "SHET",
           "Scoping"
          ],
          [
           "SHET",
           "Scoping"
          ],
          [
           "SHET",
           "Scoping"
          ],
          [
           "SHET",
           "Scoping"
          ],
          [
           "SHET",
           "Built"
          ],
          [
           "SPT",
           "Scoping"
          ],
          [
           "SHET",
           "Built"
          ],
          [
           "SPT",
           "Scoping"
          ],
          [
           "SPT",
           "Awaiting Consents"
          ],
          [
           "OFTO",
           "Built"
          ],
          [
           "NGET",
           "Scoping"
          ],
          [
           "SPT",
           "Scoping"
          ],
          [
           "NGET",
           "Scoping"
          ],
          [
           "SHET",
           "Scoping"
          ],
          [
           "SPT",
           "Scoping"
          ],
          [
           "SPT",
           "Scoping"
          ],
          [
           "SHET",
           "Scoping"
          ],
          [
           "NGET",
           "Scoping"
          ],
          [
           "NGET",
           "Scoping"
          ],
          [
           "NGET",
           "Scoping"
          ],
          [
           "NGET",
           "Scoping"
          ],
          [
           "NGET",
           "Scoping"
          ],
          [
           "NGET",
           "Scoping"
          ],
          [
           "SHET",
           "Built"
          ],
          [
           "SHET",
           "Built"
          ],
          [
           "NGET",
           "Scoping"
          ],
          [
           "NGET",
           "Scoping"
          ],
          [
           "NGET",
           "Built"
          ],
          [
           "NGET",
           "Built"
          ],
          [
           "SPT",
           "Scoping"
          ],
          [
           "NGET",
           "Awaiting Consents"
          ],
          [
           "NGET",
           "Scoping"
          ],
          [
           "NGET",
           "Built"
          ],
          [
           "NGET",
           "Scoping"
          ],
          [
           "SHET",
           "Scoping"
          ],
          [
           "SPT",
           "Scoping"
          ],
          [
           "NGET",
           "Scoping"
          ],
          [
           "NGET",
           "Scoping"
          ],
          [
           "NGET",
           "Awaiting Consents"
          ],
          [
           "NGET",
           "Scoping"
          ],
          [
           "NGET",
           "Scoping"
          ],
          [
           "NGET",
           "Built"
          ],
          [
           "NGET",
           "Scoping"
          ],
          [
           "SPT",
           "Awaiting Consents"
          ],
          [
           "SPT",
           "Built"
          ],
          [
           "NGET",
           "Scoping"
          ],
          [
           "NGET",
           "Awaiting Consents"
          ],
          [
           "NGET",
           "Scoping"
          ],
          [
           "SPT",
           "Built"
          ],
          [
           "NGET",
           "Scoping"
          ],
          [
           "SPT",
           "Scoping"
          ],
          [
           "NGET",
           "Scoping"
          ],
          [
           "NGET",
           "Built"
          ],
          [
           "SHET",
           "Scoping"
          ],
          [
           "SPT",
           "Scoping"
          ],
          [
           "NGET",
           "Scoping"
          ],
          [
           "NGET",
           "Scoping"
          ],
          [
           "NGET",
           "Scoping"
          ],
          [
           "NGET",
           "Scoping"
          ],
          [
           "NGET",
           "Scoping"
          ],
          [
           "NGET",
           "Awaiting Consents"
          ],
          [
           "SHET",
           "Scoping"
          ],
          [
           "NGET",
           "Scoping"
          ],
          [
           "NGET",
           "Scoping"
          ],
          [
           "NGET",
           "Scoping"
          ],
          [
           "NGET",
           "Scoping"
          ],
          [
           "NGET",
           "Scoping"
          ],
          [
           "NGET",
           "Scoping"
          ],
          [
           "NGET",
           "Scoping"
          ],
          [
           "NGET",
           "Scoping"
          ],
          [
           "NGET",
           "Scoping"
          ],
          [
           "SHET",
           "Consents Approved"
          ],
          [
           "SHET",
           "Consents Approved"
          ],
          [
           "SHET",
           "Awaiting Consents"
          ],
          [
           "SHET",
           "Awaiting Consents"
          ],
          [
           "SHET",
           "Scoping"
          ],
          [
           "NGET",
           "Scoping"
          ],
          [
           "SPT",
           "Scoping"
          ],
          [
           "NGET",
           "Scoping"
          ],
          [
           "SPT",
           "Built"
          ],
          [
           "NGET",
           "Scoping"
          ],
          [
           "SPT",
           "Scoping"
          ],
          [
           "NGET",
           "Built"
          ],
          [
           "NGET",
           "Scoping"
          ],
          [
           "NGET",
           "Consents Approved"
          ],
          [
           "NGET",
           "Under Construction/Commissioning"
          ],
          [
           "SHET",
           "Built"
          ],
          [
           "SPT",
           "Scoping"
          ],
          [
           "SPT",
           "Scoping"
          ],
          [
           "NGET",
           "Consents Approved"
          ],
          [
           "NGET",
           "Scoping"
          ],
          [
           "SPT",
           "Built"
          ],
          [
           "SPT",
           "Built"
          ],
          [
           "NGET",
           "Scoping"
          ],
          [
           "NGET",
           "Scoping"
          ],
          [
           "SPT",
           "Scoping"
          ],
          [
           "NGET",
           "Scoping"
          ],
          [
           "NGET",
           "Scoping"
          ],
          [
           "NGET",
           "Consents Approved"
          ],
          [
           "NGET",
           "Scoping"
          ],
          [
           "NGET",
           "Scoping"
          ],
          [
           "NGET",
           "Scoping"
          ],
          [
           "NGET",
           "Scoping"
          ],
          [
           "NGET",
           "Scoping"
          ],
          [
           "NGET",
           "Consents Approved"
          ],
          [
           "NGET",
           "Consents Approved"
          ],
          [
           "SPT",
           "Awaiting Consents"
          ],
          [
           "SHET",
           "Scoping"
          ],
          [
           "SHET",
           "Built"
          ],
          [
           "SHET",
           "Consents Approved"
          ],
          [
           "SHET",
           "Scoping"
          ],
          [
           "NGET",
           "Scoping"
          ],
          [
           "NGET",
           "Scoping"
          ],
          [
           "NGET",
           "Scoping"
          ],
          [
           "NGET",
           "Scoping"
          ],
          [
           "NGET",
           "Scoping"
          ],
          [
           "NGET",
           "Scoping"
          ],
          [
           "NGET",
           "Scoping"
          ],
          [
           "NGET",
           "Scoping"
          ],
          [
           "SHET",
           "Built"
          ],
          [
           "SPT",
           "Scoping"
          ],
          [
           "SHET",
           "Consents Approved"
          ],
          [
           "NGET",
           "Scoping"
          ],
          [
           "SHET",
           "Built"
          ],
          [
           "SHET",
           "Consents Approved"
          ],
          [
           "SHET",
           "Scoping"
          ],
          [
           "NGET",
           "Scoping"
          ],
          [
           "SPT",
           "Scoping"
          ],
          [
           "NGET",
           "Scoping"
          ],
          [
           "SHET",
           "Built"
          ],
          [
           "NGET",
           "Scoping"
          ],
          [
           "NGET",
           "Scoping"
          ],
          [
           "NGET",
           "Scoping"
          ],
          [
           "NGET",
           "Scoping"
          ],
          [
           "SHET",
           "Scoping"
          ],
          [
           "SPT",
           "Awaiting Consents"
          ],
          [
           "NGET",
           "Consents Approved"
          ],
          [
           "NGET",
           "Scoping"
          ],
          [
           "NGET",
           "Scoping"
          ],
          [
           "NGET",
           "Scoping"
          ],
          [
           "NGET",
           "Scoping"
          ],
          [
           "NGET",
           "Scoping"
          ],
          [
           "NGET",
           "Scoping"
          ],
          [
           "NGET",
           "Scoping"
          ],
          [
           "NGET",
           "Awaiting Consents"
          ],
          [
           "SPT",
           "Consents Approved"
          ],
          [
           "NGET",
           "Awaiting Consents"
          ],
          [
           "NGET",
           "Awaiting Consents"
          ],
          [
           "SPT",
           "Scoping"
          ],
          [
           "SPT",
           "Scoping"
          ],
          [
           "SPT",
           "Scoping"
          ],
          [
           "SPT",
           "Consents Approved"
          ],
          [
           "NGET",
           "Scoping"
          ],
          [
           "NGET",
           "Scoping"
          ],
          [
           "NGET",
           "Scoping"
          ],
          [
           "NGET",
           "Scoping"
          ],
          [
           "NGET",
           "Scoping"
          ],
          [
           "NGET",
           "Scoping"
          ],
          [
           "NGET",
           "Scoping"
          ],
          [
           "NGET",
           "Scoping"
          ],
          [
           "NGET",
           "Awaiting Consents"
          ],
          [
           "NGET",
           "Scoping"
          ],
          [
           "SPT",
           "Scoping"
          ],
          [
           "SHET",
           "Scoping"
          ],
          [
           "SHET",
           "Scoping"
          ],
          [
           "NGET",
           "Scoping"
          ],
          [
           "NGET",
           "Scoping"
          ],
          [
           "SPT",
           "Scoping"
          ],
          [
           "NGET",
           "Scoping"
          ],
          [
           "SPT",
           "Scoping"
          ],
          [
           "NGET",
           "Under Construction/Commissioning"
          ],
          [
           "SPT",
           "Scoping"
          ],
          [
           "NGET",
           "Scoping"
          ],
          [
           "NGET",
           "Awaiting Consents"
          ],
          [
           "NGET",
           "Awaiting Consents"
          ],
          [
           "NGET",
           "Awaiting Consents"
          ],
          [
           "NGET",
           "Awaiting Consents"
          ],
          [
           "NGET",
           "Awaiting Consents"
          ],
          [
           "NGET",
           "Scoping"
          ],
          [
           "NGET",
           "Scoping"
          ],
          [
           "NGET",
           "Consents Approved"
          ],
          [
           "SHET",
           "Scoping"
          ],
          [
           "NGET",
           "Scoping"
          ],
          [
           "NGET",
           "Consents Approved"
          ],
          [
           "SPT",
           "Awaiting Consents"
          ],
          [
           "SPT",
           "Scoping"
          ],
          [
           "SPT",
           "Scoping"
          ],
          [
           "NGET",
           "Scoping"
          ],
          [
           "NGET",
           "Scoping"
          ],
          [
           "NGET",
           "Scoping"
          ],
          [
           "NGET",
           "Awaiting Consents"
          ],
          [
           "NGET",
           "Scoping"
          ],
          [
           "NGET",
           "Consents Approved"
          ],
          [
           "NGET",
           "Scoping"
          ],
          [
           "NGET",
           "Consents Approved"
          ],
          [
           "NGET",
           "Scoping"
          ],
          [
           "NGET",
           "Scoping"
          ],
          [
           "NGET",
           "Awaiting Consents"
          ],
          [
           "NGET",
           "Scoping"
          ],
          [
           "NGET",
           "Consents Approved"
          ],
          [
           "NGET",
           "Scoping"
          ],
          [
           "NGET",
           "Scoping"
          ],
          [
           "NGET",
           "Scoping"
          ],
          [
           "NGET",
           "Scoping"
          ],
          [
           "NGET",
           "Scoping"
          ],
          [
           "NGET",
           "Scoping"
          ],
          [
           "NGET",
           "Scoping"
          ],
          [
           "NGET",
           "Scoping"
          ],
          [
           "NGET",
           "Scoping"
          ],
          [
           "SHET",
           "Scoping"
          ],
          [
           "NGET",
           "Built"
          ],
          [
           "NGET",
           "Scoping"
          ],
          [
           "NGET",
           "Scoping"
          ],
          [
           "NGET",
           "Scoping"
          ],
          [
           "SPT",
           "Scoping"
          ],
          [
           "NGET",
           "Consents Approved"
          ],
          [
           "NGET",
           "Scoping"
          ],
          [
           "SPT",
           "Scoping"
          ],
          [
           "NGET",
           "Scoping"
          ],
          [
           "NGET",
           "Awaiting Consents"
          ],
          [
           "NGET",
           "Awaiting Consents"
          ],
          [
           "SPT",
           "Scoping"
          ],
          [
           "NGET",
           "Scoping"
          ],
          [
           "NGET",
           "Scoping"
          ],
          [
           "NGET",
           "Scoping"
          ],
          [
           "NGET",
           "Scoping"
          ],
          [
           "OFTO",
           "Built"
          ],
          [
           "SHET",
           "Built"
          ],
          [
           "NGET",
           "Scoping"
          ],
          [
           "NGET",
           "Scoping"
          ],
          [
           "NGET",
           "Scoping"
          ],
          [
           "SHET",
           "Scoping"
          ],
          [
           "NGET",
           "Scoping"
          ],
          [
           "SPT",
           "Scoping"
          ],
          [
           "SHET",
           "Consents Approved"
          ],
          [
           "SPT",
           "Consents Approved"
          ],
          [
           "NGET",
           "Awaiting Consents"
          ],
          [
           "NGET",
           "Scoping"
          ],
          [
           "NGET",
           "Scoping"
          ],
          [
           "SPT",
           "Scoping"
          ],
          [
           "SHET",
           "Scoping"
          ],
          [
           "SHET",
           "Scoping"
          ],
          [
           "SHET",
           "Scoping"
          ],
          [
           "SHET",
           "Scoping"
          ],
          [
           "NGET",
           "Scoping"
          ],
          [
           "SHET",
           "Scoping"
          ],
          [
           "NGET",
           "Awaiting Consents"
          ],
          [
           "NGET",
           "Scoping"
          ],
          [
           "NGET",
           "Scoping"
          ],
          [
           "NGET",
           "Scoping"
          ],
          [
           "NGET",
           "Scoping"
          ],
          [
           "NGET",
           "Scoping"
          ],
          [
           "NGET",
           "Scoping"
          ],
          [
           "SPT",
           "Scoping"
          ],
          [
           "NGET",
           "Built"
          ],
          [
           "NGET",
           "Built"
          ],
          [
           "NGET",
           "Built"
          ],
          [
           "NGET",
           "Built"
          ],
          [
           "NGET",
           "Built"
          ],
          [
           "NGET",
           "Built"
          ],
          [
           "NGET",
           "Built"
          ],
          [
           "NGET",
           "Built"
          ],
          [
           "NGET",
           "Scoping"
          ],
          [
           "NGET",
           "Scoping"
          ],
          [
           "NGET",
           "Awaiting Consents"
          ],
          [
           "NGET",
           "Scoping"
          ],
          [
           "NGET",
           "Awaiting Consents"
          ],
          [
           "NGET",
           "Awaiting Consents"
          ],
          [
           "NGET",
           "Built"
          ],
          [
           "NGET",
           "Built"
          ],
          [
           "SPT",
           "Consents Approved"
          ],
          [
           "SPT",
           "Awaiting Consents"
          ],
          [
           "NGET",
           "Scoping"
          ],
          [
           "NGET",
           "Scoping"
          ],
          [
           "NGET",
           "Scoping"
          ],
          [
           "SPT",
           "Scoping"
          ],
          [
           "NGET",
           "Scoping"
          ],
          [
           "NGET",
           "Awaiting Consents"
          ],
          [
           "SHET",
           "Scoping"
          ],
          [
           "NGET",
           "Built"
          ],
          [
           "NGET",
           "Scoping"
          ],
          [
           "NGET",
           "Scoping"
          ],
          [
           "NGET",
           "Awaiting Consents"
          ],
          [
           "NGET",
           "Awaiting Consents"
          ],
          [
           "SHET",
           "Scoping"
          ],
          [
           "SHET",
           "Scoping"
          ],
          [
           "NGET",
           "Built"
          ],
          [
           "SHET",
           "Built"
          ],
          [
           "SHET",
           "Scoping"
          ],
          [
           "SHET",
           "Scoping"
          ],
          [
           "SHET",
           "Awaiting Consents"
          ],
          [
           "NGET",
           "Scoping"
          ],
          [
           "NGET",
           "Scoping"
          ],
          [
           "NGET",
           "Scoping"
          ],
          [
           "SPT",
           "Scoping"
          ],
          [
           "NGET",
           "Built"
          ],
          [
           "NGET",
           "Built"
          ],
          [
           "SPT",
           "Consents Approved"
          ],
          [
           "SHET",
           "Scoping"
          ],
          [
           "SHET",
           "Built"
          ],
          [
           "SPT",
           "Scoping"
          ],
          [
           "NGET",
           "Consents Approved"
          ],
          [
           "NGET",
           "Scoping"
          ],
          [
           "NGET",
           "Built"
          ],
          [
           "NGET",
           "Built"
          ],
          [
           "SPT",
           "Built"
          ],
          [
           "SPT",
           "Scoping"
          ],
          [
           "NGET",
           "Awaiting Consents"
          ],
          [
           "NGET",
           "Awaiting Consents"
          ],
          [
           "NGET",
           "Scoping"
          ],
          [
           "NGET",
           "Scoping"
          ],
          [
           "NGET",
           "Scoping"
          ],
          [
           "NGET",
           "Under Construction/Commissioning"
          ],
          [
           "SPT",
           "Consents Approved"
          ],
          [
           "NGET",
           "Under Construction/Commissioning"
          ],
          [
           "NGET",
           "Scoping"
          ],
          [
           "NGET",
           "Scoping"
          ],
          [
           "NGET",
           "Scoping"
          ],
          [
           "NGET",
           "Scoping"
          ],
          [
           "SPT",
           "Scoping"
          ],
          [
           "NGET",
           "Scoping"
          ],
          [
           "SPT",
           "Scoping"
          ],
          [
           "SHET",
           "Built"
          ],
          [
           "NGET",
           "Built"
          ],
          [
           "NGET",
           "Scoping"
          ],
          [
           "NGET",
           "Scoping"
          ],
          [
           "NGET",
           "Built"
          ],
          [
           "NGET",
           "Scoping"
          ],
          [
           "NGET",
           "Scoping"
          ],
          [
           "NGET",
           "Scoping"
          ],
          [
           "NGET",
           "Scoping"
          ],
          [
           "NGET",
           "Scoping"
          ],
          [
           "NGET",
           "Awaiting Consents"
          ],
          [
           "NGET",
           "Scoping"
          ],
          [
           "NGET",
           "Scoping"
          ],
          [
           "NGET",
           "Built"
          ],
          [
           "NGET",
           "Scoping"
          ],
          [
           "NGET",
           "Scoping"
          ],
          [
           "NGET",
           "Scoping"
          ],
          [
           "NGET",
           "Scoping"
          ],
          [
           "NGET",
           "Scoping"
          ],
          [
           "NGET",
           "Scoping"
          ],
          [
           "NGET",
           "Scoping"
          ],
          [
           "SPT",
           "Scoping"
          ],
          [
           "SPT",
           "Scoping"
          ],
          [
           "NGET",
           "Scoping"
          ],
          [
           "NGET",
           "Scoping"
          ],
          [
           "NGET",
           "Scoping"
          ],
          [
           "NGET",
           "Scoping"
          ],
          [
           "NGET",
           "Consents Approved"
          ],
          [
           "NGET",
           "Consents Approved"
          ],
          [
           "NGET",
           "Scoping"
          ],
          [
           "NGET",
           "Scoping"
          ],
          [
           "SHET",
           "Scoping"
          ],
          [
           "SPT",
           "Scoping"
          ],
          [
           "NGET",
           "Built"
          ],
          [
           "NGET",
           "Built"
          ],
          [
           "NGET",
           "Built"
          ],
          [
           "SPT",
           "Scoping"
          ],
          [
           "NGET",
           "Scoping"
          ],
          [
           "NGET",
           "Scoping"
          ],
          [
           "NGET",
           "Scoping"
          ],
          [
           "SPT",
           "Scoping"
          ],
          [
           "NGET",
           "Built"
          ],
          [
           "NGET",
           "Built"
          ],
          [
           "NGET",
           "Scoping"
          ],
          [
           "NGET",
           "Scoping"
          ],
          [
           "SHET",
           "Scoping"
          ],
          [
           "SPT",
           "Scoping"
          ],
          [
           "SPT",
           "Scoping"
          ],
          [
           "OFTO",
           "Built"
          ],
          [
           "OFTO",
           "Built"
          ],
          [
           "NGET",
           "Scoping"
          ],
          [
           "NGET",
           "Scoping"
          ],
          [
           "NGET",
           "Built"
          ],
          [
           "SPT",
           "Scoping"
          ],
          [
           "SPT",
           "Scoping"
          ],
          [
           "NGET",
           "Built"
          ],
          [
           "NGET",
           "Awaiting Consents"
          ],
          [
           "SHET",
           "Scoping"
          ],
          [
           "SHET",
           "Scoping"
          ],
          [
           "SHET",
           "Consents Approved"
          ],
          [
           "SHET",
           "Scoping"
          ],
          [
           "SPT",
           "Scoping"
          ],
          [
           "NGET",
           "Scoping"
          ],
          [
           "NGET",
           "Scoping"
          ],
          [
           "NGET",
           "Scoping"
          ],
          [
           "NGET",
           "Scoping"
          ],
          [
           "SPT",
           "Scoping"
          ],
          [
           "NGET",
           "Scoping"
          ],
          [
           "NGET",
           "Built"
          ],
          [
           "NGET",
           "Scoping"
          ],
          [
           "NGET",
           "Scoping"
          ],
          [
           "NGET",
           "Scoping"
          ],
          [
           "NGET",
           "Scoping"
          ],
          [
           "NGET",
           "Scoping"
          ],
          [
           "SHET",
           "Scoping"
          ],
          [
           "SHET",
           "Scoping"
          ],
          [
           "SHET",
           "Awaiting Consents"
          ],
          [
           "SPT",
           "Scoping"
          ],
          [
           "NGET",
           "Built"
          ],
          [
           "NGET",
           "Scoping"
          ],
          [
           "SPT",
           "Scoping"
          ],
          [
           "NGET",
           "Scoping"
          ],
          [
           "NGET",
           "Scoping"
          ],
          [
           "SPT",
           "Built"
          ],
          [
           "SPT",
           "Awaiting Consents"
          ],
          [
           "SPT",
           "Consents Approved"
          ],
          [
           "SPT",
           "Built"
          ],
          [
           "SHET",
           "Scoping"
          ],
          [
           "NGET",
           "Scoping"
          ],
          [
           "SHET",
           "Scoping"
          ],
          [
           "SHET",
           "Scoping"
          ],
          [
           "SPT",
           "Scoping"
          ],
          [
           "NGET",
           "Scoping"
          ],
          [
           "NGET",
           "Scoping"
          ],
          [
           "NGET",
           "Scoping"
          ],
          [
           "SPT",
           "Scoping"
          ],
          [
           "SPT",
           "Scoping"
          ],
          [
           "SHET",
           "Scoping"
          ],
          [
           "SPT",
           "Scoping"
          ],
          [
           "NGET",
           "Built"
          ],
          [
           "NGET",
           "Awaiting Consents"
          ],
          [
           "SHET",
           "Consents Approved"
          ],
          [
           "SHET",
           "Consents Approved"
          ],
          [
           "SHET",
           "Consents Approved"
          ],
          [
           "SPT",
           "Under Construction/Commissioning"
          ],
          [
           "SHET",
           "Scoping"
          ],
          [
           "SPT",
           "Scoping"
          ],
          [
           "NGET",
           "Built"
          ],
          [
           "NGET",
           "Awaiting Consents"
          ],
          [
           "NGET",
           "Consents Approved"
          ],
          [
           "NGET",
           "Scoping"
          ],
          [
           "NGET",
           "Built"
          ],
          [
           "NGET",
           "Scoping"
          ],
          [
           "NGET",
           "Built"
          ],
          [
           "NGET",
           "Scoping"
          ],
          [
           "NGET",
           "Consents Approved"
          ],
          [
           "NGET",
           "Consents Approved"
          ],
          [
           "SHET",
           "Awaiting Consents"
          ],
          [
           "SHET",
           "Scoping"
          ],
          [
           "SPT",
           "Scoping"
          ],
          [
           "OFTO",
           "Built"
          ],
          [
           "NGET",
           "Scoping"
          ],
          [
           "NGET",
           "Built"
          ],
          [
           "NGET",
           "Under Construction/Commissioning"
          ],
          [
           "NGET",
           "Under Construction/Commissioning"
          ],
          [
           "NGET",
           "Built"
          ],
          [
           "NGET",
           "Scoping"
          ],
          [
           "NGET",
           "Scoping"
          ],
          [
           "NGET",
           "Scoping"
          ],
          [
           "NGET",
           "Scoping"
          ],
          [
           "SHET",
           "Scoping"
          ],
          [
           "NGET",
           "Built"
          ],
          [
           "NGET",
           "Awaiting Consents"
          ],
          [
           "NGET",
           "Awaiting Consents"
          ],
          [
           "NGET",
           "Consents Approved"
          ],
          [
           "NGET",
           "Consents Approved"
          ],
          [
           "SHET",
           "Scoping"
          ],
          [
           "SHET",
           "Scoping"
          ],
          [
           "SHET",
           "Built"
          ],
          [
           "SHET",
           "Built"
          ],
          [
           "SPT",
           "Scoping"
          ],
          [
           "NGET",
           "Consents Approved"
          ],
          [
           "NGET",
           "Scoping"
          ],
          [
           "NGET",
           "Scoping"
          ],
          [
           "NGET",
           "Built"
          ],
          [
           "SPT",
           "Built"
          ],
          [
           "NGET",
           "Awaiting Consents"
          ],
          [
           "NGET",
           "Scoping"
          ],
          [
           "NGET",
           "Awaiting Consents"
          ],
          [
           "NGET",
           "Built"
          ],
          [
           "SPT",
           "Scoping"
          ],
          [
           "SPT",
           "Built"
          ],
          [
           "SHET",
           "Scoping"
          ],
          [
           "NGET",
           "Scoping"
          ],
          [
           "NGET",
           "Awaiting Consents"
          ],
          [
           "NGET",
           "Awaiting Consents"
          ],
          [
           "NGET",
           "Built"
          ],
          [
           "NGET",
           "Built"
          ],
          [
           "NGET",
           "Consents Approved"
          ],
          [
           "NGET",
           "Scoping"
          ],
          [
           "NGET",
           "Awaiting Consents"
          ],
          [
           "NGET",
           "Scoping"
          ],
          [
           "NGET",
           "Scoping"
          ],
          [
           "NGET",
           "Scoping"
          ],
          [
           "NGET",
           "Scoping"
          ],
          [
           "NGET",
           "Scoping"
          ],
          [
           "SHET",
           "Scoping"
          ],
          [
           "SPT",
           "Awaiting Consents"
          ],
          [
           "SHET",
           "Scoping"
          ],
          [
           "SHET",
           "Scoping"
          ],
          [
           "SHET",
           "Scoping"
          ],
          [
           "NGET",
           "Scoping"
          ],
          [
           "SPT",
           "Scoping"
          ],
          [
           "NGET",
           "Scoping"
          ],
          [
           "NGET",
           "Scoping"
          ],
          [
           "NGET",
           "Scoping"
          ],
          [
           "NGET",
           "Consents Approved"
          ],
          [
           "NGET",
           "Awaiting Consents"
          ],
          [
           "SPT",
           "Scoping"
          ],
          [
           "SHET",
           "Scoping"
          ],
          [
           "SHET",
           "Scoping"
          ],
          [
           "SPT",
           "Scoping"
          ],
          [
           "SHET",
           "Scoping"
          ],
          [
           "NGET",
           "Scoping"
          ],
          [
           "NGET",
           "Consents Approved"
          ],
          [
           "SHET",
           "Scoping"
          ],
          [
           "SPT",
           "Scoping"
          ],
          [
           "NGET",
           "Scoping"
          ],
          [
           "NGET",
           "Scoping"
          ],
          [
           "NGET",
           "Scoping"
          ],
          [
           "NGET",
           "Scoping"
          ],
          [
           "SPT",
           "Scoping"
          ],
          [
           "NGET",
           "Scoping"
          ],
          [
           "NGET",
           "Awaiting Consents"
          ],
          [
           "NGET",
           "Built"
          ],
          [
           "NGET",
           "Built"
          ],
          [
           "SHET",
           "Scoping"
          ],
          [
           "NGET",
           "Scoping"
          ],
          [
           "NGET",
           "Scoping"
          ],
          [
           "NGET",
           "Scoping"
          ],
          [
           "NGET",
           "Scoping"
          ],
          [
           "NGET",
           "Scoping"
          ],
          [
           "NGET",
           "Scoping"
          ],
          [
           "SPT",
           "Scoping"
          ],
          [
           "SHET",
           "Consents Approved"
          ],
          [
           "SHET",
           "Scoping"
          ],
          [
           "SPT",
           "Consents Approved"
          ],
          [
           "NGET",
           "Scoping"
          ],
          [
           "SHET",
           "Scoping"
          ],
          [
           "SHET",
           "Scoping"
          ],
          [
           "SHET",
           "Consents Approved"
          ],
          [
           "SHET",
           "Built"
          ],
          [
           "SHET",
           "Scoping"
          ],
          [
           "SHET",
           "Consents Approved"
          ],
          [
           "SHET",
           "Consents Approved"
          ],
          [
           "SHET",
           "Scoping"
          ],
          [
           "SHET",
           "Built"
          ],
          [
           "NGET",
           "Built"
          ],
          [
           "NGET",
           "Scoping"
          ],
          [
           "SPT",
           "Scoping"
          ],
          [
           "NGET",
           "Scoping"
          ],
          [
           "SPT",
           "Scoping"
          ],
          [
           "NGET",
           "Scoping"
          ],
          [
           "NGET",
           "Scoping"
          ],
          [
           "NGET",
           "Scoping"
          ],
          [
           "NGET",
           "Scoping"
          ],
          [
           "NGET",
           "Scoping"
          ],
          [
           "NGET",
           "Awaiting Consents"
          ],
          [
           "NGET",
           "Scoping"
          ],
          [
           "NGET",
           "Awaiting Consents"
          ],
          [
           "NGET",
           "Built"
          ],
          [
           "NGET",
           "Scoping"
          ],
          [
           "NGET",
           "Consents Approved"
          ],
          [
           "NGET",
           "Scoping"
          ],
          [
           "NGET",
           "Scoping"
          ],
          [
           "NGET",
           "Awaiting Consents"
          ],
          [
           "NGET",
           "Scoping"
          ],
          [
           "NGET",
           "Scoping"
          ],
          [
           "NGET",
           "Scoping"
          ],
          [
           "SHET",
           "Scoping"
          ],
          [
           "NGET",
           "Scoping"
          ],
          [
           "NGET",
           "Scoping"
          ],
          [
           "NGET",
           "Scoping"
          ],
          [
           "SHET",
           "Scoping"
          ],
          [
           "SHET",
           "Scoping"
          ],
          [
           "NGET",
           "Scoping"
          ],
          [
           "SHET",
           "Consents Approved"
          ],
          [
           "NGET",
           "Awaiting Consents"
          ],
          [
           "NGET",
           "Awaiting Consents"
          ],
          [
           "NGET",
           "Built"
          ],
          [
           "SHET",
           "Scoping"
          ],
          [
           "SHET",
           "Scoping"
          ],
          [
           "SHET",
           "Awaiting Consents"
          ],
          [
           "NGET",
           "Under Construction/Commissioning"
          ],
          [
           "NGET",
           "Consents Approved"
          ],
          [
           "NGET",
           "Consents Approved"
          ],
          [
           "NGET",
           "Consents Approved"
          ],
          [
           "NGET",
           "Consents Approved"
          ],
          [
           "NGET",
           "Consents Approved"
          ],
          [
           "NGET",
           "Built"
          ],
          [
           "SHET",
           "Scoping"
          ],
          [
           "NGET",
           "Awaiting Consents"
          ],
          [
           "SHET",
           "Scoping"
          ],
          [
           "SHET",
           "Scoping"
          ],
          [
           "SPT",
           "Scoping"
          ],
          [
           "NGET",
           "Scoping"
          ],
          [
           "NGET",
           "Scoping"
          ],
          [
           "NGET",
           "Scoping"
          ],
          [
           "NGET",
           "Scoping"
          ],
          [
           "NGET",
           "Scoping"
          ],
          [
           "NGET",
           "Scoping"
          ],
          [
           "SPT",
           "Scoping"
          ],
          [
           "NGET",
           "Scoping"
          ],
          [
           "NGET",
           "Awaiting Consents"
          ],
          [
           "NGET",
           "Scoping"
          ],
          [
           "SHET",
           "Consents Approved"
          ],
          [
           "OFTO",
           "Built"
          ],
          [
           "NGET",
           "Scoping"
          ],
          [
           "NGET",
           "Scoping"
          ],
          [
           "NGET",
           "Built"
          ],
          [
           "NGET",
           "Awaiting Consents"
          ],
          [
           "NGET",
           "Scoping"
          ],
          [
           "NGET",
           "Scoping"
          ],
          [
           "NGET",
           "Scoping"
          ],
          [
           "NGET",
           "Under Construction/Commissioning"
          ],
          [
           "NGET",
           "Consents Approved"
          ],
          [
           "NGET",
           "Consents Approved"
          ],
          [
           "NGET",
           "Consents Approved"
          ],
          [
           "NGET",
           "Scoping"
          ],
          [
           "NGET",
           "Scoping"
          ],
          [
           "NGET",
           "Scoping"
          ],
          [
           "NGET",
           "Scoping"
          ],
          [
           "NGET",
           "Awaiting Consents"
          ],
          [
           "NGET",
           "Awaiting Consents"
          ],
          [
           "NGET",
           "Scoping"
          ],
          [
           "NGET",
           "Scoping"
          ],
          [
           "SHET",
           "Scoping"
          ],
          [
           "SHET",
           "Consents Approved"
          ],
          [
           "NGET",
           "Built"
          ],
          [
           "NGET",
           "Scoping"
          ],
          [
           "SPT",
           "Scoping"
          ],
          [
           "NGET",
           "Scoping"
          ],
          [
           "NGET",
           "Scoping"
          ],
          [
           "SPT",
           "Built"
          ],
          [
           "SHET",
           "Scoping"
          ],
          [
           "NGET",
           "Consents Approved"
          ],
          [
           "SHET",
           "Scoping"
          ],
          [
           "SPT",
           "Scoping"
          ],
          [
           "SHET",
           "Scoping"
          ],
          [
           "SPT",
           "Built"
          ],
          [
           "SHET",
           "Built"
          ],
          [
           "NGET",
           "Scoping"
          ],
          [
           "SPT",
           "Scoping"
          ],
          [
           "NGET",
           "Built"
          ],
          [
           "NGET",
           "Consents Approved"
          ],
          [
           "NGET",
           "Scoping"
          ],
          [
           "SPT",
           "Built"
          ],
          [
           "NGET",
           "Scoping"
          ],
          [
           "NGET",
           "Built"
          ],
          [
           "SPT",
           "Awaiting Consents"
          ],
          [
           "SPT",
           "Scoping"
          ],
          [
           "SHET",
           "Built"
          ],
          [
           "SHET",
           "Built"
          ],
          [
           "NGET",
           "Scoping"
          ],
          [
           "NGET",
           "Scoping"
          ],
          [
           "SPT",
           "Built"
          ],
          [
           "SHET",
           "Built"
          ],
          [
           "NGET",
           "Scoping"
          ],
          [
           "NGET",
           "Scoping"
          ],
          [
           "NGET",
           "Scoping"
          ],
          [
           "NGET",
           "Awaiting Consents"
          ],
          [
           "SPT",
           "Scoping"
          ],
          [
           "NGET",
           "Under Construction/Commissioning"
          ],
          [
           "NGET",
           "Scoping"
          ],
          [
           "NGET",
           "Scoping"
          ],
          [
           "NGET",
           "Scoping"
          ],
          [
           "NGET",
           "Consents Approved"
          ],
          [
           "NGET",
           "Scoping"
          ],
          [
           "NGET",
           "Scoping"
          ],
          [
           "SHET",
           "Consents Approved"
          ],
          [
           "NGET",
           "Scoping"
          ],
          [
           "NGET",
           "Scoping"
          ],
          [
           "NGET",
           "Scoping"
          ],
          [
           "NGET",
           "Scoping"
          ],
          [
           "NGET",
           "Scoping"
          ],
          [
           "NGET",
           "Built"
          ],
          [
           "NGET",
           "Built"
          ],
          [
           "OFTO",
           "Built"
          ],
          [
           "OFTO",
           "Built"
          ],
          [
           "NGET",
           "Under Construction/Commissioning"
          ],
          [
           "NGET",
           "Scoping"
          ],
          [
           "NGET",
           "Scoping"
          ],
          [
           "NGET",
           "Scoping"
          ],
          [
           "NGET",
           "Scoping"
          ],
          [
           "NGET",
           "Consents Approved"
          ],
          [
           "NGET",
           "Scoping"
          ],
          [
           "NGET",
           "Scoping"
          ],
          [
           "NGET",
           "Scoping"
          ],
          [
           "NGET",
           "Scoping"
          ],
          [
           "NGET",
           "Scoping"
          ],
          [
           "NGET",
           "Consents Approved"
          ],
          [
           "NGET",
           "Scoping"
          ],
          [
           "NGET",
           "Scoping"
          ],
          [
           "NGET",
           "Scoping"
          ],
          [
           "NGET",
           "Scoping"
          ],
          [
           "NGET",
           "Scoping"
          ],
          [
           "NGET",
           "Scoping"
          ],
          [
           "SPT",
           "Scoping"
          ],
          [
           "NGET",
           "Built"
          ],
          [
           "NGET",
           "Scoping"
          ],
          [
           "SHET",
           "Scoping"
          ],
          [
           "SHET",
           "Scoping"
          ],
          [
           "NGET",
           "Scoping"
          ],
          [
           "NGET",
           "Scoping"
          ],
          [
           "NGET",
           "Built"
          ],
          [
           "NGET",
           "Scoping"
          ],
          [
           "NGET",
           "Consents Approved"
          ],
          [
           "NGET",
           "Consents Approved"
          ],
          [
           "SPT",
           "Scoping"
          ],
          [
           "SPT",
           "Scoping"
          ],
          [
           "NGET",
           "Scoping"
          ],
          [
           "NGET",
           "Scoping"
          ],
          [
           "NGET",
           "Scoping"
          ],
          [
           "NGET",
           "Built"
          ],
          [
           "NGET",
           "Built"
          ],
          [
           "NGET",
           "Scoping"
          ],
          [
           "NGET",
           "Awaiting Consents"
          ],
          [
           "NGET",
           "Scoping"
          ],
          [
           "NGET",
           "Scoping"
          ],
          [
           "NGET",
           "Scoping"
          ],
          [
           "OFTO",
           "Built"
          ],
          [
           "NGET",
           "Scoping"
          ],
          [
           "SHET",
           "Scoping"
          ],
          [
           "SHET",
           "Scoping"
          ],
          [
           "NGET",
           "Scoping"
          ],
          [
           "NGET",
           "Scoping"
          ],
          [
           "NGET",
           "Scoping"
          ],
          [
           "NGET",
           "Scoping"
          ],
          [
           "OFTO",
           "Built"
          ],
          [
           "SPT",
           "Scoping"
          ],
          [
           "SPT",
           "Scoping"
          ],
          [
           "SPT",
           "Scoping"
          ],
          [
           "SHET",
           "Scoping"
          ],
          [
           "SPT",
           "Scoping"
          ],
          [
           "NGET",
           "Consents Approved"
          ],
          [
           "SPT",
           "Awaiting Consents"
          ],
          [
           "SPT",
           "Scoping"
          ],
          [
           "SPT",
           "Scoping"
          ],
          [
           "SHET",
           "Scoping"
          ],
          [
           "SPT",
           "Scoping"
          ],
          [
           "SPT",
           "Scoping"
          ],
          [
           "SPT",
           "Built"
          ],
          [
           "SPT",
           "Scoping"
          ],
          [
           "SPT",
           "Built"
          ],
          [
           "NGET",
           "Scoping"
          ],
          [
           "SPT",
           "Scoping"
          ],
          [
           "SPT",
           "Built"
          ],
          [
           "NGET",
           "Scoping"
          ],
          [
           "NGET",
           "Scoping"
          ],
          [
           "NGET",
           "Scoping"
          ],
          [
           "NGET",
           "Scoping"
          ],
          [
           "NGET",
           "Scoping"
          ],
          [
           "NGET",
           "Scoping"
          ],
          [
           "NGET",
           "Scoping"
          ],
          [
           "NGET",
           "Scoping"
          ],
          [
           "NGET",
           "Scoping"
          ],
          [
           "NGET",
           "Scoping"
          ],
          [
           "NGET",
           "Scoping"
          ],
          [
           "NGET",
           "Scoping"
          ],
          [
           "NGET",
           "Awaiting Consents"
          ],
          [
           "NGET",
           "Scoping"
          ],
          [
           "NGET",
           "Built"
          ],
          [
           "SPT",
           "Built"
          ],
          [
           "SPT",
           "Built"
          ],
          [
           "SPT",
           "Consents Approved"
          ],
          [
           "SPT",
           "Awaiting Consents"
          ],
          [
           "SPT",
           "Awaiting Consents"
          ],
          [
           "SPT",
           "Awaiting Consents"
          ],
          [
           "SPT",
           "Scoping"
          ],
          [
           "SPT",
           "Scoping"
          ],
          [
           "SPT",
           "Built"
          ],
          [
           "NGET",
           "Scoping"
          ],
          [
           "SHET",
           "Scoping"
          ],
          [
           "SPT",
           "Scoping"
          ],
          [
           "SHET",
           "Scoping"
          ],
          [
           "NGET",
           "Consents Approved"
          ],
          [
           "NGET",
           "Consents Approved"
          ],
          [
           "SPT",
           "Scoping"
          ],
          [
           "NGET",
           "Scoping"
          ],
          [
           "NGET",
           "Scoping"
          ],
          [
           "NGET",
           "Scoping"
          ],
          [
           "NGET",
           "Scoping"
          ],
          [
           "NGET",
           "Awaiting Consents"
          ],
          [
           "NGET",
           "Scoping"
          ],
          [
           "NGET",
           "Scoping"
          ],
          [
           "NGET",
           "Awaiting Consents"
          ],
          [
           "NGET",
           "Scoping"
          ],
          [
           "NGET",
           "Consents Approved"
          ],
          [
           "SPT",
           "Scoping"
          ],
          [
           "NGET",
           "Scoping"
          ],
          [
           "NGET",
           "Scoping"
          ],
          [
           "NGET",
           "Scoping"
          ],
          [
           "NGET",
           "Scoping"
          ],
          [
           "NGET",
           "Awaiting Consents"
          ],
          [
           "SHET",
           "Consents Approved"
          ],
          [
           "SHET",
           "Consents Approved"
          ],
          [
           "NGET",
           "Scoping"
          ],
          [
           "SPT",
           "Scoping"
          ],
          [
           "SPT",
           "Scoping"
          ],
          [
           "SPT",
           "Scoping"
          ],
          [
           "NGET",
           "Scoping"
          ],
          [
           "NGET",
           "Scoping"
          ],
          [
           "NGET",
           "Scoping"
          ],
          [
           "NGET",
           "Scoping"
          ],
          [
           "NGET",
           "Scoping"
          ],
          [
           "SHET",
           "Scoping"
          ],
          [
           "NGET",
           "Awaiting Consents"
          ],
          [
           "NGET",
           "Scoping"
          ],
          [
           "NGET",
           "Scoping"
          ],
          [
           "NGET",
           "Scoping"
          ],
          [
           "NGET",
           "Scoping"
          ]
         ],
         "domain": {
          "x": [
           0,
           1
          ],
          "y": [
           0,
           1
          ]
         },
         "hole": 0.45,
         "hovertemplate": "Project Status=%{customdata[1]}<br>Connection Cap (MW)=%{value}<br>HOST TO=%{customdata[0]}<extra></extra>",
         "labels": [
          "Scoping",
          "Scoping",
          "Scoping",
          "Built",
          "Scoping",
          "Consents Approved",
          "Built",
          "Scoping",
          "Scoping",
          "Scoping",
          "Scoping",
          "Scoping",
          "Scoping",
          "Scoping",
          "Built",
          "Scoping",
          "Scoping",
          "Scoping",
          "Built",
          "Scoping",
          "Scoping",
          "Scoping",
          "Built",
          "Built",
          "Built",
          "Built",
          "Awaiting Consents",
          "Scoping",
          "Scoping",
          "Consents Approved",
          "Scoping",
          "Scoping",
          "Scoping",
          "Scoping",
          "Scoping",
          "Scoping",
          "Scoping",
          "Scoping",
          "Scoping",
          "Scoping",
          "Scoping",
          "Consents Approved",
          "Scoping",
          "Scoping",
          "Scoping",
          "Scoping",
          "Scoping",
          "Scoping",
          "Scoping",
          "Scoping",
          "Scoping",
          "Scoping",
          "Scoping",
          "Scoping",
          "Built",
          "Built",
          "Scoping",
          "Consents Approved",
          "Built",
          "Scoping",
          "Scoping",
          "Scoping",
          "Built",
          "Scoping",
          "Scoping",
          "Scoping",
          "Awaiting Consents",
          "Scoping",
          "Scoping",
          "Scoping",
          "Scoping",
          "Scoping",
          "Scoping",
          "Scoping",
          "Scoping",
          "Scoping",
          "Built",
          "Scoping",
          "Built",
          "Scoping",
          "Scoping",
          "Scoping",
          "Scoping",
          "Scoping",
          "Awaiting Consents",
          "Scoping",
          "Scoping",
          "Scoping",
          "Scoping",
          "Scoping",
          "Scoping",
          "Built",
          "Scoping",
          "Scoping",
          "Built",
          "Consents Approved",
          "Scoping",
          "Scoping",
          "Scoping",
          "Scoping",
          "Scoping",
          "Scoping",
          "Scoping",
          "Consents Approved",
          "Scoping",
          "Scoping",
          "Scoping",
          "Built",
          "Built",
          "Scoping",
          "Scoping",
          "Scoping",
          "Scoping",
          "Built",
          "Scoping",
          "Consents Approved",
          "Scoping",
          "Scoping",
          "Built",
          "Built",
          "Built",
          "Built",
          "Built",
          "Scoping",
          "Built",
          "Scoping",
          "Scoping",
          "Awaiting Consents",
          "Scoping",
          "Scoping",
          "Scoping",
          "Scoping",
          "Scoping",
          "Scoping",
          "Scoping",
          "Awaiting Consents",
          "Built",
          "Scoping",
          "Scoping",
          "Scoping",
          "Scoping",
          "Scoping",
          "Scoping",
          "Scoping",
          "Consents Approved",
          "Scoping",
          "Scoping",
          "Scoping",
          "Scoping",
          "Scoping",
          "Built",
          "Scoping",
          "Awaiting Consents",
          "Scoping",
          "Awaiting Consents",
          "Scoping",
          "Scoping",
          "Scoping",
          "Scoping",
          "Scoping",
          "Scoping",
          "Scoping",
          "Scoping",
          "Scoping",
          "Built",
          "Scoping",
          "Built",
          "Scoping",
          "Built",
          "Built",
          "Scoping",
          "Scoping",
          "Scoping",
          "Scoping",
          "Consents Approved",
          "Built",
          "Scoping",
          "Built",
          "Scoping",
          "Scoping",
          "Scoping",
          "Awaiting Consents",
          "Scoping",
          "Scoping",
          "Scoping",
          "Scoping",
          "Scoping",
          "Scoping",
          "Scoping",
          "Scoping",
          "Awaiting Consents",
          "Scoping",
          "Scoping",
          "Scoping",
          "Awaiting Consents",
          "Scoping",
          "Scoping",
          "Scoping",
          "Scoping",
          "Scoping",
          "Consents Approved",
          "Scoping",
          "Scoping",
          "Scoping",
          "Scoping",
          "Awaiting Consents",
          "Awaiting Consents",
          "Built",
          "Scoping",
          "Scoping",
          "Awaiting Consents",
          "Scoping",
          "Awaiting Consents",
          "Awaiting Consents",
          "Awaiting Consents",
          "Scoping",
          "Awaiting Consents",
          "Scoping",
          "Scoping",
          "Consents Approved",
          "Consents Approved",
          "Scoping",
          "Scoping",
          "Scoping",
          "Scoping",
          "Scoping",
          "Scoping",
          "Scoping",
          "Consents Approved",
          "Scoping",
          "Scoping",
          "Scoping",
          "Scoping",
          "Scoping",
          "Scoping",
          "Scoping",
          "Built",
          "Scoping",
          "Under Construction/Commissioning",
          "Scoping",
          "Built",
          "Under Construction/Commissioning",
          "Scoping",
          "Built",
          "Scoping",
          "Scoping",
          "Scoping",
          "Scoping",
          "Scoping",
          "Scoping",
          "Scoping",
          "Scoping",
          "Scoping",
          "Consents Approved",
          "Awaiting Consents",
          "Built",
          "Built",
          "Built",
          "Built",
          "Built",
          "Awaiting Consents",
          "Scoping",
          "Scoping",
          "Scoping",
          "Scoping",
          "Built",
          "Scoping",
          "Scoping",
          "Scoping",
          "Scoping",
          "Scoping",
          "Scoping",
          "Scoping",
          "Awaiting Consents",
          "Scoping",
          "Scoping",
          "Scoping",
          "Awaiting Consents",
          "Scoping",
          "Built",
          "Scoping",
          "Scoping",
          "Scoping",
          "Scoping",
          "Scoping",
          "Scoping",
          "Awaiting Consents",
          "Built",
          "Consents Approved",
          "Scoping",
          "Scoping",
          "Scoping",
          "Scoping",
          "Scoping",
          "Scoping",
          "Built",
          "Scoping",
          "Awaiting Consents",
          "Scoping",
          "Built",
          "Built",
          "Scoping",
          "Scoping",
          "Scoping",
          "Built",
          "Built",
          "Scoping",
          "Scoping",
          "Awaiting Consents",
          "Awaiting Consents",
          "Scoping",
          "Scoping",
          "Scoping",
          "Scoping",
          "Scoping",
          "Scoping",
          "Scoping",
          "Scoping",
          "Scoping",
          "Consents Approved",
          "Scoping",
          "Scoping",
          "Built",
          "Built",
          "Scoping",
          "Scoping",
          "Awaiting Consents",
          "Awaiting Consents",
          "Awaiting Consents",
          "Built",
          "Awaiting Consents",
          "Consents Approved",
          "Scoping",
          "Awaiting Consents",
          "Scoping",
          "Scoping",
          "Awaiting Consents",
          "Awaiting Consents",
          "Consents Approved",
          "Awaiting Consents",
          "Built",
          "Scoping",
          "Scoping",
          "Under Construction/Commissioning",
          "Under Construction/Commissioning",
          "Built",
          "Scoping",
          "Under Construction/Commissioning",
          "Scoping",
          "Scoping",
          "Scoping",
          "Scoping",
          "Scoping",
          "Awaiting Consents",
          "Scoping",
          "Scoping",
          "Built",
          "Built",
          "Built",
          "Scoping",
          "Scoping",
          "Scoping",
          "Scoping",
          "Scoping",
          "Scoping",
          "Scoping",
          "Consents Approved",
          "Consents Approved",
          "Scoping",
          "Built",
          "Scoping",
          "Scoping",
          "Scoping",
          "Built",
          "Built",
          "Built",
          "Built",
          "Built",
          "Built",
          "Scoping",
          "Scoping",
          "Built",
          "Scoping",
          "Scoping",
          "Scoping",
          "Built",
          "Scoping",
          "Scoping",
          "Built",
          "Scoping",
          "Scoping",
          "Built",
          "Consents Approved",
          "Scoping",
          "Scoping",
          "Scoping",
          "Consents Approved",
          "Scoping",
          "Consents Approved",
          "Scoping",
          "Built",
          "Built",
          "Built",
          "Built",
          "Scoping",
          "Scoping",
          "Scoping",
          "Scoping",
          "Scoping",
          "Awaiting Consents",
          "Scoping",
          "Built",
          "Scoping",
          "Scoping",
          "Scoping",
          "Scoping",
          "Scoping",
          "Built",
          "Consents Approved",
          "Scoping",
          "Consents Approved",
          "Scoping",
          "Scoping",
          "Built",
          "Scoping",
          "Built",
          "Scoping",
          "Scoping",
          "Consents Approved",
          "Built",
          "Built",
          "Under Construction/Commissioning",
          "Scoping",
          "Scoping",
          "Scoping",
          "Built",
          "Built",
          "Awaiting Consents",
          "Consents Approved",
          "Built",
          "Built",
          "Scoping",
          "Scoping",
          "Scoping",
          "Scoping",
          "Scoping",
          "Scoping",
          "Scoping",
          "Scoping",
          "Scoping",
          "Built",
          "Built",
          "Scoping",
          "Built",
          "Consents Approved",
          "Scoping",
          "Scoping",
          "Scoping",
          "Scoping",
          "Built",
          "Scoping",
          "Consents Approved",
          "Scoping",
          "Scoping",
          "Built",
          "Built",
          "Scoping",
          "Scoping",
          "Scoping",
          "Scoping",
          "Scoping",
          "Built",
          "Built",
          "Scoping",
          "Scoping",
          "Scoping",
          "Awaiting Consents",
          "Scoping",
          "Scoping",
          "Scoping",
          "Scoping",
          "Built",
          "Awaiting Consents",
          "Under Construction/Commissioning",
          "Under Construction/Commissioning",
          "Consents Approved",
          "Scoping",
          "Built",
          "Scoping",
          "Scoping",
          "Scoping",
          "Scoping",
          "Scoping",
          "Built",
          "Scoping",
          "Built",
          "Consents Approved",
          "Scoping",
          "Scoping",
          "Built",
          "Scoping",
          "Scoping",
          "Scoping",
          "Scoping",
          "Awaiting Consents",
          "Awaiting Consents",
          "Scoping",
          "Scoping",
          "Scoping",
          "Built",
          "Built",
          "Scoping",
          "Scoping",
          "Scoping",
          "Scoping",
          "Scoping",
          "Scoping",
          "Scoping",
          "Scoping",
          "Scoping",
          "Built",
          "Scoping",
          "Scoping",
          "Scoping",
          "Built",
          "Scoping",
          "Scoping",
          "Built",
          "Built",
          "Scoping",
          "Scoping",
          "Scoping",
          "Scoping",
          "Scoping",
          "Scoping",
          "Built",
          "Awaiting Consents",
          "Consents Approved",
          "Consents Approved",
          "Awaiting Consents",
          "Awaiting Consents",
          "Awaiting Consents",
          "Scoping",
          "Scoping",
          "Scoping",
          "Scoping",
          "Scoping",
          "Scoping",
          "Scoping",
          "Scoping",
          "Scoping",
          "Scoping",
          "Scoping",
          "Awaiting Consents",
          "Scoping",
          "Scoping",
          "Scoping",
          "Scoping",
          "Scoping",
          "Scoping",
          "Scoping",
          "Scoping",
          "Scoping",
          "Scoping",
          "Built",
          "Scoping",
          "Scoping",
          "Awaiting Consents",
          "Scoping",
          "Scoping",
          "Scoping",
          "Scoping",
          "Scoping",
          "Scoping",
          "Awaiting Consents",
          "Scoping",
          "Scoping",
          "Awaiting Consents",
          "Awaiting Consents",
          "Scoping",
          "Awaiting Consents",
          "Awaiting Consents",
          "Scoping",
          "Scoping",
          "Scoping",
          "Scoping",
          "Scoping",
          "Scoping",
          "Scoping",
          "Scoping",
          "Consents Approved",
          "Scoping",
          "Scoping",
          "Scoping",
          "Awaiting Consents",
          "Scoping",
          "Awaiting Consents",
          "Built",
          "Consents Approved",
          "Scoping",
          "Scoping",
          "Scoping",
          "Scoping",
          "Scoping",
          "Scoping",
          "Scoping",
          "Scoping",
          "Scoping",
          "Scoping",
          "Scoping",
          "Scoping",
          "Scoping",
          "Scoping",
          "Scoping",
          "Scoping",
          "Scoping",
          "Scoping",
          "Scoping",
          "Built",
          "Scoping",
          "Scoping",
          "Scoping",
          "Built",
          "Scoping",
          "Awaiting Consents",
          "Scoping",
          "Scoping",
          "Scoping",
          "Awaiting Consents",
          "Consents Approved",
          "Scoping",
          "Consents Approved",
          "Scoping",
          "Awaiting Consents",
          "Built",
          "Scoping",
          "Scoping",
          "Under Construction/Commissioning",
          "Built",
          "Scoping",
          "Built",
          "Built",
          "Scoping",
          "Awaiting Consents",
          "Built",
          "Scoping",
          "Scoping",
          "Awaiting Consents",
          "Scoping",
          "Scoping",
          "Scoping",
          "Scoping",
          "Scoping",
          "Scoping",
          "Scoping",
          "Scoping",
          "Scoping",
          "Scoping",
          "Scoping",
          "Scoping",
          "Awaiting Consents",
          "Awaiting Consents",
          "Scoping",
          "Built",
          "Scoping",
          "Scoping",
          "Scoping",
          "Scoping",
          "Scoping",
          "Scoping",
          "Scoping",
          "Built",
          "Scoping",
          "Consents Approved",
          "Scoping",
          "Scoping",
          "Consents Approved",
          "Scoping",
          "Scoping",
          "Awaiting Consents",
          "Scoping",
          "Scoping",
          "Scoping",
          "Built",
          "Built",
          "Built",
          "Scoping",
          "Scoping",
          "Scoping",
          "Scoping",
          "Awaiting Consents",
          "Built",
          "Scoping",
          "Scoping",
          "Scoping",
          "Built",
          "Scoping",
          "Scoping",
          "Consents Approved",
          "Scoping",
          "Scoping",
          "Scoping",
          "Scoping",
          "Consents Approved",
          "Consents Approved",
          "Scoping",
          "Scoping",
          "Scoping",
          "Scoping",
          "Scoping",
          "Scoping",
          "Scoping",
          "Scoping",
          "Scoping",
          "Built",
          "Scoping",
          "Scoping",
          "Scoping",
          "Built",
          "Built",
          "Scoping",
          "Scoping",
          "Consents Approved",
          "Built",
          "Built",
          "Scoping",
          "Built",
          "Consents Approved",
          "Awaiting Consents",
          "Scoping",
          "Scoping",
          "Consents Approved",
          "Scoping",
          "Built",
          "Consents Approved",
          "Scoping",
          "Scoping",
          "Scoping",
          "Scoping",
          "Built",
          "Built",
          "Built",
          "Scoping",
          "Built",
          "Scoping",
          "Consents Approved",
          "Consents Approved",
          "Scoping",
          "Built",
          "Scoping",
          "Scoping",
          "Built",
          "Built",
          "Built",
          "Built",
          "Built",
          "Built",
          "Built",
          "Built",
          "Built",
          "Built",
          "Scoping",
          "Scoping",
          "Scoping",
          "Scoping",
          "Awaiting Consents",
          "Scoping",
          "Scoping",
          "Awaiting Consents",
          "Scoping",
          "Scoping",
          "Scoping",
          "Scoping",
          "Scoping",
          "Scoping",
          "Scoping",
          "Scoping",
          "Scoping",
          "Consents Approved",
          "Built",
          "Scoping",
          "Scoping",
          "Scoping",
          "Scoping",
          "Scoping",
          "Built",
          "Built",
          "Scoping",
          "Scoping",
          "Scoping",
          "Built",
          "Built",
          "Consents Approved",
          "Consents Approved",
          "Scoping",
          "Scoping",
          "Scoping",
          "Scoping",
          "Built",
          "Scoping",
          "Scoping",
          "Built",
          "Awaiting Consents",
          "Built",
          "Scoping",
          "Scoping",
          "Built",
          "Under Construction/Commissioning",
          "Scoping",
          "Scoping",
          "Scoping",
          "Awaiting Consents",
          "Built",
          "Built",
          "Built",
          "Scoping",
          "Scoping",
          "Awaiting Consents",
          "Awaiting Consents",
          "Scoping",
          "Scoping",
          "Scoping",
          "Scoping",
          "Scoping",
          "Consents Approved",
          "Scoping",
          "Awaiting Consents",
          "Built",
          "Scoping",
          "Scoping",
          "Scoping",
          "Awaiting Consents",
          "Scoping",
          "Scoping",
          "Scoping",
          "Scoping",
          "Scoping",
          "Scoping",
          "Scoping",
          "Scoping",
          "Built",
          "Consents Approved",
          "Built",
          "Scoping",
          "Built",
          "Under Construction/Commissioning",
          "Under Construction/Commissioning",
          "Scoping",
          "Scoping",
          "Under Construction/Commissioning",
          "Scoping",
          "Scoping",
          "Scoping",
          "Built",
          "Scoping",
          "Scoping",
          "Scoping",
          "Scoping",
          "Consents Approved",
          "Built",
          "Built",
          "Built",
          "Built",
          "Built",
          "Built",
          "Consents Approved",
          "Consents Approved",
          "Scoping",
          "Scoping",
          "Scoping",
          "Built",
          "Built",
          "Built",
          "Scoping",
          "Scoping",
          "Scoping",
          "Scoping",
          "Built",
          "Scoping",
          "Scoping",
          "Built",
          "Built",
          "Scoping",
          "Scoping",
          "Scoping",
          "Scoping",
          "Built",
          "Scoping",
          "Consents Approved",
          "Consents Approved",
          "Scoping",
          "Scoping",
          "Built",
          "Consents Approved",
          "Consents Approved",
          "Scoping",
          "Scoping",
          "Built",
          "Scoping",
          "Scoping",
          "Consents Approved",
          "Consents Approved",
          "Built",
          "Scoping",
          "Scoping",
          "Scoping",
          "Scoping",
          "Scoping",
          "Scoping",
          "Awaiting Consents",
          "Scoping",
          "Scoping",
          "Scoping",
          "Scoping",
          "Scoping",
          "Scoping",
          "Scoping",
          "Awaiting Consents",
          "Scoping",
          "Built",
          "Built",
          "Scoping",
          "Scoping",
          "Scoping",
          "Built",
          "Under Construction/Commissioning",
          "Scoping",
          "Scoping",
          "Built",
          "Scoping",
          "Scoping",
          "Awaiting Consents",
          "Built",
          "Awaiting Consents",
          "Scoping",
          "Scoping",
          "Built",
          "Consents Approved",
          "Scoping",
          "Scoping",
          "Built",
          "Scoping",
          "Consents Approved",
          "Consents Approved",
          "Scoping",
          "Scoping",
          "Scoping",
          "Built",
          "Built",
          "Scoping",
          "Consents Approved",
          "Built",
          "Scoping",
          "Built",
          "Built",
          "Consents Approved",
          "Built",
          "Scoping",
          "Scoping",
          "Scoping",
          "Scoping",
          "Built",
          "Scoping",
          "Scoping",
          "Built",
          "Scoping",
          "Scoping",
          "Built",
          "Scoping",
          "Scoping",
          "Scoping",
          "Scoping",
          "Scoping",
          "Built",
          "Consents Approved",
          "Scoping",
          "Scoping",
          "Scoping",
          "Scoping",
          "Scoping",
          "Scoping",
          "Scoping",
          "Scoping",
          "Scoping",
          "Scoping",
          "Scoping",
          "Scoping",
          "Scoping",
          "Scoping",
          "Scoping",
          "Scoping",
          "Scoping",
          "Scoping",
          "Scoping",
          "Scoping",
          "Scoping",
          "Scoping",
          "Built",
          "Scoping",
          "Scoping",
          "Scoping",
          "Scoping",
          "Scoping",
          "Scoping",
          "Scoping",
          "Consents Approved",
          "Consents Approved",
          "Scoping",
          "Scoping",
          "Scoping",
          "Scoping",
          "Scoping",
          "Scoping",
          "Scoping",
          "Consents Approved",
          "Built",
          "Scoping",
          "Scoping",
          "Scoping",
          "Scoping",
          "Scoping",
          "Scoping",
          "Scoping",
          "Scoping",
          "Scoping",
          "Scoping",
          "Scoping",
          "Scoping",
          "Scoping",
          "Awaiting Consents",
          "Awaiting Consents",
          "Awaiting Consents",
          "Consents Approved",
          "Scoping",
          "Scoping",
          "Scoping",
          "Consents Approved",
          "Scoping",
          "Scoping",
          "Scoping",
          "Scoping",
          "Scoping",
          "Scoping",
          "Scoping",
          "Scoping",
          "Scoping",
          "Scoping",
          "Scoping",
          "Scoping",
          "Scoping",
          "Scoping",
          "Scoping",
          "Scoping",
          "Scoping",
          "Scoping",
          "Scoping",
          "Scoping",
          "Scoping",
          "Scoping",
          "Scoping",
          "Scoping",
          "Scoping",
          "Scoping",
          "Consents Approved",
          "Scoping",
          "Built",
          "Scoping",
          "Scoping",
          "Built",
          "Built",
          "Scoping",
          "Built",
          "Scoping",
          "Scoping",
          "Scoping",
          "Scoping",
          "Scoping",
          "Consents Approved",
          "Scoping",
          "Awaiting Consents",
          "Scoping",
          "Built",
          "Scoping",
          "Awaiting Consents",
          "Awaiting Consents",
          "Scoping",
          "Scoping",
          "Scoping",
          "Scoping",
          "Scoping",
          "Scoping",
          "Scoping",
          "Scoping",
          "Scoping",
          "Scoping",
          "Scoping",
          "Scoping",
          "Built",
          "Scoping",
          "Built",
          "Scoping",
          "Awaiting Consents",
          "Built",
          "Scoping",
          "Scoping",
          "Scoping",
          "Scoping",
          "Scoping",
          "Scoping",
          "Scoping",
          "Scoping",
          "Scoping",
          "Scoping",
          "Scoping",
          "Scoping",
          "Scoping",
          "Built",
          "Built",
          "Scoping",
          "Scoping",
          "Built",
          "Built",
          "Scoping",
          "Awaiting Consents",
          "Scoping",
          "Built",
          "Scoping",
          "Scoping",
          "Scoping",
          "Scoping",
          "Scoping",
          "Awaiting Consents",
          "Scoping",
          "Scoping",
          "Built",
          "Scoping",
          "Awaiting Consents",
          "Built",
          "Scoping",
          "Awaiting Consents",
          "Scoping",
          "Built",
          "Scoping",
          "Scoping",
          "Scoping",
          "Built",
          "Scoping",
          "Scoping",
          "Scoping",
          "Scoping",
          "Scoping",
          "Scoping",
          "Scoping",
          "Awaiting Consents",
          "Scoping",
          "Scoping",
          "Scoping",
          "Scoping",
          "Scoping",
          "Scoping",
          "Scoping",
          "Scoping",
          "Scoping",
          "Scoping",
          "Consents Approved",
          "Consents Approved",
          "Awaiting Consents",
          "Awaiting Consents",
          "Scoping",
          "Scoping",
          "Scoping",
          "Scoping",
          "Built",
          "Scoping",
          "Scoping",
          "Built",
          "Scoping",
          "Consents Approved",
          "Under Construction/Commissioning",
          "Built",
          "Scoping",
          "Scoping",
          "Consents Approved",
          "Scoping",
          "Built",
          "Built",
          "Scoping",
          "Scoping",
          "Scoping",
          "Scoping",
          "Scoping",
          "Consents Approved",
          "Scoping",
          "Scoping",
          "Scoping",
          "Scoping",
          "Scoping",
          "Consents Approved",
          "Consents Approved",
          "Awaiting Consents",
          "Scoping",
          "Built",
          "Consents Approved",
          "Scoping",
          "Scoping",
          "Scoping",
          "Scoping",
          "Scoping",
          "Scoping",
          "Scoping",
          "Scoping",
          "Scoping",
          "Built",
          "Scoping",
          "Consents Approved",
          "Scoping",
          "Built",
          "Consents Approved",
          "Scoping",
          "Scoping",
          "Scoping",
          "Scoping",
          "Built",
          "Scoping",
          "Scoping",
          "Scoping",
          "Scoping",
          "Scoping",
          "Awaiting Consents",
          "Consents Approved",
          "Scoping",
          "Scoping",
          "Scoping",
          "Scoping",
          "Scoping",
          "Scoping",
          "Scoping",
          "Awaiting Consents",
          "Consents Approved",
          "Awaiting Consents",
          "Awaiting Consents",
          "Scoping",
          "Scoping",
          "Scoping",
          "Consents Approved",
          "Scoping",
          "Scoping",
          "Scoping",
          "Scoping",
          "Scoping",
          "Scoping",
          "Scoping",
          "Scoping",
          "Awaiting Consents",
          "Scoping",
          "Scoping",
          "Scoping",
          "Scoping",
          "Scoping",
          "Scoping",
          "Scoping",
          "Scoping",
          "Scoping",
          "Under Construction/Commissioning",
          "Scoping",
          "Scoping",
          "Awaiting Consents",
          "Awaiting Consents",
          "Awaiting Consents",
          "Awaiting Consents",
          "Awaiting Consents",
          "Scoping",
          "Scoping",
          "Consents Approved",
          "Scoping",
          "Scoping",
          "Consents Approved",
          "Awaiting Consents",
          "Scoping",
          "Scoping",
          "Scoping",
          "Scoping",
          "Scoping",
          "Awaiting Consents",
          "Scoping",
          "Consents Approved",
          "Scoping",
          "Consents Approved",
          "Scoping",
          "Scoping",
          "Awaiting Consents",
          "Scoping",
          "Consents Approved",
          "Scoping",
          "Scoping",
          "Scoping",
          "Scoping",
          "Scoping",
          "Scoping",
          "Scoping",
          "Scoping",
          "Scoping",
          "Scoping",
          "Built",
          "Scoping",
          "Scoping",
          "Scoping",
          "Scoping",
          "Consents Approved",
          "Scoping",
          "Scoping",
          "Scoping",
          "Awaiting Consents",
          "Awaiting Consents",
          "Scoping",
          "Scoping",
          "Scoping",
          "Scoping",
          "Scoping",
          "Built",
          "Built",
          "Scoping",
          "Scoping",
          "Scoping",
          "Scoping",
          "Scoping",
          "Scoping",
          "Consents Approved",
          "Consents Approved",
          "Awaiting Consents",
          "Scoping",
          "Scoping",
          "Scoping",
          "Scoping",
          "Scoping",
          "Scoping",
          "Scoping",
          "Scoping",
          "Scoping",
          "Awaiting Consents",
          "Scoping",
          "Scoping",
          "Scoping",
          "Scoping",
          "Scoping",
          "Scoping",
          "Scoping",
          "Built",
          "Built",
          "Built",
          "Built",
          "Built",
          "Built",
          "Built",
          "Built",
          "Scoping",
          "Scoping",
          "Awaiting Consents",
          "Scoping",
          "Awaiting Consents",
          "Awaiting Consents",
          "Built",
          "Built",
          "Consents Approved",
          "Awaiting Consents",
          "Scoping",
          "Scoping",
          "Scoping",
          "Scoping",
          "Scoping",
          "Awaiting Consents",
          "Scoping",
          "Built",
          "Scoping",
          "Scoping",
          "Awaiting Consents",
          "Awaiting Consents",
          "Scoping",
          "Scoping",
          "Built",
          "Built",
          "Scoping",
          "Scoping",
          "Awaiting Consents",
          "Scoping",
          "Scoping",
          "Scoping",
          "Scoping",
          "Built",
          "Built",
          "Consents Approved",
          "Scoping",
          "Built",
          "Scoping",
          "Consents Approved",
          "Scoping",
          "Built",
          "Built",
          "Built",
          "Scoping",
          "Awaiting Consents",
          "Awaiting Consents",
          "Scoping",
          "Scoping",
          "Scoping",
          "Under Construction/Commissioning",
          "Consents Approved",
          "Under Construction/Commissioning",
          "Scoping",
          "Scoping",
          "Scoping",
          "Scoping",
          "Scoping",
          "Scoping",
          "Scoping",
          "Built",
          "Built",
          "Scoping",
          "Scoping",
          "Built",
          "Scoping",
          "Scoping",
          "Scoping",
          "Scoping",
          "Scoping",
          "Awaiting Consents",
          "Scoping",
          "Scoping",
          "Built",
          "Scoping",
          "Scoping",
          "Scoping",
          "Scoping",
          "Scoping",
          "Scoping",
          "Scoping",
          "Scoping",
          "Scoping",
          "Scoping",
          "Scoping",
          "Scoping",
          "Scoping",
          "Consents Approved",
          "Consents Approved",
          "Scoping",
          "Scoping",
          "Scoping",
          "Scoping",
          "Built",
          "Built",
          "Built",
          "Scoping",
          "Scoping",
          "Scoping",
          "Scoping",
          "Scoping",
          "Built",
          "Built",
          "Scoping",
          "Scoping",
          "Scoping",
          "Scoping",
          "Scoping",
          "Built",
          "Built",
          "Scoping",
          "Scoping",
          "Built",
          "Scoping",
          "Scoping",
          "Built",
          "Awaiting Consents",
          "Scoping",
          "Scoping",
          "Consents Approved",
          "Scoping",
          "Scoping",
          "Scoping",
          "Scoping",
          "Scoping",
          "Scoping",
          "Scoping",
          "Scoping",
          "Built",
          "Scoping",
          "Scoping",
          "Scoping",
          "Scoping",
          "Scoping",
          "Scoping",
          "Scoping",
          "Awaiting Consents",
          "Scoping",
          "Built",
          "Scoping",
          "Scoping",
          "Scoping",
          "Scoping",
          "Built",
          "Awaiting Consents",
          "Consents Approved",
          "Built",
          "Scoping",
          "Scoping",
          "Scoping",
          "Scoping",
          "Scoping",
          "Scoping",
          "Scoping",
          "Scoping",
          "Scoping",
          "Scoping",
          "Scoping",
          "Scoping",
          "Built",
          "Awaiting Consents",
          "Consents Approved",
          "Consents Approved",
          "Consents Approved",
          "Under Construction/Commissioning",
          "Scoping",
          "Scoping",
          "Built",
          "Awaiting Consents",
          "Consents Approved",
          "Scoping",
          "Built",
          "Scoping",
          "Built",
          "Scoping",
          "Consents Approved",
          "Consents Approved",
          "Awaiting Consents",
          "Scoping",
          "Scoping",
          "Built",
          "Scoping",
          "Built",
          "Under Construction/Commissioning",
          "Under Construction/Commissioning",
          "Built",
          "Scoping",
          "Scoping",
          "Scoping",
          "Scoping",
          "Scoping",
          "Built",
          "Awaiting Consents",
          "Awaiting Consents",
          "Consents Approved",
          "Consents Approved",
          "Scoping",
          "Scoping",
          "Built",
          "Built",
          "Scoping",
          "Consents Approved",
          "Scoping",
          "Scoping",
          "Built",
          "Built",
          "Awaiting Consents",
          "Scoping",
          "Awaiting Consents",
          "Built",
          "Scoping",
          "Built",
          "Scoping",
          "Scoping",
          "Awaiting Consents",
          "Awaiting Consents",
          "Built",
          "Built",
          "Consents Approved",
          "Scoping",
          "Awaiting Consents",
          "Scoping",
          "Scoping",
          "Scoping",
          "Scoping",
          "Scoping",
          "Scoping",
          "Awaiting Consents",
          "Scoping",
          "Scoping",
          "Scoping",
          "Scoping",
          "Scoping",
          "Scoping",
          "Scoping",
          "Scoping",
          "Consents Approved",
          "Awaiting Consents",
          "Scoping",
          "Scoping",
          "Scoping",
          "Scoping",
          "Scoping",
          "Scoping",
          "Consents Approved",
          "Scoping",
          "Scoping",
          "Scoping",
          "Scoping",
          "Scoping",
          "Scoping",
          "Scoping",
          "Scoping",
          "Awaiting Consents",
          "Built",
          "Built",
          "Scoping",
          "Scoping",
          "Scoping",
          "Scoping",
          "Scoping",
          "Scoping",
          "Scoping",
          "Scoping",
          "Consents Approved",
          "Scoping",
          "Consents Approved",
          "Scoping",
          "Scoping",
          "Scoping",
          "Consents Approved",
          "Built",
          "Scoping",
          "Consents Approved",
          "Consents Approved",
          "Scoping",
          "Built",
          "Built",
          "Scoping",
          "Scoping",
          "Scoping",
          "Scoping",
          "Scoping",
          "Scoping",
          "Scoping",
          "Scoping",
          "Scoping",
          "Awaiting Consents",
          "Scoping",
          "Awaiting Consents",
          "Built",
          "Scoping",
          "Consents Approved",
          "Scoping",
          "Scoping",
          "Awaiting Consents",
          "Scoping",
          "Scoping",
          "Scoping",
          "Scoping",
          "Scoping",
          "Scoping",
          "Scoping",
          "Scoping",
          "Scoping",
          "Scoping",
          "Consents Approved",
          "Awaiting Consents",
          "Awaiting Consents",
          "Built",
          "Scoping",
          "Scoping",
          "Awaiting Consents",
          "Under Construction/Commissioning",
          "Consents Approved",
          "Consents Approved",
          "Consents Approved",
          "Consents Approved",
          "Consents Approved",
          "Built",
          "Scoping",
          "Awaiting Consents",
          "Scoping",
          "Scoping",
          "Scoping",
          "Scoping",
          "Scoping",
          "Scoping",
          "Scoping",
          "Scoping",
          "Scoping",
          "Scoping",
          "Scoping",
          "Awaiting Consents",
          "Scoping",
          "Consents Approved",
          "Built",
          "Scoping",
          "Scoping",
          "Built",
          "Awaiting Consents",
          "Scoping",
          "Scoping",
          "Scoping",
          "Under Construction/Commissioning",
          "Consents Approved",
          "Consents Approved",
          "Consents Approved",
          "Scoping",
          "Scoping",
          "Scoping",
          "Scoping",
          "Awaiting Consents",
          "Awaiting Consents",
          "Scoping",
          "Scoping",
          "Scoping",
          "Consents Approved",
          "Built",
          "Scoping",
          "Scoping",
          "Scoping",
          "Scoping",
          "Built",
          "Scoping",
          "Consents Approved",
          "Scoping",
          "Scoping",
          "Scoping",
          "Built",
          "Built",
          "Scoping",
          "Scoping",
          "Built",
          "Consents Approved",
          "Scoping",
          "Built",
          "Scoping",
          "Built",
          "Awaiting Consents",
          "Scoping",
          "Built",
          "Built",
          "Scoping",
          "Scoping",
          "Built",
          "Built",
          "Scoping",
          "Scoping",
          "Scoping",
          "Awaiting Consents",
          "Scoping",
          "Under Construction/Commissioning",
          "Scoping",
          "Scoping",
          "Scoping",
          "Consents Approved",
          "Scoping",
          "Scoping",
          "Consents Approved",
          "Scoping",
          "Scoping",
          "Scoping",
          "Scoping",
          "Scoping",
          "Built",
          "Built",
          "Built",
          "Built",
          "Under Construction/Commissioning",
          "Scoping",
          "Scoping",
          "Scoping",
          "Scoping",
          "Consents Approved",
          "Scoping",
          "Scoping",
          "Scoping",
          "Scoping",
          "Scoping",
          "Consents Approved",
          "Scoping",
          "Scoping",
          "Scoping",
          "Scoping",
          "Scoping",
          "Scoping",
          "Scoping",
          "Built",
          "Scoping",
          "Scoping",
          "Scoping",
          "Scoping",
          "Scoping",
          "Built",
          "Scoping",
          "Consents Approved",
          "Consents Approved",
          "Scoping",
          "Scoping",
          "Scoping",
          "Scoping",
          "Scoping",
          "Built",
          "Built",
          "Scoping",
          "Awaiting Consents",
          "Scoping",
          "Scoping",
          "Scoping",
          "Built",
          "Scoping",
          "Scoping",
          "Scoping",
          "Scoping",
          "Scoping",
          "Scoping",
          "Scoping",
          "Built",
          "Scoping",
          "Scoping",
          "Scoping",
          "Scoping",
          "Scoping",
          "Consents Approved",
          "Awaiting Consents",
          "Scoping",
          "Scoping",
          "Scoping",
          "Scoping",
          "Scoping",
          "Built",
          "Scoping",
          "Built",
          "Scoping",
          "Scoping",
          "Built",
          "Scoping",
          "Scoping",
          "Scoping",
          "Scoping",
          "Scoping",
          "Scoping",
          "Scoping",
          "Scoping",
          "Scoping",
          "Scoping",
          "Scoping",
          "Scoping",
          "Awaiting Consents",
          "Scoping",
          "Built",
          "Built",
          "Built",
          "Consents Approved",
          "Awaiting Consents",
          "Awaiting Consents",
          "Awaiting Consents",
          "Scoping",
          "Scoping",
          "Built",
          "Scoping",
          "Scoping",
          "Scoping",
          "Scoping",
          "Consents Approved",
          "Consents Approved",
          "Scoping",
          "Scoping",
          "Scoping",
          "Scoping",
          "Scoping",
          "Awaiting Consents",
          "Scoping",
          "Scoping",
          "Awaiting Consents",
          "Scoping",
          "Consents Approved",
          "Scoping",
          "Scoping",
          "Scoping",
          "Scoping",
          "Scoping",
          "Awaiting Consents",
          "Consents Approved",
          "Consents Approved",
          "Scoping",
          "Scoping",
          "Scoping",
          "Scoping",
          "Scoping",
          "Scoping",
          "Scoping",
          "Scoping",
          "Scoping",
          "Scoping",
          "Awaiting Consents",
          "Scoping",
          "Scoping",
          "Scoping",
          "Scoping"
         ],
         "legendgroup": "",
         "name": "",
         "showlegend": true,
         "textinfo": "percent+label",
         "type": "pie",
         "values": [
          175,
          92.4,
          95.76,
          10,
          138,
          49.9,
          95.5,
          57,
          240,
          249,
          200,
          75,
          600,
          105,
          43,
          149,
          49.9,
          150,
          50,
          300,
          63,
          500,
          20,
          81.2,
          63.8,
          35,
          89,
          300,
          500,
          275,
          280,
          280,
          500,
          1000,
          500,
          500,
          300,
          500,
          500,
          450,
          50,
          50,
          49.9,
          100,
          1800,
          1800,
          1000,
          450,
          900,
          500,
          249.9,
          1000,
          200,
          49.9,
          19.3,
          35,
          240,
          35,
          19.25,
          600,
          27,
          200,
          114,
          330,
          72.8,
          57,
          99,
          49,
          150,
          85.8,
          67.2,
          1800,
          500,
          249.9,
          88,
          175,
          29.95,
          700,
          36,
          105,
          1000,
          574,
          1100,
          150,
          120,
          49.9,
          120,
          150,
          300,
          1008,
          0,
          26.65,
          500,
          48,
          52.5,
          42,
          900,
          96,
          162,
          165,
          78,
          25,
          500,
          43,
          120,
          99.9,
          249.9,
          90,
          20.88,
          25,
          200,
          100,
          0,
          588,
          100,
          72,
          240,
          240,
          30,
          49.9,
          43.7,
          50,
          29,
          84,
          109,
          500,
          1200,
          72,
          228,
          228,
          500,
          63,
          49.9,
          57,
          249.9,
          200,
          67,
          43.2,
          1150,
          250,
          1150,
          1800,
          100,
          200,
          200,
          150,
          200,
          249,
          1000,
          100.8,
          108,
          400,
          49.995,
          57,
          49.995,
          57,
          249.9,
          600,
          1000,
          57,
          200,
          25,
          67.1,
          150,
          52.9,
          349,
          118,
          340,
          60,
          25.3,
          46,
          145,
          200,
          200,
          73.1,
          35,
          126,
          41,
          500,
          450,
          110,
          280,
          49.9,
          49.9,
          57,
          49.9,
          200,
          700,
          0,
          400,
          300,
          300,
          228,
          400,
          800,
          840,
          1008,
          166.61,
          850,
          960,
          100,
          249,
          499,
          1050,
          500,
          95,
          68,
          74,
          100,
          1000,
          49.9,
          57,
          49.9,
          57,
          57,
          400,
          650,
          57,
          57,
          49.995,
          57,
          200,
          700,
          750,
          1000,
          480,
          600,
          500,
          49.995,
          50,
          99.8,
          49.9,
          80,
          150,
          57,
          54,
          99,
          600,
          11.58,
          900,
          48,
          49.9,
          114,
          7.5,
          159,
          106,
          250,
          932,
          280,
          133,
          200,
          700,
          49.5,
          49.5,
          850,
          258,
          90,
          47,
          22.5,
          38,
          57,
          249.9,
          480,
          1000,
          480,
          57,
          4800,
          3600,
          3600,
          2400,
          3600,
          3600,
          480,
          1025,
          350,
          67.2,
          43.2,
          36,
          249,
          20,
          45.5,
          1000,
          49.9,
          57,
          449.9,
          457,
          400,
          100,
          57,
          99,
          200,
          500,
          40,
          85,
          150,
          46,
          84,
          57,
          1800,
          910,
          11,
          400,
          300,
          240,
          445,
          20,
          85.8,
          400,
          300,
          400,
          280,
          400,
          1000,
          400,
          400,
          1400,
          1000,
          1500,
          75,
          49.5,
          600,
          150.88,
          20,
          90,
          240,
          600,
          200,
          300,
          400,
          47,
          400,
          80,
          96,
          400,
          240,
          349.9,
          400,
          1025,
          0,
          210,
          37,
          77,
          108,
          49.5,
          49.5,
          40,
          500,
          350,
          43,
          800,
          150,
          67.2,
          200,
          50,
          200,
          150,
          61.2,
          374.5,
          128.8,
          150,
          220,
          102,
          100,
          240,
          300,
          249,
          36,
          612,
          1296,
          30,
          1250,
          50,
          200,
          1380,
          20,
          19,
          22,
          19,
          35.8,
          45,
          150,
          401,
          1008,
          50,
          500,
          69,
          70,
          200,
          47.5,
          49.9,
          1000,
          800,
          20.4,
          250,
          500,
          500,
          600,
          600,
          40,
          49.9,
          20.5,
          49.9,
          140,
          49.9,
          57,
          200,
          200,
          700,
          150,
          300,
          49.9,
          4.7,
          300,
          36,
          72.6,
          92.4,
          79.2,
          92.4,
          105,
          500,
          28.5,
          249.9,
          320,
          46,
          100.8,
          440,
          480,
          600,
          49.9,
          138,
          13.8,
          48.2,
          1000,
          1000,
          500,
          19.1,
          50,
          114,
          49.5,
          10,
          50,
          1000,
          96,
          249.9,
          600,
          480,
          500,
          200,
          40,
          42,
          42,
          30,
          38.4,
          812,
          1800,
          40,
          1000,
          45,
          12,
          38,
          190,
          49.8,
          350,
          129,
          80,
          162,
          160,
          165,
          400,
          49.5,
          149.9,
          100,
          1705,
          100,
          750,
          99.9,
          300,
          200,
          700,
          1000,
          300,
          1644,
          47.5,
          1200,
          1200,
          1200,
          1500,
          39,
          99.8,
          63,
          165,
          70,
          37.5,
          177,
          610,
          45,
          60,
          49,
          500,
          21,
          150,
          300,
          57,
          200,
          400,
          1025,
          240,
          400,
          190,
          1905,
          2001,
          400,
          100,
          49.7,
          49.9,
          150,
          39.9,
          49.9,
          30,
          49.9,
          400,
          100.8,
          249.9,
          400,
          0,
          500,
          500,
          29.75,
          94,
          49.9,
          600,
          600,
          1500,
          500,
          105,
          680,
          860,
          1200,
          1300,
          860,
          880,
          1025,
          650,
          1000,
          500,
          800,
          750,
          240,
          1000,
          49.9,
          500,
          150,
          500,
          249,
          249,
          100,
          249,
          249,
          249,
          249,
          249,
          249,
          249,
          249,
          41.4,
          90,
          550,
          2450,
          249.9,
          99,
          170,
          30,
          99.9,
          249,
          252,
          800,
          900,
          300,
          400,
          850,
          300,
          300,
          49.9,
          57,
          400,
          500,
          170,
          25,
          50,
          9.8,
          57,
          249.9,
          200,
          700,
          1025,
          57,
          120.3,
          442,
          69,
          3000,
          480,
          480,
          189.5,
          150,
          1000,
          1000,
          50,
          1000,
          249,
          57,
          57,
          57,
          1000,
          400,
          200,
          700,
          95.25,
          105,
          75,
          249,
          240,
          112,
          39,
          500,
          49.9,
          249,
          400,
          57,
          290,
          0,
          90,
          47.5,
          240,
          100,
          144,
          600,
          100,
          20,
          92,
          144.8,
          46,
          30.5,
          90,
          250,
          158,
          750,
          1495,
          400,
          500,
          500,
          1025,
          12,
          150,
          400,
          50,
          237.5,
          200,
          99.9,
          249.9,
          310,
          1220,
          1820,
          57,
          360,
          30,
          900,
          249.9,
          49.9,
          200,
          100,
          0,
          16.5,
          1080,
          360,
          800,
          47.5,
          47.5,
          200,
          700,
          57,
          47.5,
          100,
          200,
          99,
          300,
          22.2,
          100,
          252.7,
          100,
          200,
          67,
          55.2,
          175,
          60,
          80,
          348,
          2000,
          40.9,
          46.2,
          110,
          200,
          222,
          200,
          450,
          1000,
          1320,
          400,
          400,
          0,
          0,
          200,
          56,
          42,
          44,
          15,
          40,
          25,
          800,
          32.2,
          48.5,
          165,
          240,
          49.9,
          27.5,
          99.9,
          156,
          40,
          210,
          33.6,
          80,
          150,
          46,
          200,
          26,
          50,
          400,
          150,
          42,
          104,
          32,
          108,
          12.5,
          550,
          1517,
          249,
          49.99,
          49.99,
          300,
          120,
          700,
          300,
          420,
          500,
          40,
          20,
          21,
          15,
          21,
          21,
          6,
          12,
          500,
          300,
          90,
          500,
          42.64,
          250,
          250,
          1000,
          500,
          240,
          240,
          300,
          400,
          300,
          200,
          480,
          500,
          0,
          188.6,
          500,
          79.2,
          240,
          240,
          1500,
          64,
          99.9,
          108,
          300,
          1000,
          574,
          99.9,
          30,
          54,
          84,
          150,
          1000.29,
          100,
          28.5,
          400,
          1025,
          51.7,
          46.2,
          29.75,
          114,
          40,
          125,
          163.3,
          400,
          249.9,
          600,
          49.95,
          67.2,
          1207,
          20,
          500,
          34,
          200,
          1025,
          400,
          66,
          80,
          400,
          49.9,
          20.4,
          200,
          400,
          2363,
          50,
          240,
          57,
          400,
          500,
          99.9,
          334,
          120,
          168.2,
          168,
          200,
          240,
          27.6,
          36,
          48.3,
          800,
          1061,
          1670,
          3340,
          240,
          180,
          299,
          850,
          750,
          500,
          7.5,
          49.5,
          49.9,
          250,
          400,
          48,
          400,
          400,
          400,
          440,
          440,
          440,
          2250,
          3000,
          1500,
          2600,
          240,
          220,
          40,
          1020,
          200,
          200,
          250,
          70,
          10,
          212,
          320,
          10,
          30,
          1000,
          1000,
          1000,
          1000,
          1268,
          225,
          540,
          540,
          60,
          437,
          140,
          47.5,
          47.5,
          170,
          240,
          20,
          191.4,
          1000,
          49.9,
          120,
          49.9,
          99.4,
          120,
          600,
          49.9,
          99.8,
          120,
          400,
          249,
          50,
          200,
          249.9,
          1320,
          49.9,
          99.9,
          720,
          249.9,
          30,
          19,
          49.99,
          49.99,
          400,
          13,
          30,
          200,
          51,
          910,
          250,
          910,
          892,
          893,
          49.9,
          400,
          150,
          0,
          48,
          39,
          400,
          4.5,
          150,
          16,
          49.99,
          90,
          400,
          40,
          35.8,
          49.9,
          40,
          112,
          60,
          79.2,
          67,
          228,
          274,
          619,
          249.9,
          150,
          350,
          500,
          20,
          200,
          200,
          49.6,
          20.622,
          200,
          395,
          120,
          500,
          400,
          266,
          105,
          20,
          49.9,
          57,
          57,
          400,
          100,
          200,
          60,
          59.4,
          60,
          200,
          120,
          130.2,
          99,
          99,
          99.99,
          99.9,
          99.9,
          99,
          99.9,
          99.9,
          99.9,
          99.99,
          300,
          88.4,
          200,
          220,
          200,
          924,
          240,
          68,
          100,
          50,
          99.9,
          49.9,
          200,
          500,
          20,
          246.4,
          500,
          49.9,
          49.9,
          905,
          200,
          300,
          400,
          249,
          1000,
          49.9,
          100,
          400,
          1000,
          100,
          50,
          275,
          400,
          400,
          800,
          1025,
          57,
          1000,
          2,
          600,
          132,
          85,
          114,
          400,
          600,
          400,
          300,
          240,
          240,
          240,
          240,
          240,
          240,
          240,
          240,
          240,
          120,
          150,
          240,
          240,
          240,
          300,
          300,
          240,
          150,
          240,
          249.9,
          106,
          120,
          265,
          47,
          57,
          20,
          0,
          57,
          740,
          1000,
          74.9,
          49.9,
          57,
          1260,
          50,
          300,
          400,
          68.4,
          18,
          95,
          95,
          190,
          125,
          100,
          1800,
          1000,
          300,
          300,
          300,
          300,
          99,
          36,
          900,
          50,
          47,
          89,
          69,
          900,
          36,
          630,
          500,
          156,
          500,
          300,
          33,
          69.5,
          49.9,
          49.9,
          57,
          49.9,
          250,
          400,
          600,
          4,
          34,
          240,
          200,
          396,
          49.9,
          249.9,
          1025,
          1500,
          30,
          150,
          495,
          60,
          400,
          57,
          47.5,
          47.5,
          150,
          920,
          200,
          50,
          53,
          700,
          560,
          1000,
          55,
          700,
          99.9,
          500,
          910,
          49.9,
          30,
          500,
          49.9,
          57,
          800,
          90,
          480,
          57.6,
          40,
          60,
          100,
          180,
          1008,
          1500,
          300,
          110,
          220,
          28,
          71,
          154,
          237,
          287,
          249,
          99,
          240,
          51,
          200,
          38.7,
          20,
          600,
          57,
          299,
          65,
          200,
          92.8,
          47.5,
          47.5,
          25,
          37.5,
          251,
          158.4,
          500,
          240,
          1500,
          57,
          249.9,
          400,
          500,
          200,
          800,
          320,
          57,
          10,
          34.375,
          900,
          800,
          860,
          480,
          480,
          1500,
          249,
          240,
          1500,
          300,
          249,
          18.7,
          100,
          48,
          240,
          60,
          189,
          1000,
          240,
          200,
          81.2,
          15,
          143,
          88.4,
          500,
          150,
          72.6,
          297,
          57,
          1000,
          1000,
          1000,
          1034,
          1000,
          1000,
          1000,
          580,
          448,
          0,
          78,
          50,
          150,
          600,
          0,
          240,
          228,
          200,
          180,
          240,
          240,
          240,
          200,
          860,
          240,
          450,
          500,
          500,
          780,
          600,
          250,
          400,
          119,
          49.9,
          250,
          1000,
          600,
          0,
          49.9,
          450,
          400,
          1320,
          860,
          150,
          2000,
          1000,
          540,
          212,
          200,
          151.2,
          1500,
          300,
          49.9,
          57,
          400,
          40.9,
          180,
          57,
          100,
          28,
          400,
          249.9,
          49.5,
          480,
          249,
          410,
          210,
          57,
          460,
          249,
          249,
          150,
          1500,
          49.9,
          162.3,
          600,
          400,
          49.5,
          57,
          750,
          56,
          200,
          49.9,
          57,
          79.2,
          500,
          500,
          100,
          85.8,
          150,
          18,
          1350,
          1350,
          249.9,
          105,
          249,
          60,
          49.9,
          50,
          1025,
          1400,
          440,
          2000,
          1000,
          3000,
          750,
          2250,
          500,
          79.2,
          480,
          332.4,
          500,
          200,
          200,
          700,
          249.9,
          600,
          20,
          20.5,
          20,
          21,
          21,
          21,
          20,
          24,
          249.9,
          700,
          480,
          120,
          350,
          99.9,
          2199,
          228,
          85,
          119,
          249.9,
          249,
          99.9,
          60,
          500,
          1025,
          100,
          40,
          57,
          57,
          400,
          600,
          50,
          45,
          245,
          1180,
          500,
          910,
          480,
          49.5,
          1000,
          300,
          1500,
          49.9,
          49.9,
          50,
          49.9,
          15,
          340,
          57,
          57,
          25.52,
          15.08,
          9.6,
          200,
          47.5,
          47.5,
          249.9,
          210,
          2500,
          380,
          43.63,
          299,
          500,
          500,
          500,
          910,
          49.9,
          650,
          95,
          18,
          565,
          149.7,
          1200,
          400,
          600,
          400,
          0,
          500,
          200,
          49.9,
          140,
          200,
          2021,
          120,
          1000,
          190,
          200,
          300,
          400,
          249.9,
          249.9,
          500,
          49.9,
          57,
          49.9,
          57,
          150,
          210,
          800,
          249,
          450,
          300,
          29,
          20.88,
          20.88,
          500,
          221,
          225,
          200,
          150,
          50,
          50,
          350,
          150,
          200,
          220,
          49.99,
          86,
          92,
          57,
          60,
          810,
          200,
          55,
          49,
          500,
          50,
          500,
          0,
          90.8,
          40,
          1000,
          600,
          50,
          400,
          200,
          1000,
          715,
          49.9,
          57,
          200,
          249.9,
          349,
          20,
          200,
          49.5,
          100,
          1100,
          100,
          200,
          200,
          600,
          86.4,
          108,
          250,
          30,
          100,
          1400,
          49.9,
          5,
          60,
          719,
          950,
          1350,
          54,
          500,
          170,
          45,
          1234,
          49.9,
          10,
          600,
          1075,
          500,
          500,
          60,
          155,
          49.9,
          0,
          1000,
          850,
          135,
          10,
          99.9,
          83,
          249,
          100,
          84,
          84.6,
          315,
          400,
          460,
          420,
          460,
          420,
          349.99,
          500,
          200,
          240,
          100,
          1230,
          1670,
          3340,
          57,
          142.5,
          100,
          114,
          72.5,
          80,
          228,
          132,
          1320,
          240,
          10,
          29.9,
          47.5,
          500,
          35.5,
          1365,
          67,
          235,
          500,
          600,
          47.5,
          47.5,
          950,
          299.99,
          849.99,
          480,
          49.9,
          50,
          400,
          0,
          500,
          249.9,
          740,
          400,
          200,
          1000,
          200,
          1000,
          166.61,
          400,
          800,
          1500,
          150,
          150,
          1320,
          600,
          600,
          1008,
          600,
          600,
          47.5,
          100,
          36,
          240,
          500,
          906,
          500,
          60,
          400,
          437,
          1752,
          49.9,
          300,
          800,
          240,
          1000,
          200,
          300,
          400,
          49.9,
          180,
          249,
          102,
          200,
          20,
          34.8,
          36,
          67.65,
          207.6,
          54.4,
          63.5,
          25,
          227.8,
          41.76,
          129.8,
          100,
          200,
          180,
          49.5,
          39.9,
          300,
          200,
          700,
          49.9,
          500,
          500,
          850,
          400,
          12,
          97,
          0,
          49.9,
          1025,
          400,
          35,
          20,
          0,
          0,
          0,
          96,
          39.6,
          188,
          20,
          49.9,
          100,
          140,
          100,
          1400,
          80,
          150,
          360,
          700,
          1190,
          1465,
          1700,
          285,
          112.2,
          240,
          30,
          49.9,
          522.9,
          200,
          400,
          200,
          200,
          200,
          200,
          250,
          400,
          400,
          200,
          40,
          300,
          500,
          500,
          41,
          350,
          300,
          500,
          200,
          99.98,
          199.96,
          399.96,
          929.99,
          249.9,
          49.9,
          57,
          1400,
          400,
          1025,
          99.9,
          750,
          100,
          0,
          43,
          500,
          70,
          0,
          1,
          27.6,
          200,
          49.5,
          74.4,
          150,
          70,
          1250,
          15,
          1500,
          60,
          14,
          1040,
          2080,
          20,
          940,
          824,
          68,
          500,
          17,
          17.5,
          340,
          590,
          37.8,
          25,
          160,
          200,
          400,
          199.92,
          80,
          230,
          349.9,
          120,
          300,
          1320,
          400,
          1320,
          443,
          125.28,
          299,
          480,
          700,
          249,
          330,
          330,
          182,
          182,
          49.9,
          49.9,
          57,
          100,
          2000,
          0,
          200,
          57,
          300,
          200,
          700,
          57,
          49.9,
          57,
          150,
          200,
          200,
          249.9,
          249.9,
          20.88,
          150,
          81.6,
          52.8,
          240,
          150,
          49.9,
          79.9,
          349.9,
          399.9,
          49.9,
          85.8,
          49.9,
          99.8,
          120,
          1833,
          1881,
          480,
          150,
          600,
          1000,
          200,
          382,
          500,
          200,
          50,
          57,
          1000,
          49.9,
          57,
          206.5,
          150,
          350,
          66,
          400,
          200,
          57,
          200,
          500,
          60,
          249,
          1,
          57,
          305,
          660,
          238,
          300,
          220,
          27,
          49.9,
          150,
          350,
          57,
          600,
          240,
          49.9,
          57,
          49.9,
          57,
          500,
          400,
          1025,
          249.9,
          141,
          42.8,
          61.5,
          75,
          43.5,
          85.5,
          96,
          200,
          200,
          49.95,
          840,
          200,
          200,
          90,
          200,
          37.5,
          49.9,
          120,
          200,
          300,
          400,
          57,
          35.5,
          1000,
          700,
          1000,
          49.995,
          750,
          151.2,
          520,
          200,
          200,
          450,
          200,
          300,
          330,
          200,
          400,
          300,
          330,
          300,
          300,
          300,
          300,
          200,
          150,
          330,
          150,
          330,
          300
         ]
        }
       ],
       "layout": {
        "height": 550,
        "legend": {
         "orientation": "h",
         "tracegroupgap": 0,
         "x": 0.5,
         "xanchor": "center",
         "y": 1.02,
         "yanchor": "bottom"
        },
        "margin": {
         "t": 60
        },
        "template": {
         "data": {
          "bar": [
           {
            "error_x": {
             "color": "#2a3f5f"
            },
            "error_y": {
             "color": "#2a3f5f"
            },
            "marker": {
             "line": {
              "color": "#E5ECF6",
              "width": 0.5
             },
             "pattern": {
              "fillmode": "overlay",
              "size": 10,
              "solidity": 0.2
             }
            },
            "type": "bar"
           }
          ],
          "barpolar": [
           {
            "marker": {
             "line": {
              "color": "#E5ECF6",
              "width": 0.5
             },
             "pattern": {
              "fillmode": "overlay",
              "size": 10,
              "solidity": 0.2
             }
            },
            "type": "barpolar"
           }
          ],
          "carpet": [
           {
            "aaxis": {
             "endlinecolor": "#2a3f5f",
             "gridcolor": "white",
             "linecolor": "white",
             "minorgridcolor": "white",
             "startlinecolor": "#2a3f5f"
            },
            "baxis": {
             "endlinecolor": "#2a3f5f",
             "gridcolor": "white",
             "linecolor": "white",
             "minorgridcolor": "white",
             "startlinecolor": "#2a3f5f"
            },
            "type": "carpet"
           }
          ],
          "choropleth": [
           {
            "colorbar": {
             "outlinewidth": 0,
             "ticks": ""
            },
            "type": "choropleth"
           }
          ],
          "contour": [
           {
            "colorbar": {
             "outlinewidth": 0,
             "ticks": ""
            },
            "colorscale": [
             [
              0,
              "#0d0887"
             ],
             [
              0.1111111111111111,
              "#46039f"
             ],
             [
              0.2222222222222222,
              "#7201a8"
             ],
             [
              0.3333333333333333,
              "#9c179e"
             ],
             [
              0.4444444444444444,
              "#bd3786"
             ],
             [
              0.5555555555555556,
              "#d8576b"
             ],
             [
              0.6666666666666666,
              "#ed7953"
             ],
             [
              0.7777777777777778,
              "#fb9f3a"
             ],
             [
              0.8888888888888888,
              "#fdca26"
             ],
             [
              1,
              "#f0f921"
             ]
            ],
            "type": "contour"
           }
          ],
          "contourcarpet": [
           {
            "colorbar": {
             "outlinewidth": 0,
             "ticks": ""
            },
            "type": "contourcarpet"
           }
          ],
          "heatmap": [
           {
            "colorbar": {
             "outlinewidth": 0,
             "ticks": ""
            },
            "colorscale": [
             [
              0,
              "#0d0887"
             ],
             [
              0.1111111111111111,
              "#46039f"
             ],
             [
              0.2222222222222222,
              "#7201a8"
             ],
             [
              0.3333333333333333,
              "#9c179e"
             ],
             [
              0.4444444444444444,
              "#bd3786"
             ],
             [
              0.5555555555555556,
              "#d8576b"
             ],
             [
              0.6666666666666666,
              "#ed7953"
             ],
             [
              0.7777777777777778,
              "#fb9f3a"
             ],
             [
              0.8888888888888888,
              "#fdca26"
             ],
             [
              1,
              "#f0f921"
             ]
            ],
            "type": "heatmap"
           }
          ],
          "heatmapgl": [
           {
            "colorbar": {
             "outlinewidth": 0,
             "ticks": ""
            },
            "colorscale": [
             [
              0,
              "#0d0887"
             ],
             [
              0.1111111111111111,
              "#46039f"
             ],
             [
              0.2222222222222222,
              "#7201a8"
             ],
             [
              0.3333333333333333,
              "#9c179e"
             ],
             [
              0.4444444444444444,
              "#bd3786"
             ],
             [
              0.5555555555555556,
              "#d8576b"
             ],
             [
              0.6666666666666666,
              "#ed7953"
             ],
             [
              0.7777777777777778,
              "#fb9f3a"
             ],
             [
              0.8888888888888888,
              "#fdca26"
             ],
             [
              1,
              "#f0f921"
             ]
            ],
            "type": "heatmapgl"
           }
          ],
          "histogram": [
           {
            "marker": {
             "pattern": {
              "fillmode": "overlay",
              "size": 10,
              "solidity": 0.2
             }
            },
            "type": "histogram"
           }
          ],
          "histogram2d": [
           {
            "colorbar": {
             "outlinewidth": 0,
             "ticks": ""
            },
            "colorscale": [
             [
              0,
              "#0d0887"
             ],
             [
              0.1111111111111111,
              "#46039f"
             ],
             [
              0.2222222222222222,
              "#7201a8"
             ],
             [
              0.3333333333333333,
              "#9c179e"
             ],
             [
              0.4444444444444444,
              "#bd3786"
             ],
             [
              0.5555555555555556,
              "#d8576b"
             ],
             [
              0.6666666666666666,
              "#ed7953"
             ],
             [
              0.7777777777777778,
              "#fb9f3a"
             ],
             [
              0.8888888888888888,
              "#fdca26"
             ],
             [
              1,
              "#f0f921"
             ]
            ],
            "type": "histogram2d"
           }
          ],
          "histogram2dcontour": [
           {
            "colorbar": {
             "outlinewidth": 0,
             "ticks": ""
            },
            "colorscale": [
             [
              0,
              "#0d0887"
             ],
             [
              0.1111111111111111,
              "#46039f"
             ],
             [
              0.2222222222222222,
              "#7201a8"
             ],
             [
              0.3333333333333333,
              "#9c179e"
             ],
             [
              0.4444444444444444,
              "#bd3786"
             ],
             [
              0.5555555555555556,
              "#d8576b"
             ],
             [
              0.6666666666666666,
              "#ed7953"
             ],
             [
              0.7777777777777778,
              "#fb9f3a"
             ],
             [
              0.8888888888888888,
              "#fdca26"
             ],
             [
              1,
              "#f0f921"
             ]
            ],
            "type": "histogram2dcontour"
           }
          ],
          "mesh3d": [
           {
            "colorbar": {
             "outlinewidth": 0,
             "ticks": ""
            },
            "type": "mesh3d"
           }
          ],
          "parcoords": [
           {
            "line": {
             "colorbar": {
              "outlinewidth": 0,
              "ticks": ""
             }
            },
            "type": "parcoords"
           }
          ],
          "pie": [
           {
            "automargin": true,
            "type": "pie"
           }
          ],
          "scatter": [
           {
            "fillpattern": {
             "fillmode": "overlay",
             "size": 10,
             "solidity": 0.2
            },
            "type": "scatter"
           }
          ],
          "scatter3d": [
           {
            "line": {
             "colorbar": {
              "outlinewidth": 0,
              "ticks": ""
             }
            },
            "marker": {
             "colorbar": {
              "outlinewidth": 0,
              "ticks": ""
             }
            },
            "type": "scatter3d"
           }
          ],
          "scattercarpet": [
           {
            "marker": {
             "colorbar": {
              "outlinewidth": 0,
              "ticks": ""
             }
            },
            "type": "scattercarpet"
           }
          ],
          "scattergeo": [
           {
            "marker": {
             "colorbar": {
              "outlinewidth": 0,
              "ticks": ""
             }
            },
            "type": "scattergeo"
           }
          ],
          "scattergl": [
           {
            "marker": {
             "colorbar": {
              "outlinewidth": 0,
              "ticks": ""
             }
            },
            "type": "scattergl"
           }
          ],
          "scattermapbox": [
           {
            "marker": {
             "colorbar": {
              "outlinewidth": 0,
              "ticks": ""
             }
            },
            "type": "scattermapbox"
           }
          ],
          "scatterpolar": [
           {
            "marker": {
             "colorbar": {
              "outlinewidth": 0,
              "ticks": ""
             }
            },
            "type": "scatterpolar"
           }
          ],
          "scatterpolargl": [
           {
            "marker": {
             "colorbar": {
              "outlinewidth": 0,
              "ticks": ""
             }
            },
            "type": "scatterpolargl"
           }
          ],
          "scatterternary": [
           {
            "marker": {
             "colorbar": {
              "outlinewidth": 0,
              "ticks": ""
             }
            },
            "type": "scatterternary"
           }
          ],
          "surface": [
           {
            "colorbar": {
             "outlinewidth": 0,
             "ticks": ""
            },
            "colorscale": [
             [
              0,
              "#0d0887"
             ],
             [
              0.1111111111111111,
              "#46039f"
             ],
             [
              0.2222222222222222,
              "#7201a8"
             ],
             [
              0.3333333333333333,
              "#9c179e"
             ],
             [
              0.4444444444444444,
              "#bd3786"
             ],
             [
              0.5555555555555556,
              "#d8576b"
             ],
             [
              0.6666666666666666,
              "#ed7953"
             ],
             [
              0.7777777777777778,
              "#fb9f3a"
             ],
             [
              0.8888888888888888,
              "#fdca26"
             ],
             [
              1,
              "#f0f921"
             ]
            ],
            "type": "surface"
           }
          ],
          "table": [
           {
            "cells": {
             "fill": {
              "color": "#EBF0F8"
             },
             "line": {
              "color": "white"
             }
            },
            "header": {
             "fill": {
              "color": "#C8D4E3"
             },
             "line": {
              "color": "white"
             }
            },
            "type": "table"
           }
          ]
         },
         "layout": {
          "annotationdefaults": {
           "arrowcolor": "#2a3f5f",
           "arrowhead": 0,
           "arrowwidth": 1
          },
          "autotypenumbers": "strict",
          "coloraxis": {
           "colorbar": {
            "outlinewidth": 0,
            "ticks": ""
           }
          },
          "colorscale": {
           "diverging": [
            [
             0,
             "#8e0152"
            ],
            [
             0.1,
             "#c51b7d"
            ],
            [
             0.2,
             "#de77ae"
            ],
            [
             0.3,
             "#f1b6da"
            ],
            [
             0.4,
             "#fde0ef"
            ],
            [
             0.5,
             "#f7f7f7"
            ],
            [
             0.6,
             "#e6f5d0"
            ],
            [
             0.7,
             "#b8e186"
            ],
            [
             0.8,
             "#7fbc41"
            ],
            [
             0.9,
             "#4d9221"
            ],
            [
             1,
             "#276419"
            ]
           ],
           "sequential": [
            [
             0,
             "#0d0887"
            ],
            [
             0.1111111111111111,
             "#46039f"
            ],
            [
             0.2222222222222222,
             "#7201a8"
            ],
            [
             0.3333333333333333,
             "#9c179e"
            ],
            [
             0.4444444444444444,
             "#bd3786"
            ],
            [
             0.5555555555555556,
             "#d8576b"
            ],
            [
             0.6666666666666666,
             "#ed7953"
            ],
            [
             0.7777777777777778,
             "#fb9f3a"
            ],
            [
             0.8888888888888888,
             "#fdca26"
            ],
            [
             1,
             "#f0f921"
            ]
           ],
           "sequentialminus": [
            [
             0,
             "#0d0887"
            ],
            [
             0.1111111111111111,
             "#46039f"
            ],
            [
             0.2222222222222222,
             "#7201a8"
            ],
            [
             0.3333333333333333,
             "#9c179e"
            ],
            [
             0.4444444444444444,
             "#bd3786"
            ],
            [
             0.5555555555555556,
             "#d8576b"
            ],
            [
             0.6666666666666666,
             "#ed7953"
            ],
            [
             0.7777777777777778,
             "#fb9f3a"
            ],
            [
             0.8888888888888888,
             "#fdca26"
            ],
            [
             1,
             "#f0f921"
            ]
           ]
          },
          "colorway": [
           "#636efa",
           "#EF553B",
           "#00cc96",
           "#ab63fa",
           "#FFA15A",
           "#19d3f3",
           "#FF6692",
           "#B6E880",
           "#FF97FF",
           "#FECB52"
          ],
          "font": {
           "color": "#2a3f5f"
          },
          "geo": {
           "bgcolor": "white",
           "lakecolor": "white",
           "landcolor": "#E5ECF6",
           "showlakes": true,
           "showland": true,
           "subunitcolor": "white"
          },
          "hoverlabel": {
           "align": "left"
          },
          "hovermode": "closest",
          "mapbox": {
           "style": "light"
          },
          "paper_bgcolor": "white",
          "plot_bgcolor": "#E5ECF6",
          "polar": {
           "angularaxis": {
            "gridcolor": "white",
            "linecolor": "white",
            "ticks": ""
           },
           "bgcolor": "#E5ECF6",
           "radialaxis": {
            "gridcolor": "white",
            "linecolor": "white",
            "ticks": ""
           }
          },
          "scene": {
           "xaxis": {
            "backgroundcolor": "#E5ECF6",
            "gridcolor": "white",
            "gridwidth": 2,
            "linecolor": "white",
            "showbackground": true,
            "ticks": "",
            "zerolinecolor": "white"
           },
           "yaxis": {
            "backgroundcolor": "#E5ECF6",
            "gridcolor": "white",
            "gridwidth": 2,
            "linecolor": "white",
            "showbackground": true,
            "ticks": "",
            "zerolinecolor": "white"
           },
           "zaxis": {
            "backgroundcolor": "#E5ECF6",
            "gridcolor": "white",
            "gridwidth": 2,
            "linecolor": "white",
            "showbackground": true,
            "ticks": "",
            "zerolinecolor": "white"
           }
          },
          "shapedefaults": {
           "line": {
            "color": "#2a3f5f"
           }
          },
          "ternary": {
           "aaxis": {
            "gridcolor": "white",
            "linecolor": "white",
            "ticks": ""
           },
           "baxis": {
            "gridcolor": "white",
            "linecolor": "white",
            "ticks": ""
           },
           "bgcolor": "#E5ECF6",
           "caxis": {
            "gridcolor": "white",
            "linecolor": "white",
            "ticks": ""
           }
          },
          "title": {
           "x": 0.05
          },
          "xaxis": {
           "automargin": true,
           "gridcolor": "white",
           "linecolor": "white",
           "ticks": "",
           "title": {
            "standoff": 15
           },
           "zerolinecolor": "white",
           "zerolinewidth": 2
          },
          "yaxis": {
           "automargin": true,
           "gridcolor": "white",
           "linecolor": "white",
           "ticks": "",
           "title": {
            "standoff": 15
           },
           "zerolinecolor": "white",
           "zerolinewidth": 2
          }
         }
        },
        "width": 700
       }
      }
     },
     "metadata": {},
     "output_type": "display_data"
    }
   ],
   "source": [
    "\n",
    "hover_text = data.groupby('HOST TO').agg({'Project Status': lambda x: ', '.join(x.unique())}).reset_index()\n",
    "hover_text.rename(columns={'Project Status': 'Combined Status'}, inplace=True)\n",
    "hover_merged = data.merge(hover_text, on='HOST TO', how='left')\n",
    "\n",
    "status_plot = px.pie(data_frame=hover_merged,\n",
    "                     values='Connection Cap (MW)',\n",
    "                     names='Project Status',\n",
    "                     hover_data={'HOST TO': True, 'Project Status': True},\n",
    "                     hole=0.45,\n",
    "                     width=700, height=550,\n",
    "                     )\n",
    "\n",
    "status_plot.update_layout(legend=dict(\n",
    "                                    orientation='h',\n",
    "                                    yanchor='bottom',\n",
    "                                    y=1.02,\n",
    "                                    xanchor='center',\n",
    "                                    x=0.5\n",
    "                                )).update_traces(textinfo='percent+label')\n",
    "status_plot.show()"
   ]
  },
  {
   "cell_type": "code",
   "execution_count": 251,
   "metadata": {},
   "outputs": [
    {
     "data": {
      "application/vnd.plotly.v1+json": {
       "config": {
        "plotlyServerURL": "https://plot.ly"
       },
       "data": [
        {
         "customdata": [
          [
           "Awaiting Consents",
           "Awaiting Consents"
          ],
          [
           "Awaiting Consents",
           "Awaiting Consents"
          ],
          [
           "Awaiting Consents",
           "Awaiting Consents"
          ],
          [
           "Built",
           "Built"
          ],
          [
           "Built",
           "Built"
          ],
          [
           "Built",
           "Built"
          ],
          [
           "Built",
           "Built"
          ],
          [
           "Consents Approved",
           "Consents Approved"
          ],
          [
           "Consents Approved",
           "Consents Approved"
          ],
          [
           "Consents Approved",
           "Consents Approved"
          ],
          [
           "Scoping",
           "Scoping"
          ],
          [
           "Scoping",
           "Scoping"
          ],
          [
           "Scoping",
           "Scoping"
          ],
          [
           "Under Construction/Commissioning",
           "Under Construction/Commissioning"
          ],
          [
           "Under Construction/Commissioning",
           "Under Construction/Commissioning"
          ]
         ],
         "domain": {
          "x": [
           0,
           1
          ],
          "y": [
           0,
           1
          ]
         },
         "hole": 0.45,
         "hovertemplate": "HOST TO=%{label}<br>Connection Cap (MW)=%{value}<br>Project Status=%{customdata[1]}<extra></extra>",
         "labels": [
          "NGET",
          "SHET",
          "SPT",
          "NGET",
          "OFTO",
          "SHET",
          "SPT",
          "NGET",
          "SHET",
          "SPT",
          "NGET",
          "SHET",
          "SPT",
          "NGET",
          "SPT"
         ],
         "legendgroup": "",
         "marker": {
          "colors": [
           "rgb(179,179,179)",
           "rgb(179,179,179)",
           "rgb(179,179,179)",
           "rgb(229,196,148)",
           "rgb(229,196,148)",
           "rgb(229,196,148)",
           "rgb(229,196,148)",
           "rgb(255,217,47)",
           "rgb(255,217,47)",
           "rgb(255,217,47)",
           "rgb(166,216,84)",
           "rgb(166,216,84)",
           "rgb(166,216,84)",
           "rgb(231,138,195)",
           "rgb(231,138,195)"
          ]
         },
         "name": "",
         "showlegend": true,
         "textinfo": "percent+label",
         "type": "pie",
         "values": [
          53442.46,
          1633.8,
          3597.44,
          58544.67,
          4338.4,
          6643.85,
          7050.8,
          29085.065,
          5723.49,
          3533.63,
          335186.88,
          66321.447,
          58332.79,
          10707.26,
          711.5
         ]
        }
       ],
       "layout": {
        "height": 550,
        "legend": {
         "orientation": "h",
         "tracegroupgap": 0,
         "x": 0.5,
         "xanchor": "center",
         "y": 1.02,
         "yanchor": "bottom"
        },
        "margin": {
         "t": 60
        },
        "piecolorway": [
         "rgb(179,179,179)",
         "rgb(229,196,148)",
         "rgb(255,217,47)",
         "rgb(166,216,84)",
         "rgb(231,138,195)",
         "rgb(141,160,203)",
         "rgb(252,141,98)",
         "rgb(102,194,165)"
        ],
        "template": {
         "data": {
          "bar": [
           {
            "error_x": {
             "color": "#2a3f5f"
            },
            "error_y": {
             "color": "#2a3f5f"
            },
            "marker": {
             "line": {
              "color": "#E5ECF6",
              "width": 0.5
             },
             "pattern": {
              "fillmode": "overlay",
              "size": 10,
              "solidity": 0.2
             }
            },
            "type": "bar"
           }
          ],
          "barpolar": [
           {
            "marker": {
             "line": {
              "color": "#E5ECF6",
              "width": 0.5
             },
             "pattern": {
              "fillmode": "overlay",
              "size": 10,
              "solidity": 0.2
             }
            },
            "type": "barpolar"
           }
          ],
          "carpet": [
           {
            "aaxis": {
             "endlinecolor": "#2a3f5f",
             "gridcolor": "white",
             "linecolor": "white",
             "minorgridcolor": "white",
             "startlinecolor": "#2a3f5f"
            },
            "baxis": {
             "endlinecolor": "#2a3f5f",
             "gridcolor": "white",
             "linecolor": "white",
             "minorgridcolor": "white",
             "startlinecolor": "#2a3f5f"
            },
            "type": "carpet"
           }
          ],
          "choropleth": [
           {
            "colorbar": {
             "outlinewidth": 0,
             "ticks": ""
            },
            "type": "choropleth"
           }
          ],
          "contour": [
           {
            "colorbar": {
             "outlinewidth": 0,
             "ticks": ""
            },
            "colorscale": [
             [
              0,
              "#0d0887"
             ],
             [
              0.1111111111111111,
              "#46039f"
             ],
             [
              0.2222222222222222,
              "#7201a8"
             ],
             [
              0.3333333333333333,
              "#9c179e"
             ],
             [
              0.4444444444444444,
              "#bd3786"
             ],
             [
              0.5555555555555556,
              "#d8576b"
             ],
             [
              0.6666666666666666,
              "#ed7953"
             ],
             [
              0.7777777777777778,
              "#fb9f3a"
             ],
             [
              0.8888888888888888,
              "#fdca26"
             ],
             [
              1,
              "#f0f921"
             ]
            ],
            "type": "contour"
           }
          ],
          "contourcarpet": [
           {
            "colorbar": {
             "outlinewidth": 0,
             "ticks": ""
            },
            "type": "contourcarpet"
           }
          ],
          "heatmap": [
           {
            "colorbar": {
             "outlinewidth": 0,
             "ticks": ""
            },
            "colorscale": [
             [
              0,
              "#0d0887"
             ],
             [
              0.1111111111111111,
              "#46039f"
             ],
             [
              0.2222222222222222,
              "#7201a8"
             ],
             [
              0.3333333333333333,
              "#9c179e"
             ],
             [
              0.4444444444444444,
              "#bd3786"
             ],
             [
              0.5555555555555556,
              "#d8576b"
             ],
             [
              0.6666666666666666,
              "#ed7953"
             ],
             [
              0.7777777777777778,
              "#fb9f3a"
             ],
             [
              0.8888888888888888,
              "#fdca26"
             ],
             [
              1,
              "#f0f921"
             ]
            ],
            "type": "heatmap"
           }
          ],
          "heatmapgl": [
           {
            "colorbar": {
             "outlinewidth": 0,
             "ticks": ""
            },
            "colorscale": [
             [
              0,
              "#0d0887"
             ],
             [
              0.1111111111111111,
              "#46039f"
             ],
             [
              0.2222222222222222,
              "#7201a8"
             ],
             [
              0.3333333333333333,
              "#9c179e"
             ],
             [
              0.4444444444444444,
              "#bd3786"
             ],
             [
              0.5555555555555556,
              "#d8576b"
             ],
             [
              0.6666666666666666,
              "#ed7953"
             ],
             [
              0.7777777777777778,
              "#fb9f3a"
             ],
             [
              0.8888888888888888,
              "#fdca26"
             ],
             [
              1,
              "#f0f921"
             ]
            ],
            "type": "heatmapgl"
           }
          ],
          "histogram": [
           {
            "marker": {
             "pattern": {
              "fillmode": "overlay",
              "size": 10,
              "solidity": 0.2
             }
            },
            "type": "histogram"
           }
          ],
          "histogram2d": [
           {
            "colorbar": {
             "outlinewidth": 0,
             "ticks": ""
            },
            "colorscale": [
             [
              0,
              "#0d0887"
             ],
             [
              0.1111111111111111,
              "#46039f"
             ],
             [
              0.2222222222222222,
              "#7201a8"
             ],
             [
              0.3333333333333333,
              "#9c179e"
             ],
             [
              0.4444444444444444,
              "#bd3786"
             ],
             [
              0.5555555555555556,
              "#d8576b"
             ],
             [
              0.6666666666666666,
              "#ed7953"
             ],
             [
              0.7777777777777778,
              "#fb9f3a"
             ],
             [
              0.8888888888888888,
              "#fdca26"
             ],
             [
              1,
              "#f0f921"
             ]
            ],
            "type": "histogram2d"
           }
          ],
          "histogram2dcontour": [
           {
            "colorbar": {
             "outlinewidth": 0,
             "ticks": ""
            },
            "colorscale": [
             [
              0,
              "#0d0887"
             ],
             [
              0.1111111111111111,
              "#46039f"
             ],
             [
              0.2222222222222222,
              "#7201a8"
             ],
             [
              0.3333333333333333,
              "#9c179e"
             ],
             [
              0.4444444444444444,
              "#bd3786"
             ],
             [
              0.5555555555555556,
              "#d8576b"
             ],
             [
              0.6666666666666666,
              "#ed7953"
             ],
             [
              0.7777777777777778,
              "#fb9f3a"
             ],
             [
              0.8888888888888888,
              "#fdca26"
             ],
             [
              1,
              "#f0f921"
             ]
            ],
            "type": "histogram2dcontour"
           }
          ],
          "mesh3d": [
           {
            "colorbar": {
             "outlinewidth": 0,
             "ticks": ""
            },
            "type": "mesh3d"
           }
          ],
          "parcoords": [
           {
            "line": {
             "colorbar": {
              "outlinewidth": 0,
              "ticks": ""
             }
            },
            "type": "parcoords"
           }
          ],
          "pie": [
           {
            "automargin": true,
            "type": "pie"
           }
          ],
          "scatter": [
           {
            "fillpattern": {
             "fillmode": "overlay",
             "size": 10,
             "solidity": 0.2
            },
            "type": "scatter"
           }
          ],
          "scatter3d": [
           {
            "line": {
             "colorbar": {
              "outlinewidth": 0,
              "ticks": ""
             }
            },
            "marker": {
             "colorbar": {
              "outlinewidth": 0,
              "ticks": ""
             }
            },
            "type": "scatter3d"
           }
          ],
          "scattercarpet": [
           {
            "marker": {
             "colorbar": {
              "outlinewidth": 0,
              "ticks": ""
             }
            },
            "type": "scattercarpet"
           }
          ],
          "scattergeo": [
           {
            "marker": {
             "colorbar": {
              "outlinewidth": 0,
              "ticks": ""
             }
            },
            "type": "scattergeo"
           }
          ],
          "scattergl": [
           {
            "marker": {
             "colorbar": {
              "outlinewidth": 0,
              "ticks": ""
             }
            },
            "type": "scattergl"
           }
          ],
          "scattermapbox": [
           {
            "marker": {
             "colorbar": {
              "outlinewidth": 0,
              "ticks": ""
             }
            },
            "type": "scattermapbox"
           }
          ],
          "scatterpolar": [
           {
            "marker": {
             "colorbar": {
              "outlinewidth": 0,
              "ticks": ""
             }
            },
            "type": "scatterpolar"
           }
          ],
          "scatterpolargl": [
           {
            "marker": {
             "colorbar": {
              "outlinewidth": 0,
              "ticks": ""
             }
            },
            "type": "scatterpolargl"
           }
          ],
          "scatterternary": [
           {
            "marker": {
             "colorbar": {
              "outlinewidth": 0,
              "ticks": ""
             }
            },
            "type": "scatterternary"
           }
          ],
          "surface": [
           {
            "colorbar": {
             "outlinewidth": 0,
             "ticks": ""
            },
            "colorscale": [
             [
              0,
              "#0d0887"
             ],
             [
              0.1111111111111111,
              "#46039f"
             ],
             [
              0.2222222222222222,
              "#7201a8"
             ],
             [
              0.3333333333333333,
              "#9c179e"
             ],
             [
              0.4444444444444444,
              "#bd3786"
             ],
             [
              0.5555555555555556,
              "#d8576b"
             ],
             [
              0.6666666666666666,
              "#ed7953"
             ],
             [
              0.7777777777777778,
              "#fb9f3a"
             ],
             [
              0.8888888888888888,
              "#fdca26"
             ],
             [
              1,
              "#f0f921"
             ]
            ],
            "type": "surface"
           }
          ],
          "table": [
           {
            "cells": {
             "fill": {
              "color": "#EBF0F8"
             },
             "line": {
              "color": "white"
             }
            },
            "header": {
             "fill": {
              "color": "#C8D4E3"
             },
             "line": {
              "color": "white"
             }
            },
            "type": "table"
           }
          ]
         },
         "layout": {
          "annotationdefaults": {
           "arrowcolor": "#2a3f5f",
           "arrowhead": 0,
           "arrowwidth": 1
          },
          "autotypenumbers": "strict",
          "coloraxis": {
           "colorbar": {
            "outlinewidth": 0,
            "ticks": ""
           }
          },
          "colorscale": {
           "diverging": [
            [
             0,
             "#8e0152"
            ],
            [
             0.1,
             "#c51b7d"
            ],
            [
             0.2,
             "#de77ae"
            ],
            [
             0.3,
             "#f1b6da"
            ],
            [
             0.4,
             "#fde0ef"
            ],
            [
             0.5,
             "#f7f7f7"
            ],
            [
             0.6,
             "#e6f5d0"
            ],
            [
             0.7,
             "#b8e186"
            ],
            [
             0.8,
             "#7fbc41"
            ],
            [
             0.9,
             "#4d9221"
            ],
            [
             1,
             "#276419"
            ]
           ],
           "sequential": [
            [
             0,
             "#0d0887"
            ],
            [
             0.1111111111111111,
             "#46039f"
            ],
            [
             0.2222222222222222,
             "#7201a8"
            ],
            [
             0.3333333333333333,
             "#9c179e"
            ],
            [
             0.4444444444444444,
             "#bd3786"
            ],
            [
             0.5555555555555556,
             "#d8576b"
            ],
            [
             0.6666666666666666,
             "#ed7953"
            ],
            [
             0.7777777777777778,
             "#fb9f3a"
            ],
            [
             0.8888888888888888,
             "#fdca26"
            ],
            [
             1,
             "#f0f921"
            ]
           ],
           "sequentialminus": [
            [
             0,
             "#0d0887"
            ],
            [
             0.1111111111111111,
             "#46039f"
            ],
            [
             0.2222222222222222,
             "#7201a8"
            ],
            [
             0.3333333333333333,
             "#9c179e"
            ],
            [
             0.4444444444444444,
             "#bd3786"
            ],
            [
             0.5555555555555556,
             "#d8576b"
            ],
            [
             0.6666666666666666,
             "#ed7953"
            ],
            [
             0.7777777777777778,
             "#fb9f3a"
            ],
            [
             0.8888888888888888,
             "#fdca26"
            ],
            [
             1,
             "#f0f921"
            ]
           ]
          },
          "colorway": [
           "#636efa",
           "#EF553B",
           "#00cc96",
           "#ab63fa",
           "#FFA15A",
           "#19d3f3",
           "#FF6692",
           "#B6E880",
           "#FF97FF",
           "#FECB52"
          ],
          "font": {
           "color": "#2a3f5f"
          },
          "geo": {
           "bgcolor": "white",
           "lakecolor": "white",
           "landcolor": "#E5ECF6",
           "showlakes": true,
           "showland": true,
           "subunitcolor": "white"
          },
          "hoverlabel": {
           "align": "left"
          },
          "hovermode": "closest",
          "mapbox": {
           "style": "light"
          },
          "paper_bgcolor": "white",
          "plot_bgcolor": "#E5ECF6",
          "polar": {
           "angularaxis": {
            "gridcolor": "white",
            "linecolor": "white",
            "ticks": ""
           },
           "bgcolor": "#E5ECF6",
           "radialaxis": {
            "gridcolor": "white",
            "linecolor": "white",
            "ticks": ""
           }
          },
          "scene": {
           "xaxis": {
            "backgroundcolor": "#E5ECF6",
            "gridcolor": "white",
            "gridwidth": 2,
            "linecolor": "white",
            "showbackground": true,
            "ticks": "",
            "zerolinecolor": "white"
           },
           "yaxis": {
            "backgroundcolor": "#E5ECF6",
            "gridcolor": "white",
            "gridwidth": 2,
            "linecolor": "white",
            "showbackground": true,
            "ticks": "",
            "zerolinecolor": "white"
           },
           "zaxis": {
            "backgroundcolor": "#E5ECF6",
            "gridcolor": "white",
            "gridwidth": 2,
            "linecolor": "white",
            "showbackground": true,
            "ticks": "",
            "zerolinecolor": "white"
           }
          },
          "shapedefaults": {
           "line": {
            "color": "#2a3f5f"
           }
          },
          "ternary": {
           "aaxis": {
            "gridcolor": "white",
            "linecolor": "white",
            "ticks": ""
           },
           "baxis": {
            "gridcolor": "white",
            "linecolor": "white",
            "ticks": ""
           },
           "bgcolor": "#E5ECF6",
           "caxis": {
            "gridcolor": "white",
            "linecolor": "white",
            "ticks": ""
           }
          },
          "title": {
           "x": 0.05
          },
          "xaxis": {
           "automargin": true,
           "gridcolor": "white",
           "linecolor": "white",
           "ticks": "",
           "title": {
            "standoff": 15
           },
           "zerolinecolor": "white",
           "zerolinewidth": 2
          },
          "yaxis": {
           "automargin": true,
           "gridcolor": "white",
           "linecolor": "white",
           "ticks": "",
           "title": {
            "standoff": 15
           },
           "zerolinecolor": "white",
           "zerolinewidth": 2
          }
         }
        },
        "width": 700
       }
      }
     },
     "metadata": {},
     "output_type": "display_data"
    }
   ],
   "source": [
    "\n",
    "hover_text = data.groupby('HOST TO').agg({'Project Status': lambda x: ', '.join(x.unique())}).reset_index()\n",
    "hover_text.rename(columns={'Project Status': 'Combined Status'}, inplace=True)\n",
    "hover_merged = data.merge(hover_text, on='HOST TO', how='left')\n",
    "\n",
    "status_TO_plot = px.pie(data_frame=hover_merged,\n",
    "                     values='Connection Cap (MW)',\n",
    "                     names='HOST TO',\n",
    "                     hover_data='Project Status',\n",
    "                     color='Project Status',\n",
    "                     color_discrete_sequence=px.colors.qualitative.Set2_r,\n",
    "                     hole=0.45,\n",
    "                     width=700, height=550,\n",
    "                     )\n",
    "\n",
    "status_TO_plot.update_layout(legend=dict(\n",
    "                                    orientation='h',\n",
    "                                    yanchor='bottom',\n",
    "                                    y=1.02,\n",
    "                                    xanchor='center',\n",
    "                                    x=0.5\n",
    "                                )).update_traces(textinfo='percent+label')\n",
    "status_TO_plot.show()"
   ]
  },
  {
   "cell_type": "code",
   "execution_count": 281,
   "metadata": {},
   "outputs": [
    {
     "data": {
      "application/vnd.plotly.v1+json": {
       "config": {
        "plotlyServerURL": "https://plot.ly"
       },
       "data": [
        {
         "customdata": [
          "Awaiting Consents",
          "Built",
          "Consents Approved",
          "Scoping",
          "Under Construction/Commissioning"
         ],
         "domain": {
          "x": [
           0,
           1
          ],
          "y": [
           0,
           1
          ]
         },
         "hole": 0.45,
         "hovertemplate": "<b>%{label}</b><br>Total: %{value:.2f} MW<br>Awaiting Consents: %{customdata[0]:.2f} MW<br>Built: %{customdata[1]:.2f} MW<br>Consents Approved: %{customdata[2]:.2f} MW<br>Scoping: %{customdata[3]:.2f} MW<br>Under Construction/Commissioning: %{customdata[4]:.2f} MW<br><extra></extra>",
         "labels": [
          "NGET",
          "OFTO",
          "SHET",
          "SPT"
         ],
         "legendgroup": "",
         "name": "",
         "showlegend": true,
         "textinfo": "percent+label",
         "type": "pie",
         "values": [
          486966.335,
          4338.4,
          80322.587,
          73226.16
         ]
        }
       ],
       "layout": {
        "height": 550,
        "legend": {
         "orientation": "h",
         "tracegroupgap": 0,
         "x": 0.5,
         "xanchor": "center",
         "y": 1.02,
         "yanchor": "bottom"
        },
        "margin": {
         "t": 60
        },
        "template": {
         "data": {
          "bar": [
           {
            "error_x": {
             "color": "#2a3f5f"
            },
            "error_y": {
             "color": "#2a3f5f"
            },
            "marker": {
             "line": {
              "color": "#E5ECF6",
              "width": 0.5
             },
             "pattern": {
              "fillmode": "overlay",
              "size": 10,
              "solidity": 0.2
             }
            },
            "type": "bar"
           }
          ],
          "barpolar": [
           {
            "marker": {
             "line": {
              "color": "#E5ECF6",
              "width": 0.5
             },
             "pattern": {
              "fillmode": "overlay",
              "size": 10,
              "solidity": 0.2
             }
            },
            "type": "barpolar"
           }
          ],
          "carpet": [
           {
            "aaxis": {
             "endlinecolor": "#2a3f5f",
             "gridcolor": "white",
             "linecolor": "white",
             "minorgridcolor": "white",
             "startlinecolor": "#2a3f5f"
            },
            "baxis": {
             "endlinecolor": "#2a3f5f",
             "gridcolor": "white",
             "linecolor": "white",
             "minorgridcolor": "white",
             "startlinecolor": "#2a3f5f"
            },
            "type": "carpet"
           }
          ],
          "choropleth": [
           {
            "colorbar": {
             "outlinewidth": 0,
             "ticks": ""
            },
            "type": "choropleth"
           }
          ],
          "contour": [
           {
            "colorbar": {
             "outlinewidth": 0,
             "ticks": ""
            },
            "colorscale": [
             [
              0,
              "#0d0887"
             ],
             [
              0.1111111111111111,
              "#46039f"
             ],
             [
              0.2222222222222222,
              "#7201a8"
             ],
             [
              0.3333333333333333,
              "#9c179e"
             ],
             [
              0.4444444444444444,
              "#bd3786"
             ],
             [
              0.5555555555555556,
              "#d8576b"
             ],
             [
              0.6666666666666666,
              "#ed7953"
             ],
             [
              0.7777777777777778,
              "#fb9f3a"
             ],
             [
              0.8888888888888888,
              "#fdca26"
             ],
             [
              1,
              "#f0f921"
             ]
            ],
            "type": "contour"
           }
          ],
          "contourcarpet": [
           {
            "colorbar": {
             "outlinewidth": 0,
             "ticks": ""
            },
            "type": "contourcarpet"
           }
          ],
          "heatmap": [
           {
            "colorbar": {
             "outlinewidth": 0,
             "ticks": ""
            },
            "colorscale": [
             [
              0,
              "#0d0887"
             ],
             [
              0.1111111111111111,
              "#46039f"
             ],
             [
              0.2222222222222222,
              "#7201a8"
             ],
             [
              0.3333333333333333,
              "#9c179e"
             ],
             [
              0.4444444444444444,
              "#bd3786"
             ],
             [
              0.5555555555555556,
              "#d8576b"
             ],
             [
              0.6666666666666666,
              "#ed7953"
             ],
             [
              0.7777777777777778,
              "#fb9f3a"
             ],
             [
              0.8888888888888888,
              "#fdca26"
             ],
             [
              1,
              "#f0f921"
             ]
            ],
            "type": "heatmap"
           }
          ],
          "heatmapgl": [
           {
            "colorbar": {
             "outlinewidth": 0,
             "ticks": ""
            },
            "colorscale": [
             [
              0,
              "#0d0887"
             ],
             [
              0.1111111111111111,
              "#46039f"
             ],
             [
              0.2222222222222222,
              "#7201a8"
             ],
             [
              0.3333333333333333,
              "#9c179e"
             ],
             [
              0.4444444444444444,
              "#bd3786"
             ],
             [
              0.5555555555555556,
              "#d8576b"
             ],
             [
              0.6666666666666666,
              "#ed7953"
             ],
             [
              0.7777777777777778,
              "#fb9f3a"
             ],
             [
              0.8888888888888888,
              "#fdca26"
             ],
             [
              1,
              "#f0f921"
             ]
            ],
            "type": "heatmapgl"
           }
          ],
          "histogram": [
           {
            "marker": {
             "pattern": {
              "fillmode": "overlay",
              "size": 10,
              "solidity": 0.2
             }
            },
            "type": "histogram"
           }
          ],
          "histogram2d": [
           {
            "colorbar": {
             "outlinewidth": 0,
             "ticks": ""
            },
            "colorscale": [
             [
              0,
              "#0d0887"
             ],
             [
              0.1111111111111111,
              "#46039f"
             ],
             [
              0.2222222222222222,
              "#7201a8"
             ],
             [
              0.3333333333333333,
              "#9c179e"
             ],
             [
              0.4444444444444444,
              "#bd3786"
             ],
             [
              0.5555555555555556,
              "#d8576b"
             ],
             [
              0.6666666666666666,
              "#ed7953"
             ],
             [
              0.7777777777777778,
              "#fb9f3a"
             ],
             [
              0.8888888888888888,
              "#fdca26"
             ],
             [
              1,
              "#f0f921"
             ]
            ],
            "type": "histogram2d"
           }
          ],
          "histogram2dcontour": [
           {
            "colorbar": {
             "outlinewidth": 0,
             "ticks": ""
            },
            "colorscale": [
             [
              0,
              "#0d0887"
             ],
             [
              0.1111111111111111,
              "#46039f"
             ],
             [
              0.2222222222222222,
              "#7201a8"
             ],
             [
              0.3333333333333333,
              "#9c179e"
             ],
             [
              0.4444444444444444,
              "#bd3786"
             ],
             [
              0.5555555555555556,
              "#d8576b"
             ],
             [
              0.6666666666666666,
              "#ed7953"
             ],
             [
              0.7777777777777778,
              "#fb9f3a"
             ],
             [
              0.8888888888888888,
              "#fdca26"
             ],
             [
              1,
              "#f0f921"
             ]
            ],
            "type": "histogram2dcontour"
           }
          ],
          "mesh3d": [
           {
            "colorbar": {
             "outlinewidth": 0,
             "ticks": ""
            },
            "type": "mesh3d"
           }
          ],
          "parcoords": [
           {
            "line": {
             "colorbar": {
              "outlinewidth": 0,
              "ticks": ""
             }
            },
            "type": "parcoords"
           }
          ],
          "pie": [
           {
            "automargin": true,
            "type": "pie"
           }
          ],
          "scatter": [
           {
            "fillpattern": {
             "fillmode": "overlay",
             "size": 10,
             "solidity": 0.2
            },
            "type": "scatter"
           }
          ],
          "scatter3d": [
           {
            "line": {
             "colorbar": {
              "outlinewidth": 0,
              "ticks": ""
             }
            },
            "marker": {
             "colorbar": {
              "outlinewidth": 0,
              "ticks": ""
             }
            },
            "type": "scatter3d"
           }
          ],
          "scattercarpet": [
           {
            "marker": {
             "colorbar": {
              "outlinewidth": 0,
              "ticks": ""
             }
            },
            "type": "scattercarpet"
           }
          ],
          "scattergeo": [
           {
            "marker": {
             "colorbar": {
              "outlinewidth": 0,
              "ticks": ""
             }
            },
            "type": "scattergeo"
           }
          ],
          "scattergl": [
           {
            "marker": {
             "colorbar": {
              "outlinewidth": 0,
              "ticks": ""
             }
            },
            "type": "scattergl"
           }
          ],
          "scattermapbox": [
           {
            "marker": {
             "colorbar": {
              "outlinewidth": 0,
              "ticks": ""
             }
            },
            "type": "scattermapbox"
           }
          ],
          "scatterpolar": [
           {
            "marker": {
             "colorbar": {
              "outlinewidth": 0,
              "ticks": ""
             }
            },
            "type": "scatterpolar"
           }
          ],
          "scatterpolargl": [
           {
            "marker": {
             "colorbar": {
              "outlinewidth": 0,
              "ticks": ""
             }
            },
            "type": "scatterpolargl"
           }
          ],
          "scatterternary": [
           {
            "marker": {
             "colorbar": {
              "outlinewidth": 0,
              "ticks": ""
             }
            },
            "type": "scatterternary"
           }
          ],
          "surface": [
           {
            "colorbar": {
             "outlinewidth": 0,
             "ticks": ""
            },
            "colorscale": [
             [
              0,
              "#0d0887"
             ],
             [
              0.1111111111111111,
              "#46039f"
             ],
             [
              0.2222222222222222,
              "#7201a8"
             ],
             [
              0.3333333333333333,
              "#9c179e"
             ],
             [
              0.4444444444444444,
              "#bd3786"
             ],
             [
              0.5555555555555556,
              "#d8576b"
             ],
             [
              0.6666666666666666,
              "#ed7953"
             ],
             [
              0.7777777777777778,
              "#fb9f3a"
             ],
             [
              0.8888888888888888,
              "#fdca26"
             ],
             [
              1,
              "#f0f921"
             ]
            ],
            "type": "surface"
           }
          ],
          "table": [
           {
            "cells": {
             "fill": {
              "color": "#EBF0F8"
             },
             "line": {
              "color": "white"
             }
            },
            "header": {
             "fill": {
              "color": "#C8D4E3"
             },
             "line": {
              "color": "white"
             }
            },
            "type": "table"
           }
          ]
         },
         "layout": {
          "annotationdefaults": {
           "arrowcolor": "#2a3f5f",
           "arrowhead": 0,
           "arrowwidth": 1
          },
          "autotypenumbers": "strict",
          "coloraxis": {
           "colorbar": {
            "outlinewidth": 0,
            "ticks": ""
           }
          },
          "colorscale": {
           "diverging": [
            [
             0,
             "#8e0152"
            ],
            [
             0.1,
             "#c51b7d"
            ],
            [
             0.2,
             "#de77ae"
            ],
            [
             0.3,
             "#f1b6da"
            ],
            [
             0.4,
             "#fde0ef"
            ],
            [
             0.5,
             "#f7f7f7"
            ],
            [
             0.6,
             "#e6f5d0"
            ],
            [
             0.7,
             "#b8e186"
            ],
            [
             0.8,
             "#7fbc41"
            ],
            [
             0.9,
             "#4d9221"
            ],
            [
             1,
             "#276419"
            ]
           ],
           "sequential": [
            [
             0,
             "#0d0887"
            ],
            [
             0.1111111111111111,
             "#46039f"
            ],
            [
             0.2222222222222222,
             "#7201a8"
            ],
            [
             0.3333333333333333,
             "#9c179e"
            ],
            [
             0.4444444444444444,
             "#bd3786"
            ],
            [
             0.5555555555555556,
             "#d8576b"
            ],
            [
             0.6666666666666666,
             "#ed7953"
            ],
            [
             0.7777777777777778,
             "#fb9f3a"
            ],
            [
             0.8888888888888888,
             "#fdca26"
            ],
            [
             1,
             "#f0f921"
            ]
           ],
           "sequentialminus": [
            [
             0,
             "#0d0887"
            ],
            [
             0.1111111111111111,
             "#46039f"
            ],
            [
             0.2222222222222222,
             "#7201a8"
            ],
            [
             0.3333333333333333,
             "#9c179e"
            ],
            [
             0.4444444444444444,
             "#bd3786"
            ],
            [
             0.5555555555555556,
             "#d8576b"
            ],
            [
             0.6666666666666666,
             "#ed7953"
            ],
            [
             0.7777777777777778,
             "#fb9f3a"
            ],
            [
             0.8888888888888888,
             "#fdca26"
            ],
            [
             1,
             "#f0f921"
            ]
           ]
          },
          "colorway": [
           "#636efa",
           "#EF553B",
           "#00cc96",
           "#ab63fa",
           "#FFA15A",
           "#19d3f3",
           "#FF6692",
           "#B6E880",
           "#FF97FF",
           "#FECB52"
          ],
          "font": {
           "color": "#2a3f5f"
          },
          "geo": {
           "bgcolor": "white",
           "lakecolor": "white",
           "landcolor": "#E5ECF6",
           "showlakes": true,
           "showland": true,
           "subunitcolor": "white"
          },
          "hoverlabel": {
           "align": "left"
          },
          "hovermode": "closest",
          "mapbox": {
           "style": "light"
          },
          "paper_bgcolor": "white",
          "plot_bgcolor": "#E5ECF6",
          "polar": {
           "angularaxis": {
            "gridcolor": "white",
            "linecolor": "white",
            "ticks": ""
           },
           "bgcolor": "#E5ECF6",
           "radialaxis": {
            "gridcolor": "white",
            "linecolor": "white",
            "ticks": ""
           }
          },
          "scene": {
           "xaxis": {
            "backgroundcolor": "#E5ECF6",
            "gridcolor": "white",
            "gridwidth": 2,
            "linecolor": "white",
            "showbackground": true,
            "ticks": "",
            "zerolinecolor": "white"
           },
           "yaxis": {
            "backgroundcolor": "#E5ECF6",
            "gridcolor": "white",
            "gridwidth": 2,
            "linecolor": "white",
            "showbackground": true,
            "ticks": "",
            "zerolinecolor": "white"
           },
           "zaxis": {
            "backgroundcolor": "#E5ECF6",
            "gridcolor": "white",
            "gridwidth": 2,
            "linecolor": "white",
            "showbackground": true,
            "ticks": "",
            "zerolinecolor": "white"
           }
          },
          "shapedefaults": {
           "line": {
            "color": "#2a3f5f"
           }
          },
          "ternary": {
           "aaxis": {
            "gridcolor": "white",
            "linecolor": "white",
            "ticks": ""
           },
           "baxis": {
            "gridcolor": "white",
            "linecolor": "white",
            "ticks": ""
           },
           "bgcolor": "#E5ECF6",
           "caxis": {
            "gridcolor": "white",
            "linecolor": "white",
            "ticks": ""
           }
          },
          "title": {
           "x": 0.05
          },
          "xaxis": {
           "automargin": true,
           "gridcolor": "white",
           "linecolor": "white",
           "ticks": "",
           "title": {
            "standoff": 15
           },
           "zerolinecolor": "white",
           "zerolinewidth": 2
          },
          "yaxis": {
           "automargin": true,
           "gridcolor": "white",
           "linecolor": "white",
           "ticks": "",
           "title": {
            "standoff": 15
           },
           "zerolinecolor": "white",
           "zerolinewidth": 2
          }
         }
        },
        "width": 700
       }
      }
     },
     "metadata": {},
     "output_type": "display_data"
    }
   ],
   "source": [
    "\n",
    "\n",
    "# Group by 'HOST TO' and 'Project Status', summing 'Connection Cap (MW)'\n",
    "status_proj_cap = data.groupby(['HOST TO', 'Project Status'])['Connection Cap (MW)'].sum().unstack(fill_value=0)\n",
    "\n",
    "# Calculate the total connection capacity for each HOST TO\n",
    "status_proj_cap['Total'] = status_proj_cap.sum(axis=1)\n",
    "status_proj_cap = status_proj_cap.reset_index()\n",
    "\n",
    "# Melt the DataFrame for pie chart\n",
    "status_proj_cap_melted = pd.melt(status_proj_cap, \n",
    "                                   id_vars=['HOST TO', 'Total'], \n",
    "                                   var_name='Project Status', \n",
    "                                   value_name='Connection Cap (MW)')\n",
    "\n",
    "# Create the pie chart\n",
    "status_plot = px.pie(data_frame=status_proj_cap,\n",
    "                     values='Total',\n",
    "                     names='HOST TO',\n",
    "                     hole=0.45,\n",
    "                     width=700, height=550)\n",
    "\n",
    "# Create a custom hover template\n",
    "hovertemplate = (\n",
    "    \"<b>%{label}</b><br>\"\n",
    "    \"Total: %{value:.2f} MW<br>\"\n",
    "    \"Awaiting Consents: %{customdata[0]:.2f} MW<br>\"\n",
    "    \"Built: %{customdata[1]:.2f} MW<br>\"\n",
    "    \"Consents Approved: %{customdata[2]:.2f} MW<br>\"\n",
    "    \"Scoping: %{customdata[3]:.2f} MW<br>\"\n",
    "    \"Under Construction/Commissioning: %{customdata[4]:.2f} MW<br>\"\n",
    "    \"<extra></extra>\")\n",
    "\n",
    "# Add custom data to the plot for hover information\n",
    "status_plot.update_traces(\n",
    "    customdata=sorted(data['Project Status'].unique()),  # ['Awaiting Consents', 'Built', 'Consents Approved',  'Scoping', 'Under Construction/Commissioning']\n",
    "    hovertemplate=hovertemplate)\n",
    "\n",
    "# Update layout\n",
    "status_plot.update_layout(\n",
    "    legend=dict(orientation='h', yanchor='bottom', y=1.02, xanchor='center', x=0.5)\n",
    ").update_traces(textinfo='percent+label')\n",
    "\n",
    "# Show the plot\n",
    "status_plot.show()\n"
   ]
  },
  {
   "cell_type": "code",
   "execution_count": 279,
   "metadata": {},
   "outputs": [
    {
     "data": {
      "text/plain": [
       "['Awaiting Consents',\n",
       " 'Built',\n",
       " 'Consents Approved',\n",
       " 'Scoping',\n",
       " 'Under Construction/Commissioning']"
      ]
     },
     "execution_count": 279,
     "metadata": {},
     "output_type": "execute_result"
    }
   ],
   "source": []
  },
  {
   "cell_type": "code",
   "execution_count": 268,
   "metadata": {},
   "outputs": [
    {
     "data": {
      "text/plain": [
       "array([[ 53442.46 ,  58544.67 ,  29085.065, 335186.88 ,  10707.26 ],\n",
       "       [     0.   ,   4338.4  ,      0.   ,      0.   ,      0.   ],\n",
       "       [  1633.8  ,   6643.85 ,   5723.49 ,  66321.447,      0.   ],\n",
       "       [  3597.44 ,   7050.8  ,   3533.63 ,  58332.79 ,    711.5  ]])"
      ]
     },
     "execution_count": 268,
     "metadata": {},
     "output_type": "execute_result"
    }
   ],
   "source": [
    "status_proj_cap\n",
    "status_proj_cap[status_proj_cap.columns[1:-1]].values"
   ]
  },
  {
   "cell_type": "code",
   "execution_count": 219,
   "metadata": {},
   "outputs": [
    {
     "data": {
      "text/plain": [
       "HOST TO\n",
       "NGET    1147\n",
       "OFTO      17\n",
       "SHET     350\n",
       "SPT      382\n",
       "Name: Project Status, dtype: int64"
      ]
     },
     "execution_count": 219,
     "metadata": {},
     "output_type": "execute_result"
    }
   ],
   "source": [
    "to_status_group = data.groupby('HOST TO')['Project Status'].count()\n",
    "to_status_group"
   ]
  },
  {
   "cell_type": "code",
   "execution_count": 230,
   "metadata": {},
   "outputs": [
    {
     "data": {
      "text/plain": [
       "Index(['Project Name', 'Customer Name', 'Connection Site', 'Stage',\n",
       "       'MW Connected', 'MW Change', 'Connection Cap (MW)', 'Connection Date',\n",
       "       'Project Status', 'Agreement Type', 'HOST TO', 'Plant Type',\n",
       "       'Project ID', 'Project Number'],\n",
       "      dtype='object')"
      ]
     },
     "execution_count": 230,
     "metadata": {},
     "output_type": "execute_result"
    }
   ],
   "source": [
    "data.columns"
   ]
  },
  {
   "cell_type": "code",
   "execution_count": null,
   "metadata": {},
   "outputs": [],
   "source": []
  }
 ],
 "metadata": {
  "kernelspec": {
   "display_name": "base",
   "language": "python",
   "name": "python3"
  },
  "language_info": {
   "codemirror_mode": {
    "name": "ipython",
    "version": 3
   },
   "file_extension": ".py",
   "mimetype": "text/x-python",
   "name": "python",
   "nbconvert_exporter": "python",
   "pygments_lexer": "ipython3",
   "version": "3.12.2"
  }
 },
 "nbformat": 4,
 "nbformat_minor": 2
}
