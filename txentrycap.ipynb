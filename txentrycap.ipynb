{
 "cells": [
  {
   "cell_type": "markdown",
   "metadata": {},
   "source": [
    "## Introduction\n",
    "\n",
    "The Transmission Entry Capacity (TEC) Register is a record of generation projects that hold contracts for Transmission Entry Capacity (TEC) with National Grid ESO. This includes both connected projects and future connection projects, as well as projects that are directly connected to the National Electricity Transmission System (NETS) or connected at distribution level (and which have a Bilateral Embedded Generator Agreement (BEGA)). TEC is the maximum capacity in MW that a generator is permitted to export into the NETS. It is one of the two types of connection capacity included in transmission offers. The other is Connection Entry Capacity (CEC), which is the maximum potential output of a generation asset onto the NETS. CEC is often set higher than TEC to allow for changes over years in outputs without needing to adapt or modify infrastructure."
   ]
  },
  {
   "cell_type": "code",
   "execution_count": 511,
   "metadata": {},
   "outputs": [],
   "source": [
    "import pandas as pd\n",
    "import numpy as np\n",
    "import plotly.express as px\n",
    "from plotly.subplots import make_subplots\n",
    "import plotly.graph_objects as go\n",
    "import requests\n",
    "import os\n",
    "import sys\n",
    "import matplotlib.pyplot as plt\n",
    "from bs4 import BeautifulSoup"
   ]
  },
  {
   "cell_type": "markdown",
   "metadata": {},
   "source": [
    "Get package versions"
   ]
  },
  {
   "cell_type": "code",
   "execution_count": 564,
   "metadata": {},
   "outputs": [
    {
     "name": "stdout",
     "output_type": "stream",
     "text": [
      "pandas==2.2.2\n",
      "numpy==1.26.4\n",
      "streamlit==1.32.0\n",
      "plotly==5.22.0\n",
      "matplotlib==3.8.4\n",
      "bs4==4.12.3\n"
     ]
    }
   ],
   "source": [
    "import plotly, matplotlib, bs4\n",
    "import streamlit as st\n",
    "\n",
    "for package in [pd, np, st, plotly, matplotlib, bs4]:\n",
    "    print(f\"{package.__name__}=={package.__version__}\")"
   ]
  },
  {
   "cell_type": "markdown",
   "metadata": {},
   "source": [
    "## Download data\n",
    "\n",
    "Download TEC data directly from [NESO dataportal](https://www.neso.energy/data-portal/transmission-entry-capacity-tec-register)"
   ]
  },
  {
   "cell_type": "code",
   "execution_count": 513,
   "metadata": {},
   "outputs": [],
   "source": [
    "def download_data(url, filename):\n",
    "    resp = requests.get(url)\n",
    "    os.makedirs(\"datastore\", exist_ok=True)\n",
    "    if resp.ok:\n",
    "\n",
    "        with open(filename, \"wb\") as f:\n",
    "            f.write(resp.content)\n",
    "    else:\n",
    "        return"
   ]
  },
  {
   "cell_type": "code",
   "execution_count": 514,
   "metadata": {},
   "outputs": [
    {
     "data": {
      "text/html": [
       "<div>\n",
       "<style scoped>\n",
       "    .dataframe tbody tr th:only-of-type {\n",
       "        vertical-align: middle;\n",
       "    }\n",
       "\n",
       "    .dataframe tbody tr th {\n",
       "        vertical-align: top;\n",
       "    }\n",
       "\n",
       "    .dataframe thead th {\n",
       "        text-align: right;\n",
       "    }\n",
       "</style>\n",
       "<table border=\"1\" class=\"dataframe\">\n",
       "  <thead>\n",
       "    <tr style=\"text-align: right;\">\n",
       "      <th></th>\n",
       "      <th>Project Name</th>\n",
       "      <th>Customer Name</th>\n",
       "      <th>Connection Site</th>\n",
       "      <th>Stage</th>\n",
       "      <th>MW Connected</th>\n",
       "      <th>MW Increase / Decrease</th>\n",
       "      <th>Cumulative Total Capacity (MW)</th>\n",
       "      <th>MW Effective From</th>\n",
       "      <th>Project Status</th>\n",
       "      <th>Agreement Type</th>\n",
       "      <th>HOST TO</th>\n",
       "      <th>Plant Type</th>\n",
       "      <th>Project ID</th>\n",
       "      <th>Project Number</th>\n",
       "    </tr>\n",
       "  </thead>\n",
       "  <tbody>\n",
       "    <tr>\n",
       "      <th>0</th>\n",
       "      <td>[23-0225] UPPER GREENFIELDS - 175MW BESS</td>\n",
       "      <td>Lower 48 Energy BESS Limited</td>\n",
       "      <td>New Deer 2 400kV Substation</td>\n",
       "      <td>NaN</td>\n",
       "      <td>0.0</td>\n",
       "      <td>175.00</td>\n",
       "      <td>175.00</td>\n",
       "      <td>2033-10-31</td>\n",
       "      <td>Scoping</td>\n",
       "      <td>Direct Connection</td>\n",
       "      <td>SHET</td>\n",
       "      <td>Energy Storage System</td>\n",
       "      <td>a0l8e000000ewjHAAQ</td>\n",
       "      <td>PRO-003682</td>\n",
       "    </tr>\n",
       "    <tr>\n",
       "      <th>1</th>\n",
       "      <td>012 NEP Coventry West</td>\n",
       "      <td>NEW ENERGY PARTNERSHIP LIMITED</td>\n",
       "      <td>Berkswell GSP</td>\n",
       "      <td>NaN</td>\n",
       "      <td>0.0</td>\n",
       "      <td>92.40</td>\n",
       "      <td>92.40</td>\n",
       "      <td>2034-10-31</td>\n",
       "      <td>Scoping</td>\n",
       "      <td>Embedded</td>\n",
       "      <td>NGET</td>\n",
       "      <td>Energy Storage System</td>\n",
       "      <td>a0l8e000000f3zXAAQ</td>\n",
       "      <td>PRO-003804</td>\n",
       "    </tr>\n",
       "    <tr>\n",
       "      <th>2</th>\n",
       "      <td>17 Acres and BESS</td>\n",
       "      <td>AEUK BATTERY PROJECT II LTD</td>\n",
       "      <td>Tealing 275/33kV Substation</td>\n",
       "      <td>NaN</td>\n",
       "      <td>0.0</td>\n",
       "      <td>95.76</td>\n",
       "      <td>95.76</td>\n",
       "      <td>2032-06-30</td>\n",
       "      <td>Scoping</td>\n",
       "      <td>Direct Connection</td>\n",
       "      <td>SHET</td>\n",
       "      <td>Energy Storage System</td>\n",
       "      <td>a0l8e0000012ezRAAQ</td>\n",
       "      <td>PRO-004392</td>\n",
       "    </tr>\n",
       "    <tr>\n",
       "      <th>3</th>\n",
       "      <td>Abedare</td>\n",
       "      <td>UK POWER RESERVE LIMITED</td>\n",
       "      <td>Upperboat 132kV Substation</td>\n",
       "      <td>NaN</td>\n",
       "      <td>10.0</td>\n",
       "      <td>0.00</td>\n",
       "      <td>10.00</td>\n",
       "      <td>NaN</td>\n",
       "      <td>Built</td>\n",
       "      <td>Embedded</td>\n",
       "      <td>NGET</td>\n",
       "      <td>CCGT (Combined Cycle Gas Turbine)</td>\n",
       "      <td>a0l4L0000005iWRQAY</td>\n",
       "      <td>PRO-000001</td>\n",
       "    </tr>\n",
       "    <tr>\n",
       "      <th>4</th>\n",
       "      <td>Aberarder Extension Wind Farm</td>\n",
       "      <td>Renewable Energy Systems Limited</td>\n",
       "      <td>Tomatin 275/132 kV Substation</td>\n",
       "      <td>NaN</td>\n",
       "      <td>0.0</td>\n",
       "      <td>138.00</td>\n",
       "      <td>138.00</td>\n",
       "      <td>2031-04-30</td>\n",
       "      <td>Scoping</td>\n",
       "      <td>Direct Connection</td>\n",
       "      <td>SHET</td>\n",
       "      <td>Energy Storage System;Wind Onshore</td>\n",
       "      <td>a0l8e0000010wQ0AAI</td>\n",
       "      <td>PRO-002589</td>\n",
       "    </tr>\n",
       "  </tbody>\n",
       "</table>\n",
       "</div>"
      ],
      "text/plain": [
       "                               Project Name                     Customer Name  \\\n",
       "0  [23-0225] UPPER GREENFIELDS - 175MW BESS      Lower 48 Energy BESS Limited   \n",
       "1                     012 NEP Coventry West    NEW ENERGY PARTNERSHIP LIMITED   \n",
       "2                         17 Acres and BESS       AEUK BATTERY PROJECT II LTD   \n",
       "3                                   Abedare          UK POWER RESERVE LIMITED   \n",
       "4             Aberarder Extension Wind Farm  Renewable Energy Systems Limited   \n",
       "\n",
       "                 Connection Site  Stage  MW Connected  MW Increase / Decrease  \\\n",
       "0    New Deer 2 400kV Substation    NaN           0.0                  175.00   \n",
       "1                  Berkswell GSP    NaN           0.0                   92.40   \n",
       "2    Tealing 275/33kV Substation    NaN           0.0                   95.76   \n",
       "3     Upperboat 132kV Substation    NaN          10.0                    0.00   \n",
       "4  Tomatin 275/132 kV Substation    NaN           0.0                  138.00   \n",
       "\n",
       "   Cumulative Total Capacity (MW) MW Effective From Project Status  \\\n",
       "0                          175.00        2033-10-31        Scoping   \n",
       "1                           92.40        2034-10-31        Scoping   \n",
       "2                           95.76        2032-06-30        Scoping   \n",
       "3                           10.00               NaN          Built   \n",
       "4                          138.00        2031-04-30        Scoping   \n",
       "\n",
       "      Agreement Type HOST TO                          Plant Type  \\\n",
       "0  Direct Connection    SHET               Energy Storage System   \n",
       "1           Embedded    NGET               Energy Storage System   \n",
       "2  Direct Connection    SHET               Energy Storage System   \n",
       "3           Embedded    NGET   CCGT (Combined Cycle Gas Turbine)   \n",
       "4  Direct Connection    SHET  Energy Storage System;Wind Onshore   \n",
       "\n",
       "           Project ID Project Number  \n",
       "0  a0l8e000000ewjHAAQ     PRO-003682  \n",
       "1  a0l8e000000f3zXAAQ     PRO-003804  \n",
       "2  a0l8e0000012ezRAAQ     PRO-004392  \n",
       "3  a0l4L0000005iWRQAY     PRO-000001  \n",
       "4  a0l8e0000010wQ0AAI     PRO-002589  "
      ]
     },
     "execution_count": 514,
     "metadata": {},
     "output_type": "execute_result"
    }
   ],
   "source": [
    "url = \"https://api.neso.energy/dataset/cbd45e54-e6e2-4a38-99f1-8de6fd96d7c1/resource/17becbab-e3e8-473f-b303-3806f43a6a10/download/tec-register-27-09-2024.csv\"\n",
    "filename = \"tecregister.csv\"\n",
    "filepath = f\"./datastore/{filename}\"\n",
    "\n",
    "download_data(url, filepath)\n",
    "\n",
    "\n",
    "data = pd.read_csv(filepath)\n",
    "data.head()"
   ]
  },
  {
   "cell_type": "markdown",
   "metadata": {},
   "source": [
    "### Scrape last updated from data portal"
   ]
  },
  {
   "cell_type": "code",
   "execution_count": 515,
   "metadata": {},
   "outputs": [
    {
     "name": "stdout",
     "output_type": "stream",
     "text": [
      "1 day ago\n"
     ]
    }
   ],
   "source": [
    "def extract_last_date_updated(url, selector):\n",
    "    headers = {\n",
    "        \"User-Agent\": \"Mozilla/5.0 (Windows NT 10.0; Win64; x64) AppleWebKit/537.36 (KHTML, like Gecko) Chrome/90.0.4430.212 Safari/537.36\"\n",
    "    }\n",
    "\n",
    "    try:\n",
    "        # Fetch the webpage content\n",
    "        response = requests.get(url, headers=headers)\n",
    "\n",
    "        soup = BeautifulSoup(response.text, \"lxml\")\n",
    "\n",
    "        # Extract the text from the target element using the provided selector\n",
    "        last_updated = soup.select(selector)\n",
    "        extracted_texts = [element.text.strip() for element in last_updated if element.name == \"td\" and \"ago\" in element.text]\n",
    "\n",
    "        return extracted_texts[0] if extracted_texts else \"Element not found\"\n",
    "\n",
    "    except requests.RequestException as e:\n",
    "        return [f\"Error fetching the URL: {e}\"]\n",
    "\n",
    "\n",
    "url = \"https://www.neso.energy/data-portal/transmission-entry-capacity-tec-register\"\n",
    "selector = \"div.layout-region-resources .views-field-changed.is-active\"\n",
    "\n",
    "extracted_text = extract_last_date_updated(url, selector)\n",
    "print(extracted_text)"
   ]
  },
  {
   "cell_type": "code",
   "execution_count": 516,
   "metadata": {},
   "outputs": [
    {
     "data": {
      "text/html": [
       "<div>\n",
       "<style scoped>\n",
       "    .dataframe tbody tr th:only-of-type {\n",
       "        vertical-align: middle;\n",
       "    }\n",
       "\n",
       "    .dataframe tbody tr th {\n",
       "        vertical-align: top;\n",
       "    }\n",
       "\n",
       "    .dataframe thead th {\n",
       "        text-align: right;\n",
       "    }\n",
       "</style>\n",
       "<table border=\"1\" class=\"dataframe\">\n",
       "  <thead>\n",
       "    <tr style=\"text-align: right;\">\n",
       "      <th></th>\n",
       "      <th>Project Name</th>\n",
       "      <th>Customer Name</th>\n",
       "      <th>Connection Site</th>\n",
       "      <th>Stage</th>\n",
       "      <th>MW Connected</th>\n",
       "      <th>MW Change</th>\n",
       "      <th>Connection Cap (MW)</th>\n",
       "      <th>Connection Date</th>\n",
       "      <th>Project Status</th>\n",
       "      <th>Agreement Type</th>\n",
       "      <th>HOST TO</th>\n",
       "      <th>Plant Type</th>\n",
       "      <th>Project ID</th>\n",
       "      <th>Project Number</th>\n",
       "    </tr>\n",
       "  </thead>\n",
       "  <tbody>\n",
       "    <tr>\n",
       "      <th>0</th>\n",
       "      <td>[23-0225] UPPER GREENFIELDS - 175MW BESS</td>\n",
       "      <td>Lower 48 Energy BESS Limited</td>\n",
       "      <td>New Deer 2 400kV Substation</td>\n",
       "      <td>NaN</td>\n",
       "      <td>0.0</td>\n",
       "      <td>175.00</td>\n",
       "      <td>175.00</td>\n",
       "      <td>2033-10-31</td>\n",
       "      <td>Scoping</td>\n",
       "      <td>Direct Connection</td>\n",
       "      <td>SHET</td>\n",
       "      <td>Energy Storage System</td>\n",
       "      <td>a0l8e000000ewjHAAQ</td>\n",
       "      <td>PRO-003682</td>\n",
       "    </tr>\n",
       "    <tr>\n",
       "      <th>1</th>\n",
       "      <td>012 NEP Coventry West</td>\n",
       "      <td>NEW ENERGY PARTNERSHIP LIMITED</td>\n",
       "      <td>Berkswell GSP</td>\n",
       "      <td>NaN</td>\n",
       "      <td>0.0</td>\n",
       "      <td>92.40</td>\n",
       "      <td>92.40</td>\n",
       "      <td>2034-10-31</td>\n",
       "      <td>Scoping</td>\n",
       "      <td>Embedded</td>\n",
       "      <td>NGET</td>\n",
       "      <td>Energy Storage System</td>\n",
       "      <td>a0l8e000000f3zXAAQ</td>\n",
       "      <td>PRO-003804</td>\n",
       "    </tr>\n",
       "    <tr>\n",
       "      <th>2</th>\n",
       "      <td>17 Acres and BESS</td>\n",
       "      <td>AEUK BATTERY PROJECT II LTD</td>\n",
       "      <td>Tealing 275/33kV Substation</td>\n",
       "      <td>NaN</td>\n",
       "      <td>0.0</td>\n",
       "      <td>95.76</td>\n",
       "      <td>95.76</td>\n",
       "      <td>2032-06-30</td>\n",
       "      <td>Scoping</td>\n",
       "      <td>Direct Connection</td>\n",
       "      <td>SHET</td>\n",
       "      <td>Energy Storage System</td>\n",
       "      <td>a0l8e0000012ezRAAQ</td>\n",
       "      <td>PRO-004392</td>\n",
       "    </tr>\n",
       "    <tr>\n",
       "      <th>3</th>\n",
       "      <td>Abedare</td>\n",
       "      <td>UK POWER RESERVE LIMITED</td>\n",
       "      <td>Upperboat 132kV Substation</td>\n",
       "      <td>NaN</td>\n",
       "      <td>10.0</td>\n",
       "      <td>0.00</td>\n",
       "      <td>10.00</td>\n",
       "      <td>NaT</td>\n",
       "      <td>Built</td>\n",
       "      <td>Embedded</td>\n",
       "      <td>NGET</td>\n",
       "      <td>CCGT (Combined Cycle Gas Turbine)</td>\n",
       "      <td>a0l4L0000005iWRQAY</td>\n",
       "      <td>PRO-000001</td>\n",
       "    </tr>\n",
       "    <tr>\n",
       "      <th>4</th>\n",
       "      <td>Aberarder Extension Wind Farm</td>\n",
       "      <td>Renewable Energy Systems Limited</td>\n",
       "      <td>Tomatin 275/132 kV Substation</td>\n",
       "      <td>NaN</td>\n",
       "      <td>0.0</td>\n",
       "      <td>138.00</td>\n",
       "      <td>138.00</td>\n",
       "      <td>2031-04-30</td>\n",
       "      <td>Scoping</td>\n",
       "      <td>Direct Connection</td>\n",
       "      <td>SHET</td>\n",
       "      <td>Energy Storage System;Wind Onshore</td>\n",
       "      <td>a0l8e0000010wQ0AAI</td>\n",
       "      <td>PRO-002589</td>\n",
       "    </tr>\n",
       "  </tbody>\n",
       "</table>\n",
       "</div>"
      ],
      "text/plain": [
       "                               Project Name                     Customer Name  \\\n",
       "0  [23-0225] UPPER GREENFIELDS - 175MW BESS      Lower 48 Energy BESS Limited   \n",
       "1                     012 NEP Coventry West    NEW ENERGY PARTNERSHIP LIMITED   \n",
       "2                         17 Acres and BESS       AEUK BATTERY PROJECT II LTD   \n",
       "3                                   Abedare          UK POWER RESERVE LIMITED   \n",
       "4             Aberarder Extension Wind Farm  Renewable Energy Systems Limited   \n",
       "\n",
       "                 Connection Site  Stage  MW Connected  MW Change  \\\n",
       "0    New Deer 2 400kV Substation    NaN           0.0     175.00   \n",
       "1                  Berkswell GSP    NaN           0.0      92.40   \n",
       "2    Tealing 275/33kV Substation    NaN           0.0      95.76   \n",
       "3     Upperboat 132kV Substation    NaN          10.0       0.00   \n",
       "4  Tomatin 275/132 kV Substation    NaN           0.0     138.00   \n",
       "\n",
       "   Connection Cap (MW) Connection Date Project Status     Agreement Type  \\\n",
       "0               175.00      2033-10-31        Scoping  Direct Connection   \n",
       "1                92.40      2034-10-31        Scoping           Embedded   \n",
       "2                95.76      2032-06-30        Scoping  Direct Connection   \n",
       "3                10.00             NaT          Built           Embedded   \n",
       "4               138.00      2031-04-30        Scoping  Direct Connection   \n",
       "\n",
       "  HOST TO                          Plant Type          Project ID  \\\n",
       "0    SHET               Energy Storage System  a0l8e000000ewjHAAQ   \n",
       "1    NGET               Energy Storage System  a0l8e000000f3zXAAQ   \n",
       "2    SHET               Energy Storage System  a0l8e0000012ezRAAQ   \n",
       "3    NGET   CCGT (Combined Cycle Gas Turbine)  a0l4L0000005iWRQAY   \n",
       "4    SHET  Energy Storage System;Wind Onshore  a0l8e0000010wQ0AAI   \n",
       "\n",
       "  Project Number  \n",
       "0     PRO-003682  \n",
       "1     PRO-003804  \n",
       "2     PRO-004392  \n",
       "3     PRO-000001  \n",
       "4     PRO-002589  "
      ]
     },
     "execution_count": 516,
     "metadata": {},
     "output_type": "execute_result"
    }
   ],
   "source": [
    "# Convert to datetime and format date\n",
    "data[\"MW Effective From\"] = pd.to_datetime(data[\"MW Effective From\"], errors=\"coerce\")\n",
    "\n",
    "\n",
    "def change_names():\n",
    "    data.rename(\n",
    "        columns={\n",
    "            \"MW Increase / Decrease\": \"MW Change\",\n",
    "            \"Cumulative Total Capacity (MW)\": \"Connection Cap (MW)\",\n",
    "            \"MW Effective From\": \"Connection Date\",\n",
    "        },\n",
    "        inplace=True,\n",
    "    )\n",
    "    return data\n",
    "\n",
    "\n",
    "data = change_names()\n",
    "data.head()"
   ]
  },
  {
   "cell_type": "code",
   "execution_count": 517,
   "metadata": {},
   "outputs": [
    {
     "data": {
      "text/html": [
       "<div>\n",
       "<style scoped>\n",
       "    .dataframe tbody tr th:only-of-type {\n",
       "        vertical-align: middle;\n",
       "    }\n",
       "\n",
       "    .dataframe tbody tr th {\n",
       "        vertical-align: top;\n",
       "    }\n",
       "\n",
       "    .dataframe thead th {\n",
       "        text-align: right;\n",
       "    }\n",
       "</style>\n",
       "<table border=\"1\" class=\"dataframe\">\n",
       "  <thead>\n",
       "    <tr style=\"text-align: right;\">\n",
       "      <th></th>\n",
       "      <th>Stage</th>\n",
       "      <th>MW Connected</th>\n",
       "      <th>MW Change</th>\n",
       "      <th>Connection Cap (MW)</th>\n",
       "      <th>Connection Date</th>\n",
       "    </tr>\n",
       "  </thead>\n",
       "  <tbody>\n",
       "    <tr>\n",
       "      <th>count</th>\n",
       "      <td>251.000000</td>\n",
       "      <td>1896.000000</td>\n",
       "      <td>1896.000000</td>\n",
       "      <td>1896.000000</td>\n",
       "      <td>1595</td>\n",
       "    </tr>\n",
       "    <tr>\n",
       "      <th>mean</th>\n",
       "      <td>1.705179</td>\n",
       "      <td>39.042468</td>\n",
       "      <td>277.981428</td>\n",
       "      <td>340.112596</td>\n",
       "      <td>2030-11-18 04:19:06.583072256</td>\n",
       "    </tr>\n",
       "    <tr>\n",
       "      <th>min</th>\n",
       "      <td>1.000000</td>\n",
       "      <td>0.000000</td>\n",
       "      <td>-1120.000000</td>\n",
       "      <td>0.000000</td>\n",
       "      <td>2019-09-06 00:00:00</td>\n",
       "    </tr>\n",
       "    <tr>\n",
       "      <th>25%</th>\n",
       "      <td>1.000000</td>\n",
       "      <td>0.000000</td>\n",
       "      <td>47.500000</td>\n",
       "      <td>57.000000</td>\n",
       "      <td>2027-07-07 00:00:00</td>\n",
       "    </tr>\n",
       "    <tr>\n",
       "      <th>50%</th>\n",
       "      <td>2.000000</td>\n",
       "      <td>0.000000</td>\n",
       "      <td>150.000000</td>\n",
       "      <td>200.000000</td>\n",
       "      <td>2030-10-30 00:00:00</td>\n",
       "    </tr>\n",
       "    <tr>\n",
       "      <th>75%</th>\n",
       "      <td>2.000000</td>\n",
       "      <td>0.000000</td>\n",
       "      <td>400.000000</td>\n",
       "      <td>437.000000</td>\n",
       "      <td>2033-10-31 00:00:00</td>\n",
       "    </tr>\n",
       "    <tr>\n",
       "      <th>max</th>\n",
       "      <td>6.000000</td>\n",
       "      <td>2363.000000</td>\n",
       "      <td>4800.000000</td>\n",
       "      <td>4800.000000</td>\n",
       "      <td>2039-10-31 00:00:00</td>\n",
       "    </tr>\n",
       "    <tr>\n",
       "      <th>std</th>\n",
       "      <td>0.800458</td>\n",
       "      <td>189.214526</td>\n",
       "      <td>403.084425</td>\n",
       "      <td>453.060015</td>\n",
       "      <td>NaN</td>\n",
       "    </tr>\n",
       "  </tbody>\n",
       "</table>\n",
       "</div>"
      ],
      "text/plain": [
       "            Stage  MW Connected    MW Change  Connection Cap (MW)  \\\n",
       "count  251.000000   1896.000000  1896.000000          1896.000000   \n",
       "mean     1.705179     39.042468   277.981428           340.112596   \n",
       "min      1.000000      0.000000 -1120.000000             0.000000   \n",
       "25%      1.000000      0.000000    47.500000            57.000000   \n",
       "50%      2.000000      0.000000   150.000000           200.000000   \n",
       "75%      2.000000      0.000000   400.000000           437.000000   \n",
       "max      6.000000   2363.000000  4800.000000          4800.000000   \n",
       "std      0.800458    189.214526   403.084425           453.060015   \n",
       "\n",
       "                     Connection Date  \n",
       "count                           1595  \n",
       "mean   2030-11-18 04:19:06.583072256  \n",
       "min              2019-09-06 00:00:00  \n",
       "25%              2027-07-07 00:00:00  \n",
       "50%              2030-10-30 00:00:00  \n",
       "75%              2033-10-31 00:00:00  \n",
       "max              2039-10-31 00:00:00  \n",
       "std                              NaN  "
      ]
     },
     "execution_count": 517,
     "metadata": {},
     "output_type": "execute_result"
    }
   ],
   "source": [
    "data.describe()"
   ]
  },
  {
   "cell_type": "code",
   "execution_count": 518,
   "metadata": {},
   "outputs": [
    {
     "name": "stdout",
     "output_type": "stream",
     "text": [
      "<class 'pandas.core.frame.DataFrame'>\n",
      "RangeIndex: 1896 entries, 0 to 1895\n",
      "Data columns (total 14 columns):\n",
      " #   Column               Non-Null Count  Dtype         \n",
      "---  ------               --------------  -----         \n",
      " 0   Project Name         1896 non-null   object        \n",
      " 1   Customer Name        1896 non-null   object        \n",
      " 2   Connection Site      1896 non-null   object        \n",
      " 3   Stage                251 non-null    float64       \n",
      " 4   MW Connected         1896 non-null   float64       \n",
      " 5   MW Change            1896 non-null   float64       \n",
      " 6   Connection Cap (MW)  1896 non-null   float64       \n",
      " 7   Connection Date      1595 non-null   datetime64[ns]\n",
      " 8   Project Status       1896 non-null   object        \n",
      " 9   Agreement Type       1896 non-null   object        \n",
      " 10  HOST TO              1896 non-null   object        \n",
      " 11  Plant Type           1896 non-null   object        \n",
      " 12  Project ID           1896 non-null   object        \n",
      " 13  Project Number       1896 non-null   object        \n",
      "dtypes: datetime64[ns](1), float64(4), object(9)\n",
      "memory usage: 207.5+ KB\n"
     ]
    }
   ],
   "source": [
    "data.info()"
   ]
  },
  {
   "cell_type": "markdown",
   "metadata": {},
   "source": [
    "Missing Values"
   ]
  },
  {
   "cell_type": "markdown",
   "metadata": {},
   "source": [
    "Tracking Missing Values"
   ]
  },
  {
   "cell_type": "code",
   "execution_count": 519,
   "metadata": {},
   "outputs": [
    {
     "data": {
      "text/plain": [
       "Project Name              0\n",
       "Customer Name             0\n",
       "Connection Site           0\n",
       "Stage                  1645\n",
       "MW Connected              0\n",
       "MW Change                 0\n",
       "Connection Cap (MW)       0\n",
       "Connection Date         301\n",
       "Project Status            0\n",
       "Agreement Type            0\n",
       "HOST TO                   0\n",
       "Plant Type                0\n",
       "Project ID                0\n",
       "Project Number            0\n",
       "dtype: int64"
      ]
     },
     "execution_count": 519,
     "metadata": {},
     "output_type": "execute_result"
    }
   ],
   "source": [
    "data.isna().sum()"
   ]
  },
  {
   "cell_type": "markdown",
   "metadata": {},
   "source": [
    "Data shows 301 missing values for `Connection Date` (Date), which signifies that 301 customers are either already connected or have not completed their contractual requirements etc."
   ]
  },
  {
   "cell_type": "code",
   "execution_count": 520,
   "metadata": {},
   "outputs": [
    {
     "data": {
      "text/plain": [
       "HOST TO\n",
       "NGET    486966.335\n",
       "OFTO      4338.400\n",
       "SHET     80322.587\n",
       "SPT      73226.160\n",
       "Name: Connection Cap (MW), dtype: float64"
      ]
     },
     "execution_count": 520,
     "metadata": {},
     "output_type": "execute_result"
    }
   ],
   "source": [
    "data.groupby([\"HOST TO\"])[\"Connection Cap (MW)\"].sum()"
   ]
  },
  {
   "cell_type": "markdown",
   "metadata": {},
   "source": [
    "> **Analysis**\n",
    "\n",
    "The grouped analysis indicates a clear disparity in total capacity across the different hosts, with NGET being the primary player in the UK electricity transmission landscape. Understanding these dynamics is crucial for stakeholders in energy policy, investment, and operational planning moving forward.\n",
    "\n",
    " - **Dominance of NGET**: NGET accounts for the vast majority of the cumulative total capacity, with approximately 88.5% of the total capacity across all hosts. This indicates that the National Grid plays a critical role in electricity transmission and likely serves as the primary backbone for the electricity network in the UK.\n",
    " - **Relative Contribution of OFTO**: The Offshore Transmission Operators have a significantly smaller capacity compared to NGET, contributing only about 0.9% of the total. This may suggest a growing but still limited role in the overall electricity transmission capacity, likely due to the current scale of offshore projects.\n",
    " - **Capacity Distribution in Scotland**: Both SHET and SPT, which are specific to the Scottish region, show moderate capacities at 80.3GW and 73.2GW, respectively. Together, they account for approximately 12% of the total capacity. This reflects Scotland's significant investment in renewable energy and its distinct grid requirements.\n",
    "\n",
    "\n",
    " With the increasing emphasis on renewable energy, especially offshore wind, the role of OFTOs may grow."
   ]
  },
  {
   "cell_type": "code",
   "execution_count": 521,
   "metadata": {},
   "outputs": [
    {
     "data": {
      "text/html": [
       "<div>\n",
       "<style scoped>\n",
       "    .dataframe tbody tr th:only-of-type {\n",
       "        vertical-align: middle;\n",
       "    }\n",
       "\n",
       "    .dataframe tbody tr th {\n",
       "        vertical-align: top;\n",
       "    }\n",
       "\n",
       "    .dataframe thead th {\n",
       "        text-align: right;\n",
       "    }\n",
       "</style>\n",
       "<table border=\"1\" class=\"dataframe\">\n",
       "  <thead>\n",
       "    <tr style=\"text-align: right;\">\n",
       "      <th></th>\n",
       "      <th>Project Status</th>\n",
       "      <th>Connection Cap (MW)</th>\n",
       "    </tr>\n",
       "    <tr>\n",
       "      <th>HOST TO</th>\n",
       "      <th></th>\n",
       "      <th></th>\n",
       "    </tr>\n",
       "  </thead>\n",
       "  <tbody>\n",
       "    <tr>\n",
       "      <th>NGET</th>\n",
       "      <td>1147</td>\n",
       "      <td>486966.335</td>\n",
       "    </tr>\n",
       "    <tr>\n",
       "      <th>OFTO</th>\n",
       "      <td>17</td>\n",
       "      <td>4338.400</td>\n",
       "    </tr>\n",
       "    <tr>\n",
       "      <th>SHET</th>\n",
       "      <td>350</td>\n",
       "      <td>80322.587</td>\n",
       "    </tr>\n",
       "    <tr>\n",
       "      <th>SPT</th>\n",
       "      <td>382</td>\n",
       "      <td>73226.160</td>\n",
       "    </tr>\n",
       "  </tbody>\n",
       "</table>\n",
       "</div>"
      ],
      "text/plain": [
       "         Project Status  Connection Cap (MW)\n",
       "HOST TO                                     \n",
       "NGET               1147           486966.335\n",
       "OFTO                 17             4338.400\n",
       "SHET                350            80322.587\n",
       "SPT                 382            73226.160"
      ]
     },
     "execution_count": 521,
     "metadata": {},
     "output_type": "execute_result"
    }
   ],
   "source": [
    "data.groupby([\"HOST TO\"]).agg({\"Project Status\": \"count\", \"Connection Cap (MW)\": \"sum\"})"
   ]
  },
  {
   "cell_type": "code",
   "execution_count": 522,
   "metadata": {},
   "outputs": [
    {
     "data": {
      "text/html": [
       "<div>\n",
       "<style scoped>\n",
       "    .dataframe tbody tr th:only-of-type {\n",
       "        vertical-align: middle;\n",
       "    }\n",
       "\n",
       "    .dataframe tbody tr th {\n",
       "        vertical-align: top;\n",
       "    }\n",
       "\n",
       "    .dataframe thead th {\n",
       "        text-align: right;\n",
       "    }\n",
       "</style>\n",
       "<table border=\"1\" class=\"dataframe\">\n",
       "  <thead>\n",
       "    <tr style=\"text-align: right;\">\n",
       "      <th>HOST TO</th>\n",
       "      <th>NGET</th>\n",
       "      <th>OFTO</th>\n",
       "      <th>SHET</th>\n",
       "      <th>SPT</th>\n",
       "      <th>Total</th>\n",
       "    </tr>\n",
       "    <tr>\n",
       "      <th>Plant Type</th>\n",
       "      <th></th>\n",
       "      <th></th>\n",
       "      <th></th>\n",
       "      <th></th>\n",
       "      <th></th>\n",
       "    </tr>\n",
       "  </thead>\n",
       "  <tbody>\n",
       "    <tr>\n",
       "      <th>Biomass</th>\n",
       "      <td>3083.000</td>\n",
       "      <td>0.0</td>\n",
       "      <td>0.000</td>\n",
       "      <td>55.00</td>\n",
       "      <td>3138.000</td>\n",
       "    </tr>\n",
       "    <tr>\n",
       "      <th>CCGT (Combined Cycle Gas Turbine)</th>\n",
       "      <td>34822.000</td>\n",
       "      <td>0.0</td>\n",
       "      <td>2090.000</td>\n",
       "      <td>20.00</td>\n",
       "      <td>36932.000</td>\n",
       "    </tr>\n",
       "    <tr>\n",
       "      <th>CCGT (Combined Cycle Gas Turbine);Demand</th>\n",
       "      <td>2406.000</td>\n",
       "      <td>0.0</td>\n",
       "      <td>0.000</td>\n",
       "      <td>0.00</td>\n",
       "      <td>2406.000</td>\n",
       "    </tr>\n",
       "    <tr>\n",
       "      <th>CCGT (Combined Cycle Gas Turbine);Demand;Energy Storage System</th>\n",
       "      <td>21600.000</td>\n",
       "      <td>0.0</td>\n",
       "      <td>0.000</td>\n",
       "      <td>0.00</td>\n",
       "      <td>21600.000</td>\n",
       "    </tr>\n",
       "    <tr>\n",
       "      <th>CCGT (Combined Cycle Gas Turbine);Energy Storage System</th>\n",
       "      <td>5714.000</td>\n",
       "      <td>0.0</td>\n",
       "      <td>0.000</td>\n",
       "      <td>0.00</td>\n",
       "      <td>5714.000</td>\n",
       "    </tr>\n",
       "    <tr>\n",
       "      <th>CCGT (Combined Cycle Gas Turbine);Energy Storage System;OCGT (Open Cycle Gas Turbine)</th>\n",
       "      <td>7600.000</td>\n",
       "      <td>0.0</td>\n",
       "      <td>0.000</td>\n",
       "      <td>0.00</td>\n",
       "      <td>7600.000</td>\n",
       "    </tr>\n",
       "    <tr>\n",
       "      <th>CCGT (Combined Cycle Gas Turbine);Reactive Compensation</th>\n",
       "      <td>1517.000</td>\n",
       "      <td>0.0</td>\n",
       "      <td>0.000</td>\n",
       "      <td>0.00</td>\n",
       "      <td>1517.000</td>\n",
       "    </tr>\n",
       "    <tr>\n",
       "      <th>CHP (Combined Heat and Power)</th>\n",
       "      <td>734.040</td>\n",
       "      <td>0.0</td>\n",
       "      <td>0.000</td>\n",
       "      <td>120.00</td>\n",
       "      <td>854.040</td>\n",
       "    </tr>\n",
       "    <tr>\n",
       "      <th>CHP (Combined Heat and Power);Energy Storage System</th>\n",
       "      <td>1268.000</td>\n",
       "      <td>0.0</td>\n",
       "      <td>0.000</td>\n",
       "      <td>0.00</td>\n",
       "      <td>1268.000</td>\n",
       "    </tr>\n",
       "    <tr>\n",
       "      <th>Coal</th>\n",
       "      <td>2051.000</td>\n",
       "      <td>0.0</td>\n",
       "      <td>0.000</td>\n",
       "      <td>0.00</td>\n",
       "      <td>2051.000</td>\n",
       "    </tr>\n",
       "    <tr>\n",
       "      <th>Demand;Energy Storage System</th>\n",
       "      <td>100.000</td>\n",
       "      <td>0.0</td>\n",
       "      <td>847.900</td>\n",
       "      <td>1051.00</td>\n",
       "      <td>1998.900</td>\n",
       "    </tr>\n",
       "    <tr>\n",
       "      <th>Demand;Energy Storage System;PV Array (Photo Voltaic/solar)</th>\n",
       "      <td>3132.400</td>\n",
       "      <td>0.0</td>\n",
       "      <td>0.000</td>\n",
       "      <td>0.00</td>\n",
       "      <td>3132.400</td>\n",
       "    </tr>\n",
       "    <tr>\n",
       "      <th>Demand;Energy Storage System;PV Array (Photo Voltaic/solar);Reactive Compensation</th>\n",
       "      <td>10927.000</td>\n",
       "      <td>0.0</td>\n",
       "      <td>0.000</td>\n",
       "      <td>150.00</td>\n",
       "      <td>11077.000</td>\n",
       "    </tr>\n",
       "    <tr>\n",
       "      <th>Demand;Energy Storage System;Reactive Compensation</th>\n",
       "      <td>0.000</td>\n",
       "      <td>0.0</td>\n",
       "      <td>0.000</td>\n",
       "      <td>200.00</td>\n",
       "      <td>200.000</td>\n",
       "    </tr>\n",
       "    <tr>\n",
       "      <th>Demand;PV Array (Photo Voltaic/solar)</th>\n",
       "      <td>4000.000</td>\n",
       "      <td>0.0</td>\n",
       "      <td>20.000</td>\n",
       "      <td>0.00</td>\n",
       "      <td>4020.000</td>\n",
       "    </tr>\n",
       "    <tr>\n",
       "      <th>Demand;PV Array (Photo Voltaic/solar);Waste</th>\n",
       "      <td>2021.000</td>\n",
       "      <td>0.0</td>\n",
       "      <td>0.000</td>\n",
       "      <td>0.00</td>\n",
       "      <td>2021.000</td>\n",
       "    </tr>\n",
       "    <tr>\n",
       "      <th>Demand;Wind Offshore</th>\n",
       "      <td>1500.000</td>\n",
       "      <td>0.0</td>\n",
       "      <td>300.000</td>\n",
       "      <td>0.00</td>\n",
       "      <td>1800.000</td>\n",
       "    </tr>\n",
       "    <tr>\n",
       "      <th>Demand;Wind Onshore</th>\n",
       "      <td>0.000</td>\n",
       "      <td>0.0</td>\n",
       "      <td>112.200</td>\n",
       "      <td>0.00</td>\n",
       "      <td>112.200</td>\n",
       "    </tr>\n",
       "    <tr>\n",
       "      <th>Energy Storage System</th>\n",
       "      <td>86221.795</td>\n",
       "      <td>0.0</td>\n",
       "      <td>17120.660</td>\n",
       "      <td>31201.74</td>\n",
       "      <td>134544.195</td>\n",
       "    </tr>\n",
       "    <tr>\n",
       "      <th>Energy Storage System;Gas Reciprocating</th>\n",
       "      <td>1094.000</td>\n",
       "      <td>0.0</td>\n",
       "      <td>0.000</td>\n",
       "      <td>0.00</td>\n",
       "      <td>1094.000</td>\n",
       "    </tr>\n",
       "    <tr>\n",
       "      <th>Energy Storage System;Hydro;Nuclear;PV Array (Photo Voltaic/solar);Wind Onshore</th>\n",
       "      <td>1000.000</td>\n",
       "      <td>0.0</td>\n",
       "      <td>0.000</td>\n",
       "      <td>0.00</td>\n",
       "      <td>1000.000</td>\n",
       "    </tr>\n",
       "    <tr>\n",
       "      <th>Energy Storage System;Nuclear;PV Array (Photo Voltaic/solar);Reactive Compensation;Wind Onshore</th>\n",
       "      <td>3000.000</td>\n",
       "      <td>0.0</td>\n",
       "      <td>0.000</td>\n",
       "      <td>0.00</td>\n",
       "      <td>3000.000</td>\n",
       "    </tr>\n",
       "    <tr>\n",
       "      <th>Energy Storage System;Nuclear;PV Array (Photo Voltaic/solar);Wind Onshore</th>\n",
       "      <td>4000.000</td>\n",
       "      <td>0.0</td>\n",
       "      <td>0.000</td>\n",
       "      <td>0.00</td>\n",
       "      <td>4000.000</td>\n",
       "    </tr>\n",
       "    <tr>\n",
       "      <th>Energy Storage System;OCGT (Open Cycle Gas Turbine)</th>\n",
       "      <td>6714.980</td>\n",
       "      <td>0.0</td>\n",
       "      <td>0.000</td>\n",
       "      <td>0.00</td>\n",
       "      <td>6714.980</td>\n",
       "    </tr>\n",
       "    <tr>\n",
       "      <th>Energy Storage System;PV Array (Photo Voltaic/solar)</th>\n",
       "      <td>143319.675</td>\n",
       "      <td>0.0</td>\n",
       "      <td>4951.277</td>\n",
       "      <td>5568.90</td>\n",
       "      <td>153839.852</td>\n",
       "    </tr>\n",
       "    <tr>\n",
       "      <th>Energy Storage System;PV Array (Photo Voltaic/solar);Reactive Compensation</th>\n",
       "      <td>2325.000</td>\n",
       "      <td>0.0</td>\n",
       "      <td>0.000</td>\n",
       "      <td>0.00</td>\n",
       "      <td>2325.000</td>\n",
       "    </tr>\n",
       "    <tr>\n",
       "      <th>Energy Storage System;PV Array (Photo Voltaic/solar);Reactive Compensation;Wind Onshore</th>\n",
       "      <td>1000.000</td>\n",
       "      <td>0.0</td>\n",
       "      <td>0.000</td>\n",
       "      <td>0.00</td>\n",
       "      <td>1000.000</td>\n",
       "    </tr>\n",
       "    <tr>\n",
       "      <th>Energy Storage System;PV Array (Photo Voltaic/solar);Wind Offshore</th>\n",
       "      <td>2500.000</td>\n",
       "      <td>0.0</td>\n",
       "      <td>0.000</td>\n",
       "      <td>0.00</td>\n",
       "      <td>2500.000</td>\n",
       "    </tr>\n",
       "    <tr>\n",
       "      <th>Energy Storage System;PV Array (Photo Voltaic/solar);Wind Onshore</th>\n",
       "      <td>7424.000</td>\n",
       "      <td>0.0</td>\n",
       "      <td>50.000</td>\n",
       "      <td>1663.80</td>\n",
       "      <td>9137.800</td>\n",
       "    </tr>\n",
       "    <tr>\n",
       "      <th>Energy Storage System;Reactive Compensation</th>\n",
       "      <td>1848.700</td>\n",
       "      <td>0.0</td>\n",
       "      <td>96.000</td>\n",
       "      <td>1000.00</td>\n",
       "      <td>2944.700</td>\n",
       "    </tr>\n",
       "    <tr>\n",
       "      <th>Energy Storage System;Wind Offshore</th>\n",
       "      <td>7340.000</td>\n",
       "      <td>0.0</td>\n",
       "      <td>0.000</td>\n",
       "      <td>0.00</td>\n",
       "      <td>7340.000</td>\n",
       "    </tr>\n",
       "    <tr>\n",
       "      <th>Energy Storage System;Wind Onshore</th>\n",
       "      <td>700.000</td>\n",
       "      <td>0.0</td>\n",
       "      <td>2852.700</td>\n",
       "      <td>2395.90</td>\n",
       "      <td>5948.600</td>\n",
       "    </tr>\n",
       "    <tr>\n",
       "      <th>Gas Reciprocating</th>\n",
       "      <td>661.780</td>\n",
       "      <td>0.0</td>\n",
       "      <td>0.000</td>\n",
       "      <td>0.00</td>\n",
       "      <td>661.780</td>\n",
       "    </tr>\n",
       "    <tr>\n",
       "      <th>Hydro</th>\n",
       "      <td>129.000</td>\n",
       "      <td>0.0</td>\n",
       "      <td>872.400</td>\n",
       "      <td>0.00</td>\n",
       "      <td>1001.400</td>\n",
       "    </tr>\n",
       "    <tr>\n",
       "      <th>Nuclear</th>\n",
       "      <td>16821.000</td>\n",
       "      <td>0.0</td>\n",
       "      <td>0.000</td>\n",
       "      <td>2270.00</td>\n",
       "      <td>19091.000</td>\n",
       "    </tr>\n",
       "    <tr>\n",
       "      <th>OCGT (Open Cycle Gas Turbine)</th>\n",
       "      <td>2847.900</td>\n",
       "      <td>0.0</td>\n",
       "      <td>0.000</td>\n",
       "      <td>0.00</td>\n",
       "      <td>2847.900</td>\n",
       "    </tr>\n",
       "    <tr>\n",
       "      <th>Oil &amp; AGT (Advanced Gas Turbine)</th>\n",
       "      <td>61.500</td>\n",
       "      <td>0.0</td>\n",
       "      <td>0.000</td>\n",
       "      <td>0.00</td>\n",
       "      <td>61.500</td>\n",
       "    </tr>\n",
       "    <tr>\n",
       "      <th>PV Array (Photo Voltaic/solar)</th>\n",
       "      <td>6672.185</td>\n",
       "      <td>0.0</td>\n",
       "      <td>142.000</td>\n",
       "      <td>590.70</td>\n",
       "      <td>7404.885</td>\n",
       "    </tr>\n",
       "    <tr>\n",
       "      <th>PV Array (Photo Voltaic/solar);Wind Onshore</th>\n",
       "      <td>180.000</td>\n",
       "      <td>0.0</td>\n",
       "      <td>0.000</td>\n",
       "      <td>0.00</td>\n",
       "      <td>180.000</td>\n",
       "    </tr>\n",
       "    <tr>\n",
       "      <th>Pump Storage</th>\n",
       "      <td>2004.000</td>\n",
       "      <td>0.0</td>\n",
       "      <td>8953.000</td>\n",
       "      <td>1730.00</td>\n",
       "      <td>12687.000</td>\n",
       "    </tr>\n",
       "    <tr>\n",
       "      <th>Reactive Compensation</th>\n",
       "      <td>21.000</td>\n",
       "      <td>0.0</td>\n",
       "      <td>0.000</td>\n",
       "      <td>0.00</td>\n",
       "      <td>21.000</td>\n",
       "    </tr>\n",
       "    <tr>\n",
       "      <th>Thermal</th>\n",
       "      <td>299.130</td>\n",
       "      <td>0.0</td>\n",
       "      <td>0.000</td>\n",
       "      <td>0.00</td>\n",
       "      <td>299.130</td>\n",
       "    </tr>\n",
       "    <tr>\n",
       "      <th>Tidal</th>\n",
       "      <td>590.000</td>\n",
       "      <td>0.0</td>\n",
       "      <td>777.000</td>\n",
       "      <td>0.00</td>\n",
       "      <td>1367.000</td>\n",
       "    </tr>\n",
       "    <tr>\n",
       "      <th>Waste</th>\n",
       "      <td>132.900</td>\n",
       "      <td>0.0</td>\n",
       "      <td>40.000</td>\n",
       "      <td>0.00</td>\n",
       "      <td>172.900</td>\n",
       "    </tr>\n",
       "    <tr>\n",
       "      <th>Wind Offshore</th>\n",
       "      <td>81271.250</td>\n",
       "      <td>4338.4</td>\n",
       "      <td>30061.100</td>\n",
       "      <td>11606.00</td>\n",
       "      <td>127276.750</td>\n",
       "    </tr>\n",
       "    <tr>\n",
       "      <th>Wind Onshore</th>\n",
       "      <td>4311.100</td>\n",
       "      <td>0.0</td>\n",
       "      <td>11036.350</td>\n",
       "      <td>13603.12</td>\n",
       "      <td>28950.570</td>\n",
       "    </tr>\n",
       "    <tr>\n",
       "      <th>Total</th>\n",
       "      <td>486966.335</td>\n",
       "      <td>4338.4</td>\n",
       "      <td>80322.587</td>\n",
       "      <td>73226.16</td>\n",
       "      <td>644853.482</td>\n",
       "    </tr>\n",
       "  </tbody>\n",
       "</table>\n",
       "</div>"
      ],
      "text/plain": [
       "HOST TO                                                   NGET    OFTO  \\\n",
       "Plant Type                                                               \n",
       "Biomass                                               3083.000     0.0   \n",
       "CCGT (Combined Cycle Gas Turbine)                    34822.000     0.0   \n",
       "CCGT (Combined Cycle Gas Turbine);Demand              2406.000     0.0   \n",
       "CCGT (Combined Cycle Gas Turbine);Demand;Energy...   21600.000     0.0   \n",
       "CCGT (Combined Cycle Gas Turbine);Energy Storag...    5714.000     0.0   \n",
       "CCGT (Combined Cycle Gas Turbine);Energy Storag...    7600.000     0.0   \n",
       "CCGT (Combined Cycle Gas Turbine);Reactive Comp...    1517.000     0.0   \n",
       "CHP (Combined Heat and Power)                          734.040     0.0   \n",
       "CHP (Combined Heat and Power);Energy Storage Sy...    1268.000     0.0   \n",
       "Coal                                                  2051.000     0.0   \n",
       "Demand;Energy Storage System                           100.000     0.0   \n",
       "Demand;Energy Storage System;PV Array (Photo Vo...    3132.400     0.0   \n",
       "Demand;Energy Storage System;PV Array (Photo Vo...   10927.000     0.0   \n",
       "Demand;Energy Storage System;Reactive Compensation       0.000     0.0   \n",
       "Demand;PV Array (Photo Voltaic/solar)                 4000.000     0.0   \n",
       "Demand;PV Array (Photo Voltaic/solar);Waste           2021.000     0.0   \n",
       "Demand;Wind Offshore                                  1500.000     0.0   \n",
       "Demand;Wind Onshore                                      0.000     0.0   \n",
       "Energy Storage System                                86221.795     0.0   \n",
       "Energy Storage System;Gas Reciprocating               1094.000     0.0   \n",
       "Energy Storage System;Hydro;Nuclear;PV Array (P...    1000.000     0.0   \n",
       "Energy Storage System;Nuclear;PV Array (Photo V...    3000.000     0.0   \n",
       "Energy Storage System;Nuclear;PV Array (Photo V...    4000.000     0.0   \n",
       "Energy Storage System;OCGT (Open Cycle Gas Turb...    6714.980     0.0   \n",
       "Energy Storage System;PV Array (Photo Voltaic/s...  143319.675     0.0   \n",
       "Energy Storage System;PV Array (Photo Voltaic/s...    2325.000     0.0   \n",
       "Energy Storage System;PV Array (Photo Voltaic/s...    1000.000     0.0   \n",
       "Energy Storage System;PV Array (Photo Voltaic/s...    2500.000     0.0   \n",
       "Energy Storage System;PV Array (Photo Voltaic/s...    7424.000     0.0   \n",
       "Energy Storage System;Reactive Compensation           1848.700     0.0   \n",
       "Energy Storage System;Wind Offshore                   7340.000     0.0   \n",
       "Energy Storage System;Wind Onshore                     700.000     0.0   \n",
       "Gas Reciprocating                                      661.780     0.0   \n",
       "Hydro                                                  129.000     0.0   \n",
       "Nuclear                                              16821.000     0.0   \n",
       "OCGT (Open Cycle Gas Turbine)                         2847.900     0.0   \n",
       "Oil & AGT (Advanced Gas Turbine)                        61.500     0.0   \n",
       "PV Array (Photo Voltaic/solar)                        6672.185     0.0   \n",
       "PV Array (Photo Voltaic/solar);Wind Onshore            180.000     0.0   \n",
       "Pump Storage                                          2004.000     0.0   \n",
       "Reactive Compensation                                   21.000     0.0   \n",
       "Thermal                                                299.130     0.0   \n",
       "Tidal                                                  590.000     0.0   \n",
       "Waste                                                  132.900     0.0   \n",
       "Wind Offshore                                        81271.250  4338.4   \n",
       "Wind Onshore                                          4311.100     0.0   \n",
       "Total                                               486966.335  4338.4   \n",
       "\n",
       "HOST TO                                                  SHET       SPT  \\\n",
       "Plant Type                                                                \n",
       "Biomass                                                 0.000     55.00   \n",
       "CCGT (Combined Cycle Gas Turbine)                    2090.000     20.00   \n",
       "CCGT (Combined Cycle Gas Turbine);Demand                0.000      0.00   \n",
       "CCGT (Combined Cycle Gas Turbine);Demand;Energy...      0.000      0.00   \n",
       "CCGT (Combined Cycle Gas Turbine);Energy Storag...      0.000      0.00   \n",
       "CCGT (Combined Cycle Gas Turbine);Energy Storag...      0.000      0.00   \n",
       "CCGT (Combined Cycle Gas Turbine);Reactive Comp...      0.000      0.00   \n",
       "CHP (Combined Heat and Power)                           0.000    120.00   \n",
       "CHP (Combined Heat and Power);Energy Storage Sy...      0.000      0.00   \n",
       "Coal                                                    0.000      0.00   \n",
       "Demand;Energy Storage System                          847.900   1051.00   \n",
       "Demand;Energy Storage System;PV Array (Photo Vo...      0.000      0.00   \n",
       "Demand;Energy Storage System;PV Array (Photo Vo...      0.000    150.00   \n",
       "Demand;Energy Storage System;Reactive Compensation      0.000    200.00   \n",
       "Demand;PV Array (Photo Voltaic/solar)                  20.000      0.00   \n",
       "Demand;PV Array (Photo Voltaic/solar);Waste             0.000      0.00   \n",
       "Demand;Wind Offshore                                  300.000      0.00   \n",
       "Demand;Wind Onshore                                   112.200      0.00   \n",
       "Energy Storage System                               17120.660  31201.74   \n",
       "Energy Storage System;Gas Reciprocating                 0.000      0.00   \n",
       "Energy Storage System;Hydro;Nuclear;PV Array (P...      0.000      0.00   \n",
       "Energy Storage System;Nuclear;PV Array (Photo V...      0.000      0.00   \n",
       "Energy Storage System;Nuclear;PV Array (Photo V...      0.000      0.00   \n",
       "Energy Storage System;OCGT (Open Cycle Gas Turb...      0.000      0.00   \n",
       "Energy Storage System;PV Array (Photo Voltaic/s...   4951.277   5568.90   \n",
       "Energy Storage System;PV Array (Photo Voltaic/s...      0.000      0.00   \n",
       "Energy Storage System;PV Array (Photo Voltaic/s...      0.000      0.00   \n",
       "Energy Storage System;PV Array (Photo Voltaic/s...      0.000      0.00   \n",
       "Energy Storage System;PV Array (Photo Voltaic/s...     50.000   1663.80   \n",
       "Energy Storage System;Reactive Compensation            96.000   1000.00   \n",
       "Energy Storage System;Wind Offshore                     0.000      0.00   \n",
       "Energy Storage System;Wind Onshore                   2852.700   2395.90   \n",
       "Gas Reciprocating                                       0.000      0.00   \n",
       "Hydro                                                 872.400      0.00   \n",
       "Nuclear                                                 0.000   2270.00   \n",
       "OCGT (Open Cycle Gas Turbine)                           0.000      0.00   \n",
       "Oil & AGT (Advanced Gas Turbine)                        0.000      0.00   \n",
       "PV Array (Photo Voltaic/solar)                        142.000    590.70   \n",
       "PV Array (Photo Voltaic/solar);Wind Onshore             0.000      0.00   \n",
       "Pump Storage                                         8953.000   1730.00   \n",
       "Reactive Compensation                                   0.000      0.00   \n",
       "Thermal                                                 0.000      0.00   \n",
       "Tidal                                                 777.000      0.00   \n",
       "Waste                                                  40.000      0.00   \n",
       "Wind Offshore                                       30061.100  11606.00   \n",
       "Wind Onshore                                        11036.350  13603.12   \n",
       "Total                                               80322.587  73226.16   \n",
       "\n",
       "HOST TO                                                  Total  \n",
       "Plant Type                                                      \n",
       "Biomass                                               3138.000  \n",
       "CCGT (Combined Cycle Gas Turbine)                    36932.000  \n",
       "CCGT (Combined Cycle Gas Turbine);Demand              2406.000  \n",
       "CCGT (Combined Cycle Gas Turbine);Demand;Energy...   21600.000  \n",
       "CCGT (Combined Cycle Gas Turbine);Energy Storag...    5714.000  \n",
       "CCGT (Combined Cycle Gas Turbine);Energy Storag...    7600.000  \n",
       "CCGT (Combined Cycle Gas Turbine);Reactive Comp...    1517.000  \n",
       "CHP (Combined Heat and Power)                          854.040  \n",
       "CHP (Combined Heat and Power);Energy Storage Sy...    1268.000  \n",
       "Coal                                                  2051.000  \n",
       "Demand;Energy Storage System                          1998.900  \n",
       "Demand;Energy Storage System;PV Array (Photo Vo...    3132.400  \n",
       "Demand;Energy Storage System;PV Array (Photo Vo...   11077.000  \n",
       "Demand;Energy Storage System;Reactive Compensation     200.000  \n",
       "Demand;PV Array (Photo Voltaic/solar)                 4020.000  \n",
       "Demand;PV Array (Photo Voltaic/solar);Waste           2021.000  \n",
       "Demand;Wind Offshore                                  1800.000  \n",
       "Demand;Wind Onshore                                    112.200  \n",
       "Energy Storage System                               134544.195  \n",
       "Energy Storage System;Gas Reciprocating               1094.000  \n",
       "Energy Storage System;Hydro;Nuclear;PV Array (P...    1000.000  \n",
       "Energy Storage System;Nuclear;PV Array (Photo V...    3000.000  \n",
       "Energy Storage System;Nuclear;PV Array (Photo V...    4000.000  \n",
       "Energy Storage System;OCGT (Open Cycle Gas Turb...    6714.980  \n",
       "Energy Storage System;PV Array (Photo Voltaic/s...  153839.852  \n",
       "Energy Storage System;PV Array (Photo Voltaic/s...    2325.000  \n",
       "Energy Storage System;PV Array (Photo Voltaic/s...    1000.000  \n",
       "Energy Storage System;PV Array (Photo Voltaic/s...    2500.000  \n",
       "Energy Storage System;PV Array (Photo Voltaic/s...    9137.800  \n",
       "Energy Storage System;Reactive Compensation           2944.700  \n",
       "Energy Storage System;Wind Offshore                   7340.000  \n",
       "Energy Storage System;Wind Onshore                    5948.600  \n",
       "Gas Reciprocating                                      661.780  \n",
       "Hydro                                                 1001.400  \n",
       "Nuclear                                              19091.000  \n",
       "OCGT (Open Cycle Gas Turbine)                         2847.900  \n",
       "Oil & AGT (Advanced Gas Turbine)                        61.500  \n",
       "PV Array (Photo Voltaic/solar)                        7404.885  \n",
       "PV Array (Photo Voltaic/solar);Wind Onshore            180.000  \n",
       "Pump Storage                                         12687.000  \n",
       "Reactive Compensation                                   21.000  \n",
       "Thermal                                                299.130  \n",
       "Tidal                                                 1367.000  \n",
       "Waste                                                  172.900  \n",
       "Wind Offshore                                       127276.750  \n",
       "Wind Onshore                                         28950.570  \n",
       "Total                                               644853.482  "
      ]
     },
     "execution_count": 522,
     "metadata": {},
     "output_type": "execute_result"
    }
   ],
   "source": [
    "capacity_by_TO_plant = data.pivot_table(\n",
    "    index=\"Plant Type\",\n",
    "    columns=\"HOST TO\",\n",
    "    values=\"Connection Cap (MW)\",\n",
    "    fill_value=0,\n",
    "    aggfunc=\"sum\",\n",
    "    margins=True,\n",
    "    margins_name=\"Total\",\n",
    ")\n",
    "capacity_by_TO_plant"
   ]
  },
  {
   "cell_type": "markdown",
   "metadata": {},
   "source": [
    "> **Analysis**\n",
    "\n",
    "Analysis of Energy Generation Capacity by Plant Type\n",
    "This analysis examines the connection capacity (in MW) of various energy plant types across different host connections, summarized from the provided pivot table. The data offers insights into the distribution of energy generation capabilities among different technologies.\n",
    "\n",
    "**Overview of the Data**\n",
    "Total Connection Capacity: The overall capacity across all plant types is approximately 644,853.48 MW (or 644.85 GW), indicating a significant generation capacity within the network.\n",
    "\n",
    "Key Host Connections: The data, as analysed previously, is divided into four primary host connections:\n",
    " + NGET (National Grid Electricity Transmission)\n",
    " + OFTO (Offshore Transmission Owner)\n",
    " + SHET (Scottish Hydro Electric Transmission)\n",
    " + SPT (Scottish Power Transmission)\n",
    "\n",
    " <br><br>\n",
    "<u>Key Findings</u>\n",
    "\n",
    "\n",
    " - __Dominance of CCGT and Energy Storage Systems__: CCGT (Combined Cycle Gas Turbine) plants, including various configurations, account for a total of approximately 36.93GW connected primarily to NGET.\n",
    "Energy Storage Systems dominate with an impressive total of 134.54GW, showcasing their critical role in stabilizing the grid and integrating renewable energy sources.\n",
    " - __Wind Offshore Leading Renewable Generation__: Wind Offshore plants show a substantial capacity of 127.28GW, indicating their pivotal role in the current energy mix. They are well-represented across all connections, especially NGET and SHET. Wind Onshore contributes a capacity of 28.95 GW, reinforcing the importance of both offshore and onshore wind in the renewable sector.\n",
    " - __Limited Capacity from Conventional Sources__: Conventional sources like Coal, Oil & AGT, and Gas Reciprocating show relatively low contributions (e.g., 2.05GW, 61.5 MW, and 661.78 MW respectively). This trend reflects a broader shift towards cleaner energy sources. Nuclear Power provides a significant capacity of 19.09 GW, still an essential component of the low-carbon energy landscape.\n",
    "\n",
    "<br></br>\n",
    "<u>Diversity in Energy Storage Solutions:</u>\n",
    "\n",
    "**Energy Storage Systems** not only enhance grid reliability but also support various generation types, indicated by their multiple configurations (e.g., Energy Storage with PV, Wind).\n",
    "The substantial combined capacity of Energy Storage Systems signifies their growing importance in enabling the transition to renewable energy.\n",
    "\n",
    " - High Contributions from PV Arrays: PV Array (Photo Voltaic/Solar) plants account for 7.40 GW, with various configurations also contributing to overall capacity, underscoring solar power's expanding role.\n",
    " - Reactive Compensation: The data includes various configurations for reactive compensation, which, while individually small (e.g., 21 MW), cumulatively support grid stability.\n",
    "\n",
    "\n",
    "**Summary**\n",
    " - The analysis of connection capacities reveals a clear transition towards renewable energy sources, particularly wind and energy storage technologies. The dominance of CCGT and Energy Storage Systems illustrates the critical roles they play in ensuring a reliable and flexible energy grid. As the energy landscape evolves, these insights could guide future investments and policies aimed at optimizing energy production and reducing carbon emissions."
   ]
  },
  {
   "cell_type": "code",
   "execution_count": 523,
   "metadata": {},
   "outputs": [
    {
     "data": {
      "text/html": [
       "<div>\n",
       "<style scoped>\n",
       "    .dataframe tbody tr th:only-of-type {\n",
       "        vertical-align: middle;\n",
       "    }\n",
       "\n",
       "    .dataframe tbody tr th {\n",
       "        vertical-align: top;\n",
       "    }\n",
       "\n",
       "    .dataframe thead th {\n",
       "        text-align: right;\n",
       "    }\n",
       "</style>\n",
       "<table border=\"1\" class=\"dataframe\">\n",
       "  <thead>\n",
       "    <tr style=\"text-align: right;\">\n",
       "      <th></th>\n",
       "      <th>Plant Type</th>\n",
       "      <th>HOST TO</th>\n",
       "      <th>Connection Cap (MW)</th>\n",
       "    </tr>\n",
       "  </thead>\n",
       "  <tbody>\n",
       "    <tr>\n",
       "      <th>0</th>\n",
       "      <td>Biomass</td>\n",
       "      <td>NGET</td>\n",
       "      <td>3083.00</td>\n",
       "    </tr>\n",
       "    <tr>\n",
       "      <th>1</th>\n",
       "      <td>CCGT (Combined Cycle Gas Turbine)</td>\n",
       "      <td>NGET</td>\n",
       "      <td>34822.00</td>\n",
       "    </tr>\n",
       "    <tr>\n",
       "      <th>2</th>\n",
       "      <td>CCGT (Combined Cycle Gas Turbine);Demand</td>\n",
       "      <td>NGET</td>\n",
       "      <td>2406.00</td>\n",
       "    </tr>\n",
       "    <tr>\n",
       "      <th>3</th>\n",
       "      <td>CCGT (Combined Cycle Gas Turbine);Demand;Energ...</td>\n",
       "      <td>NGET</td>\n",
       "      <td>21600.00</td>\n",
       "    </tr>\n",
       "    <tr>\n",
       "      <th>4</th>\n",
       "      <td>CCGT (Combined Cycle Gas Turbine);Energy Stora...</td>\n",
       "      <td>NGET</td>\n",
       "      <td>5714.00</td>\n",
       "    </tr>\n",
       "    <tr>\n",
       "      <th>...</th>\n",
       "      <td>...</td>\n",
       "      <td>...</td>\n",
       "      <td>...</td>\n",
       "    </tr>\n",
       "    <tr>\n",
       "      <th>183</th>\n",
       "      <td>Tidal</td>\n",
       "      <td>SPT</td>\n",
       "      <td>0.00</td>\n",
       "    </tr>\n",
       "    <tr>\n",
       "      <th>184</th>\n",
       "      <td>Waste</td>\n",
       "      <td>SPT</td>\n",
       "      <td>0.00</td>\n",
       "    </tr>\n",
       "    <tr>\n",
       "      <th>185</th>\n",
       "      <td>Wind Offshore</td>\n",
       "      <td>SPT</td>\n",
       "      <td>11606.00</td>\n",
       "    </tr>\n",
       "    <tr>\n",
       "      <th>186</th>\n",
       "      <td>Wind Onshore</td>\n",
       "      <td>SPT</td>\n",
       "      <td>13603.12</td>\n",
       "    </tr>\n",
       "    <tr>\n",
       "      <th>187</th>\n",
       "      <td>Total</td>\n",
       "      <td>SPT</td>\n",
       "      <td>73226.16</td>\n",
       "    </tr>\n",
       "  </tbody>\n",
       "</table>\n",
       "<p>188 rows × 3 columns</p>\n",
       "</div>"
      ],
      "text/plain": [
       "                                            Plant Type HOST TO  \\\n",
       "0                                              Biomass    NGET   \n",
       "1                    CCGT (Combined Cycle Gas Turbine)    NGET   \n",
       "2             CCGT (Combined Cycle Gas Turbine);Demand    NGET   \n",
       "3    CCGT (Combined Cycle Gas Turbine);Demand;Energ...    NGET   \n",
       "4    CCGT (Combined Cycle Gas Turbine);Energy Stora...    NGET   \n",
       "..                                                 ...     ...   \n",
       "183                                              Tidal     SPT   \n",
       "184                                              Waste     SPT   \n",
       "185                                      Wind Offshore     SPT   \n",
       "186                                       Wind Onshore     SPT   \n",
       "187                                              Total     SPT   \n",
       "\n",
       "     Connection Cap (MW)  \n",
       "0                3083.00  \n",
       "1               34822.00  \n",
       "2                2406.00  \n",
       "3               21600.00  \n",
       "4                5714.00  \n",
       "..                   ...  \n",
       "183                 0.00  \n",
       "184                 0.00  \n",
       "185             11606.00  \n",
       "186             13603.12  \n",
       "187             73226.16  \n",
       "\n",
       "[188 rows x 3 columns]"
      ]
     },
     "execution_count": 523,
     "metadata": {},
     "output_type": "execute_result"
    }
   ],
   "source": [
    "unpivot_capacity_by_TO_plant = (\n",
    "    capacity_by_TO_plant.drop(\"Total\", axis=1)\n",
    "    .reset_index()\n",
    "    .melt(id_vars=\"Plant Type\", value_name=\"Connection Cap (MW)\", var_name=\"HOST TO\")\n",
    ")\n",
    "unpivot_capacity_by_TO_plant"
   ]
  },
  {
   "cell_type": "code",
   "execution_count": 524,
   "metadata": {},
   "outputs": [
    {
     "data": {
      "application/vnd.plotly.v1+json": {
       "config": {
        "plotlyServerURL": "https://plot.ly"
       },
       "data": [
        {
         "alignmentgroup": "True",
         "hovertemplate": "HOST TO=NGET<br>Plant Type=%{x}<br>Connection Cap (MW)=%{y}<extra></extra>",
         "legendgroup": "NGET",
         "marker": {
          "color": "#636efa",
          "pattern": {
           "shape": ""
          }
         },
         "name": "NGET",
         "offsetgroup": "NGET",
         "orientation": "v",
         "showlegend": true,
         "textposition": "auto",
         "type": "bar",
         "x": [
          "Biomass",
          "CCGT (Combined Cycle Gas Turbine)",
          "CCGT (Combined Cycle Gas Turbine);Demand",
          "CCGT (Combined Cycle Gas Turbine);Demand;Energy Storage System",
          "CCGT (Combined Cycle Gas Turbine);Energy Storage System",
          "CCGT (Combined Cycle Gas Turbine);Energy Storage System;OCGT (Open Cycle Gas Turbine)",
          "CCGT (Combined Cycle Gas Turbine);Reactive Compensation",
          "CHP (Combined Heat and Power)",
          "CHP (Combined Heat and Power);Energy Storage System",
          "Coal",
          "Demand;Energy Storage System",
          "Demand;Energy Storage System;PV Array (Photo Voltaic/solar)",
          "Demand;Energy Storage System;PV Array (Photo Voltaic/solar);Reactive Compensation",
          "Demand;Energy Storage System;Reactive Compensation",
          "Demand;PV Array (Photo Voltaic/solar)",
          "Demand;PV Array (Photo Voltaic/solar);Waste",
          "Demand;Wind Offshore",
          "Demand;Wind Onshore",
          "Energy Storage System",
          "Energy Storage System;Gas Reciprocating",
          "Energy Storage System;Hydro;Nuclear;PV Array (Photo Voltaic/solar);Wind Onshore",
          "Energy Storage System;Nuclear;PV Array (Photo Voltaic/solar);Reactive Compensation;Wind Onshore",
          "Energy Storage System;Nuclear;PV Array (Photo Voltaic/solar);Wind Onshore",
          "Energy Storage System;OCGT (Open Cycle Gas Turbine)",
          "Energy Storage System;PV Array (Photo Voltaic/solar)",
          "Energy Storage System;PV Array (Photo Voltaic/solar);Reactive Compensation",
          "Energy Storage System;PV Array (Photo Voltaic/solar);Reactive Compensation;Wind Onshore",
          "Energy Storage System;PV Array (Photo Voltaic/solar);Wind Offshore",
          "Energy Storage System;PV Array (Photo Voltaic/solar);Wind Onshore",
          "Energy Storage System;Reactive Compensation",
          "Energy Storage System;Wind Offshore",
          "Energy Storage System;Wind Onshore",
          "Gas Reciprocating",
          "Hydro",
          "Nuclear",
          "OCGT (Open Cycle Gas Turbine)",
          "Oil & AGT (Advanced Gas Turbine)",
          "PV Array (Photo Voltaic/solar)",
          "PV Array (Photo Voltaic/solar);Wind Onshore",
          "Pump Storage",
          "Reactive Compensation",
          "Thermal",
          "Tidal",
          "Waste",
          "Wind Offshore",
          "Wind Onshore",
          "Total"
         ],
         "xaxis": "x",
         "y": [
          3083,
          34822,
          2406,
          21600,
          5714,
          7600,
          1517,
          734.04,
          1268,
          2051,
          100,
          3132.4,
          10927,
          0,
          4000,
          2021,
          1500,
          0,
          86221.795,
          1094,
          1000,
          3000,
          4000,
          6714.98,
          143319.675,
          2325,
          1000,
          2500,
          7424,
          1848.7,
          7340,
          700,
          661.78,
          129,
          16821,
          2847.9,
          61.5,
          6672.1849999999995,
          180,
          2004,
          21,
          299.13,
          590,
          132.9,
          81271.25,
          4311.1,
          486966.335
         ],
         "yaxis": "y"
        },
        {
         "alignmentgroup": "True",
         "hovertemplate": "HOST TO=OFTO<br>Plant Type=%{x}<br>Connection Cap (MW)=%{y}<extra></extra>",
         "legendgroup": "OFTO",
         "marker": {
          "color": "#EF553B",
          "pattern": {
           "shape": ""
          }
         },
         "name": "OFTO",
         "offsetgroup": "OFTO",
         "orientation": "v",
         "showlegend": true,
         "textposition": "auto",
         "type": "bar",
         "x": [
          "Biomass",
          "CCGT (Combined Cycle Gas Turbine)",
          "CCGT (Combined Cycle Gas Turbine);Demand",
          "CCGT (Combined Cycle Gas Turbine);Demand;Energy Storage System",
          "CCGT (Combined Cycle Gas Turbine);Energy Storage System",
          "CCGT (Combined Cycle Gas Turbine);Energy Storage System;OCGT (Open Cycle Gas Turbine)",
          "CCGT (Combined Cycle Gas Turbine);Reactive Compensation",
          "CHP (Combined Heat and Power)",
          "CHP (Combined Heat and Power);Energy Storage System",
          "Coal",
          "Demand;Energy Storage System",
          "Demand;Energy Storage System;PV Array (Photo Voltaic/solar)",
          "Demand;Energy Storage System;PV Array (Photo Voltaic/solar);Reactive Compensation",
          "Demand;Energy Storage System;Reactive Compensation",
          "Demand;PV Array (Photo Voltaic/solar)",
          "Demand;PV Array (Photo Voltaic/solar);Waste",
          "Demand;Wind Offshore",
          "Demand;Wind Onshore",
          "Energy Storage System",
          "Energy Storage System;Gas Reciprocating",
          "Energy Storage System;Hydro;Nuclear;PV Array (Photo Voltaic/solar);Wind Onshore",
          "Energy Storage System;Nuclear;PV Array (Photo Voltaic/solar);Reactive Compensation;Wind Onshore",
          "Energy Storage System;Nuclear;PV Array (Photo Voltaic/solar);Wind Onshore",
          "Energy Storage System;OCGT (Open Cycle Gas Turbine)",
          "Energy Storage System;PV Array (Photo Voltaic/solar)",
          "Energy Storage System;PV Array (Photo Voltaic/solar);Reactive Compensation",
          "Energy Storage System;PV Array (Photo Voltaic/solar);Reactive Compensation;Wind Onshore",
          "Energy Storage System;PV Array (Photo Voltaic/solar);Wind Offshore",
          "Energy Storage System;PV Array (Photo Voltaic/solar);Wind Onshore",
          "Energy Storage System;Reactive Compensation",
          "Energy Storage System;Wind Offshore",
          "Energy Storage System;Wind Onshore",
          "Gas Reciprocating",
          "Hydro",
          "Nuclear",
          "OCGT (Open Cycle Gas Turbine)",
          "Oil & AGT (Advanced Gas Turbine)",
          "PV Array (Photo Voltaic/solar)",
          "PV Array (Photo Voltaic/solar);Wind Onshore",
          "Pump Storage",
          "Reactive Compensation",
          "Thermal",
          "Tidal",
          "Waste",
          "Wind Offshore",
          "Wind Onshore",
          "Total"
         ],
         "xaxis": "x",
         "y": [
          0,
          0,
          0,
          0,
          0,
          0,
          0,
          0,
          0,
          0,
          0,
          0,
          0,
          0,
          0,
          0,
          0,
          0,
          0,
          0,
          0,
          0,
          0,
          0,
          0,
          0,
          0,
          0,
          0,
          0,
          0,
          0,
          0,
          0,
          0,
          0,
          0,
          0,
          0,
          0,
          0,
          0,
          0,
          0,
          4338.4,
          0,
          4338.4
         ],
         "yaxis": "y"
        },
        {
         "alignmentgroup": "True",
         "hovertemplate": "HOST TO=SHET<br>Plant Type=%{x}<br>Connection Cap (MW)=%{y}<extra></extra>",
         "legendgroup": "SHET",
         "marker": {
          "color": "#00cc96",
          "pattern": {
           "shape": ""
          }
         },
         "name": "SHET",
         "offsetgroup": "SHET",
         "orientation": "v",
         "showlegend": true,
         "textposition": "auto",
         "type": "bar",
         "x": [
          "Biomass",
          "CCGT (Combined Cycle Gas Turbine)",
          "CCGT (Combined Cycle Gas Turbine);Demand",
          "CCGT (Combined Cycle Gas Turbine);Demand;Energy Storage System",
          "CCGT (Combined Cycle Gas Turbine);Energy Storage System",
          "CCGT (Combined Cycle Gas Turbine);Energy Storage System;OCGT (Open Cycle Gas Turbine)",
          "CCGT (Combined Cycle Gas Turbine);Reactive Compensation",
          "CHP (Combined Heat and Power)",
          "CHP (Combined Heat and Power);Energy Storage System",
          "Coal",
          "Demand;Energy Storage System",
          "Demand;Energy Storage System;PV Array (Photo Voltaic/solar)",
          "Demand;Energy Storage System;PV Array (Photo Voltaic/solar);Reactive Compensation",
          "Demand;Energy Storage System;Reactive Compensation",
          "Demand;PV Array (Photo Voltaic/solar)",
          "Demand;PV Array (Photo Voltaic/solar);Waste",
          "Demand;Wind Offshore",
          "Demand;Wind Onshore",
          "Energy Storage System",
          "Energy Storage System;Gas Reciprocating",
          "Energy Storage System;Hydro;Nuclear;PV Array (Photo Voltaic/solar);Wind Onshore",
          "Energy Storage System;Nuclear;PV Array (Photo Voltaic/solar);Reactive Compensation;Wind Onshore",
          "Energy Storage System;Nuclear;PV Array (Photo Voltaic/solar);Wind Onshore",
          "Energy Storage System;OCGT (Open Cycle Gas Turbine)",
          "Energy Storage System;PV Array (Photo Voltaic/solar)",
          "Energy Storage System;PV Array (Photo Voltaic/solar);Reactive Compensation",
          "Energy Storage System;PV Array (Photo Voltaic/solar);Reactive Compensation;Wind Onshore",
          "Energy Storage System;PV Array (Photo Voltaic/solar);Wind Offshore",
          "Energy Storage System;PV Array (Photo Voltaic/solar);Wind Onshore",
          "Energy Storage System;Reactive Compensation",
          "Energy Storage System;Wind Offshore",
          "Energy Storage System;Wind Onshore",
          "Gas Reciprocating",
          "Hydro",
          "Nuclear",
          "OCGT (Open Cycle Gas Turbine)",
          "Oil & AGT (Advanced Gas Turbine)",
          "PV Array (Photo Voltaic/solar)",
          "PV Array (Photo Voltaic/solar);Wind Onshore",
          "Pump Storage",
          "Reactive Compensation",
          "Thermal",
          "Tidal",
          "Waste",
          "Wind Offshore",
          "Wind Onshore",
          "Total"
         ],
         "xaxis": "x",
         "y": [
          0,
          2090,
          0,
          0,
          0,
          0,
          0,
          0,
          0,
          0,
          847.9,
          0,
          0,
          0,
          20,
          0,
          300,
          112.2,
          17120.66,
          0,
          0,
          0,
          0,
          0,
          4951.277,
          0,
          0,
          0,
          50,
          96,
          0,
          2852.7,
          0,
          872.4,
          0,
          0,
          0,
          142,
          0,
          8953,
          0,
          0,
          777,
          40,
          30061.1,
          11036.35,
          80322.587
         ],
         "yaxis": "y"
        },
        {
         "alignmentgroup": "True",
         "hovertemplate": "HOST TO=SPT<br>Plant Type=%{x}<br>Connection Cap (MW)=%{y}<extra></extra>",
         "legendgroup": "SPT",
         "marker": {
          "color": "#ab63fa",
          "pattern": {
           "shape": ""
          }
         },
         "name": "SPT",
         "offsetgroup": "SPT",
         "orientation": "v",
         "showlegend": true,
         "textposition": "auto",
         "type": "bar",
         "x": [
          "Biomass",
          "CCGT (Combined Cycle Gas Turbine)",
          "CCGT (Combined Cycle Gas Turbine);Demand",
          "CCGT (Combined Cycle Gas Turbine);Demand;Energy Storage System",
          "CCGT (Combined Cycle Gas Turbine);Energy Storage System",
          "CCGT (Combined Cycle Gas Turbine);Energy Storage System;OCGT (Open Cycle Gas Turbine)",
          "CCGT (Combined Cycle Gas Turbine);Reactive Compensation",
          "CHP (Combined Heat and Power)",
          "CHP (Combined Heat and Power);Energy Storage System",
          "Coal",
          "Demand;Energy Storage System",
          "Demand;Energy Storage System;PV Array (Photo Voltaic/solar)",
          "Demand;Energy Storage System;PV Array (Photo Voltaic/solar);Reactive Compensation",
          "Demand;Energy Storage System;Reactive Compensation",
          "Demand;PV Array (Photo Voltaic/solar)",
          "Demand;PV Array (Photo Voltaic/solar);Waste",
          "Demand;Wind Offshore",
          "Demand;Wind Onshore",
          "Energy Storage System",
          "Energy Storage System;Gas Reciprocating",
          "Energy Storage System;Hydro;Nuclear;PV Array (Photo Voltaic/solar);Wind Onshore",
          "Energy Storage System;Nuclear;PV Array (Photo Voltaic/solar);Reactive Compensation;Wind Onshore",
          "Energy Storage System;Nuclear;PV Array (Photo Voltaic/solar);Wind Onshore",
          "Energy Storage System;OCGT (Open Cycle Gas Turbine)",
          "Energy Storage System;PV Array (Photo Voltaic/solar)",
          "Energy Storage System;PV Array (Photo Voltaic/solar);Reactive Compensation",
          "Energy Storage System;PV Array (Photo Voltaic/solar);Reactive Compensation;Wind Onshore",
          "Energy Storage System;PV Array (Photo Voltaic/solar);Wind Offshore",
          "Energy Storage System;PV Array (Photo Voltaic/solar);Wind Onshore",
          "Energy Storage System;Reactive Compensation",
          "Energy Storage System;Wind Offshore",
          "Energy Storage System;Wind Onshore",
          "Gas Reciprocating",
          "Hydro",
          "Nuclear",
          "OCGT (Open Cycle Gas Turbine)",
          "Oil & AGT (Advanced Gas Turbine)",
          "PV Array (Photo Voltaic/solar)",
          "PV Array (Photo Voltaic/solar);Wind Onshore",
          "Pump Storage",
          "Reactive Compensation",
          "Thermal",
          "Tidal",
          "Waste",
          "Wind Offshore",
          "Wind Onshore",
          "Total"
         ],
         "xaxis": "x",
         "y": [
          55,
          20,
          0,
          0,
          0,
          0,
          0,
          120,
          0,
          0,
          1051,
          0,
          150,
          200,
          0,
          0,
          0,
          0,
          31201.74,
          0,
          0,
          0,
          0,
          0,
          5568.9,
          0,
          0,
          0,
          1663.8,
          1000,
          0,
          2395.9,
          0,
          0,
          2270,
          0,
          0,
          590.7,
          0,
          1730,
          0,
          0,
          0,
          0,
          11606,
          13603.12,
          73226.16
         ],
         "yaxis": "y"
        }
       ],
       "layout": {
        "barmode": "relative",
        "height": 900,
        "legend": {
         "title": {
          "text": "HOST TO"
         },
         "tracegroupgap": 0
        },
        "margin": {
         "t": 60
        },
        "template": {
         "data": {
          "bar": [
           {
            "error_x": {
             "color": "#2a3f5f"
            },
            "error_y": {
             "color": "#2a3f5f"
            },
            "marker": {
             "line": {
              "color": "#E5ECF6",
              "width": 0.5
             },
             "pattern": {
              "fillmode": "overlay",
              "size": 10,
              "solidity": 0.2
             }
            },
            "type": "bar"
           }
          ],
          "barpolar": [
           {
            "marker": {
             "line": {
              "color": "#E5ECF6",
              "width": 0.5
             },
             "pattern": {
              "fillmode": "overlay",
              "size": 10,
              "solidity": 0.2
             }
            },
            "type": "barpolar"
           }
          ],
          "carpet": [
           {
            "aaxis": {
             "endlinecolor": "#2a3f5f",
             "gridcolor": "white",
             "linecolor": "white",
             "minorgridcolor": "white",
             "startlinecolor": "#2a3f5f"
            },
            "baxis": {
             "endlinecolor": "#2a3f5f",
             "gridcolor": "white",
             "linecolor": "white",
             "minorgridcolor": "white",
             "startlinecolor": "#2a3f5f"
            },
            "type": "carpet"
           }
          ],
          "choropleth": [
           {
            "colorbar": {
             "outlinewidth": 0,
             "ticks": ""
            },
            "type": "choropleth"
           }
          ],
          "contour": [
           {
            "colorbar": {
             "outlinewidth": 0,
             "ticks": ""
            },
            "colorscale": [
             [
              0,
              "#0d0887"
             ],
             [
              0.1111111111111111,
              "#46039f"
             ],
             [
              0.2222222222222222,
              "#7201a8"
             ],
             [
              0.3333333333333333,
              "#9c179e"
             ],
             [
              0.4444444444444444,
              "#bd3786"
             ],
             [
              0.5555555555555556,
              "#d8576b"
             ],
             [
              0.6666666666666666,
              "#ed7953"
             ],
             [
              0.7777777777777778,
              "#fb9f3a"
             ],
             [
              0.8888888888888888,
              "#fdca26"
             ],
             [
              1,
              "#f0f921"
             ]
            ],
            "type": "contour"
           }
          ],
          "contourcarpet": [
           {
            "colorbar": {
             "outlinewidth": 0,
             "ticks": ""
            },
            "type": "contourcarpet"
           }
          ],
          "heatmap": [
           {
            "colorbar": {
             "outlinewidth": 0,
             "ticks": ""
            },
            "colorscale": [
             [
              0,
              "#0d0887"
             ],
             [
              0.1111111111111111,
              "#46039f"
             ],
             [
              0.2222222222222222,
              "#7201a8"
             ],
             [
              0.3333333333333333,
              "#9c179e"
             ],
             [
              0.4444444444444444,
              "#bd3786"
             ],
             [
              0.5555555555555556,
              "#d8576b"
             ],
             [
              0.6666666666666666,
              "#ed7953"
             ],
             [
              0.7777777777777778,
              "#fb9f3a"
             ],
             [
              0.8888888888888888,
              "#fdca26"
             ],
             [
              1,
              "#f0f921"
             ]
            ],
            "type": "heatmap"
           }
          ],
          "heatmapgl": [
           {
            "colorbar": {
             "outlinewidth": 0,
             "ticks": ""
            },
            "colorscale": [
             [
              0,
              "#0d0887"
             ],
             [
              0.1111111111111111,
              "#46039f"
             ],
             [
              0.2222222222222222,
              "#7201a8"
             ],
             [
              0.3333333333333333,
              "#9c179e"
             ],
             [
              0.4444444444444444,
              "#bd3786"
             ],
             [
              0.5555555555555556,
              "#d8576b"
             ],
             [
              0.6666666666666666,
              "#ed7953"
             ],
             [
              0.7777777777777778,
              "#fb9f3a"
             ],
             [
              0.8888888888888888,
              "#fdca26"
             ],
             [
              1,
              "#f0f921"
             ]
            ],
            "type": "heatmapgl"
           }
          ],
          "histogram": [
           {
            "marker": {
             "pattern": {
              "fillmode": "overlay",
              "size": 10,
              "solidity": 0.2
             }
            },
            "type": "histogram"
           }
          ],
          "histogram2d": [
           {
            "colorbar": {
             "outlinewidth": 0,
             "ticks": ""
            },
            "colorscale": [
             [
              0,
              "#0d0887"
             ],
             [
              0.1111111111111111,
              "#46039f"
             ],
             [
              0.2222222222222222,
              "#7201a8"
             ],
             [
              0.3333333333333333,
              "#9c179e"
             ],
             [
              0.4444444444444444,
              "#bd3786"
             ],
             [
              0.5555555555555556,
              "#d8576b"
             ],
             [
              0.6666666666666666,
              "#ed7953"
             ],
             [
              0.7777777777777778,
              "#fb9f3a"
             ],
             [
              0.8888888888888888,
              "#fdca26"
             ],
             [
              1,
              "#f0f921"
             ]
            ],
            "type": "histogram2d"
           }
          ],
          "histogram2dcontour": [
           {
            "colorbar": {
             "outlinewidth": 0,
             "ticks": ""
            },
            "colorscale": [
             [
              0,
              "#0d0887"
             ],
             [
              0.1111111111111111,
              "#46039f"
             ],
             [
              0.2222222222222222,
              "#7201a8"
             ],
             [
              0.3333333333333333,
              "#9c179e"
             ],
             [
              0.4444444444444444,
              "#bd3786"
             ],
             [
              0.5555555555555556,
              "#d8576b"
             ],
             [
              0.6666666666666666,
              "#ed7953"
             ],
             [
              0.7777777777777778,
              "#fb9f3a"
             ],
             [
              0.8888888888888888,
              "#fdca26"
             ],
             [
              1,
              "#f0f921"
             ]
            ],
            "type": "histogram2dcontour"
           }
          ],
          "mesh3d": [
           {
            "colorbar": {
             "outlinewidth": 0,
             "ticks": ""
            },
            "type": "mesh3d"
           }
          ],
          "parcoords": [
           {
            "line": {
             "colorbar": {
              "outlinewidth": 0,
              "ticks": ""
             }
            },
            "type": "parcoords"
           }
          ],
          "pie": [
           {
            "automargin": true,
            "type": "pie"
           }
          ],
          "scatter": [
           {
            "fillpattern": {
             "fillmode": "overlay",
             "size": 10,
             "solidity": 0.2
            },
            "type": "scatter"
           }
          ],
          "scatter3d": [
           {
            "line": {
             "colorbar": {
              "outlinewidth": 0,
              "ticks": ""
             }
            },
            "marker": {
             "colorbar": {
              "outlinewidth": 0,
              "ticks": ""
             }
            },
            "type": "scatter3d"
           }
          ],
          "scattercarpet": [
           {
            "marker": {
             "colorbar": {
              "outlinewidth": 0,
              "ticks": ""
             }
            },
            "type": "scattercarpet"
           }
          ],
          "scattergeo": [
           {
            "marker": {
             "colorbar": {
              "outlinewidth": 0,
              "ticks": ""
             }
            },
            "type": "scattergeo"
           }
          ],
          "scattergl": [
           {
            "marker": {
             "colorbar": {
              "outlinewidth": 0,
              "ticks": ""
             }
            },
            "type": "scattergl"
           }
          ],
          "scattermapbox": [
           {
            "marker": {
             "colorbar": {
              "outlinewidth": 0,
              "ticks": ""
             }
            },
            "type": "scattermapbox"
           }
          ],
          "scatterpolar": [
           {
            "marker": {
             "colorbar": {
              "outlinewidth": 0,
              "ticks": ""
             }
            },
            "type": "scatterpolar"
           }
          ],
          "scatterpolargl": [
           {
            "marker": {
             "colorbar": {
              "outlinewidth": 0,
              "ticks": ""
             }
            },
            "type": "scatterpolargl"
           }
          ],
          "scatterternary": [
           {
            "marker": {
             "colorbar": {
              "outlinewidth": 0,
              "ticks": ""
             }
            },
            "type": "scatterternary"
           }
          ],
          "surface": [
           {
            "colorbar": {
             "outlinewidth": 0,
             "ticks": ""
            },
            "colorscale": [
             [
              0,
              "#0d0887"
             ],
             [
              0.1111111111111111,
              "#46039f"
             ],
             [
              0.2222222222222222,
              "#7201a8"
             ],
             [
              0.3333333333333333,
              "#9c179e"
             ],
             [
              0.4444444444444444,
              "#bd3786"
             ],
             [
              0.5555555555555556,
              "#d8576b"
             ],
             [
              0.6666666666666666,
              "#ed7953"
             ],
             [
              0.7777777777777778,
              "#fb9f3a"
             ],
             [
              0.8888888888888888,
              "#fdca26"
             ],
             [
              1,
              "#f0f921"
             ]
            ],
            "type": "surface"
           }
          ],
          "table": [
           {
            "cells": {
             "fill": {
              "color": "#EBF0F8"
             },
             "line": {
              "color": "white"
             }
            },
            "header": {
             "fill": {
              "color": "#C8D4E3"
             },
             "line": {
              "color": "white"
             }
            },
            "type": "table"
           }
          ]
         },
         "layout": {
          "annotationdefaults": {
           "arrowcolor": "#2a3f5f",
           "arrowhead": 0,
           "arrowwidth": 1
          },
          "autotypenumbers": "strict",
          "coloraxis": {
           "colorbar": {
            "outlinewidth": 0,
            "ticks": ""
           }
          },
          "colorscale": {
           "diverging": [
            [
             0,
             "#8e0152"
            ],
            [
             0.1,
             "#c51b7d"
            ],
            [
             0.2,
             "#de77ae"
            ],
            [
             0.3,
             "#f1b6da"
            ],
            [
             0.4,
             "#fde0ef"
            ],
            [
             0.5,
             "#f7f7f7"
            ],
            [
             0.6,
             "#e6f5d0"
            ],
            [
             0.7,
             "#b8e186"
            ],
            [
             0.8,
             "#7fbc41"
            ],
            [
             0.9,
             "#4d9221"
            ],
            [
             1,
             "#276419"
            ]
           ],
           "sequential": [
            [
             0,
             "#0d0887"
            ],
            [
             0.1111111111111111,
             "#46039f"
            ],
            [
             0.2222222222222222,
             "#7201a8"
            ],
            [
             0.3333333333333333,
             "#9c179e"
            ],
            [
             0.4444444444444444,
             "#bd3786"
            ],
            [
             0.5555555555555556,
             "#d8576b"
            ],
            [
             0.6666666666666666,
             "#ed7953"
            ],
            [
             0.7777777777777778,
             "#fb9f3a"
            ],
            [
             0.8888888888888888,
             "#fdca26"
            ],
            [
             1,
             "#f0f921"
            ]
           ],
           "sequentialminus": [
            [
             0,
             "#0d0887"
            ],
            [
             0.1111111111111111,
             "#46039f"
            ],
            [
             0.2222222222222222,
             "#7201a8"
            ],
            [
             0.3333333333333333,
             "#9c179e"
            ],
            [
             0.4444444444444444,
             "#bd3786"
            ],
            [
             0.5555555555555556,
             "#d8576b"
            ],
            [
             0.6666666666666666,
             "#ed7953"
            ],
            [
             0.7777777777777778,
             "#fb9f3a"
            ],
            [
             0.8888888888888888,
             "#fdca26"
            ],
            [
             1,
             "#f0f921"
            ]
           ]
          },
          "colorway": [
           "#636efa",
           "#EF553B",
           "#00cc96",
           "#ab63fa",
           "#FFA15A",
           "#19d3f3",
           "#FF6692",
           "#B6E880",
           "#FF97FF",
           "#FECB52"
          ],
          "font": {
           "color": "#2a3f5f"
          },
          "geo": {
           "bgcolor": "white",
           "lakecolor": "white",
           "landcolor": "#E5ECF6",
           "showlakes": true,
           "showland": true,
           "subunitcolor": "white"
          },
          "hoverlabel": {
           "align": "left"
          },
          "hovermode": "closest",
          "mapbox": {
           "style": "light"
          },
          "paper_bgcolor": "white",
          "plot_bgcolor": "#E5ECF6",
          "polar": {
           "angularaxis": {
            "gridcolor": "white",
            "linecolor": "white",
            "ticks": ""
           },
           "bgcolor": "#E5ECF6",
           "radialaxis": {
            "gridcolor": "white",
            "linecolor": "white",
            "ticks": ""
           }
          },
          "scene": {
           "xaxis": {
            "backgroundcolor": "#E5ECF6",
            "gridcolor": "white",
            "gridwidth": 2,
            "linecolor": "white",
            "showbackground": true,
            "ticks": "",
            "zerolinecolor": "white"
           },
           "yaxis": {
            "backgroundcolor": "#E5ECF6",
            "gridcolor": "white",
            "gridwidth": 2,
            "linecolor": "white",
            "showbackground": true,
            "ticks": "",
            "zerolinecolor": "white"
           },
           "zaxis": {
            "backgroundcolor": "#E5ECF6",
            "gridcolor": "white",
            "gridwidth": 2,
            "linecolor": "white",
            "showbackground": true,
            "ticks": "",
            "zerolinecolor": "white"
           }
          },
          "shapedefaults": {
           "line": {
            "color": "#2a3f5f"
           }
          },
          "ternary": {
           "aaxis": {
            "gridcolor": "white",
            "linecolor": "white",
            "ticks": ""
           },
           "baxis": {
            "gridcolor": "white",
            "linecolor": "white",
            "ticks": ""
           },
           "bgcolor": "#E5ECF6",
           "caxis": {
            "gridcolor": "white",
            "linecolor": "white",
            "ticks": ""
           }
          },
          "title": {
           "x": 0.05
          },
          "xaxis": {
           "automargin": true,
           "gridcolor": "white",
           "linecolor": "white",
           "ticks": "",
           "title": {
            "standoff": 15
           },
           "zerolinecolor": "white",
           "zerolinewidth": 2
          },
          "yaxis": {
           "automargin": true,
           "gridcolor": "white",
           "linecolor": "white",
           "ticks": "",
           "title": {
            "standoff": 15
           },
           "zerolinecolor": "white",
           "zerolinewidth": 2
          }
         }
        },
        "xaxis": {
         "anchor": "y",
         "domain": [
          0,
          1
         ],
         "title": {
          "text": "Plant Type"
         }
        },
        "yaxis": {
         "anchor": "x",
         "domain": [
          0,
          1
         ],
         "title": {
          "text": "Connection Cap (MW)"
         }
        }
       }
      }
     },
     "metadata": {},
     "output_type": "display_data"
    }
   ],
   "source": [
    "fig = px.bar(\n",
    "    data_frame=unpivot_capacity_by_TO_plant,\n",
    "    x=\"Plant Type\",\n",
    "    y=\"Connection Cap (MW)\",\n",
    "    color=\"HOST TO\",\n",
    "    color_continuous_scale=px.colors.diverging.RdBu_r,\n",
    "    height=900,\n",
    ")\n",
    "fig.show()"
   ]
  },
  {
   "cell_type": "code",
   "execution_count": 525,
   "metadata": {},
   "outputs": [
    {
     "data": {
      "text/plain": [
       "Index(['Project Name', 'Customer Name', 'Connection Site', 'Stage',\n",
       "       'MW Connected', 'MW Change', 'Connection Cap (MW)', 'Connection Date',\n",
       "       'Project Status', 'Agreement Type', 'HOST TO', 'Plant Type',\n",
       "       'Project ID', 'Project Number'],\n",
       "      dtype='object')"
      ]
     },
     "execution_count": 525,
     "metadata": {},
     "output_type": "execute_result"
    }
   ],
   "source": [
    "data.columns"
   ]
  },
  {
   "cell_type": "code",
   "execution_count": 526,
   "metadata": {},
   "outputs": [
    {
     "data": {
      "text/plain": [
       "(1896, 14)"
      ]
     },
     "execution_count": 526,
     "metadata": {},
     "output_type": "execute_result"
    }
   ],
   "source": [
    "data.shape"
   ]
  },
  {
   "cell_type": "code",
   "execution_count": 527,
   "metadata": {},
   "outputs": [
    {
     "data": {
      "application/vnd.plotly.v1+json": {
       "config": {
        "plotlyServerURL": "https://plot.ly"
       },
       "data": [
        {
         "branchvalues": "total",
         "customdata": [
          [
           "(?)",
           73226.16,
           "SPT"
          ],
          [
           "(?)",
           21600,
           "NGET"
          ],
          [
           "(?)",
           2406,
           "NGET"
          ],
          [
           "(?)",
           5714,
           "NGET"
          ],
          [
           "(?)",
           7600,
           "NGET"
          ],
          [
           "(?)",
           734.04,
           "NGET"
          ],
          [
           "(?)",
           2485,
           "SHET"
          ],
          [
           "(?)",
           5152,
           "NGET"
          ],
          [
           "Thainstone Energy Park",
           40,
           "SHET"
          ],
          [
           "SHBEC",
           83,
           "NGET"
          ],
          [
           "MeyGen Tidal",
           99,
           "SHET"
          ],
          [
           "(?)",
           0,
           "SPT"
          ],
          [
           "(?)",
           0,
           "SHET"
          ],
          [
           "Didcot Battery",
           100,
           "NGET"
          ],
          [
           "(?)",
           847.9,
           "SHET"
          ],
          [
           "(?)",
           1051,
           "SPT"
          ],
          [
           "(?)",
           3132.4,
           "NGET"
          ],
          [
           "Halbeath",
           150,
           "SPT"
          ],
          [
           "(?)",
           61.9,
           "NGET"
          ],
          [
           "Highview Hunterston East Cryobattery",
           200,
           "SPT"
          ],
          [
           "(?)",
           4000,
           "NGET"
          ],
          [
           "SAGE Solar",
           20,
           "SHET"
          ],
          [
           "Ratcliffe on Soar",
           2021,
           "NGET"
          ],
          [
           "CENOS",
           1500,
           "NGET"
          ],
          [
           "Trawsfynydd B Cwmni Egino",
           940,
           "NGET"
          ],
          [
           "Teindland Wind Farm",
           112.2,
           "SHET"
          ],
          [
           "Damhead Creek 2",
           1800,
           "NGET"
          ],
          [
           "(?)",
           86221.795,
           "NGET"
          ],
          [
           "(?)",
           2400,
           "NGET"
          ],
          [
           "Market Harborough Green Energy Hub",
           1000,
           "NGET"
          ],
          [
           "(?)",
           897,
           "NGET"
          ],
          [
           "Hinkley Point C",
           5010,
           "NGET"
          ],
          [
           "(?)",
           405.9,
           "NGET"
          ],
          [
           "(?)",
           6372.39,
           "NGET"
          ],
          [
           "(?)",
           1,
           "NGET"
          ],
          [
           "(?)",
           0,
           "SPT"
          ],
          [
           "(?)",
           154.49,
           "NGET"
          ],
          [
           "(?)",
           1208.9,
           "NGET"
          ],
          [
           "(?)",
           590,
           "NGET"
          ],
          [
           "(?)",
           80322.587,
           "SHET"
          ],
          [
           "MeyGen Tidal",
           287,
           "SHET"
          ],
          [
           "(?)",
           64064.25,
           "NGET"
          ],
          [
           "(?)",
           25943,
           "SHET"
          ],
          [
           "(?)",
           1300,
           "NGET"
          ],
          [
           "(?)",
           5518.9,
           "SPT"
          ],
          [
           "(?)",
           4325.287,
           "SHET"
          ],
          [
           "(?)",
           116195.6,
           "NGET"
          ],
          [
           "(?)",
           6496,
           "SHET"
          ],
          [
           "(?)",
           6194.7,
           "SPT"
          ],
          [
           "(?)",
           1260,
           "NGET"
          ],
          [
           "(?)",
           16426.76,
           "SHET"
          ],
          [
           "JG Pears",
           30,
           "NGET"
          ],
          [
           "Teindland Wind Farm",
           112.2,
           "SHET"
          ],
          [
           "CENOS",
           1500,
           "NGET"
          ],
          [
           "SAGE Solar",
           20,
           "SHET"
          ],
          [
           "(?)",
           4000,
           "NGET"
          ],
          [
           "(?)",
           510.28,
           "NGET"
          ],
          [
           "Tees CCPP",
           150,
           "NGET"
          ],
          [
           "(?)",
           449.98,
           "NGET"
          ],
          [
           "(?)",
           1051,
           "SPT"
          ],
          [
           "(?)",
           3000,
           "NGET"
          ],
          [
           "Green Volt Offshore Windfarm",
           300,
           "SHET"
          ],
          [
           "(?)",
           143319.675,
           "NGET"
          ],
          [
           "(?)",
           872.4,
           "SHET"
          ],
          [
           "Grain",
           1517,
           "NGET"
          ],
          [
           "(?)",
           16821,
           "NGET"
          ],
          [
           "(?)",
           2270,
           "SPT"
          ],
          [
           "(?)",
           2847.9,
           "NGET"
          ],
          [
           "(?)",
           61.5,
           "NGET"
          ],
          [
           "(?)",
           6672.1849999999995,
           "NGET"
          ],
          [
           "(?)",
           142,
           "SHET"
          ],
          [
           "(?)",
           8953,
           "SHET"
          ],
          [
           "(?)",
           1730,
           "SPT"
          ],
          [
           "(?)",
           21,
           "NGET"
          ],
          [
           "MeyGen Tidal",
           391,
           "SHET"
          ],
          [
           "Immingham",
           1268,
           "NGET"
          ],
          [
           "(?)",
           299.13,
           "NGET"
          ],
          [
           "Thainstone Energy Park",
           40,
           "SHET"
          ],
          [
           "(?)",
           81271.25,
           "NGET"
          ],
          [
           "(?)",
           4338.4,
           "OFTO"
          ],
          [
           "(?)",
           30061.1,
           "SHET"
          ],
          [
           "Cilfynydd",
           400,
           "NGET"
          ],
          [
           "Willington Green Energy Centre",
           1025,
           "NGET"
          ],
          [
           "(?)",
           560,
           "SHET"
          ],
          [
           "(?)",
           23697.395,
           "NGET"
          ],
          [
           "(?)",
           11036.35,
           "SHET"
          ],
          [
           "(?)",
           5527,
           "NGET"
          ],
          [
           "(?)",
           4338.4,
           "OFTO"
          ],
          [
           "(?)",
           5490,
           "NGET"
          ],
          [
           "(?)",
           132.9,
           "NGET"
          ],
          [
           "Drax (Coal)",
           2001,
           "NGET"
          ],
          [
           "(?)",
           704.04,
           "NGET"
          ],
          [
           "(?)",
           661.78,
           "NGET"
          ],
          [
           "(?)",
           1633.1,
           "SHET"
          ],
          [
           "(?)",
           4951.277,
           "SHET"
          ],
          [
           "(?)",
           5568.9,
           "SPT"
          ],
          [
           "(?)",
           144.64,
           "NGET"
          ],
          [
           "(?)",
           2325,
           "NGET"
          ],
          [
           "Wymondley High Impact Green Energy Hub (HIGEH) 1",
           1000,
           "NGET"
          ],
          [
           "Portwind",
           2500,
           "NGET"
          ],
          [
           "(?)",
           2004,
           "NGET"
          ],
          [
           "Beechgreen Energyfarm",
           49.9,
           "NGET"
          ],
          [
           "(?)",
           61.5,
           "NGET"
          ],
          [
           "(?)",
           129,
           "NGET"
          ],
          [
           "(?)",
           129,
           "NGET"
          ],
          [
           "(?)",
           106,
           "NGET"
          ],
          [
           "(?)",
           872.4,
           "SHET"
          ],
          [
           "ER TWD Energy",
           700,
           "NGET"
          ],
          [
           "(?)",
           2395.9,
           "SPT"
          ],
          [
           "(?)",
           2852.7,
           "SHET"
          ],
          [
           "(?)",
           71.4,
           "SHET"
          ],
          [
           "Spalding Energy Expansion",
           299.99,
           "NGET"
          ],
          [
           "(?)",
           7340,
           "NGET"
          ],
          [
           "Medway 3 Power Station",
           500,
           "NGET"
          ],
          [
           "Burbo Bank Offshore Wind Farm",
           90,
           "NGET"
          ],
          [
           "(?)",
           1000,
           "SPT"
          ],
          [
           "Green Volt Offshore Windfarm",
           300,
           "SHET"
          ],
          [
           "Grain",
           1517,
           "NGET"
          ],
          [
           "(?)",
           34822,
           "NGET"
          ],
          [
           "(?)",
           142,
           "SHET"
          ],
          [
           "(?)",
           590.7,
           "SPT"
          ],
          [
           "(?)",
           211.5,
           "SPT"
          ],
          [
           "(?)",
           486966.335,
           "NGET"
          ],
          [
           "Seagreen 1A Offshore Wind Farm",
           500,
           "SPT"
          ],
          [
           "(?)",
           11606,
           "SPT"
          ],
          [
           "(?)",
           3984.1,
           "NGET"
          ],
          [
           "Grangemouth CHP",
           120,
           "SPT"
          ],
          [
           "(?)",
           0,
           "SHET"
          ],
          [
           "(?)",
           0,
           "SPT"
          ],
          [
           "(?)",
           7424,
           "NGET"
          ],
          [
           "(?)",
           1663.8,
           "SPT"
          ],
          [
           "(?)",
           1848.7,
           "NGET"
          ],
          [
           "(?)",
           9578,
           "SPT"
          ],
          [
           "(?)",
           4000,
           "NGET"
          ],
          [
           "Immingham",
           1268,
           "NGET"
          ],
          [
           "(?)",
           1752,
           "NGET"
          ],
          [
           "Allt an Tuir Renewable Energy Park",
           50,
           "SHET"
          ],
          [
           "(?)",
           249.89499999999998,
           "NGET"
          ],
          [
           "Walpole Flexible Generation",
           2000,
           "NGET"
          ],
          [
           "(?)",
           1536.44,
           "SPT"
          ],
          [
           "Peterhead Carbon Capture",
           910,
           "SHET"
          ],
          [
           "(?)",
           1564.63,
           "SPT"
          ],
          [
           "(?)",
           0,
           "NGET"
          ],
          [
           "West Burton B",
           3714,
           "NGET"
          ],
          [
           "Almondell Lodge BESS & Solar Development",
           50,
           "SPT"
          ],
          [
           "(?)",
           65.99000000000001,
           "SHET"
          ],
          [
           "Rugeley",
           50,
           "NGET"
          ],
          [
           "(?)",
           49,
           "SHET"
          ],
          [
           "(?)",
           5456.495,
           "NGET"
          ],
          [
           "Conrad (Winchester) Limited",
           19,
           "NGET"
          ],
          [
           "Iron Acton",
           49.9,
           "NGET"
          ],
          [
           "(?)",
           5861,
           "NGET"
          ],
          [
           "(?)",
           2270,
           "SPT"
          ],
          [
           "(?)",
           2537.95,
           "SHET"
          ],
          [
           "(?)",
           1450.9,
           "NGET"
          ],
          [
           "(?)",
           4338.4,
           "OFTO"
          ],
          [
           "(?)",
           6655,
           "NGET"
          ],
          [
           "Wishaw Energy Storage Facility",
           49.95,
           "SPT"
          ],
          [
           "Didcot Battery",
           100,
           "NGET"
          ],
          [
           "(?)",
           21600,
           "NGET"
          ],
          [
           "(?)",
           2000,
           "NGET"
          ],
          [
           "Sheilhill Battery Storage",
           100,
           "SHET"
          ],
          [
           "(?)",
           5596.37,
           "NGET"
          ],
          [
           "(?)",
           1084,
           "SPT"
          ],
          [
           "Grendon High Impact Green Energy Hub (HIGEH) 1",
           1000,
           "NGET"
          ],
          [
           "Spirebush Renewable Energy Project",
           400,
           "SPT"
          ],
          [
           "(?)",
           577.9,
           "NGET"
          ],
          [
           "(?)",
           1263.8,
           "SPT"
          ],
          [
           "(?)",
           7024,
           "NGET"
          ],
          [
           "Portwind",
           2500,
           "NGET"
          ],
          [
           "Wymondley High Impact Green Energy Hub (HIGEH) 1",
           1000,
           "NGET"
          ],
          [
           "(?)",
           4000,
           "NGET"
          ],
          [
           "(?)",
           747.9,
           "SHET"
          ],
          [
           "Market Harborough Green Energy Hub",
           1000,
           "NGET"
          ],
          [
           "Cruachan",
           440,
           "SPT"
          ],
          [
           "(?)",
           73592.85,
           "NGET"
          ],
          [
           "Sizewell C",
           5010,
           "NGET"
          ],
          [
           "(?)",
           1075,
           "NGET"
          ],
          [
           "(?)",
           309,
           "SHET"
          ],
          [
           "(?)",
           577,
           "SPT"
          ],
          [
           "MeyGen Tidal",
           777,
           "SHET"
          ],
          [
           "(?)",
           13603.12,
           "SPT"
          ],
          [
           "Allt an Tuir Renewable Energy Park",
           50,
           "SHET"
          ],
          [
           "Ratcliffe EMERGE",
           49.9,
           "NGET"
          ],
          [
           "(?)",
           4311.1,
           "NGET"
          ],
          [
           "(?)",
           3000,
           "NGET"
          ],
          [
           "(?)",
           96,
           "SHET"
          ],
          [
           "Keith 132 Greener Grid Park",
           0,
           "SHET"
          ],
          [
           "Gaerwen Wind Farm",
           67,
           "NGET"
          ],
          [
           "Hirfynydd and Mynydd Drumaur",
           180,
           "NGET"
          ],
          [
           "(?)",
           590.7,
           "SPT"
          ],
          [
           "Foyers",
           300,
           "SHET"
          ],
          [
           "(?)",
           1065.8,
           "NGET"
          ],
          [
           "Ratcliffe on Soar",
           2021,
           "NGET"
          ],
          [
           "(?)",
           2004,
           "NGET"
          ],
          [
           "Grangemouth CHP",
           120,
           "SPT"
          ],
          [
           "Caledonian Paper Mill (Meadowhead)",
           20,
           "SPT"
          ],
          [
           "Peterhead",
           1180,
           "SHET"
          ],
          [
           "(?)",
           26330,
           "NGET"
          ],
          [
           "Markinch (Rothes) Biomass CHP Plant",
           55,
           "SPT"
          ],
          [
           "(?)",
           2723,
           "NGET"
          ],
          [
           "(?)",
           273.8,
           "SHET"
          ],
          [
           "(?)",
           590,
           "NGET"
          ],
          [
           "(?)",
           2472.3,
           "SHET"
          ],
          [
           "(?)",
           260,
           "NGET"
          ],
          [
           "Caledonian Paper Mill (Meadowhead)",
           20,
           "SPT"
          ],
          [
           "(?)",
           2090,
           "SHET"
          ],
          [
           "Markinch (Rothes) Biomass CHP Plant",
           55,
           "SPT"
          ],
          [
           "(?)",
           3083,
           "NGET"
          ],
          [
           "Ferrybridge D",
           310,
           "NGET"
          ],
          [
           "(?)",
           3132.4,
           "NGET"
          ],
          [
           "(?)",
           5400,
           "NGET"
          ],
          [
           "Halbeath",
           150,
           "SPT"
          ],
          [
           "(?)",
           2406,
           "NGET"
          ],
          [
           "Highview Hunterston East Cryobattery",
           200,
           "SPT"
          ],
          [
           "Baillie Greener Grid Park",
           48,
           "SHET"
          ],
          [
           "(?)",
           1000,
           "SPT"
          ],
          [
           "Beatrice Sync Comp",
           0,
           "SHET"
          ],
          [
           "(?)",
           2000,
           "NGET"
          ],
          [
           "(?)",
           1080,
           "SPT"
          ],
          [
           "(?)",
           8041,
           "SHET"
          ],
          [
           "Hirfynydd and Mynydd Drumaur",
           180,
           "NGET"
          ],
          [
           "ER TWD Energy",
           700,
           "NGET"
          ],
          [
           "(?)",
           29886.79,
           "SPT"
          ],
          [
           "(?)",
           20,
           "NGET"
          ],
          [
           "(?)",
           3900,
           "NGET"
          ],
          [
           "(?)",
           1528,
           "SPT"
          ],
          [
           "(?)",
           6714.98,
           "NGET"
          ],
          [
           "(?)",
           4095.85,
           "SPT"
          ],
          [
           "Recell at Penrhos (BEGA)",
           360,
           "NGET"
          ],
          [
           "(?)",
           1094,
           "NGET"
          ],
          [
           "(?)",
           31201.74,
           "SPT"
          ],
          [
           "(?)",
           1818.9,
           "SPT"
          ],
          [
           "(?)",
           1580,
           "NGET"
          ],
          [
           "(?)",
           644.9,
           "SHET"
          ],
          [
           "(?)",
           1728.6,
           "SHET"
          ],
          [
           "(?)",
           181,
           "SPT"
          ],
          [
           "(?)",
           2926.8,
           "NGET"
          ],
          [
           "Keith 132 Greener Grid Park",
           48,
           "SHET"
          ],
          [
           "(?)",
           10927,
           "NGET"
          ],
          [
           "Hornsea Power Station 3",
           5250,
           "NGET"
          ],
          [
           "(?)",
           149.88,
           "NGET"
          ],
          [
           "Coire Glas Pumped Storage",
           612,
           "SHET"
          ],
          [
           "Glenmuckloch Pumped Storage",
           210,
           "SPT"
          ],
          [
           "(?)",
           2051,
           "NGET"
          ],
          [
           "(?)",
           6264.99,
           "NGET"
          ],
          [
           "(?)",
           17120.66,
           "SHET"
          ]
         ],
         "domain": {
          "x": [
           0,
           1
          ],
          "y": [
           0,
           1
          ]
         },
         "hovertemplate": "labels=%{label}<br>Connection Cap (MW)=%{customdata[1]}<br>parent=%{parent}<br>id=%{id}<br>Project Name=%{customdata[0]}<br>HOST TO=%{customdata[2]}<extra></extra>",
         "ids": [
          "SPT",
          "NGET/CCGT (Combined Cycle Gas Turbine);Demand;Energy Storage System",
          "NGET/CCGT (Combined Cycle Gas Turbine);Demand/Scoping",
          "NGET/CCGT (Combined Cycle Gas Turbine);Energy Storage System",
          "NGET/CCGT (Combined Cycle Gas Turbine);Energy Storage System;OCGT (Open Cycle Gas Turbine)",
          "NGET/CHP (Combined Heat and Power)",
          "SHET/Wind Offshore/Consents Approved",
          "NGET/Wind Offshore/Consents Approved",
          "SHET/Waste/Consents Approved",
          "NGET/Waste/Consents Approved",
          "SHET/Tidal/Consents Approved",
          "SPT/Reactive Compensation/Consents Approved",
          "SHET/Reactive Compensation/Consents Approved",
          "NGET/Demand;Energy Storage System",
          "SHET/Demand;Energy Storage System",
          "SPT/Demand;Energy Storage System",
          "NGET/Demand;Energy Storage System;PV Array (Photo Voltaic/solar)",
          "SPT/Demand;Energy Storage System;PV Array (Photo Voltaic/solar);Reactive Compensation",
          "NGET/Energy Storage System;Reactive Compensation/Consents Approved",
          "SPT/Demand;Energy Storage System;Reactive Compensation",
          "NGET/Demand;PV Array (Photo Voltaic/solar)",
          "SHET/Demand;PV Array (Photo Voltaic/solar)",
          "NGET/Demand;PV Array (Photo Voltaic/solar);Waste",
          "NGET/Demand;Wind Offshore",
          "NGET/Nuclear/Scoping",
          "SHET/Demand;Wind Onshore",
          "NGET/CCGT (Combined Cycle Gas Turbine);Energy Storage System;OCGT (Open Cycle Gas Turbine)/Consents Approved",
          "NGET/Energy Storage System",
          "NGET/Wind Offshore/Under Construction/Commissioning",
          "NGET/Energy Storage System;Hydro;Nuclear;PV Array (Photo Voltaic/solar);Wind Onshore",
          "NGET/OCGT (Open Cycle Gas Turbine)/Under Construction/Commissioning",
          "NGET/Nuclear/Under Construction/Commissioning",
          "NGET/Gas Reciprocating/Scoping",
          "NGET/PV Array (Photo Voltaic/solar)/Scoping",
          "NGET/Reactive Compensation/Scoping",
          "SPT/Reactive Compensation/Scoping",
          "NGET/Thermal/Scoping",
          "NGET/Energy Storage System;Reactive Compensation/Scoping",
          "NGET/Tidal/Scoping",
          "SHET",
          "SHET/Tidal/Scoping",
          "NGET/Wind Offshore/Scoping",
          "SHET/Wind Offshore/Scoping",
          "NGET/Energy Storage System;PV Array (Photo Voltaic/solar);Reactive Compensation/Scoping",
          "SPT/Energy Storage System;PV Array (Photo Voltaic/solar)/Scoping",
          "SHET/Energy Storage System;PV Array (Photo Voltaic/solar)/Scoping",
          "NGET/Energy Storage System;PV Array (Photo Voltaic/solar)/Scoping",
          "SHET/Wind Onshore/Scoping",
          "SPT/Wind Onshore/Scoping",
          "NGET/CCGT (Combined Cycle Gas Turbine)/Under Construction/Commissioning",
          "SHET/Energy Storage System/Scoping",
          "NGET/CHP (Combined Heat and Power)/Under Construction/Commissioning",
          "SHET/Demand;Wind Onshore/Scoping",
          "NGET/Demand;Wind Offshore/Scoping",
          "SHET/Demand;PV Array (Photo Voltaic/solar)/Scoping",
          "NGET/Demand;PV Array (Photo Voltaic/solar)/Scoping",
          "NGET/Energy Storage System/Under Construction/Commissioning",
          "NGET/Energy Storage System;OCGT (Open Cycle Gas Turbine)/Under Construction/Commissioning",
          "NGET/Energy Storage System;PV Array (Photo Voltaic/solar)/Under Construction/Commissioning",
          "SPT/Demand;Energy Storage System/Scoping",
          "NGET/Energy Storage System;Nuclear;PV Array (Photo Voltaic/solar);Reactive Compensation;Wind Onshore",
          "SHET/Demand;Wind Offshore",
          "NGET/Energy Storage System;PV Array (Photo Voltaic/solar)",
          "SHET/Hydro",
          "NGET/CCGT (Combined Cycle Gas Turbine);Reactive Compensation/Built",
          "NGET/Nuclear",
          "SPT/Nuclear",
          "NGET/OCGT (Open Cycle Gas Turbine)",
          "NGET/Oil & AGT (Advanced Gas Turbine)",
          "NGET/PV Array (Photo Voltaic/solar)",
          "SHET/PV Array (Photo Voltaic/solar)",
          "SHET/Pump Storage",
          "SPT/Pump Storage",
          "NGET/Reactive Compensation",
          "SHET/Tidal/Awaiting Consents",
          "NGET/CHP (Combined Heat and Power);Energy Storage System/Built",
          "NGET/Thermal",
          "SHET/Waste",
          "NGET/Wind Offshore",
          "OFTO/Wind Offshore",
          "SHET/Wind Offshore",
          "NGET/Energy Storage System;PV Array (Photo Voltaic/solar);Wind Onshore/Awaiting Consents",
          "NGET/Energy Storage System;PV Array (Photo Voltaic/solar);Reactive Compensation/Awaiting Consents",
          "SHET/Energy Storage System;PV Array (Photo Voltaic/solar)/Awaiting Consents",
          "NGET/Energy Storage System;PV Array (Photo Voltaic/solar)/Awaiting Consents",
          "SHET/Wind Onshore",
          "NGET/Demand;Energy Storage System;PV Array (Photo Voltaic/solar);Reactive Compensation/Awaiting Consents",
          "OFTO",
          "NGET/CCGT (Combined Cycle Gas Turbine);Energy Storage System;OCGT (Open Cycle Gas Turbine)/Awaiting Consents",
          "NGET/Waste",
          "NGET/Coal/Built",
          "NGET/CHP (Combined Heat and Power)/Built",
          "NGET/Gas Reciprocating",
          "SHET/Wind Offshore/Built",
          "SHET/Energy Storage System;PV Array (Photo Voltaic/solar)",
          "SPT/Energy Storage System;PV Array (Photo Voltaic/solar)",
          "NGET/Thermal/Built",
          "NGET/Energy Storage System;PV Array (Photo Voltaic/solar);Reactive Compensation",
          "NGET/Energy Storage System;PV Array (Photo Voltaic/solar);Reactive Compensation;Wind Onshore",
          "NGET/Energy Storage System;PV Array (Photo Voltaic/solar);Wind Offshore",
          "NGET/Pump Storage/Built",
          "NGET/PV Array (Photo Voltaic/solar)/Built",
          "NGET/Oil & AGT (Advanced Gas Turbine)/Built",
          "NGET/Hydro",
          "NGET/Hydro/Built",
          "NGET/Gas Reciprocating/Built",
          "SHET/Hydro/Built",
          "NGET/Energy Storage System;Wind Onshore",
          "SPT/Energy Storage System;Wind Onshore",
          "SHET/Energy Storage System;Wind Onshore",
          "SHET/Energy Storage System;Wind Onshore/Built",
          "NGET/Energy Storage System;OCGT (Open Cycle Gas Turbine)/Built",
          "NGET/Energy Storage System;Wind Offshore",
          "NGET/OCGT (Open Cycle Gas Turbine)/Scoping",
          "NGET/Energy Storage System;Wind Offshore/Built",
          "SPT/Energy Storage System;Reactive Compensation",
          "SHET/Demand;Wind Offshore/Scoping",
          "NGET/CCGT (Combined Cycle Gas Turbine);Reactive Compensation",
          "NGET/CCGT (Combined Cycle Gas Turbine)",
          "SHET/PV Array (Photo Voltaic/solar)/Scoping",
          "SPT/PV Array (Photo Voltaic/solar)/Scoping",
          "SPT/Wind Onshore/Under Construction/Commissioning",
          "NGET",
          "SPT/Wind Offshore/Under Construction/Commissioning",
          "SPT/Wind Offshore",
          "NGET/Wind Onshore/Scoping",
          "SPT/CHP (Combined Heat and Power)",
          "SHET/Reactive Compensation",
          "SPT/Reactive Compensation",
          "NGET/Energy Storage System;PV Array (Photo Voltaic/solar);Wind Onshore",
          "SPT/Energy Storage System;PV Array (Photo Voltaic/solar);Wind Onshore",
          "NGET/Energy Storage System;Reactive Compensation",
          "SPT/Wind Offshore/Scoping",
          "NGET/Energy Storage System;Nuclear;PV Array (Photo Voltaic/solar);Wind Onshore",
          "NGET/CHP (Combined Heat and Power);Energy Storage System",
          "NGET/CCGT (Combined Cycle Gas Turbine)/Awaiting Consents",
          "SHET/Energy Storage System;PV Array (Photo Voltaic/solar);Wind Onshore/Scoping",
          "NGET/PV Array (Photo Voltaic/solar)/Awaiting Consents",
          "NGET/CCGT (Combined Cycle Gas Turbine);Energy Storage System/Scoping",
          "SPT/Wind Onshore/Awaiting Consents",
          "SHET/CCGT (Combined Cycle Gas Turbine)/Scoping",
          "SPT/Wind Onshore/Consents Approved",
          "NGET/Reactive Compensation/Consents Approved",
          "NGET/CCGT (Combined Cycle Gas Turbine);Energy Storage System/Built",
          "SPT/Energy Storage System;PV Array (Photo Voltaic/solar)/Consents Approved",
          "SHET/Energy Storage System;PV Array (Photo Voltaic/solar)/Consents Approved",
          "NGET/Coal/Scoping",
          "SHET/Energy Storage System/Built",
          "NGET/Energy Storage System/Consents Approved",
          "NGET/Energy Storage System;Gas Reciprocating/Built",
          "NGET/Energy Storage System;PV Array (Photo Voltaic/solar)/Built",
          "NGET/Nuclear/Built",
          "SPT/Nuclear/Built",
          "SHET/Wind Onshore/Built",
          "NGET/OCGT (Open Cycle Gas Turbine)/Built",
          "OFTO/Wind Offshore/Built",
          "NGET/Wind Offshore/Built",
          "SPT/Energy Storage System/Built",
          "NGET/Demand;Energy Storage System/Scoping",
          "NGET/CCGT (Combined Cycle Gas Turbine);Demand;Energy Storage System/Scoping",
          "NGET/Energy Storage System;Nuclear;PV Array (Photo Voltaic/solar);Reactive Compensation;Wind Onshore/Scoping",
          "SHET/Demand;Energy Storage System/Awaiting Consents",
          "NGET/Energy Storage System/Awaiting Consents",
          "SPT/Energy Storage System/Awaiting Consents",
          "NGET/Energy Storage System;Nuclear;PV Array (Photo Voltaic/solar);Reactive Compensation;Wind Onshore/Awaiting Consents",
          "SPT/Energy Storage System;PV Array (Photo Voltaic/solar);Wind Onshore/Awaiting Consents",
          "NGET/Energy Storage System;Reactive Compensation/Awaiting Consents",
          "SPT/Energy Storage System;PV Array (Photo Voltaic/solar);Wind Onshore/Scoping",
          "NGET/Energy Storage System;PV Array (Photo Voltaic/solar);Wind Onshore/Scoping",
          "NGET/Energy Storage System;PV Array (Photo Voltaic/solar);Wind Offshore/Scoping",
          "NGET/Energy Storage System;PV Array (Photo Voltaic/solar);Reactive Compensation;Wind Onshore/Scoping",
          "NGET/Energy Storage System;Nuclear;PV Array (Photo Voltaic/solar);Wind Onshore/Scoping",
          "SHET/Demand;Energy Storage System/Scoping",
          "NGET/Energy Storage System;Hydro;Nuclear;PV Array (Photo Voltaic/solar);Wind Onshore/Scoping",
          "SPT/Pump Storage/Built",
          "NGET/Energy Storage System/Scoping",
          "NGET/Nuclear/Awaiting Consents",
          "NGET/Energy Storage System;Gas Reciprocating/Scoping",
          "SHET/Energy Storage System;Wind Onshore/Awaiting Consents",
          "SPT/Energy Storage System;Wind Onshore/Awaiting Consents",
          "SHET/Tidal",
          "SPT/Wind Onshore",
          "SHET/Energy Storage System;PV Array (Photo Voltaic/solar);Wind Onshore",
          "NGET/Waste/Awaiting Consents",
          "NGET/Wind Onshore",
          "NGET/Wind Offshore/Awaiting Consents",
          "SHET/Energy Storage System;Reactive Compensation",
          "SHET/Energy Storage System;Reactive Compensation/Built",
          "NGET/Wind Onshore/Awaiting Consents",
          "NGET/PV Array (Photo Voltaic/solar);Wind Onshore",
          "SPT/PV Array (Photo Voltaic/solar)",
          "SHET/Pump Storage/Built",
          "NGET/Energy Storage System/Built",
          "NGET/Demand;PV Array (Photo Voltaic/solar);Waste/Built",
          "NGET/Pump Storage",
          "SPT/CHP (Combined Heat and Power)/Built",
          "SPT/CCGT (Combined Cycle Gas Turbine)/Built",
          "SHET/CCGT (Combined Cycle Gas Turbine)/Built",
          "NGET/CCGT (Combined Cycle Gas Turbine)/Built",
          "SPT/Biomass/Built",
          "NGET/Biomass/Built",
          "SHET/Wind Onshore/Awaiting Consents",
          "NGET/Tidal",
          "SHET/Energy Storage System;Wind Onshore/Scoping",
          "NGET/Wind Onshore/Built",
          "SPT/CCGT (Combined Cycle Gas Turbine)",
          "SHET/CCGT (Combined Cycle Gas Turbine)",
          "SPT/Biomass",
          "NGET/Biomass",
          "NGET/CCGT (Combined Cycle Gas Turbine);Energy Storage System;OCGT (Open Cycle Gas Turbine)/Scoping",
          "NGET/Demand;Energy Storage System;PV Array (Photo Voltaic/solar)/Scoping",
          "NGET/Demand;Energy Storage System;PV Array (Photo Voltaic/solar);Reactive Compensation/Scoping",
          "SPT/Demand;Energy Storage System;PV Array (Photo Voltaic/solar);Reactive Compensation/Scoping",
          "NGET/CCGT (Combined Cycle Gas Turbine);Demand",
          "SPT/Demand;Energy Storage System;Reactive Compensation/Scoping",
          "SHET/Energy Storage System;Reactive Compensation/Scoping",
          "SPT/Energy Storage System;Reactive Compensation/Scoping",
          "SHET/Reactive Compensation/Scoping",
          "NGET/Energy Storage System;Wind Offshore/Scoping",
          "SPT/Pump Storage/Scoping",
          "SHET/Pump Storage/Scoping",
          "NGET/PV Array (Photo Voltaic/solar);Wind Onshore/Scoping",
          "NGET/Energy Storage System;Wind Onshore/Scoping",
          "SPT/Energy Storage System/Scoping",
          "NGET/Reactive Compensation/Built",
          "NGET/CCGT (Combined Cycle Gas Turbine)/Scoping",
          "SPT/Wind Offshore/Consents Approved",
          "NGET/Energy Storage System;OCGT (Open Cycle Gas Turbine)",
          "SPT/Wind Onshore/Built",
          "NGET/Biomass/Consents Approved",
          "NGET/Energy Storage System;Gas Reciprocating",
          "SPT/Energy Storage System",
          "SPT/Energy Storage System;Wind Onshore/Scoping",
          "NGET/CCGT (Combined Cycle Gas Turbine)/Consents Approved",
          "SHET/Energy Storage System/Consents Approved",
          "SHET/Wind Onshore/Consents Approved",
          "SPT/Energy Storage System/Consents Approved",
          "NGET/Energy Storage System;PV Array (Photo Voltaic/solar)/Consents Approved",
          "SHET/Energy Storage System;Reactive Compensation/Consents Approved",
          "NGET/Demand;Energy Storage System;PV Array (Photo Voltaic/solar);Reactive Compensation",
          "NGET/Energy Storage System;Wind Offshore/Consents Approved",
          "NGET/Gas Reciprocating/Consents Approved",
          "SHET/Pump Storage/Consents Approved",
          "SPT/Pump Storage/Consents Approved",
          "NGET/Coal",
          "NGET/Energy Storage System;OCGT (Open Cycle Gas Turbine)/Consents Approved",
          "SHET/Energy Storage System"
         ],
         "labels": [
          "SPT",
          "CCGT (Combined Cycle Gas Turbine);Demand;Energy Storage System",
          "Scoping",
          "CCGT (Combined Cycle Gas Turbine);Energy Storage System",
          "CCGT (Combined Cycle Gas Turbine);Energy Storage System;OCGT (Open Cycle Gas Turbine)",
          "CHP (Combined Heat and Power)",
          "Consents Approved",
          "Consents Approved",
          "Consents Approved",
          "Consents Approved",
          "Consents Approved",
          "Consents Approved",
          "Consents Approved",
          "Demand;Energy Storage System",
          "Demand;Energy Storage System",
          "Demand;Energy Storage System",
          "Demand;Energy Storage System;PV Array (Photo Voltaic/solar)",
          "Demand;Energy Storage System;PV Array (Photo Voltaic/solar);Reactive Compensation",
          "Consents Approved",
          "Demand;Energy Storage System;Reactive Compensation",
          "Demand;PV Array (Photo Voltaic/solar)",
          "Demand;PV Array (Photo Voltaic/solar)",
          "Demand;PV Array (Photo Voltaic/solar);Waste",
          "Demand;Wind Offshore",
          "Scoping",
          "Demand;Wind Onshore",
          "Consents Approved",
          "Energy Storage System",
          "Under Construction/Commissioning",
          "Energy Storage System;Hydro;Nuclear;PV Array (Photo Voltaic/solar);Wind Onshore",
          "Under Construction/Commissioning",
          "Under Construction/Commissioning",
          "Scoping",
          "Scoping",
          "Scoping",
          "Scoping",
          "Scoping",
          "Scoping",
          "Scoping",
          "SHET",
          "Scoping",
          "Scoping",
          "Scoping",
          "Scoping",
          "Scoping",
          "Scoping",
          "Scoping",
          "Scoping",
          "Scoping",
          "Under Construction/Commissioning",
          "Scoping",
          "Under Construction/Commissioning",
          "Scoping",
          "Scoping",
          "Scoping",
          "Scoping",
          "Under Construction/Commissioning",
          "Under Construction/Commissioning",
          "Under Construction/Commissioning",
          "Scoping",
          "Energy Storage System;Nuclear;PV Array (Photo Voltaic/solar);Reactive Compensation;Wind Onshore",
          "Demand;Wind Offshore",
          "Energy Storage System;PV Array (Photo Voltaic/solar)",
          "Hydro",
          "Built",
          "Nuclear",
          "Nuclear",
          "OCGT (Open Cycle Gas Turbine)",
          "Oil & AGT (Advanced Gas Turbine)",
          "PV Array (Photo Voltaic/solar)",
          "PV Array (Photo Voltaic/solar)",
          "Pump Storage",
          "Pump Storage",
          "Reactive Compensation",
          "Awaiting Consents",
          "Built",
          "Thermal",
          "Waste",
          "Wind Offshore",
          "Wind Offshore",
          "Wind Offshore",
          "Awaiting Consents",
          "Awaiting Consents",
          "Awaiting Consents",
          "Awaiting Consents",
          "Wind Onshore",
          "Awaiting Consents",
          "OFTO",
          "Awaiting Consents",
          "Waste",
          "Built",
          "Built",
          "Gas Reciprocating",
          "Built",
          "Energy Storage System;PV Array (Photo Voltaic/solar)",
          "Energy Storage System;PV Array (Photo Voltaic/solar)",
          "Built",
          "Energy Storage System;PV Array (Photo Voltaic/solar);Reactive Compensation",
          "Energy Storage System;PV Array (Photo Voltaic/solar);Reactive Compensation;Wind Onshore",
          "Energy Storage System;PV Array (Photo Voltaic/solar);Wind Offshore",
          "Built",
          "Built",
          "Built",
          "Hydro",
          "Built",
          "Built",
          "Built",
          "Energy Storage System;Wind Onshore",
          "Energy Storage System;Wind Onshore",
          "Energy Storage System;Wind Onshore",
          "Built",
          "Built",
          "Energy Storage System;Wind Offshore",
          "Scoping",
          "Built",
          "Energy Storage System;Reactive Compensation",
          "Scoping",
          "CCGT (Combined Cycle Gas Turbine);Reactive Compensation",
          "CCGT (Combined Cycle Gas Turbine)",
          "Scoping",
          "Scoping",
          "Under Construction/Commissioning",
          "NGET",
          "Under Construction/Commissioning",
          "Wind Offshore",
          "Scoping",
          "CHP (Combined Heat and Power)",
          "Reactive Compensation",
          "Reactive Compensation",
          "Energy Storage System;PV Array (Photo Voltaic/solar);Wind Onshore",
          "Energy Storage System;PV Array (Photo Voltaic/solar);Wind Onshore",
          "Energy Storage System;Reactive Compensation",
          "Scoping",
          "Energy Storage System;Nuclear;PV Array (Photo Voltaic/solar);Wind Onshore",
          "CHP (Combined Heat and Power);Energy Storage System",
          "Awaiting Consents",
          "Scoping",
          "Awaiting Consents",
          "Scoping",
          "Awaiting Consents",
          "Scoping",
          "Consents Approved",
          "Consents Approved",
          "Built",
          "Consents Approved",
          "Consents Approved",
          "Scoping",
          "Built",
          "Consents Approved",
          "Built",
          "Built",
          "Built",
          "Built",
          "Built",
          "Built",
          "Built",
          "Built",
          "Built",
          "Scoping",
          "Scoping",
          "Scoping",
          "Awaiting Consents",
          "Awaiting Consents",
          "Awaiting Consents",
          "Awaiting Consents",
          "Awaiting Consents",
          "Awaiting Consents",
          "Scoping",
          "Scoping",
          "Scoping",
          "Scoping",
          "Scoping",
          "Scoping",
          "Scoping",
          "Built",
          "Scoping",
          "Awaiting Consents",
          "Scoping",
          "Awaiting Consents",
          "Awaiting Consents",
          "Tidal",
          "Wind Onshore",
          "Energy Storage System;PV Array (Photo Voltaic/solar);Wind Onshore",
          "Awaiting Consents",
          "Wind Onshore",
          "Awaiting Consents",
          "Energy Storage System;Reactive Compensation",
          "Built",
          "Awaiting Consents",
          "PV Array (Photo Voltaic/solar);Wind Onshore",
          "PV Array (Photo Voltaic/solar)",
          "Built",
          "Built",
          "Built",
          "Pump Storage",
          "Built",
          "Built",
          "Built",
          "Built",
          "Built",
          "Built",
          "Awaiting Consents",
          "Tidal",
          "Scoping",
          "Built",
          "CCGT (Combined Cycle Gas Turbine)",
          "CCGT (Combined Cycle Gas Turbine)",
          "Biomass",
          "Biomass",
          "Scoping",
          "Scoping",
          "Scoping",
          "Scoping",
          "CCGT (Combined Cycle Gas Turbine);Demand",
          "Scoping",
          "Scoping",
          "Scoping",
          "Scoping",
          "Scoping",
          "Scoping",
          "Scoping",
          "Scoping",
          "Scoping",
          "Scoping",
          "Built",
          "Scoping",
          "Consents Approved",
          "Energy Storage System;OCGT (Open Cycle Gas Turbine)",
          "Built",
          "Consents Approved",
          "Energy Storage System;Gas Reciprocating",
          "Energy Storage System",
          "Scoping",
          "Consents Approved",
          "Consents Approved",
          "Consents Approved",
          "Consents Approved",
          "Consents Approved",
          "Consents Approved",
          "Demand;Energy Storage System;PV Array (Photo Voltaic/solar);Reactive Compensation",
          "Consents Approved",
          "Consents Approved",
          "Consents Approved",
          "Consents Approved",
          "Coal",
          "Consents Approved",
          "Energy Storage System"
         ],
         "marker": {
          "colors": [
           "#1000ee",
           "#2B5D18",
           "#2B5D18",
           "#2B5D18",
           "#2B5D18",
           "#2B5D18",
           "#FFD700",
           "#2B5D18",
           "#FFD700",
           "#2B5D18",
           "#FFD700",
           "#1000ee",
           "#FFD700",
           "#2B5D18",
           "#FFD700",
           "#1000ee",
           "#2B5D18",
           "#1000ee",
           "#2B5D18",
           "#1000ee",
           "#2B5D18",
           "#FFD700",
           "#2B5D18",
           "#2B5D18",
           "#2B5D18",
           "#FFD700",
           "#2B5D18",
           "#2B5D18",
           "#2B5D18",
           "#2B5D18",
           "#2B5D18",
           "#2B5D18",
           "#2B5D18",
           "#2B5D18",
           "#2B5D18",
           "#1000ee",
           "#2B5D18",
           "#2B5D18",
           "#2B5D18",
           "#FFD700",
           "#FFD700",
           "#2B5D18",
           "#FFD700",
           "#2B5D18",
           "#1000ee",
           "#FFD700",
           "#2B5D18",
           "#FFD700",
           "#1000ee",
           "#2B5D18",
           "#FFD700",
           "#2B5D18",
           "#FFD700",
           "#2B5D18",
           "#FFD700",
           "#2B5D18",
           "#2B5D18",
           "#2B5D18",
           "#2B5D18",
           "#1000ee",
           "#2B5D18",
           "#FFD700",
           "#2B5D18",
           "#FFD700",
           "#2B5D18",
           "#2B5D18",
           "#1000ee",
           "#2B5D18",
           "#2B5D18",
           "#2B5D18",
           "#FFD700",
           "#FFD700",
           "#1000ee",
           "#2B5D18",
           "#FFD700",
           "#2B5D18",
           "#2B5D18",
           "#FFD700",
           "#2B5D18",
           "#2CFFe5",
           "#FFD700",
           "#2B5D18",
           "#2B5D18",
           "#FFD700",
           "#2B5D18",
           "#FFD700",
           "#2B5D18",
           "#2CFFe5",
           "#2B5D18",
           "#2B5D18",
           "#2B5D18",
           "#2B5D18",
           "#2B5D18",
           "#FFD700",
           "#FFD700",
           "#1000ee",
           "#2B5D18",
           "#2B5D18",
           "#2B5D18",
           "#2B5D18",
           "#2B5D18",
           "#2B5D18",
           "#2B5D18",
           "#2B5D18",
           "#2B5D18",
           "#2B5D18",
           "#FFD700",
           "#2B5D18",
           "#1000ee",
           "#FFD700",
           "#FFD700",
           "#2B5D18",
           "#2B5D18",
           "#2B5D18",
           "#2B5D18",
           "#1000ee",
           "#FFD700",
           "#2B5D18",
           "#2B5D18",
           "#FFD700",
           "#1000ee",
           "#1000ee",
           "#2B5D18",
           "#1000ee",
           "#1000ee",
           "#2B5D18",
           "#1000ee",
           "#FFD700",
           "#1000ee",
           "#2B5D18",
           "#1000ee",
           "#2B5D18",
           "#1000ee",
           "#2B5D18",
           "#2B5D18",
           "#2B5D18",
           "#FFD700",
           "#2B5D18",
           "#2B5D18",
           "#1000ee",
           "#FFD700",
           "#1000ee",
           "#2B5D18",
           "#2B5D18",
           "#1000ee",
           "#FFD700",
           "#2B5D18",
           "#FFD700",
           "#2B5D18",
           "#2B5D18",
           "#2B5D18",
           "#2B5D18",
           "#1000ee",
           "#FFD700",
           "#2B5D18",
           "#2CFFe5",
           "#2B5D18",
           "#1000ee",
           "#2B5D18",
           "#2B5D18",
           "#2B5D18",
           "#FFD700",
           "#2B5D18",
           "#1000ee",
           "#2B5D18",
           "#1000ee",
           "#2B5D18",
           "#1000ee",
           "#2B5D18",
           "#2B5D18",
           "#2B5D18",
           "#2B5D18",
           "#FFD700",
           "#2B5D18",
           "#1000ee",
           "#2B5D18",
           "#2B5D18",
           "#2B5D18",
           "#FFD700",
           "#1000ee",
           "#FFD700",
           "#1000ee",
           "#FFD700",
           "#2B5D18",
           "#2B5D18",
           "#2B5D18",
           "#FFD700",
           "#FFD700",
           "#2B5D18",
           "#2B5D18",
           "#1000ee",
           "#FFD700",
           "#2B5D18",
           "#2B5D18",
           "#2B5D18",
           "#1000ee",
           "#1000ee",
           "#FFD700",
           "#2B5D18",
           "#1000ee",
           "#2B5D18",
           "#FFD700",
           "#2B5D18",
           "#FFD700",
           "#2B5D18",
           "#1000ee",
           "#FFD700",
           "#1000ee",
           "#2B5D18",
           "#2B5D18",
           "#2B5D18",
           "#2B5D18",
           "#1000ee",
           "#2B5D18",
           "#1000ee",
           "#FFD700",
           "#1000ee",
           "#FFD700",
           "#2B5D18",
           "#1000ee",
           "#FFD700",
           "#2B5D18",
           "#2B5D18",
           "#1000ee",
           "#2B5D18",
           "#2B5D18",
           "#1000ee",
           "#2B5D18",
           "#1000ee",
           "#2B5D18",
           "#2B5D18",
           "#1000ee",
           "#1000ee",
           "#2B5D18",
           "#FFD700",
           "#FFD700",
           "#1000ee",
           "#2B5D18",
           "#FFD700",
           "#2B5D18",
           "#2B5D18",
           "#2B5D18",
           "#FFD700",
           "#1000ee",
           "#2B5D18",
           "#2B5D18",
           "#FFD700"
          ]
         },
         "name": "",
         "parents": [
          "",
          "NGET",
          "NGET/CCGT (Combined Cycle Gas Turbine);Demand",
          "NGET",
          "NGET",
          "NGET",
          "SHET/Wind Offshore",
          "NGET/Wind Offshore",
          "SHET/Waste",
          "NGET/Waste",
          "SHET/Tidal",
          "SPT/Reactive Compensation",
          "SHET/Reactive Compensation",
          "NGET",
          "SHET",
          "SPT",
          "NGET",
          "SPT",
          "NGET/Energy Storage System;Reactive Compensation",
          "SPT",
          "NGET",
          "SHET",
          "NGET",
          "NGET",
          "NGET/Nuclear",
          "SHET",
          "NGET/CCGT (Combined Cycle Gas Turbine);Energy Storage System;OCGT (Open Cycle Gas Turbine)",
          "NGET",
          "NGET/Wind Offshore",
          "NGET",
          "NGET/OCGT (Open Cycle Gas Turbine)",
          "NGET/Nuclear",
          "NGET/Gas Reciprocating",
          "NGET/PV Array (Photo Voltaic/solar)",
          "NGET/Reactive Compensation",
          "SPT/Reactive Compensation",
          "NGET/Thermal",
          "NGET/Energy Storage System;Reactive Compensation",
          "NGET/Tidal",
          "",
          "SHET/Tidal",
          "NGET/Wind Offshore",
          "SHET/Wind Offshore",
          "NGET/Energy Storage System;PV Array (Photo Voltaic/solar);Reactive Compensation",
          "SPT/Energy Storage System;PV Array (Photo Voltaic/solar)",
          "SHET/Energy Storage System;PV Array (Photo Voltaic/solar)",
          "NGET/Energy Storage System;PV Array (Photo Voltaic/solar)",
          "SHET/Wind Onshore",
          "SPT/Wind Onshore",
          "NGET/CCGT (Combined Cycle Gas Turbine)",
          "SHET/Energy Storage System",
          "NGET/CHP (Combined Heat and Power)",
          "SHET/Demand;Wind Onshore",
          "NGET/Demand;Wind Offshore",
          "SHET/Demand;PV Array (Photo Voltaic/solar)",
          "NGET/Demand;PV Array (Photo Voltaic/solar)",
          "NGET/Energy Storage System",
          "NGET/Energy Storage System;OCGT (Open Cycle Gas Turbine)",
          "NGET/Energy Storage System;PV Array (Photo Voltaic/solar)",
          "SPT/Demand;Energy Storage System",
          "NGET",
          "SHET",
          "NGET",
          "SHET",
          "NGET/CCGT (Combined Cycle Gas Turbine);Reactive Compensation",
          "NGET",
          "SPT",
          "NGET",
          "NGET",
          "NGET",
          "SHET",
          "SHET",
          "SPT",
          "NGET",
          "SHET/Tidal",
          "NGET/CHP (Combined Heat and Power);Energy Storage System",
          "NGET",
          "SHET",
          "NGET",
          "OFTO",
          "SHET",
          "NGET/Energy Storage System;PV Array (Photo Voltaic/solar);Wind Onshore",
          "NGET/Energy Storage System;PV Array (Photo Voltaic/solar);Reactive Compensation",
          "SHET/Energy Storage System;PV Array (Photo Voltaic/solar)",
          "NGET/Energy Storage System;PV Array (Photo Voltaic/solar)",
          "SHET",
          "NGET/Demand;Energy Storage System;PV Array (Photo Voltaic/solar);Reactive Compensation",
          "",
          "NGET/CCGT (Combined Cycle Gas Turbine);Energy Storage System;OCGT (Open Cycle Gas Turbine)",
          "NGET",
          "NGET/Coal",
          "NGET/CHP (Combined Heat and Power)",
          "NGET",
          "SHET/Wind Offshore",
          "SHET",
          "SPT",
          "NGET/Thermal",
          "NGET",
          "NGET",
          "NGET",
          "NGET/Pump Storage",
          "NGET/PV Array (Photo Voltaic/solar)",
          "NGET/Oil & AGT (Advanced Gas Turbine)",
          "NGET",
          "NGET/Hydro",
          "NGET/Gas Reciprocating",
          "SHET/Hydro",
          "NGET",
          "SPT",
          "SHET",
          "SHET/Energy Storage System;Wind Onshore",
          "NGET/Energy Storage System;OCGT (Open Cycle Gas Turbine)",
          "NGET",
          "NGET/OCGT (Open Cycle Gas Turbine)",
          "NGET/Energy Storage System;Wind Offshore",
          "SPT",
          "SHET/Demand;Wind Offshore",
          "NGET",
          "NGET",
          "SHET/PV Array (Photo Voltaic/solar)",
          "SPT/PV Array (Photo Voltaic/solar)",
          "SPT/Wind Onshore",
          "",
          "SPT/Wind Offshore",
          "SPT",
          "NGET/Wind Onshore",
          "SPT",
          "SHET",
          "SPT",
          "NGET",
          "SPT",
          "NGET",
          "SPT/Wind Offshore",
          "NGET",
          "NGET",
          "NGET/CCGT (Combined Cycle Gas Turbine)",
          "SHET/Energy Storage System;PV Array (Photo Voltaic/solar);Wind Onshore",
          "NGET/PV Array (Photo Voltaic/solar)",
          "NGET/CCGT (Combined Cycle Gas Turbine);Energy Storage System",
          "SPT/Wind Onshore",
          "SHET/CCGT (Combined Cycle Gas Turbine)",
          "SPT/Wind Onshore",
          "NGET/Reactive Compensation",
          "NGET/CCGT (Combined Cycle Gas Turbine);Energy Storage System",
          "SPT/Energy Storage System;PV Array (Photo Voltaic/solar)",
          "SHET/Energy Storage System;PV Array (Photo Voltaic/solar)",
          "NGET/Coal",
          "SHET/Energy Storage System",
          "NGET/Energy Storage System",
          "NGET/Energy Storage System;Gas Reciprocating",
          "NGET/Energy Storage System;PV Array (Photo Voltaic/solar)",
          "NGET/Nuclear",
          "SPT/Nuclear",
          "SHET/Wind Onshore",
          "NGET/OCGT (Open Cycle Gas Turbine)",
          "OFTO/Wind Offshore",
          "NGET/Wind Offshore",
          "SPT/Energy Storage System",
          "NGET/Demand;Energy Storage System",
          "NGET/CCGT (Combined Cycle Gas Turbine);Demand;Energy Storage System",
          "NGET/Energy Storage System;Nuclear;PV Array (Photo Voltaic/solar);Reactive Compensation;Wind Onshore",
          "SHET/Demand;Energy Storage System",
          "NGET/Energy Storage System",
          "SPT/Energy Storage System",
          "NGET/Energy Storage System;Nuclear;PV Array (Photo Voltaic/solar);Reactive Compensation;Wind Onshore",
          "SPT/Energy Storage System;PV Array (Photo Voltaic/solar);Wind Onshore",
          "NGET/Energy Storage System;Reactive Compensation",
          "SPT/Energy Storage System;PV Array (Photo Voltaic/solar);Wind Onshore",
          "NGET/Energy Storage System;PV Array (Photo Voltaic/solar);Wind Onshore",
          "NGET/Energy Storage System;PV Array (Photo Voltaic/solar);Wind Offshore",
          "NGET/Energy Storage System;PV Array (Photo Voltaic/solar);Reactive Compensation;Wind Onshore",
          "NGET/Energy Storage System;Nuclear;PV Array (Photo Voltaic/solar);Wind Onshore",
          "SHET/Demand;Energy Storage System",
          "NGET/Energy Storage System;Hydro;Nuclear;PV Array (Photo Voltaic/solar);Wind Onshore",
          "SPT/Pump Storage",
          "NGET/Energy Storage System",
          "NGET/Nuclear",
          "NGET/Energy Storage System;Gas Reciprocating",
          "SHET/Energy Storage System;Wind Onshore",
          "SPT/Energy Storage System;Wind Onshore",
          "SHET",
          "SPT",
          "SHET",
          "NGET/Waste",
          "NGET",
          "NGET/Wind Offshore",
          "SHET",
          "SHET/Energy Storage System;Reactive Compensation",
          "NGET/Wind Onshore",
          "NGET",
          "SPT",
          "SHET/Pump Storage",
          "NGET/Energy Storage System",
          "NGET/Demand;PV Array (Photo Voltaic/solar);Waste",
          "NGET",
          "SPT/CHP (Combined Heat and Power)",
          "SPT/CCGT (Combined Cycle Gas Turbine)",
          "SHET/CCGT (Combined Cycle Gas Turbine)",
          "NGET/CCGT (Combined Cycle Gas Turbine)",
          "SPT/Biomass",
          "NGET/Biomass",
          "SHET/Wind Onshore",
          "NGET",
          "SHET/Energy Storage System;Wind Onshore",
          "NGET/Wind Onshore",
          "SPT",
          "SHET",
          "SPT",
          "NGET",
          "NGET/CCGT (Combined Cycle Gas Turbine);Energy Storage System;OCGT (Open Cycle Gas Turbine)",
          "NGET/Demand;Energy Storage System;PV Array (Photo Voltaic/solar)",
          "NGET/Demand;Energy Storage System;PV Array (Photo Voltaic/solar);Reactive Compensation",
          "SPT/Demand;Energy Storage System;PV Array (Photo Voltaic/solar);Reactive Compensation",
          "NGET",
          "SPT/Demand;Energy Storage System;Reactive Compensation",
          "SHET/Energy Storage System;Reactive Compensation",
          "SPT/Energy Storage System;Reactive Compensation",
          "SHET/Reactive Compensation",
          "NGET/Energy Storage System;Wind Offshore",
          "SPT/Pump Storage",
          "SHET/Pump Storage",
          "NGET/PV Array (Photo Voltaic/solar);Wind Onshore",
          "NGET/Energy Storage System;Wind Onshore",
          "SPT/Energy Storage System",
          "NGET/Reactive Compensation",
          "NGET/CCGT (Combined Cycle Gas Turbine)",
          "SPT/Wind Offshore",
          "NGET",
          "SPT/Wind Onshore",
          "NGET/Biomass",
          "NGET",
          "SPT",
          "SPT/Energy Storage System;Wind Onshore",
          "NGET/CCGT (Combined Cycle Gas Turbine)",
          "SHET/Energy Storage System",
          "SHET/Wind Onshore",
          "SPT/Energy Storage System",
          "NGET/Energy Storage System;PV Array (Photo Voltaic/solar)",
          "SHET/Energy Storage System;Reactive Compensation",
          "NGET",
          "NGET/Energy Storage System;Wind Offshore",
          "NGET/Gas Reciprocating",
          "SHET/Pump Storage",
          "SPT/Pump Storage",
          "NGET",
          "NGET/Energy Storage System;OCGT (Open Cycle Gas Turbine)",
          "SHET"
         ],
         "type": "sunburst",
         "values": [
          73226.16,
          21600,
          2406,
          5714,
          7600,
          734.04,
          2485,
          5152,
          40,
          83,
          99,
          0,
          0,
          100,
          847.9,
          1051,
          3132.4,
          150,
          61.9,
          200,
          4000,
          20,
          2021,
          1500,
          940,
          112.2,
          1800,
          86221.795,
          2400,
          1000,
          897,
          5010,
          405.9,
          6372.39,
          1,
          0,
          154.49,
          1208.9,
          590,
          80322.587,
          287,
          64064.25,
          25943,
          1300,
          5518.9,
          4325.287,
          116195.6,
          6496,
          6194.7,
          1260,
          16426.76,
          30,
          112.2,
          1500,
          20,
          4000,
          510.28,
          150,
          449.98,
          1051,
          3000,
          300,
          143319.675,
          872.4,
          1517,
          16821,
          2270,
          2847.9,
          61.5,
          6672.1849999999995,
          142,
          8953,
          1730,
          21,
          391,
          1268,
          299.13,
          40,
          81271.25,
          4338.4,
          30061.1,
          400,
          1025,
          560,
          23697.395,
          11036.35,
          5527,
          4338.4,
          5490,
          132.9,
          2001,
          704.04,
          661.78,
          1633.1,
          4951.277,
          5568.9,
          144.64,
          2325,
          1000,
          2500,
          2004,
          49.9,
          61.5,
          129,
          129,
          106,
          872.4,
          700,
          2395.9,
          2852.7,
          71.4,
          299.99,
          7340,
          500,
          90,
          1000,
          300,
          1517,
          34822,
          142,
          590.7,
          211.5,
          486966.335,
          500,
          11606,
          3984.1,
          120,
          0,
          0,
          7424,
          1663.8,
          1848.7,
          9578,
          4000,
          1268,
          1752,
          50,
          249.89499999999998,
          2000,
          1536.44,
          910,
          1564.63,
          0,
          3714,
          50,
          65.99000000000001,
          50,
          49,
          5456.495,
          19,
          49.9,
          5861,
          2270,
          2537.95,
          1450.9,
          4338.4,
          6655,
          49.95,
          100,
          21600,
          2000,
          100,
          5596.37,
          1084,
          1000,
          400,
          577.9,
          1263.8,
          7024,
          2500,
          1000,
          4000,
          747.9,
          1000,
          440,
          73592.85,
          5010,
          1075,
          309,
          577,
          777,
          13603.12,
          50,
          49.9,
          4311.1,
          3000,
          96,
          0,
          67,
          180,
          590.7,
          300,
          1065.8,
          2021,
          2004,
          120,
          20,
          1180,
          26330,
          55,
          2723,
          273.8,
          590,
          2472.3,
          260,
          20,
          2090,
          55,
          3083,
          310,
          3132.4,
          5400,
          150,
          2406,
          200,
          48,
          1000,
          0,
          2000,
          1080,
          8041,
          180,
          700,
          29886.79,
          20,
          3900,
          1528,
          6714.98,
          4095.85,
          360,
          1094,
          31201.74,
          1818.9,
          1580,
          644.9,
          1728.6,
          181,
          2926.8,
          48,
          10927,
          5250,
          149.88,
          612,
          210,
          2051,
          6264.99,
          17120.66
         ]
        }
       ],
       "layout": {
        "height": 800,
        "legend": {
         "tracegroupgap": 0
        },
        "sunburstcolorway": [
         "#1000ee",
         "#2B5D18",
         "#FFD700",
         "#2CFFe5",
         "#1000ee",
         "#2B5D18",
         "#FFD700",
         "#2CFFe5",
         "#1000ee",
         "#2B5D18",
         "#FFD700",
         "#2CFFe5",
         "#1000ee",
         "#2B5D18",
         "#FFD700",
         "#2CFFe5",
         "#1000ee",
         "#2B5D18",
         "#FFD700",
         "#2CFFe5",
         "#1000ee",
         "#2B5D18",
         "#FFD700",
         "#2CFFe5",
         "#1000ee",
         "#2B5D18",
         "#FFD700",
         "#2CFFe5",
         "#1000ee",
         "#2B5D18",
         "#FFD700",
         "#2CFFe5",
         "#1000ee",
         "#2B5D18",
         "#FFD700",
         "#2CFFe5",
         "#1000ee",
         "#2B5D18",
         "#FFD700",
         "#2CFFe5",
         "#1000ee",
         "#2B5D18",
         "#FFD700",
         "#2CFFe5",
         "#1000ee",
         "#2B5D18",
         "#FFD700",
         "#2CFFe5",
         "#1000ee",
         "#2B5D18",
         "#FFD700",
         "#2CFFe5",
         "#1000ee",
         "#2B5D18",
         "#FFD700",
         "#2CFFe5",
         "#1000ee",
         "#2B5D18",
         "#FFD700",
         "#2CFFe5",
         "#1000ee",
         "#2B5D18",
         "#FFD700",
         "#2CFFe5",
         "#1000ee",
         "#2B5D18",
         "#FFD700",
         "#2CFFe5",
         "#1000ee",
         "#2B5D18",
         "#FFD700",
         "#2CFFe5",
         "#1000ee",
         "#2B5D18",
         "#FFD700",
         "#2CFFe5",
         "#1000ee",
         "#2B5D18",
         "#FFD700",
         "#2CFFe5",
         "#1000ee",
         "#2B5D18",
         "#FFD700",
         "#2CFFe5",
         "#1000ee",
         "#2B5D18",
         "#FFD700",
         "#2CFFe5",
         "#1000ee",
         "#2B5D18",
         "#FFD700",
         "#2CFFe5",
         "#1000ee",
         "#2B5D18",
         "#FFD700",
         "#2CFFe5",
         "#1000ee",
         "#2B5D18",
         "#FFD700",
         "#2CFFe5",
         "#1000ee",
         "#2B5D18",
         "#FFD700",
         "#2CFFe5",
         "#1000ee",
         "#2B5D18",
         "#FFD700",
         "#2CFFe5",
         "#1000ee",
         "#2B5D18",
         "#FFD700",
         "#2CFFe5",
         "#1000ee",
         "#2B5D18",
         "#FFD700",
         "#2CFFe5",
         "#1000ee",
         "#2B5D18",
         "#FFD700",
         "#2CFFe5",
         "#1000ee",
         "#2B5D18",
         "#FFD700",
         "#2CFFe5",
         "#1000ee",
         "#2B5D18",
         "#FFD700",
         "#2CFFe5",
         "#1000ee",
         "#2B5D18",
         "#FFD700",
         "#2CFFe5",
         "#1000ee",
         "#2B5D18",
         "#FFD700",
         "#2CFFe5",
         "#1000ee",
         "#2B5D18",
         "#FFD700",
         "#2CFFe5",
         "#1000ee",
         "#2B5D18",
         "#FFD700",
         "#2CFFe5",
         "#1000ee",
         "#2B5D18",
         "#FFD700",
         "#2CFFe5",
         "#1000ee",
         "#2B5D18",
         "#FFD700",
         "#2CFFe5",
         "#1000ee",
         "#2B5D18",
         "#FFD700",
         "#2CFFe5",
         "#1000ee",
         "#2B5D18",
         "#FFD700",
         "#2CFFe5",
         "#1000ee",
         "#2B5D18",
         "#FFD700",
         "#2CFFe5",
         "#1000ee",
         "#2B5D18",
         "#FFD700",
         "#2CFFe5",
         "#1000ee",
         "#2B5D18",
         "#FFD700",
         "#2CFFe5",
         "#1000ee",
         "#2B5D18",
         "#FFD700",
         "#2CFFe5",
         "#1000ee",
         "#2B5D18",
         "#FFD700",
         "#2CFFe5",
         "#1000ee",
         "#2B5D18",
         "#FFD700",
         "#2CFFe5",
         "#1000ee",
         "#2B5D18",
         "#FFD700",
         "#2CFFe5",
         "#1000ee",
         "#2B5D18",
         "#FFD700",
         "#2CFFe5",
         "#1000ee",
         "#2B5D18",
         "#FFD700",
         "#2CFFe5",
         "#1000ee",
         "#2B5D18",
         "#FFD700",
         "#2CFFe5",
         "#1000ee",
         "#2B5D18",
         "#FFD700",
         "#2CFFe5",
         "#1000ee",
         "#2B5D18",
         "#FFD700",
         "#2CFFe5",
         "#1000ee",
         "#2B5D18",
         "#FFD700",
         "#2CFFe5",
         "#1000ee",
         "#2B5D18",
         "#FFD700",
         "#2CFFe5",
         "#1000ee",
         "#2B5D18",
         "#FFD700",
         "#2CFFe5",
         "#1000ee",
         "#2B5D18",
         "#FFD700",
         "#2CFFe5",
         "#1000ee",
         "#2B5D18",
         "#FFD700",
         "#2CFFe5",
         "#1000ee",
         "#2B5D18",
         "#FFD700",
         "#2CFFe5",
         "#1000ee",
         "#2B5D18",
         "#FFD700",
         "#2CFFe5",
         "#1000ee",
         "#2B5D18",
         "#FFD700",
         "#2CFFe5",
         "#1000ee",
         "#2B5D18",
         "#FFD700",
         "#2CFFe5",
         "#1000ee",
         "#2B5D18",
         "#FFD700",
         "#2CFFe5",
         "#1000ee",
         "#2B5D18",
         "#FFD700",
         "#2CFFe5",
         "#1000ee",
         "#2B5D18",
         "#FFD700",
         "#2CFFe5",
         "#1000ee",
         "#2B5D18",
         "#FFD700",
         "#2CFFe5",
         "#1000ee",
         "#2B5D18",
         "#FFD700",
         "#2CFFe5",
         "#1000ee",
         "#2B5D18",
         "#FFD700",
         "#2CFFe5",
         "#1000ee",
         "#2B5D18",
         "#FFD700",
         "#2CFFe5",
         "#1000ee",
         "#2B5D18",
         "#FFD700",
         "#2CFFe5",
         "#1000ee",
         "#2B5D18",
         "#FFD700",
         "#2CFFe5",
         "#1000ee",
         "#2B5D18",
         "#FFD700",
         "#2CFFe5",
         "#1000ee",
         "#2B5D18",
         "#FFD700",
         "#2CFFe5",
         "#1000ee",
         "#2B5D18",
         "#FFD700",
         "#2CFFe5",
         "#1000ee",
         "#2B5D18",
         "#FFD700",
         "#2CFFe5",
         "#1000ee",
         "#2B5D18",
         "#FFD700",
         "#2CFFe5",
         "#1000ee",
         "#2B5D18",
         "#FFD700",
         "#2CFFe5",
         "#1000ee",
         "#2B5D18",
         "#FFD700",
         "#2CFFe5",
         "#1000ee",
         "#2B5D18",
         "#FFD700",
         "#2CFFe5",
         "#1000ee",
         "#2B5D18",
         "#FFD700",
         "#2CFFe5",
         "#1000ee",
         "#2B5D18",
         "#FFD700",
         "#2CFFe5",
         "#1000ee",
         "#2B5D18",
         "#FFD700",
         "#2CFFe5",
         "#1000ee",
         "#2B5D18",
         "#FFD700",
         "#2CFFe5",
         "#1000ee",
         "#2B5D18",
         "#FFD700",
         "#2CFFe5",
         "#1000ee",
         "#2B5D18",
         "#FFD700",
         "#2CFFe5",
         "#1000ee",
         "#2B5D18",
         "#FFD700",
         "#2CFFe5",
         "#1000ee",
         "#2B5D18",
         "#FFD700",
         "#2CFFe5",
         "#1000ee",
         "#2B5D18",
         "#FFD700",
         "#2CFFe5",
         "#1000ee",
         "#2B5D18",
         "#FFD700",
         "#2CFFe5",
         "#1000ee",
         "#2B5D18",
         "#FFD700",
         "#2CFFe5",
         "#1000ee",
         "#2B5D18",
         "#FFD700",
         "#2CFFe5",
         "#1000ee",
         "#2B5D18",
         "#FFD700",
         "#2CFFe5",
         "#1000ee",
         "#2B5D18",
         "#FFD700",
         "#2CFFe5",
         "#1000ee",
         "#2B5D18",
         "#FFD700",
         "#2CFFe5",
         "#1000ee",
         "#2B5D18",
         "#FFD700",
         "#2CFFe5",
         "#1000ee",
         "#2B5D18",
         "#FFD700",
         "#2CFFe5",
         "#1000ee",
         "#2B5D18",
         "#FFD700",
         "#2CFFe5",
         "#1000ee",
         "#2B5D18",
         "#FFD700",
         "#2CFFe5",
         "#1000ee",
         "#2B5D18",
         "#FFD700",
         "#2CFFe5",
         "#1000ee",
         "#2B5D18",
         "#FFD700",
         "#2CFFe5",
         "#1000ee",
         "#2B5D18",
         "#FFD700",
         "#2CFFe5",
         "#1000ee",
         "#2B5D18",
         "#FFD700",
         "#2CFFe5",
         "#1000ee",
         "#2B5D18",
         "#FFD700",
         "#2CFFe5",
         "#1000ee",
         "#2B5D18",
         "#FFD700",
         "#2CFFe5",
         "#1000ee",
         "#2B5D18",
         "#FFD700",
         "#2CFFe5",
         "#1000ee",
         "#2B5D18",
         "#FFD700",
         "#2CFFe5",
         "#1000ee",
         "#2B5D18",
         "#FFD700",
         "#2CFFe5",
         "#1000ee",
         "#2B5D18",
         "#FFD700",
         "#2CFFe5",
         "#1000ee",
         "#2B5D18",
         "#FFD700",
         "#2CFFe5",
         "#1000ee",
         "#2B5D18",
         "#FFD700",
         "#2CFFe5",
         "#1000ee",
         "#2B5D18",
         "#FFD700",
         "#2CFFe5",
         "#1000ee",
         "#2B5D18",
         "#FFD700",
         "#2CFFe5",
         "#1000ee",
         "#2B5D18",
         "#FFD700",
         "#2CFFe5",
         "#1000ee",
         "#2B5D18",
         "#FFD700",
         "#2CFFe5",
         "#1000ee",
         "#2B5D18",
         "#FFD700",
         "#2CFFe5",
         "#1000ee",
         "#2B5D18",
         "#FFD700",
         "#2CFFe5",
         "#1000ee",
         "#2B5D18",
         "#FFD700",
         "#2CFFe5",
         "#1000ee",
         "#2B5D18",
         "#FFD700",
         "#2CFFe5",
         "#1000ee",
         "#2B5D18",
         "#FFD700",
         "#2CFFe5",
         "#1000ee",
         "#2B5D18",
         "#FFD700",
         "#2CFFe5",
         "#1000ee",
         "#2B5D18",
         "#FFD700",
         "#2CFFe5",
         "#1000ee",
         "#2B5D18",
         "#FFD700",
         "#2CFFe5",
         "#1000ee",
         "#2B5D18",
         "#FFD700",
         "#2CFFe5",
         "#1000ee",
         "#2B5D18",
         "#FFD700",
         "#2CFFe5",
         "#1000ee",
         "#2B5D18",
         "#FFD700",
         "#2CFFe5",
         "#1000ee",
         "#2B5D18",
         "#FFD700",
         "#2CFFe5",
         "#1000ee",
         "#2B5D18",
         "#FFD700",
         "#2CFFe5",
         "#1000ee",
         "#2B5D18",
         "#FFD700",
         "#2CFFe5",
         "#1000ee",
         "#2B5D18",
         "#FFD700",
         "#2CFFe5",
         "#1000ee",
         "#2B5D18",
         "#FFD700",
         "#2CFFe5",
         "#1000ee",
         "#2B5D18",
         "#FFD700",
         "#2CFFe5",
         "#1000ee",
         "#2B5D18",
         "#FFD700",
         "#2CFFe5",
         "#1000ee",
         "#2B5D18",
         "#FFD700",
         "#2CFFe5",
         "#1000ee",
         "#2B5D18",
         "#FFD700",
         "#2CFFe5",
         "#1000ee",
         "#2B5D18",
         "#FFD700",
         "#2CFFe5",
         "#1000ee",
         "#2B5D18",
         "#FFD700",
         "#2CFFe5",
         "#1000ee",
         "#2B5D18",
         "#FFD700",
         "#2CFFe5",
         "#1000ee",
         "#2B5D18",
         "#FFD700",
         "#2CFFe5",
         "#1000ee",
         "#2B5D18",
         "#FFD700",
         "#2CFFe5",
         "#1000ee",
         "#2B5D18",
         "#FFD700",
         "#2CFFe5",
         "#1000ee",
         "#2B5D18",
         "#FFD700",
         "#2CFFe5",
         "#1000ee",
         "#2B5D18",
         "#FFD700",
         "#2CFFe5",
         "#1000ee",
         "#2B5D18",
         "#FFD700",
         "#2CFFe5",
         "#1000ee",
         "#2B5D18",
         "#FFD700",
         "#2CFFe5",
         "#1000ee",
         "#2B5D18",
         "#FFD700",
         "#2CFFe5",
         "#1000ee",
         "#2B5D18",
         "#FFD700",
         "#2CFFe5",
         "#1000ee",
         "#2B5D18",
         "#FFD700",
         "#2CFFe5",
         "#1000ee",
         "#2B5D18",
         "#FFD700",
         "#2CFFe5",
         "#1000ee",
         "#2B5D18",
         "#FFD700",
         "#2CFFe5",
         "#1000ee",
         "#2B5D18",
         "#FFD700",
         "#2CFFe5",
         "#1000ee",
         "#2B5D18",
         "#FFD700",
         "#2CFFe5",
         "#1000ee",
         "#2B5D18",
         "#FFD700",
         "#2CFFe5",
         "#1000ee",
         "#2B5D18",
         "#FFD700",
         "#2CFFe5",
         "#1000ee",
         "#2B5D18",
         "#FFD700",
         "#2CFFe5",
         "#1000ee",
         "#2B5D18",
         "#FFD700",
         "#2CFFe5",
         "#1000ee",
         "#2B5D18",
         "#FFD700",
         "#2CFFe5",
         "#1000ee",
         "#2B5D18",
         "#FFD700",
         "#2CFFe5",
         "#1000ee",
         "#2B5D18",
         "#FFD700",
         "#2CFFe5",
         "#1000ee",
         "#2B5D18",
         "#FFD700",
         "#2CFFe5",
         "#1000ee",
         "#2B5D18",
         "#FFD700",
         "#2CFFe5",
         "#1000ee",
         "#2B5D18",
         "#FFD700",
         "#2CFFe5",
         "#1000ee",
         "#2B5D18",
         "#FFD700",
         "#2CFFe5",
         "#1000ee",
         "#2B5D18",
         "#FFD700",
         "#2CFFe5",
         "#1000ee",
         "#2B5D18",
         "#FFD700",
         "#2CFFe5",
         "#1000ee",
         "#2B5D18",
         "#FFD700",
         "#2CFFe5",
         "#1000ee",
         "#2B5D18",
         "#FFD700",
         "#2CFFe5",
         "#1000ee",
         "#2B5D18",
         "#FFD700",
         "#2CFFe5",
         "#1000ee",
         "#2B5D18",
         "#FFD700",
         "#2CFFe5",
         "#1000ee",
         "#2B5D18",
         "#FFD700",
         "#2CFFe5",
         "#1000ee",
         "#2B5D18",
         "#FFD700",
         "#2CFFe5",
         "#1000ee",
         "#2B5D18",
         "#FFD700",
         "#2CFFe5",
         "#1000ee",
         "#2B5D18",
         "#FFD700",
         "#2CFFe5",
         "#1000ee",
         "#2B5D18",
         "#FFD700",
         "#2CFFe5",
         "#1000ee",
         "#2B5D18",
         "#FFD700",
         "#2CFFe5",
         "#1000ee",
         "#2B5D18",
         "#FFD700",
         "#2CFFe5",
         "#1000ee",
         "#2B5D18",
         "#FFD700",
         "#2CFFe5",
         "#1000ee",
         "#2B5D18",
         "#FFD700",
         "#2CFFe5",
         "#1000ee",
         "#2B5D18",
         "#FFD700",
         "#2CFFe5",
         "#1000ee",
         "#2B5D18",
         "#FFD700",
         "#2CFFe5",
         "#1000ee",
         "#2B5D18",
         "#FFD700",
         "#2CFFe5",
         "#1000ee",
         "#2B5D18",
         "#FFD700",
         "#2CFFe5",
         "#1000ee",
         "#2B5D18",
         "#FFD700",
         "#2CFFe5",
         "#1000ee",
         "#2B5D18",
         "#FFD700",
         "#2CFFe5",
         "#1000ee",
         "#2B5D18",
         "#FFD700",
         "#2CFFe5",
         "#1000ee",
         "#2B5D18",
         "#FFD700",
         "#2CFFe5",
         "#1000ee",
         "#2B5D18",
         "#FFD700",
         "#2CFFe5",
         "#1000ee",
         "#2B5D18",
         "#FFD700",
         "#2CFFe5",
         "#1000ee",
         "#2B5D18",
         "#FFD700",
         "#2CFFe5",
         "#1000ee",
         "#2B5D18",
         "#FFD700",
         "#2CFFe5",
         "#1000ee",
         "#2B5D18",
         "#FFD700",
         "#2CFFe5",
         "#1000ee",
         "#2B5D18",
         "#FFD700",
         "#2CFFe5",
         "#1000ee",
         "#2B5D18",
         "#FFD700",
         "#2CFFe5",
         "#1000ee",
         "#2B5D18",
         "#FFD700",
         "#2CFFe5",
         "#1000ee",
         "#2B5D18",
         "#FFD700",
         "#2CFFe5",
         "#1000ee",
         "#2B5D18",
         "#FFD700",
         "#2CFFe5",
         "#1000ee",
         "#2B5D18",
         "#FFD700",
         "#2CFFe5",
         "#1000ee",
         "#2B5D18",
         "#FFD700",
         "#2CFFe5",
         "#1000ee",
         "#2B5D18",
         "#FFD700",
         "#2CFFe5",
         "#1000ee",
         "#2B5D18",
         "#FFD700",
         "#2CFFe5",
         "#1000ee",
         "#2B5D18",
         "#FFD700",
         "#2CFFe5",
         "#1000ee",
         "#2B5D18",
         "#FFD700",
         "#2CFFe5",
         "#1000ee",
         "#2B5D18",
         "#FFD700",
         "#2CFFe5",
         "#1000ee",
         "#2B5D18",
         "#FFD700",
         "#2CFFe5",
         "#1000ee",
         "#2B5D18",
         "#FFD700",
         "#2CFFe5",
         "#1000ee",
         "#2B5D18",
         "#FFD700",
         "#2CFFe5",
         "#1000ee",
         "#2B5D18",
         "#FFD700",
         "#2CFFe5",
         "#1000ee",
         "#2B5D18",
         "#FFD700",
         "#2CFFe5",
         "#1000ee",
         "#2B5D18",
         "#FFD700",
         "#2CFFe5",
         "#1000ee",
         "#2B5D18",
         "#FFD700",
         "#2CFFe5",
         "#1000ee",
         "#2B5D18",
         "#FFD700",
         "#2CFFe5",
         "#1000ee",
         "#2B5D18",
         "#FFD700",
         "#2CFFe5",
         "#1000ee",
         "#2B5D18",
         "#FFD700",
         "#2CFFe5",
         "#1000ee",
         "#2B5D18",
         "#FFD700",
         "#2CFFe5",
         "#1000ee",
         "#2B5D18",
         "#FFD700",
         "#2CFFe5",
         "#1000ee",
         "#2B5D18",
         "#FFD700",
         "#2CFFe5",
         "#1000ee",
         "#2B5D18",
         "#FFD700",
         "#2CFFe5",
         "#1000ee",
         "#2B5D18",
         "#FFD700",
         "#2CFFe5",
         "#1000ee",
         "#2B5D18",
         "#FFD700",
         "#2CFFe5",
         "#1000ee",
         "#2B5D18",
         "#FFD700",
         "#2CFFe5",
         "#1000ee",
         "#2B5D18",
         "#FFD700",
         "#2CFFe5",
         "#1000ee",
         "#2B5D18",
         "#FFD700",
         "#2CFFe5",
         "#1000ee",
         "#2B5D18",
         "#FFD700",
         "#2CFFe5",
         "#1000ee",
         "#2B5D18",
         "#FFD700",
         "#2CFFe5",
         "#1000ee",
         "#2B5D18",
         "#FFD700",
         "#2CFFe5",
         "#1000ee",
         "#2B5D18",
         "#FFD700",
         "#2CFFe5",
         "#1000ee",
         "#2B5D18",
         "#FFD700",
         "#2CFFe5",
         "#1000ee",
         "#2B5D18",
         "#FFD700",
         "#2CFFe5",
         "#1000ee",
         "#2B5D18",
         "#FFD700",
         "#2CFFe5",
         "#1000ee",
         "#2B5D18",
         "#FFD700",
         "#2CFFe5",
         "#1000ee",
         "#2B5D18",
         "#FFD700",
         "#2CFFe5",
         "#1000ee",
         "#2B5D18",
         "#FFD700",
         "#2CFFe5",
         "#1000ee",
         "#2B5D18",
         "#FFD700",
         "#2CFFe5",
         "#1000ee",
         "#2B5D18",
         "#FFD700",
         "#2CFFe5",
         "#1000ee",
         "#2B5D18",
         "#FFD700",
         "#2CFFe5",
         "#1000ee",
         "#2B5D18",
         "#FFD700",
         "#2CFFe5",
         "#1000ee",
         "#2B5D18",
         "#FFD700",
         "#2CFFe5",
         "#1000ee",
         "#2B5D18",
         "#FFD700",
         "#2CFFe5",
         "#1000ee",
         "#2B5D18",
         "#FFD700",
         "#2CFFe5",
         "#1000ee",
         "#2B5D18",
         "#FFD700",
         "#2CFFe5",
         "#1000ee",
         "#2B5D18",
         "#FFD700",
         "#2CFFe5",
         "#1000ee",
         "#2B5D18",
         "#FFD700",
         "#2CFFe5",
         "#1000ee",
         "#2B5D18",
         "#FFD700",
         "#2CFFe5",
         "#1000ee",
         "#2B5D18",
         "#FFD700",
         "#2CFFe5",
         "#1000ee",
         "#2B5D18",
         "#FFD700",
         "#2CFFe5",
         "#1000ee",
         "#2B5D18",
         "#FFD700",
         "#2CFFe5",
         "#1000ee",
         "#2B5D18",
         "#FFD700",
         "#2CFFe5",
         "#1000ee",
         "#2B5D18",
         "#FFD700",
         "#2CFFe5",
         "#1000ee",
         "#2B5D18",
         "#FFD700",
         "#2CFFe5",
         "#1000ee",
         "#2B5D18",
         "#FFD700",
         "#2CFFe5",
         "#1000ee",
         "#2B5D18",
         "#FFD700",
         "#2CFFe5",
         "#1000ee",
         "#2B5D18",
         "#FFD700",
         "#2CFFe5",
         "#1000ee",
         "#2B5D18",
         "#FFD700",
         "#2CFFe5",
         "#1000ee",
         "#2B5D18",
         "#FFD700",
         "#2CFFe5",
         "#1000ee",
         "#2B5D18",
         "#FFD700",
         "#2CFFe5",
         "#1000ee",
         "#2B5D18",
         "#FFD700",
         "#2CFFe5",
         "#1000ee",
         "#2B5D18",
         "#FFD700",
         "#2CFFe5",
         "#1000ee",
         "#2B5D18",
         "#FFD700",
         "#2CFFe5",
         "#1000ee",
         "#2B5D18",
         "#FFD700",
         "#2CFFe5",
         "#1000ee",
         "#2B5D18",
         "#FFD700",
         "#2CFFe5",
         "#1000ee",
         "#2B5D18",
         "#FFD700",
         "#2CFFe5",
         "#1000ee",
         "#2B5D18",
         "#FFD700",
         "#2CFFe5",
         "#1000ee",
         "#2B5D18",
         "#FFD700",
         "#2CFFe5",
         "#1000ee",
         "#2B5D18",
         "#FFD700",
         "#2CFFe5",
         "#1000ee",
         "#2B5D18",
         "#FFD700",
         "#2CFFe5",
         "#1000ee",
         "#2B5D18",
         "#FFD700",
         "#2CFFe5",
         "#1000ee",
         "#2B5D18",
         "#FFD700",
         "#2CFFe5",
         "#1000ee",
         "#2B5D18",
         "#FFD700",
         "#2CFFe5",
         "#1000ee",
         "#2B5D18",
         "#FFD700",
         "#2CFFe5",
         "#1000ee",
         "#2B5D18",
         "#FFD700",
         "#2CFFe5",
         "#1000ee",
         "#2B5D18",
         "#FFD700",
         "#2CFFe5",
         "#1000ee",
         "#2B5D18",
         "#FFD700",
         "#2CFFe5",
         "#1000ee",
         "#2B5D18",
         "#FFD700",
         "#2CFFe5",
         "#1000ee",
         "#2B5D18",
         "#FFD700",
         "#2CFFe5",
         "#1000ee",
         "#2B5D18",
         "#FFD700",
         "#2CFFe5",
         "#1000ee",
         "#2B5D18",
         "#FFD700",
         "#2CFFe5",
         "#1000ee",
         "#2B5D18",
         "#FFD700",
         "#2CFFe5",
         "#1000ee",
         "#2B5D18",
         "#FFD700",
         "#2CFFe5",
         "#1000ee",
         "#2B5D18",
         "#FFD700",
         "#2CFFe5",
         "#1000ee",
         "#2B5D18",
         "#FFD700",
         "#2CFFe5",
         "#1000ee",
         "#2B5D18",
         "#FFD700",
         "#2CFFe5",
         "#1000ee",
         "#2B5D18",
         "#FFD700",
         "#2CFFe5",
         "#1000ee",
         "#2B5D18",
         "#FFD700",
         "#2CFFe5",
         "#1000ee",
         "#2B5D18",
         "#FFD700",
         "#2CFFe5",
         "#1000ee",
         "#2B5D18",
         "#FFD700",
         "#2CFFe5",
         "#1000ee",
         "#2B5D18",
         "#FFD700",
         "#2CFFe5",
         "#1000ee",
         "#2B5D18",
         "#FFD700",
         "#2CFFe5",
         "#1000ee",
         "#2B5D18",
         "#FFD700",
         "#2CFFe5",
         "#1000ee",
         "#2B5D18",
         "#FFD700",
         "#2CFFe5",
         "#1000ee",
         "#2B5D18",
         "#FFD700",
         "#2CFFe5",
         "#1000ee",
         "#2B5D18",
         "#FFD700",
         "#2CFFe5",
         "#1000ee",
         "#2B5D18",
         "#FFD700",
         "#2CFFe5",
         "#1000ee",
         "#2B5D18",
         "#FFD700",
         "#2CFFe5",
         "#1000ee",
         "#2B5D18",
         "#FFD700",
         "#2CFFe5",
         "#1000ee",
         "#2B5D18",
         "#FFD700",
         "#2CFFe5",
         "#1000ee",
         "#2B5D18",
         "#FFD700",
         "#2CFFe5",
         "#1000ee",
         "#2B5D18",
         "#FFD700",
         "#2CFFe5",
         "#1000ee",
         "#2B5D18",
         "#FFD700",
         "#2CFFe5",
         "#1000ee",
         "#2B5D18",
         "#FFD700",
         "#2CFFe5",
         "#1000ee",
         "#2B5D18",
         "#FFD700",
         "#2CFFe5",
         "#1000ee",
         "#2B5D18",
         "#FFD700",
         "#2CFFe5",
         "#1000ee",
         "#2B5D18",
         "#FFD700",
         "#2CFFe5",
         "#1000ee",
         "#2B5D18",
         "#FFD700",
         "#2CFFe5",
         "#1000ee",
         "#2B5D18",
         "#FFD700",
         "#2CFFe5",
         "#1000ee",
         "#2B5D18",
         "#FFD700",
         "#2CFFe5",
         "#1000ee",
         "#2B5D18",
         "#FFD700",
         "#2CFFe5",
         "#1000ee",
         "#2B5D18",
         "#FFD700",
         "#2CFFe5",
         "#1000ee",
         "#2B5D18",
         "#FFD700",
         "#2CFFe5",
         "#1000ee",
         "#2B5D18",
         "#FFD700",
         "#2CFFe5",
         "#1000ee",
         "#2B5D18",
         "#FFD700",
         "#2CFFe5",
         "#1000ee",
         "#2B5D18",
         "#FFD700",
         "#2CFFe5",
         "#1000ee",
         "#2B5D18",
         "#FFD700",
         "#2CFFe5",
         "#1000ee",
         "#2B5D18",
         "#FFD700",
         "#2CFFe5",
         "#1000ee",
         "#2B5D18",
         "#FFD700",
         "#2CFFe5",
         "#1000ee",
         "#2B5D18",
         "#FFD700",
         "#2CFFe5",
         "#1000ee",
         "#2B5D18",
         "#FFD700",
         "#2CFFe5",
         "#1000ee",
         "#2B5D18",
         "#FFD700",
         "#2CFFe5",
         "#1000ee",
         "#2B5D18",
         "#FFD700",
         "#2CFFe5",
         "#1000ee",
         "#2B5D18",
         "#FFD700",
         "#2CFFe5",
         "#1000ee",
         "#2B5D18",
         "#FFD700",
         "#2CFFe5",
         "#1000ee",
         "#2B5D18",
         "#FFD700",
         "#2CFFe5",
         "#1000ee",
         "#2B5D18",
         "#FFD700",
         "#2CFFe5",
         "#1000ee",
         "#2B5D18",
         "#FFD700",
         "#2CFFe5",
         "#1000ee",
         "#2B5D18",
         "#FFD700",
         "#2CFFe5",
         "#1000ee",
         "#2B5D18",
         "#FFD700",
         "#2CFFe5",
         "#1000ee",
         "#2B5D18",
         "#FFD700",
         "#2CFFe5",
         "#1000ee",
         "#2B5D18",
         "#FFD700",
         "#2CFFe5",
         "#1000ee",
         "#2B5D18",
         "#FFD700",
         "#2CFFe5",
         "#1000ee",
         "#2B5D18",
         "#FFD700",
         "#2CFFe5",
         "#1000ee",
         "#2B5D18",
         "#FFD700",
         "#2CFFe5",
         "#1000ee",
         "#2B5D18",
         "#FFD700",
         "#2CFFe5",
         "#1000ee",
         "#2B5D18",
         "#FFD700",
         "#2CFFe5",
         "#1000ee",
         "#2B5D18",
         "#FFD700",
         "#2CFFe5",
         "#1000ee",
         "#2B5D18",
         "#FFD700",
         "#2CFFe5",
         "#1000ee",
         "#2B5D18",
         "#FFD700",
         "#2CFFe5",
         "#1000ee",
         "#2B5D18",
         "#FFD700",
         "#2CFFe5",
         "#1000ee",
         "#2B5D18",
         "#FFD700",
         "#2CFFe5",
         "#1000ee",
         "#2B5D18",
         "#FFD700",
         "#2CFFe5",
         "#1000ee",
         "#2B5D18",
         "#FFD700",
         "#2CFFe5",
         "#1000ee",
         "#2B5D18",
         "#FFD700",
         "#2CFFe5",
         "#1000ee",
         "#2B5D18",
         "#FFD700",
         "#2CFFe5",
         "#1000ee",
         "#2B5D18",
         "#FFD700",
         "#2CFFe5",
         "#1000ee",
         "#2B5D18",
         "#FFD700",
         "#2CFFe5",
         "#1000ee",
         "#2B5D18",
         "#FFD700",
         "#2CFFe5",
         "#1000ee",
         "#2B5D18",
         "#FFD700",
         "#2CFFe5",
         "#1000ee",
         "#2B5D18",
         "#FFD700",
         "#2CFFe5",
         "#1000ee",
         "#2B5D18",
         "#FFD700",
         "#2CFFe5",
         "#1000ee",
         "#2B5D18",
         "#FFD700",
         "#2CFFe5",
         "#1000ee",
         "#2B5D18",
         "#FFD700",
         "#2CFFe5",
         "#1000ee",
         "#2B5D18",
         "#FFD700",
         "#2CFFe5",
         "#1000ee",
         "#2B5D18",
         "#FFD700",
         "#2CFFe5",
         "#1000ee",
         "#2B5D18",
         "#FFD700",
         "#2CFFe5",
         "#1000ee",
         "#2B5D18",
         "#FFD700",
         "#2CFFe5",
         "#1000ee",
         "#2B5D18",
         "#FFD700",
         "#2CFFe5",
         "#1000ee",
         "#2B5D18",
         "#FFD700",
         "#2CFFe5",
         "#1000ee",
         "#2B5D18",
         "#FFD700",
         "#2CFFe5",
         "#1000ee",
         "#2B5D18",
         "#FFD700",
         "#2CFFe5",
         "#1000ee",
         "#2B5D18",
         "#FFD700",
         "#2CFFe5",
         "#1000ee",
         "#2B5D18",
         "#FFD700",
         "#2CFFe5",
         "#1000ee",
         "#2B5D18",
         "#FFD700",
         "#2CFFe5",
         "#1000ee",
         "#2B5D18",
         "#FFD700",
         "#2CFFe5",
         "#1000ee",
         "#2B5D18",
         "#FFD700",
         "#2CFFe5",
         "#1000ee",
         "#2B5D18",
         "#FFD700",
         "#2CFFe5",
         "#1000ee",
         "#2B5D18",
         "#FFD700",
         "#2CFFe5",
         "#1000ee",
         "#2B5D18",
         "#FFD700",
         "#2CFFe5",
         "#1000ee",
         "#2B5D18",
         "#FFD700",
         "#2CFFe5",
         "#1000ee",
         "#2B5D18",
         "#FFD700",
         "#2CFFe5",
         "#1000ee",
         "#2B5D18",
         "#FFD700",
         "#2CFFe5",
         "#1000ee",
         "#2B5D18",
         "#FFD700",
         "#2CFFe5",
         "#1000ee",
         "#2B5D18",
         "#FFD700",
         "#2CFFe5",
         "#1000ee",
         "#2B5D18",
         "#FFD700",
         "#2CFFe5",
         "#1000ee",
         "#2B5D18",
         "#FFD700",
         "#2CFFe5",
         "#1000ee",
         "#2B5D18",
         "#FFD700",
         "#2CFFe5",
         "#1000ee",
         "#2B5D18",
         "#FFD700",
         "#2CFFe5",
         "#1000ee",
         "#2B5D18",
         "#FFD700",
         "#2CFFe5",
         "#1000ee",
         "#2B5D18",
         "#FFD700",
         "#2CFFe5",
         "#1000ee",
         "#2B5D18",
         "#FFD700",
         "#2CFFe5",
         "#1000ee",
         "#2B5D18",
         "#FFD700",
         "#2CFFe5",
         "#1000ee",
         "#2B5D18",
         "#FFD700",
         "#2CFFe5",
         "#1000ee",
         "#2B5D18",
         "#FFD700",
         "#2CFFe5",
         "#1000ee",
         "#2B5D18",
         "#FFD700",
         "#2CFFe5",
         "#1000ee",
         "#2B5D18",
         "#FFD700",
         "#2CFFe5",
         "#1000ee",
         "#2B5D18",
         "#FFD700",
         "#2CFFe5",
         "#1000ee",
         "#2B5D18",
         "#FFD700",
         "#2CFFe5",
         "#1000ee",
         "#2B5D18",
         "#FFD700",
         "#2CFFe5",
         "#1000ee",
         "#2B5D18",
         "#FFD700",
         "#2CFFe5",
         "#1000ee",
         "#2B5D18",
         "#FFD700",
         "#2CFFe5",
         "#1000ee",
         "#2B5D18",
         "#FFD700",
         "#2CFFe5",
         "#1000ee",
         "#2B5D18",
         "#FFD700",
         "#2CFFe5",
         "#1000ee",
         "#2B5D18",
         "#FFD700",
         "#2CFFe5",
         "#1000ee",
         "#2B5D18",
         "#FFD700",
         "#2CFFe5",
         "#1000ee",
         "#2B5D18",
         "#FFD700",
         "#2CFFe5",
         "#1000ee",
         "#2B5D18",
         "#FFD700",
         "#2CFFe5",
         "#1000ee",
         "#2B5D18",
         "#FFD700",
         "#2CFFe5",
         "#1000ee",
         "#2B5D18",
         "#FFD700",
         "#2CFFe5",
         "#1000ee",
         "#2B5D18",
         "#FFD700",
         "#2CFFe5",
         "#1000ee",
         "#2B5D18",
         "#FFD700",
         "#2CFFe5",
         "#1000ee",
         "#2B5D18",
         "#FFD700",
         "#2CFFe5",
         "#1000ee",
         "#2B5D18",
         "#FFD700",
         "#2CFFe5",
         "#1000ee",
         "#2B5D18",
         "#FFD700",
         "#2CFFe5",
         "#1000ee",
         "#2B5D18",
         "#FFD700",
         "#2CFFe5",
         "#1000ee",
         "#2B5D18",
         "#FFD700",
         "#2CFFe5",
         "#1000ee",
         "#2B5D18",
         "#FFD700",
         "#2CFFe5",
         "#1000ee",
         "#2B5D18",
         "#FFD700",
         "#2CFFe5",
         "#1000ee",
         "#2B5D18",
         "#FFD700",
         "#2CFFe5",
         "#1000ee",
         "#2B5D18",
         "#FFD700",
         "#2CFFe5",
         "#1000ee",
         "#2B5D18",
         "#FFD700",
         "#2CFFe5",
         "#1000ee",
         "#2B5D18",
         "#FFD700",
         "#2CFFe5",
         "#1000ee",
         "#2B5D18",
         "#FFD700",
         "#2CFFe5",
         "#1000ee",
         "#2B5D18",
         "#FFD700",
         "#2CFFe5",
         "#1000ee",
         "#2B5D18",
         "#FFD700",
         "#2CFFe5",
         "#1000ee",
         "#2B5D18",
         "#FFD700",
         "#2CFFe5",
         "#1000ee",
         "#2B5D18",
         "#FFD700",
         "#2CFFe5",
         "#1000ee",
         "#2B5D18",
         "#FFD700",
         "#2CFFe5",
         "#1000ee",
         "#2B5D18",
         "#FFD700",
         "#2CFFe5",
         "#1000ee",
         "#2B5D18",
         "#FFD700",
         "#2CFFe5",
         "#1000ee",
         "#2B5D18",
         "#FFD700",
         "#2CFFe5",
         "#1000ee",
         "#2B5D18",
         "#FFD700",
         "#2CFFe5",
         "#1000ee",
         "#2B5D18",
         "#FFD700",
         "#2CFFe5",
         "#1000ee",
         "#2B5D18",
         "#FFD700",
         "#2CFFe5",
         "#1000ee",
         "#2B5D18",
         "#FFD700",
         "#2CFFe5",
         "#1000ee",
         "#2B5D18",
         "#FFD700",
         "#2CFFe5",
         "#1000ee",
         "#2B5D18",
         "#FFD700",
         "#2CFFe5",
         "#1000ee",
         "#2B5D18",
         "#FFD700",
         "#2CFFe5",
         "#1000ee",
         "#2B5D18",
         "#FFD700",
         "#2CFFe5",
         "#1000ee",
         "#2B5D18",
         "#FFD700",
         "#2CFFe5",
         "#1000ee",
         "#2B5D18",
         "#FFD700",
         "#2CFFe5",
         "#1000ee",
         "#2B5D18",
         "#FFD700",
         "#2CFFe5",
         "#1000ee",
         "#2B5D18",
         "#FFD700",
         "#2CFFe5",
         "#1000ee",
         "#2B5D18",
         "#FFD700",
         "#2CFFe5",
         "#1000ee",
         "#2B5D18",
         "#FFD700",
         "#2CFFe5",
         "#1000ee",
         "#2B5D18",
         "#FFD700",
         "#2CFFe5",
         "#1000ee",
         "#2B5D18",
         "#FFD700",
         "#2CFFe5",
         "#1000ee",
         "#2B5D18",
         "#FFD700",
         "#2CFFe5",
         "#1000ee",
         "#2B5D18",
         "#FFD700",
         "#2CFFe5",
         "#1000ee",
         "#2B5D18",
         "#FFD700",
         "#2CFFe5",
         "#1000ee",
         "#2B5D18",
         "#FFD700",
         "#2CFFe5",
         "#1000ee",
         "#2B5D18",
         "#FFD700",
         "#2CFFe5",
         "#1000ee",
         "#2B5D18",
         "#FFD700",
         "#2CFFe5",
         "#1000ee",
         "#2B5D18",
         "#FFD700",
         "#2CFFe5",
         "#1000ee",
         "#2B5D18",
         "#FFD700",
         "#2CFFe5",
         "#1000ee",
         "#2B5D18",
         "#FFD700",
         "#2CFFe5",
         "#1000ee",
         "#2B5D18",
         "#FFD700",
         "#2CFFe5",
         "#1000ee",
         "#2B5D18",
         "#FFD700",
         "#2CFFe5",
         "#1000ee",
         "#2B5D18",
         "#FFD700",
         "#2CFFe5",
         "#1000ee",
         "#2B5D18",
         "#FFD700",
         "#2CFFe5",
         "#1000ee",
         "#2B5D18",
         "#FFD700",
         "#2CFFe5",
         "#1000ee",
         "#2B5D18",
         "#FFD700",
         "#2CFFe5",
         "#1000ee",
         "#2B5D18",
         "#FFD700",
         "#2CFFe5",
         "#1000ee",
         "#2B5D18",
         "#FFD700",
         "#2CFFe5",
         "#1000ee",
         "#2B5D18",
         "#FFD700",
         "#2CFFe5",
         "#1000ee",
         "#2B5D18",
         "#FFD700",
         "#2CFFe5",
         "#1000ee",
         "#2B5D18",
         "#FFD700",
         "#2CFFe5",
         "#1000ee",
         "#2B5D18",
         "#FFD700",
         "#2CFFe5",
         "#1000ee",
         "#2B5D18",
         "#FFD700",
         "#2CFFe5",
         "#1000ee",
         "#2B5D18",
         "#FFD700",
         "#2CFFe5",
         "#1000ee",
         "#2B5D18",
         "#FFD700",
         "#2CFFe5",
         "#1000ee",
         "#2B5D18",
         "#FFD700",
         "#2CFFe5",
         "#1000ee",
         "#2B5D18",
         "#FFD700",
         "#2CFFe5",
         "#1000ee",
         "#2B5D18",
         "#FFD700",
         "#2CFFe5",
         "#1000ee",
         "#2B5D18",
         "#FFD700",
         "#2CFFe5",
         "#1000ee",
         "#2B5D18",
         "#FFD700",
         "#2CFFe5",
         "#1000ee",
         "#2B5D18",
         "#FFD700",
         "#2CFFe5",
         "#1000ee",
         "#2B5D18",
         "#FFD700",
         "#2CFFe5",
         "#1000ee",
         "#2B5D18",
         "#FFD700",
         "#2CFFe5",
         "#1000ee",
         "#2B5D18",
         "#FFD700",
         "#2CFFe5",
         "#1000ee",
         "#2B5D18",
         "#FFD700",
         "#2CFFe5",
         "#1000ee",
         "#2B5D18",
         "#FFD700",
         "#2CFFe5",
         "#1000ee",
         "#2B5D18",
         "#FFD700",
         "#2CFFe5",
         "#1000ee",
         "#2B5D18",
         "#FFD700",
         "#2CFFe5",
         "#1000ee",
         "#2B5D18",
         "#FFD700",
         "#2CFFe5",
         "#1000ee",
         "#2B5D18",
         "#FFD700",
         "#2CFFe5",
         "#1000ee",
         "#2B5D18",
         "#FFD700",
         "#2CFFe5",
         "#1000ee",
         "#2B5D18",
         "#FFD700",
         "#2CFFe5",
         "#1000ee",
         "#2B5D18",
         "#FFD700",
         "#2CFFe5",
         "#1000ee",
         "#2B5D18",
         "#FFD700",
         "#2CFFe5",
         "#1000ee",
         "#2B5D18",
         "#FFD700",
         "#2CFFe5"
        ],
        "template": {
         "data": {
          "bar": [
           {
            "error_x": {
             "color": "#2a3f5f"
            },
            "error_y": {
             "color": "#2a3f5f"
            },
            "marker": {
             "line": {
              "color": "#E5ECF6",
              "width": 0.5
             },
             "pattern": {
              "fillmode": "overlay",
              "size": 10,
              "solidity": 0.2
             }
            },
            "type": "bar"
           }
          ],
          "barpolar": [
           {
            "marker": {
             "line": {
              "color": "#E5ECF6",
              "width": 0.5
             },
             "pattern": {
              "fillmode": "overlay",
              "size": 10,
              "solidity": 0.2
             }
            },
            "type": "barpolar"
           }
          ],
          "carpet": [
           {
            "aaxis": {
             "endlinecolor": "#2a3f5f",
             "gridcolor": "white",
             "linecolor": "white",
             "minorgridcolor": "white",
             "startlinecolor": "#2a3f5f"
            },
            "baxis": {
             "endlinecolor": "#2a3f5f",
             "gridcolor": "white",
             "linecolor": "white",
             "minorgridcolor": "white",
             "startlinecolor": "#2a3f5f"
            },
            "type": "carpet"
           }
          ],
          "choropleth": [
           {
            "colorbar": {
             "outlinewidth": 0,
             "ticks": ""
            },
            "type": "choropleth"
           }
          ],
          "contour": [
           {
            "colorbar": {
             "outlinewidth": 0,
             "ticks": ""
            },
            "colorscale": [
             [
              0,
              "#0d0887"
             ],
             [
              0.1111111111111111,
              "#46039f"
             ],
             [
              0.2222222222222222,
              "#7201a8"
             ],
             [
              0.3333333333333333,
              "#9c179e"
             ],
             [
              0.4444444444444444,
              "#bd3786"
             ],
             [
              0.5555555555555556,
              "#d8576b"
             ],
             [
              0.6666666666666666,
              "#ed7953"
             ],
             [
              0.7777777777777778,
              "#fb9f3a"
             ],
             [
              0.8888888888888888,
              "#fdca26"
             ],
             [
              1,
              "#f0f921"
             ]
            ],
            "type": "contour"
           }
          ],
          "contourcarpet": [
           {
            "colorbar": {
             "outlinewidth": 0,
             "ticks": ""
            },
            "type": "contourcarpet"
           }
          ],
          "heatmap": [
           {
            "colorbar": {
             "outlinewidth": 0,
             "ticks": ""
            },
            "colorscale": [
             [
              0,
              "#0d0887"
             ],
             [
              0.1111111111111111,
              "#46039f"
             ],
             [
              0.2222222222222222,
              "#7201a8"
             ],
             [
              0.3333333333333333,
              "#9c179e"
             ],
             [
              0.4444444444444444,
              "#bd3786"
             ],
             [
              0.5555555555555556,
              "#d8576b"
             ],
             [
              0.6666666666666666,
              "#ed7953"
             ],
             [
              0.7777777777777778,
              "#fb9f3a"
             ],
             [
              0.8888888888888888,
              "#fdca26"
             ],
             [
              1,
              "#f0f921"
             ]
            ],
            "type": "heatmap"
           }
          ],
          "heatmapgl": [
           {
            "colorbar": {
             "outlinewidth": 0,
             "ticks": ""
            },
            "colorscale": [
             [
              0,
              "#0d0887"
             ],
             [
              0.1111111111111111,
              "#46039f"
             ],
             [
              0.2222222222222222,
              "#7201a8"
             ],
             [
              0.3333333333333333,
              "#9c179e"
             ],
             [
              0.4444444444444444,
              "#bd3786"
             ],
             [
              0.5555555555555556,
              "#d8576b"
             ],
             [
              0.6666666666666666,
              "#ed7953"
             ],
             [
              0.7777777777777778,
              "#fb9f3a"
             ],
             [
              0.8888888888888888,
              "#fdca26"
             ],
             [
              1,
              "#f0f921"
             ]
            ],
            "type": "heatmapgl"
           }
          ],
          "histogram": [
           {
            "marker": {
             "pattern": {
              "fillmode": "overlay",
              "size": 10,
              "solidity": 0.2
             }
            },
            "type": "histogram"
           }
          ],
          "histogram2d": [
           {
            "colorbar": {
             "outlinewidth": 0,
             "ticks": ""
            },
            "colorscale": [
             [
              0,
              "#0d0887"
             ],
             [
              0.1111111111111111,
              "#46039f"
             ],
             [
              0.2222222222222222,
              "#7201a8"
             ],
             [
              0.3333333333333333,
              "#9c179e"
             ],
             [
              0.4444444444444444,
              "#bd3786"
             ],
             [
              0.5555555555555556,
              "#d8576b"
             ],
             [
              0.6666666666666666,
              "#ed7953"
             ],
             [
              0.7777777777777778,
              "#fb9f3a"
             ],
             [
              0.8888888888888888,
              "#fdca26"
             ],
             [
              1,
              "#f0f921"
             ]
            ],
            "type": "histogram2d"
           }
          ],
          "histogram2dcontour": [
           {
            "colorbar": {
             "outlinewidth": 0,
             "ticks": ""
            },
            "colorscale": [
             [
              0,
              "#0d0887"
             ],
             [
              0.1111111111111111,
              "#46039f"
             ],
             [
              0.2222222222222222,
              "#7201a8"
             ],
             [
              0.3333333333333333,
              "#9c179e"
             ],
             [
              0.4444444444444444,
              "#bd3786"
             ],
             [
              0.5555555555555556,
              "#d8576b"
             ],
             [
              0.6666666666666666,
              "#ed7953"
             ],
             [
              0.7777777777777778,
              "#fb9f3a"
             ],
             [
              0.8888888888888888,
              "#fdca26"
             ],
             [
              1,
              "#f0f921"
             ]
            ],
            "type": "histogram2dcontour"
           }
          ],
          "mesh3d": [
           {
            "colorbar": {
             "outlinewidth": 0,
             "ticks": ""
            },
            "type": "mesh3d"
           }
          ],
          "parcoords": [
           {
            "line": {
             "colorbar": {
              "outlinewidth": 0,
              "ticks": ""
             }
            },
            "type": "parcoords"
           }
          ],
          "pie": [
           {
            "automargin": true,
            "type": "pie"
           }
          ],
          "scatter": [
           {
            "fillpattern": {
             "fillmode": "overlay",
             "size": 10,
             "solidity": 0.2
            },
            "type": "scatter"
           }
          ],
          "scatter3d": [
           {
            "line": {
             "colorbar": {
              "outlinewidth": 0,
              "ticks": ""
             }
            },
            "marker": {
             "colorbar": {
              "outlinewidth": 0,
              "ticks": ""
             }
            },
            "type": "scatter3d"
           }
          ],
          "scattercarpet": [
           {
            "marker": {
             "colorbar": {
              "outlinewidth": 0,
              "ticks": ""
             }
            },
            "type": "scattercarpet"
           }
          ],
          "scattergeo": [
           {
            "marker": {
             "colorbar": {
              "outlinewidth": 0,
              "ticks": ""
             }
            },
            "type": "scattergeo"
           }
          ],
          "scattergl": [
           {
            "marker": {
             "colorbar": {
              "outlinewidth": 0,
              "ticks": ""
             }
            },
            "type": "scattergl"
           }
          ],
          "scattermapbox": [
           {
            "marker": {
             "colorbar": {
              "outlinewidth": 0,
              "ticks": ""
             }
            },
            "type": "scattermapbox"
           }
          ],
          "scatterpolar": [
           {
            "marker": {
             "colorbar": {
              "outlinewidth": 0,
              "ticks": ""
             }
            },
            "type": "scatterpolar"
           }
          ],
          "scatterpolargl": [
           {
            "marker": {
             "colorbar": {
              "outlinewidth": 0,
              "ticks": ""
             }
            },
            "type": "scatterpolargl"
           }
          ],
          "scatterternary": [
           {
            "marker": {
             "colorbar": {
              "outlinewidth": 0,
              "ticks": ""
             }
            },
            "type": "scatterternary"
           }
          ],
          "surface": [
           {
            "colorbar": {
             "outlinewidth": 0,
             "ticks": ""
            },
            "colorscale": [
             [
              0,
              "#0d0887"
             ],
             [
              0.1111111111111111,
              "#46039f"
             ],
             [
              0.2222222222222222,
              "#7201a8"
             ],
             [
              0.3333333333333333,
              "#9c179e"
             ],
             [
              0.4444444444444444,
              "#bd3786"
             ],
             [
              0.5555555555555556,
              "#d8576b"
             ],
             [
              0.6666666666666666,
              "#ed7953"
             ],
             [
              0.7777777777777778,
              "#fb9f3a"
             ],
             [
              0.8888888888888888,
              "#fdca26"
             ],
             [
              1,
              "#f0f921"
             ]
            ],
            "type": "surface"
           }
          ],
          "table": [
           {
            "cells": {
             "fill": {
              "color": "#EBF0F8"
             },
             "line": {
              "color": "white"
             }
            },
            "header": {
             "fill": {
              "color": "#C8D4E3"
             },
             "line": {
              "color": "white"
             }
            },
            "type": "table"
           }
          ]
         },
         "layout": {
          "annotationdefaults": {
           "arrowcolor": "#2a3f5f",
           "arrowhead": 0,
           "arrowwidth": 1
          },
          "autotypenumbers": "strict",
          "coloraxis": {
           "colorbar": {
            "outlinewidth": 0,
            "ticks": ""
           }
          },
          "colorscale": {
           "diverging": [
            [
             0,
             "#8e0152"
            ],
            [
             0.1,
             "#c51b7d"
            ],
            [
             0.2,
             "#de77ae"
            ],
            [
             0.3,
             "#f1b6da"
            ],
            [
             0.4,
             "#fde0ef"
            ],
            [
             0.5,
             "#f7f7f7"
            ],
            [
             0.6,
             "#e6f5d0"
            ],
            [
             0.7,
             "#b8e186"
            ],
            [
             0.8,
             "#7fbc41"
            ],
            [
             0.9,
             "#4d9221"
            ],
            [
             1,
             "#276419"
            ]
           ],
           "sequential": [
            [
             0,
             "#0d0887"
            ],
            [
             0.1111111111111111,
             "#46039f"
            ],
            [
             0.2222222222222222,
             "#7201a8"
            ],
            [
             0.3333333333333333,
             "#9c179e"
            ],
            [
             0.4444444444444444,
             "#bd3786"
            ],
            [
             0.5555555555555556,
             "#d8576b"
            ],
            [
             0.6666666666666666,
             "#ed7953"
            ],
            [
             0.7777777777777778,
             "#fb9f3a"
            ],
            [
             0.8888888888888888,
             "#fdca26"
            ],
            [
             1,
             "#f0f921"
            ]
           ],
           "sequentialminus": [
            [
             0,
             "#0d0887"
            ],
            [
             0.1111111111111111,
             "#46039f"
            ],
            [
             0.2222222222222222,
             "#7201a8"
            ],
            [
             0.3333333333333333,
             "#9c179e"
            ],
            [
             0.4444444444444444,
             "#bd3786"
            ],
            [
             0.5555555555555556,
             "#d8576b"
            ],
            [
             0.6666666666666666,
             "#ed7953"
            ],
            [
             0.7777777777777778,
             "#fb9f3a"
            ],
            [
             0.8888888888888888,
             "#fdca26"
            ],
            [
             1,
             "#f0f921"
            ]
           ]
          },
          "colorway": [
           "#636efa",
           "#EF553B",
           "#00cc96",
           "#ab63fa",
           "#FFA15A",
           "#19d3f3",
           "#FF6692",
           "#B6E880",
           "#FF97FF",
           "#FECB52"
          ],
          "font": {
           "color": "#2a3f5f"
          },
          "geo": {
           "bgcolor": "white",
           "lakecolor": "white",
           "landcolor": "#E5ECF6",
           "showlakes": true,
           "showland": true,
           "subunitcolor": "white"
          },
          "hoverlabel": {
           "align": "left"
          },
          "hovermode": "closest",
          "mapbox": {
           "style": "light"
          },
          "paper_bgcolor": "white",
          "plot_bgcolor": "#E5ECF6",
          "polar": {
           "angularaxis": {
            "gridcolor": "white",
            "linecolor": "white",
            "ticks": ""
           },
           "bgcolor": "#E5ECF6",
           "radialaxis": {
            "gridcolor": "white",
            "linecolor": "white",
            "ticks": ""
           }
          },
          "scene": {
           "xaxis": {
            "backgroundcolor": "#E5ECF6",
            "gridcolor": "white",
            "gridwidth": 2,
            "linecolor": "white",
            "showbackground": true,
            "ticks": "",
            "zerolinecolor": "white"
           },
           "yaxis": {
            "backgroundcolor": "#E5ECF6",
            "gridcolor": "white",
            "gridwidth": 2,
            "linecolor": "white",
            "showbackground": true,
            "ticks": "",
            "zerolinecolor": "white"
           },
           "zaxis": {
            "backgroundcolor": "#E5ECF6",
            "gridcolor": "white",
            "gridwidth": 2,
            "linecolor": "white",
            "showbackground": true,
            "ticks": "",
            "zerolinecolor": "white"
           }
          },
          "shapedefaults": {
           "line": {
            "color": "#2a3f5f"
           }
          },
          "ternary": {
           "aaxis": {
            "gridcolor": "white",
            "linecolor": "white",
            "ticks": ""
           },
           "baxis": {
            "gridcolor": "white",
            "linecolor": "white",
            "ticks": ""
           },
           "bgcolor": "#E5ECF6",
           "caxis": {
            "gridcolor": "white",
            "linecolor": "white",
            "ticks": ""
           }
          },
          "title": {
           "x": 0.05
          },
          "xaxis": {
           "automargin": true,
           "gridcolor": "white",
           "linecolor": "white",
           "ticks": "",
           "title": {
            "standoff": 15
           },
           "zerolinecolor": "white",
           "zerolinewidth": 2
          },
          "yaxis": {
           "automargin": true,
           "gridcolor": "white",
           "linecolor": "white",
           "ticks": "",
           "title": {
            "standoff": 15
           },
           "zerolinecolor": "white",
           "zerolinewidth": 2
          }
         }
        },
        "title": {
         "text": "Connection Capacity by Host TO, Plant Type, and Project Status. (click to Expand)"
        },
        "width": 800
       }
      }
     },
     "metadata": {},
     "output_type": "display_data"
    }
   ],
   "source": [
    "colors = [\"#1000ee\", \"#2B5D18\", \"#FFD700\", \"#2CFFe5\"]\n",
    "sun = px.sunburst(\n",
    "    data_frame=data,\n",
    "    values=\"Connection Cap (MW)\",\n",
    "    color=\"HOST TO\",\n",
    "    color_discrete_sequence=colors * (data.shape[0] // 4 + 1),\n",
    "    path=[\"HOST TO\", \"Plant Type\", \"Project Status\"],\n",
    "    hover_data=[\"Project Name\", \"Connection Cap (MW)\"],\n",
    "    width=800,\n",
    "    height=800,\n",
    "    title=\"Connection Capacity by Host TO, Plant Type, and Project Status. (click to Expand)\",\n",
    ")\n",
    "\n",
    "sun.show()"
   ]
  },
  {
   "cell_type": "code",
   "execution_count": 528,
   "metadata": {},
   "outputs": [
    {
     "data": {
      "text/html": [
       "<div>\n",
       "<style scoped>\n",
       "    .dataframe tbody tr th:only-of-type {\n",
       "        vertical-align: middle;\n",
       "    }\n",
       "\n",
       "    .dataframe tbody tr th {\n",
       "        vertical-align: top;\n",
       "    }\n",
       "\n",
       "    .dataframe thead th {\n",
       "        text-align: right;\n",
       "    }\n",
       "</style>\n",
       "<table border=\"1\" class=\"dataframe\">\n",
       "  <thead>\n",
       "    <tr style=\"text-align: right;\">\n",
       "      <th></th>\n",
       "      <th></th>\n",
       "      <th>Connection Cap (MW)</th>\n",
       "      <th>Project Name</th>\n",
       "    </tr>\n",
       "    <tr>\n",
       "      <th>Project Status</th>\n",
       "      <th>HOST TO</th>\n",
       "      <th></th>\n",
       "      <th></th>\n",
       "    </tr>\n",
       "  </thead>\n",
       "  <tbody>\n",
       "    <tr>\n",
       "      <th rowspan=\"3\" valign=\"top\">Awaiting Consents</th>\n",
       "      <th>NGET</th>\n",
       "      <td>53442.460</td>\n",
       "      <td>120</td>\n",
       "    </tr>\n",
       "    <tr>\n",
       "      <th>SHET</th>\n",
       "      <td>1633.800</td>\n",
       "      <td>11</td>\n",
       "    </tr>\n",
       "    <tr>\n",
       "      <th>SPT</th>\n",
       "      <td>3597.440</td>\n",
       "      <td>26</td>\n",
       "    </tr>\n",
       "    <tr>\n",
       "      <th rowspan=\"4\" valign=\"top\">Built</th>\n",
       "      <th>NGET</th>\n",
       "      <td>58544.670</td>\n",
       "      <td>152</td>\n",
       "    </tr>\n",
       "    <tr>\n",
       "      <th>OFTO</th>\n",
       "      <td>4338.400</td>\n",
       "      <td>17</td>\n",
       "    </tr>\n",
       "    <tr>\n",
       "      <th>SHET</th>\n",
       "      <td>6643.850</td>\n",
       "      <td>80</td>\n",
       "    </tr>\n",
       "    <tr>\n",
       "      <th>SPT</th>\n",
       "      <td>7050.800</td>\n",
       "      <td>63</td>\n",
       "    </tr>\n",
       "    <tr>\n",
       "      <th rowspan=\"3\" valign=\"top\">Consents Approved</th>\n",
       "      <th>NGET</th>\n",
       "      <td>29085.065</td>\n",
       "      <td>81</td>\n",
       "    </tr>\n",
       "    <tr>\n",
       "      <th>SHET</th>\n",
       "      <td>5723.490</td>\n",
       "      <td>39</td>\n",
       "    </tr>\n",
       "    <tr>\n",
       "      <th>SPT</th>\n",
       "      <td>3533.630</td>\n",
       "      <td>28</td>\n",
       "    </tr>\n",
       "    <tr>\n",
       "      <th rowspan=\"3\" valign=\"top\">Scoping</th>\n",
       "      <th>NGET</th>\n",
       "      <td>335186.880</td>\n",
       "      <td>772</td>\n",
       "    </tr>\n",
       "    <tr>\n",
       "      <th>SHET</th>\n",
       "      <td>66321.447</td>\n",
       "      <td>220</td>\n",
       "    </tr>\n",
       "    <tr>\n",
       "      <th>SPT</th>\n",
       "      <td>58332.790</td>\n",
       "      <td>262</td>\n",
       "    </tr>\n",
       "    <tr>\n",
       "      <th rowspan=\"2\" valign=\"top\">Under Construction/Commissioning</th>\n",
       "      <th>NGET</th>\n",
       "      <td>10707.260</td>\n",
       "      <td>22</td>\n",
       "    </tr>\n",
       "    <tr>\n",
       "      <th>SPT</th>\n",
       "      <td>711.500</td>\n",
       "      <td>3</td>\n",
       "    </tr>\n",
       "  </tbody>\n",
       "</table>\n",
       "</div>"
      ],
      "text/plain": [
       "                                          Connection Cap (MW)  Project Name\n",
       "Project Status                   HOST TO                                   \n",
       "Awaiting Consents                NGET               53442.460           120\n",
       "                                 SHET                1633.800            11\n",
       "                                 SPT                 3597.440            26\n",
       "Built                            NGET               58544.670           152\n",
       "                                 OFTO                4338.400            17\n",
       "                                 SHET                6643.850            80\n",
       "                                 SPT                 7050.800            63\n",
       "Consents Approved                NGET               29085.065            81\n",
       "                                 SHET                5723.490            39\n",
       "                                 SPT                 3533.630            28\n",
       "Scoping                          NGET              335186.880           772\n",
       "                                 SHET               66321.447           220\n",
       "                                 SPT                58332.790           262\n",
       "Under Construction/Commissioning NGET               10707.260            22\n",
       "                                 SPT                  711.500             3"
      ]
     },
     "execution_count": 528,
     "metadata": {},
     "output_type": "execute_result"
    }
   ],
   "source": [
    "status_proj_cap = data.groupby([\"Project Status\", \"HOST TO\"]).agg(\n",
    "    {\"Connection Cap (MW)\": \"sum\", \"Project Name\": \"count\"}\n",
    ")\n",
    "status_proj_cap"
   ]
  },
  {
   "cell_type": "markdown",
   "metadata": {},
   "source": [
    "> Analysis of Project Status by Connection Capacity (in GW)\n",
    "\n",
    "The dataset categorizes projects by their connection capacity and status, summarized as follows:\n",
    "\n",
    "1. **Scoping**:\n",
    "   - **Capacity**: 459.84 GW\n",
    "   - **Number of Projects**: 1,254\n",
    "   - **Insight**: This category has the largest capacity, indicating a substantial number of projects in the planning phase. This suggests significant future potential for energy generation.\n",
    "\n",
    "2. **Built**:\n",
    "   - **Capacity**: 76.58 GW\n",
    "   - **Number of Projects**: 312\n",
    "   - **Insight**: Operational projects contribute a notable portion to the energy supply, reflecting established capacity.\n",
    "\n",
    "3. **Awaiting Consents**:\n",
    "   - **Capacity**: 58.67 GW\n",
    "   - **Number of Projects**: 157\n",
    "   - **Insight**: This significant capacity shows many projects waiting for approvals, which may delay future capacity additions to the grid.\n",
    "\n",
    "4. **Consents Approved**:\n",
    "   - **Capacity**: 38.34 GW\n",
    "   - **Number of Projects**: 148\n",
    "   - **Insight**: These projects are positioned for development but have less capacity than built and scoping projects.\n",
    "\n",
    "5. **Under Construction/Commissioning**:\n",
    "   - **Capacity**: 11.42 GW\n",
    "   - **Number of Projects**: 25\n",
    "   - **Insight**: This is the lowest capacity category, indicating limited current construction activity compared to planning stages.\n",
    "\n",
    "### Summary\n",
    "\n",
    "The analysis reveals a significant pipeline of projects in the scoping phase, suggesting future growth in capacity. Operational projects, while substantial, are outpaced by planned capacity, indicating potential challenges in meeting demand if regulatory approvals lag. The distribution highlights the importance of advancing projects through the consent and construction phases to ensure timely energy generation."
   ]
  },
  {
   "cell_type": "code",
   "execution_count": 529,
   "metadata": {},
   "outputs": [
    {
     "data": {
      "text/plain": [
       "HOST TO\n",
       "NGET    1147\n",
       "OFTO      17\n",
       "SHET     350\n",
       "SPT      382\n",
       "Name: Project Status, dtype: int64"
      ]
     },
     "execution_count": 529,
     "metadata": {},
     "output_type": "execute_result"
    }
   ],
   "source": [
    "to_status_group = data.groupby(\"HOST TO\")[\"Project Status\"].count()\n",
    "to_status_group"
   ]
  },
  {
   "cell_type": "markdown",
   "metadata": {},
   "source": [
    "Connection Capacity distribution by Project Status and by HOST TO"
   ]
  },
  {
   "cell_type": "code",
   "execution_count": 530,
   "metadata": {},
   "outputs": [
    {
     "data": {
      "application/vnd.plotly.v1+json": {
       "config": {
        "plotlyServerURL": "https://plot.ly"
       },
       "data": [
        {
         "domain": {
          "x": [
           0,
           0.45
          ],
          "y": [
           0,
           1
          ]
         },
         "hole": 0.45,
         "hoverinfo": "text",
         "hovertemplate": "%{text}<extra></extra>",
         "labels": [
          "Awaiting Consents",
          "Built",
          "Consents Approved",
          "Scoping",
          "Under Construction/Commissioning"
         ],
         "name": "Project Status",
         "text": [
          "<b>Awaiting Consents</b><br><b>Total:</b> 58673.70 MW<br><b>NGET:</b> 53442.46 MW<br><b>SHET:</b> 1633.80 MW<br><b>SPT:</b> 3597.44 MW<br>",
          "<b>Built</b><br><b>Total:</b> 76577.72 MW<br><b>NGET:</b> 58544.67 MW<br><b>OFTO:</b> 4338.40 MW<br><b>SHET:</b> 6643.85 MW<br><b>SPT:</b> 7050.80 MW<br>",
          "<b>Consents Approved</b><br><b>Total:</b> 38342.18 MW<br><b>NGET:</b> 29085.06 MW<br><b>SHET:</b> 5723.49 MW<br><b>SPT:</b> 3533.63 MW<br>",
          "<b>Scoping</b><br><b>Total:</b> 459841.12 MW<br><b>NGET:</b> 335186.88 MW<br><b>SHET:</b> 66321.45 MW<br><b>SPT:</b> 58332.79 MW<br>",
          "<b>Under Construction/Commissioning</b><br><b>Total:</b> 11418.76 MW<br><b>NGET:</b> 10707.26 MW<br><b>SPT:</b> 711.50 MW<br>"
         ],
         "textfont": {
          "size": 10
         },
         "textinfo": "percent+label",
         "textposition": "auto",
         "type": "pie",
         "values": [
          58673.7,
          76577.72,
          38342.185,
          459841.117,
          11418.76
         ]
        },
        {
         "domain": {
          "x": [
           0.55,
           1
          ],
          "y": [
           0,
           1
          ]
         },
         "hole": 0.45,
         "hoverinfo": "text",
         "hovertemplate": "%{text}<extra></extra>",
         "labels": [
          "NGET",
          "OFTO",
          "SHET",
          "SPT"
         ],
         "name": "HOST TO",
         "text": [
          "<b>NGET</b><br><b>Total:</b> 486966.34 MW<br><b>Awaiting Consents:</b> 53442.46 MW<br><b>Built:</b> 58544.67 MW<br><b>Consents Approved:</b> 29085.06 MW<br><b>Scoping:</b> 335186.88 MW<br><b>Under Construction/Commissioning:</b> 10707.26 MW<br>",
          "<b>OFTO</b><br><b>Total:</b> 4338.40 MW<br><b>Built:</b> 4338.40 MW<br>",
          "<b>SHET</b><br><b>Total:</b> 80322.59 MW<br><b>Awaiting Consents:</b> 1633.80 MW<br><b>Built:</b> 6643.85 MW<br><b>Consents Approved:</b> 5723.49 MW<br><b>Scoping:</b> 66321.45 MW<br>",
          "<b>SPT</b><br><b>Total:</b> 73226.16 MW<br><b>Awaiting Consents:</b> 3597.44 MW<br><b>Built:</b> 7050.80 MW<br><b>Consents Approved:</b> 3533.63 MW<br><b>Scoping:</b> 58332.79 MW<br><b>Under Construction/Commissioning:</b> 711.50 MW<br>"
         ],
         "textfont": {
          "size": 10
         },
         "textinfo": "percent+label",
         "textposition": "auto",
         "type": "pie",
         "values": [
          486966.335,
          4338.4,
          80322.587,
          73226.16
         ]
        }
       ],
       "layout": {
        "annotations": [
         {
          "font": {
           "size": 16
          },
          "showarrow": false,
          "text": "Connection Capacity by Project Status",
          "x": 0.225,
          "xanchor": "center",
          "xref": "paper",
          "y": 1,
          "yanchor": "bottom",
          "yref": "paper"
         },
         {
          "font": {
           "size": 16
          },
          "showarrow": false,
          "text": "Connection Capacity by HOST TO",
          "x": 0.775,
          "xanchor": "center",
          "xref": "paper",
          "y": 1,
          "yanchor": "bottom",
          "yref": "paper"
         }
        ],
        "height": 700,
        "legend": {
         "orientation": "h",
         "x": 0.5,
         "xanchor": "center",
         "y": -0.1,
         "yanchor": "bottom"
        },
        "template": {
         "data": {
          "bar": [
           {
            "error_x": {
             "color": "#2a3f5f"
            },
            "error_y": {
             "color": "#2a3f5f"
            },
            "marker": {
             "line": {
              "color": "#E5ECF6",
              "width": 0.5
             },
             "pattern": {
              "fillmode": "overlay",
              "size": 10,
              "solidity": 0.2
             }
            },
            "type": "bar"
           }
          ],
          "barpolar": [
           {
            "marker": {
             "line": {
              "color": "#E5ECF6",
              "width": 0.5
             },
             "pattern": {
              "fillmode": "overlay",
              "size": 10,
              "solidity": 0.2
             }
            },
            "type": "barpolar"
           }
          ],
          "carpet": [
           {
            "aaxis": {
             "endlinecolor": "#2a3f5f",
             "gridcolor": "white",
             "linecolor": "white",
             "minorgridcolor": "white",
             "startlinecolor": "#2a3f5f"
            },
            "baxis": {
             "endlinecolor": "#2a3f5f",
             "gridcolor": "white",
             "linecolor": "white",
             "minorgridcolor": "white",
             "startlinecolor": "#2a3f5f"
            },
            "type": "carpet"
           }
          ],
          "choropleth": [
           {
            "colorbar": {
             "outlinewidth": 0,
             "ticks": ""
            },
            "type": "choropleth"
           }
          ],
          "contour": [
           {
            "colorbar": {
             "outlinewidth": 0,
             "ticks": ""
            },
            "colorscale": [
             [
              0,
              "#0d0887"
             ],
             [
              0.1111111111111111,
              "#46039f"
             ],
             [
              0.2222222222222222,
              "#7201a8"
             ],
             [
              0.3333333333333333,
              "#9c179e"
             ],
             [
              0.4444444444444444,
              "#bd3786"
             ],
             [
              0.5555555555555556,
              "#d8576b"
             ],
             [
              0.6666666666666666,
              "#ed7953"
             ],
             [
              0.7777777777777778,
              "#fb9f3a"
             ],
             [
              0.8888888888888888,
              "#fdca26"
             ],
             [
              1,
              "#f0f921"
             ]
            ],
            "type": "contour"
           }
          ],
          "contourcarpet": [
           {
            "colorbar": {
             "outlinewidth": 0,
             "ticks": ""
            },
            "type": "contourcarpet"
           }
          ],
          "heatmap": [
           {
            "colorbar": {
             "outlinewidth": 0,
             "ticks": ""
            },
            "colorscale": [
             [
              0,
              "#0d0887"
             ],
             [
              0.1111111111111111,
              "#46039f"
             ],
             [
              0.2222222222222222,
              "#7201a8"
             ],
             [
              0.3333333333333333,
              "#9c179e"
             ],
             [
              0.4444444444444444,
              "#bd3786"
             ],
             [
              0.5555555555555556,
              "#d8576b"
             ],
             [
              0.6666666666666666,
              "#ed7953"
             ],
             [
              0.7777777777777778,
              "#fb9f3a"
             ],
             [
              0.8888888888888888,
              "#fdca26"
             ],
             [
              1,
              "#f0f921"
             ]
            ],
            "type": "heatmap"
           }
          ],
          "heatmapgl": [
           {
            "colorbar": {
             "outlinewidth": 0,
             "ticks": ""
            },
            "colorscale": [
             [
              0,
              "#0d0887"
             ],
             [
              0.1111111111111111,
              "#46039f"
             ],
             [
              0.2222222222222222,
              "#7201a8"
             ],
             [
              0.3333333333333333,
              "#9c179e"
             ],
             [
              0.4444444444444444,
              "#bd3786"
             ],
             [
              0.5555555555555556,
              "#d8576b"
             ],
             [
              0.6666666666666666,
              "#ed7953"
             ],
             [
              0.7777777777777778,
              "#fb9f3a"
             ],
             [
              0.8888888888888888,
              "#fdca26"
             ],
             [
              1,
              "#f0f921"
             ]
            ],
            "type": "heatmapgl"
           }
          ],
          "histogram": [
           {
            "marker": {
             "pattern": {
              "fillmode": "overlay",
              "size": 10,
              "solidity": 0.2
             }
            },
            "type": "histogram"
           }
          ],
          "histogram2d": [
           {
            "colorbar": {
             "outlinewidth": 0,
             "ticks": ""
            },
            "colorscale": [
             [
              0,
              "#0d0887"
             ],
             [
              0.1111111111111111,
              "#46039f"
             ],
             [
              0.2222222222222222,
              "#7201a8"
             ],
             [
              0.3333333333333333,
              "#9c179e"
             ],
             [
              0.4444444444444444,
              "#bd3786"
             ],
             [
              0.5555555555555556,
              "#d8576b"
             ],
             [
              0.6666666666666666,
              "#ed7953"
             ],
             [
              0.7777777777777778,
              "#fb9f3a"
             ],
             [
              0.8888888888888888,
              "#fdca26"
             ],
             [
              1,
              "#f0f921"
             ]
            ],
            "type": "histogram2d"
           }
          ],
          "histogram2dcontour": [
           {
            "colorbar": {
             "outlinewidth": 0,
             "ticks": ""
            },
            "colorscale": [
             [
              0,
              "#0d0887"
             ],
             [
              0.1111111111111111,
              "#46039f"
             ],
             [
              0.2222222222222222,
              "#7201a8"
             ],
             [
              0.3333333333333333,
              "#9c179e"
             ],
             [
              0.4444444444444444,
              "#bd3786"
             ],
             [
              0.5555555555555556,
              "#d8576b"
             ],
             [
              0.6666666666666666,
              "#ed7953"
             ],
             [
              0.7777777777777778,
              "#fb9f3a"
             ],
             [
              0.8888888888888888,
              "#fdca26"
             ],
             [
              1,
              "#f0f921"
             ]
            ],
            "type": "histogram2dcontour"
           }
          ],
          "mesh3d": [
           {
            "colorbar": {
             "outlinewidth": 0,
             "ticks": ""
            },
            "type": "mesh3d"
           }
          ],
          "parcoords": [
           {
            "line": {
             "colorbar": {
              "outlinewidth": 0,
              "ticks": ""
             }
            },
            "type": "parcoords"
           }
          ],
          "pie": [
           {
            "automargin": true,
            "type": "pie"
           }
          ],
          "scatter": [
           {
            "fillpattern": {
             "fillmode": "overlay",
             "size": 10,
             "solidity": 0.2
            },
            "type": "scatter"
           }
          ],
          "scatter3d": [
           {
            "line": {
             "colorbar": {
              "outlinewidth": 0,
              "ticks": ""
             }
            },
            "marker": {
             "colorbar": {
              "outlinewidth": 0,
              "ticks": ""
             }
            },
            "type": "scatter3d"
           }
          ],
          "scattercarpet": [
           {
            "marker": {
             "colorbar": {
              "outlinewidth": 0,
              "ticks": ""
             }
            },
            "type": "scattercarpet"
           }
          ],
          "scattergeo": [
           {
            "marker": {
             "colorbar": {
              "outlinewidth": 0,
              "ticks": ""
             }
            },
            "type": "scattergeo"
           }
          ],
          "scattergl": [
           {
            "marker": {
             "colorbar": {
              "outlinewidth": 0,
              "ticks": ""
             }
            },
            "type": "scattergl"
           }
          ],
          "scattermapbox": [
           {
            "marker": {
             "colorbar": {
              "outlinewidth": 0,
              "ticks": ""
             }
            },
            "type": "scattermapbox"
           }
          ],
          "scatterpolar": [
           {
            "marker": {
             "colorbar": {
              "outlinewidth": 0,
              "ticks": ""
             }
            },
            "type": "scatterpolar"
           }
          ],
          "scatterpolargl": [
           {
            "marker": {
             "colorbar": {
              "outlinewidth": 0,
              "ticks": ""
             }
            },
            "type": "scatterpolargl"
           }
          ],
          "scatterternary": [
           {
            "marker": {
             "colorbar": {
              "outlinewidth": 0,
              "ticks": ""
             }
            },
            "type": "scatterternary"
           }
          ],
          "surface": [
           {
            "colorbar": {
             "outlinewidth": 0,
             "ticks": ""
            },
            "colorscale": [
             [
              0,
              "#0d0887"
             ],
             [
              0.1111111111111111,
              "#46039f"
             ],
             [
              0.2222222222222222,
              "#7201a8"
             ],
             [
              0.3333333333333333,
              "#9c179e"
             ],
             [
              0.4444444444444444,
              "#bd3786"
             ],
             [
              0.5555555555555556,
              "#d8576b"
             ],
             [
              0.6666666666666666,
              "#ed7953"
             ],
             [
              0.7777777777777778,
              "#fb9f3a"
             ],
             [
              0.8888888888888888,
              "#fdca26"
             ],
             [
              1,
              "#f0f921"
             ]
            ],
            "type": "surface"
           }
          ],
          "table": [
           {
            "cells": {
             "fill": {
              "color": "#EBF0F8"
             },
             "line": {
              "color": "white"
             }
            },
            "header": {
             "fill": {
              "color": "#C8D4E3"
             },
             "line": {
              "color": "white"
             }
            },
            "type": "table"
           }
          ]
         },
         "layout": {
          "annotationdefaults": {
           "arrowcolor": "#2a3f5f",
           "arrowhead": 0,
           "arrowwidth": 1
          },
          "autotypenumbers": "strict",
          "coloraxis": {
           "colorbar": {
            "outlinewidth": 0,
            "ticks": ""
           }
          },
          "colorscale": {
           "diverging": [
            [
             0,
             "#8e0152"
            ],
            [
             0.1,
             "#c51b7d"
            ],
            [
             0.2,
             "#de77ae"
            ],
            [
             0.3,
             "#f1b6da"
            ],
            [
             0.4,
             "#fde0ef"
            ],
            [
             0.5,
             "#f7f7f7"
            ],
            [
             0.6,
             "#e6f5d0"
            ],
            [
             0.7,
             "#b8e186"
            ],
            [
             0.8,
             "#7fbc41"
            ],
            [
             0.9,
             "#4d9221"
            ],
            [
             1,
             "#276419"
            ]
           ],
           "sequential": [
            [
             0,
             "#0d0887"
            ],
            [
             0.1111111111111111,
             "#46039f"
            ],
            [
             0.2222222222222222,
             "#7201a8"
            ],
            [
             0.3333333333333333,
             "#9c179e"
            ],
            [
             0.4444444444444444,
             "#bd3786"
            ],
            [
             0.5555555555555556,
             "#d8576b"
            ],
            [
             0.6666666666666666,
             "#ed7953"
            ],
            [
             0.7777777777777778,
             "#fb9f3a"
            ],
            [
             0.8888888888888888,
             "#fdca26"
            ],
            [
             1,
             "#f0f921"
            ]
           ],
           "sequentialminus": [
            [
             0,
             "#0d0887"
            ],
            [
             0.1111111111111111,
             "#46039f"
            ],
            [
             0.2222222222222222,
             "#7201a8"
            ],
            [
             0.3333333333333333,
             "#9c179e"
            ],
            [
             0.4444444444444444,
             "#bd3786"
            ],
            [
             0.5555555555555556,
             "#d8576b"
            ],
            [
             0.6666666666666666,
             "#ed7953"
            ],
            [
             0.7777777777777778,
             "#fb9f3a"
            ],
            [
             0.8888888888888888,
             "#fdca26"
            ],
            [
             1,
             "#f0f921"
            ]
           ]
          },
          "colorway": [
           "#636efa",
           "#EF553B",
           "#00cc96",
           "#ab63fa",
           "#FFA15A",
           "#19d3f3",
           "#FF6692",
           "#B6E880",
           "#FF97FF",
           "#FECB52"
          ],
          "font": {
           "color": "#2a3f5f"
          },
          "geo": {
           "bgcolor": "white",
           "lakecolor": "white",
           "landcolor": "#E5ECF6",
           "showlakes": true,
           "showland": true,
           "subunitcolor": "white"
          },
          "hoverlabel": {
           "align": "left"
          },
          "hovermode": "closest",
          "mapbox": {
           "style": "light"
          },
          "paper_bgcolor": "white",
          "plot_bgcolor": "#E5ECF6",
          "polar": {
           "angularaxis": {
            "gridcolor": "white",
            "linecolor": "white",
            "ticks": ""
           },
           "bgcolor": "#E5ECF6",
           "radialaxis": {
            "gridcolor": "white",
            "linecolor": "white",
            "ticks": ""
           }
          },
          "scene": {
           "xaxis": {
            "backgroundcolor": "#E5ECF6",
            "gridcolor": "white",
            "gridwidth": 2,
            "linecolor": "white",
            "showbackground": true,
            "ticks": "",
            "zerolinecolor": "white"
           },
           "yaxis": {
            "backgroundcolor": "#E5ECF6",
            "gridcolor": "white",
            "gridwidth": 2,
            "linecolor": "white",
            "showbackground": true,
            "ticks": "",
            "zerolinecolor": "white"
           },
           "zaxis": {
            "backgroundcolor": "#E5ECF6",
            "gridcolor": "white",
            "gridwidth": 2,
            "linecolor": "white",
            "showbackground": true,
            "ticks": "",
            "zerolinecolor": "white"
           }
          },
          "shapedefaults": {
           "line": {
            "color": "#2a3f5f"
           }
          },
          "ternary": {
           "aaxis": {
            "gridcolor": "white",
            "linecolor": "white",
            "ticks": ""
           },
           "baxis": {
            "gridcolor": "white",
            "linecolor": "white",
            "ticks": ""
           },
           "bgcolor": "#E5ECF6",
           "caxis": {
            "gridcolor": "white",
            "linecolor": "white",
            "ticks": ""
           }
          },
          "title": {
           "x": 0.05
          },
          "xaxis": {
           "automargin": true,
           "gridcolor": "white",
           "linecolor": "white",
           "ticks": "",
           "title": {
            "standoff": 15
           },
           "zerolinecolor": "white",
           "zerolinewidth": 2
          },
          "yaxis": {
           "automargin": true,
           "gridcolor": "white",
           "linecolor": "white",
           "ticks": "",
           "title": {
            "standoff": 15
           },
           "zerolinecolor": "white",
           "zerolinewidth": 2
          }
         }
        },
        "title": {
         "text": "Connection Capacity Distribution"
        },
        "width": 1200
       }
      }
     },
     "metadata": {},
     "output_type": "display_data"
    }
   ],
   "source": [
    "\n",
    "def create_hover_text(row, primary_col, secondary_col):\n",
    "    hover_text = f\"<b>{row[primary_col]}</b><br>\"\n",
    "    hover_text += f\"<b>Total:</b> {row['Total']:.2f} MW<br>\"\n",
    "    for status in sorted(data[secondary_col].unique()):\n",
    "        if status in row.index and row[status] > 0:  # Only show non-zero values\n",
    "            hover_text += f\"<b>{status}:</b> {row[status]:.2f} MW<br>\"\n",
    "    return hover_text\n",
    "\n",
    "def create_pie_data(primary_col, secondary_col):\n",
    "    # Prepare the data for the pie chart\n",
    "    proj_cap = data.groupby(primary_col)['Connection Cap (MW)'].sum().reset_index()\n",
    "    proj_cap = proj_cap.rename(columns={'Connection Cap (MW)': 'Total'})\n",
    "\n",
    "    # Create a pivot table for secondary data\n",
    "    secondary_data = data.pivot_table(values='Connection Cap (MW)',\n",
    "                                      index=primary_col,\n",
    "                                      columns=secondary_col,\n",
    "                                      aggfunc='sum',\n",
    "                                      fill_value=0)\n",
    "\n",
    "    # Merge the pivot table with proj_cap\n",
    "    proj_cap = pd.merge(proj_cap, secondary_data, left_on=primary_col, right_index=True)\n",
    "\n",
    "    # Create hover text\n",
    "    proj_cap['hover_text'] = proj_cap.apply(lambda row: create_hover_text(row, primary_col, secondary_col), axis=1)\n",
    "\n",
    "    return proj_cap\n",
    "\n",
    "# Create data for both pie charts\n",
    "status_data = create_pie_data('Project Status', 'HOST TO')\n",
    "host_to_data = create_pie_data('HOST TO', 'Project Status')\n",
    "\n",
    "# Create subplots\n",
    "fig = make_subplots(rows=1, cols=2, specs=[[{'type':'domain'}, {'type':'domain'}]],\n",
    "                    subplot_titles=('Connection Capacity by Project Status', 'Connection Capacity by HOST TO'))\n",
    "\n",
    "# Add traces for both pie charts\n",
    "fig.add_trace(go.Pie(labels=status_data['Project Status'], \n",
    "                     values=status_data['Total'], \n",
    "                     name='Project Status',\n",
    "                     hole=0.45,\n",
    "                     hoverinfo='text',\n",
    "                     text=status_data['hover_text'],\n",
    "                     textinfo='percent+label',\n",
    "                     hovertemplate='%{text}<extra></extra>'), 1, 1)\n",
    "\n",
    "fig.add_trace(go.Pie(labels=host_to_data['HOST TO'], \n",
    "                     values=host_to_data['Total'], \n",
    "                     name='HOST TO',\n",
    "                     hole=0.45,\n",
    "                     hoverinfo='text',\n",
    "                     text=host_to_data['hover_text'],\n",
    "                     textinfo='percent+label',\n",
    "                     hovertemplate='%{text}<extra></extra>'), 1, 2)\n",
    "\n",
    "# Update layout\n",
    "fig.update_layout(\n",
    "    title_text='Connection Capacity Distribution',\n",
    "    width=1200,\n",
    "    height=700,\n",
    "    legend=dict(orientation='h', yanchor='bottom', y=-0.1, xanchor='center', x=0.5),\n",
    ")\n",
    "\n",
    "# Update trace settings\n",
    "fig.update_traces(textposition='auto', textfont_size=10)\n",
    "\n",
    "# Show the plot\n",
    "fig.show()"
   ]
  },
  {
   "cell_type": "markdown",
   "metadata": {},
   "source": [
    "## Capacities Timeline"
   ]
  },
  {
   "cell_type": "code",
   "execution_count": 531,
   "metadata": {},
   "outputs": [
    {
     "data": {
      "text/plain": [
       "Index(['Project Name', 'Customer Name', 'Connection Site', 'Stage',\n",
       "       'MW Connected', 'MW Change', 'Connection Cap (MW)', 'Connection Date',\n",
       "       'Project Status', 'Agreement Type', 'HOST TO', 'Plant Type',\n",
       "       'Project ID', 'Project Number'],\n",
       "      dtype='object')"
      ]
     },
     "execution_count": 531,
     "metadata": {},
     "output_type": "execute_result"
    }
   ],
   "source": [
    "data.columns"
   ]
  },
  {
   "cell_type": "code",
   "execution_count": 532,
   "metadata": {},
   "outputs": [
    {
     "data": {
      "application/vnd.plotly.v1+json": {
       "config": {
        "plotlyServerURL": "https://plot.ly"
       },
       "data": [
        {
         "customdata": [
          [
           1,
           1,
           17
          ],
          [
           1,
           1,
           380
          ],
          [
           1,
           1,
           49.9
          ],
          [
           1,
           1,
           49.9
          ],
          [
           2,
           1,
           99.8
          ],
          [
           1,
           1,
           11.58
          ],
          [
           1,
           1,
           99.8
          ],
          [
           1,
           1,
           49.5
          ],
          [
           1,
           1,
           49.5
          ],
          [
           1,
           1,
           20
          ],
          [
           2,
           1,
           99
          ],
          [
           1,
           1,
           1200
          ],
          [
           1,
           1,
           49.9
          ],
          [
           1,
           1,
           49.5
          ],
          [
           3,
           2,
           148.99
          ],
          [
           1,
           1,
           49.9
          ],
          [
           1,
           1,
           49.9
          ],
          [
           1,
           1,
           57
          ],
          [
           1,
           1,
           50
          ],
          [
           2,
           2,
           449
          ],
          [
           1,
           1,
           49.99
          ],
          [
           8,
           2,
           342
          ],
          [
           2,
           1,
           106.9
          ],
          [
           1,
           1,
           39.9
          ],
          [
           1,
           1,
           350
          ],
          [
           1,
           1,
           99.9
          ],
          [
           2,
           2,
           1362
          ],
          [
           1,
           1,
           49.995
          ],
          [
           3,
           3,
           163.5
          ],
          [
           2,
           1,
           357
          ],
          [
           1,
           1,
           37.5
          ],
          [
           4,
           3,
           755.1
          ],
          [
           4,
           2,
           393.995
          ],
          [
           1,
           1,
           49.9
          ],
          [
           2,
           2,
           97.4
          ],
          [
           1,
           1,
           57
          ],
          [
           2,
           2,
           69
          ],
          [
           1,
           1,
           132
          ],
          [
           1,
           1,
           49.9
          ],
          [
           2,
           2,
           259.5
          ],
          [
           1,
           1,
           57
          ],
          [
           1,
           1,
           99.98
          ],
          [
           6,
           3,
           311.29
          ],
          [
           15,
           5,
           1524.1
          ],
          [
           1,
           1,
           49.9
          ],
          [
           1,
           1,
           47.5
          ],
          [
           1,
           1,
           47.5
          ],
          [
           4,
           3,
           1269
          ],
          [
           1,
           1,
           35
          ],
          [
           3,
           1,
           446.5
          ],
          [
           2,
           2,
           114
          ],
          [
           1,
           1,
           57
          ],
          [
           4,
           3,
           57.095
          ],
          [
           4,
           4,
           95
          ],
          [
           1,
           1,
           162.3
          ],
          [
           8,
           3,
           511.6
          ],
          [
           1,
           1,
           57
          ],
          [
           2,
           1,
           0
          ],
          [
           1,
           1,
           1800
          ],
          [
           1,
           1,
           49.995
          ],
          [
           4,
           3,
           606.895
          ],
          [
           4,
           4,
           1244.6
          ],
          [
           18,
           6,
           980.75
          ],
          [
           2,
           1,
           99.8
          ],
          [
           2,
           2,
           95
          ],
          [
           1,
           1,
           1320
          ],
          [
           1,
           1,
           299
          ],
          [
           2,
           2,
           1212
          ],
          [
           1,
           1,
           340
          ],
          [
           1,
           1,
           150
          ],
          [
           1,
           1,
           860
          ],
          [
           1,
           1,
           57
          ],
          [
           1,
           1,
           437
          ],
          [
           1,
           1,
           100
          ],
          [
           6,
           4,
           306.59
          ],
          [
           1,
           1,
           83
          ],
          [
           2,
           2,
           1257
          ],
          [
           1,
           1,
           249
          ],
          [
           1,
           1,
           360
          ],
          [
           1,
           1,
           85.5
          ],
          [
           2,
           2,
           157.1
          ],
          [
           7,
           5,
           6575
          ],
          [
           1,
           1,
           99.98
          ],
          [
           2,
           2,
           390
          ],
          [
           11,
           4,
           4396.7
          ],
          [
           14,
           5,
           2256.6
          ],
          [
           1,
           1,
           57
          ],
          [
           1,
           1,
           200
          ],
          [
           1,
           1,
           57
          ],
          [
           3,
           2,
           140.4
          ],
          [
           1,
           1,
           47.5
          ],
          [
           5,
           1,
           693
          ],
          [
           3,
           2,
           2284
          ],
          [
           1,
           1,
           1670
          ],
          [
           2,
           2,
           108
          ],
          [
           1,
           1,
           57
          ],
          [
           2,
           2,
           124
          ],
          [
           2,
           2,
           57
          ],
          [
           1,
           1,
           300
          ],
          [
           2,
           2,
           347
          ],
          [
           2,
           2,
           999.9
          ],
          [
           1,
           1,
           88.4
          ],
          [
           3,
           2,
           785.6
          ],
          [
           2,
           1,
           800
          ],
          [
           3,
           2,
           549.9
          ],
          [
           5,
           3,
           1990
          ],
          [
           16,
           3,
           2066.5
          ],
          [
           1,
           1,
           500
          ],
          [
           1,
           1,
           240
          ],
          [
           1,
           1,
           400
          ],
          [
           1,
           1,
           500
          ],
          [
           3,
           2,
           1760
          ],
          [
           2,
           2,
           926
          ],
          [
           1,
           1,
           1670
          ],
          [
           1,
           1,
           440
          ],
          [
           1,
           1,
           49.9
          ],
          [
           2,
           1,
           228.5
          ],
          [
           1,
           1,
           95.25
          ],
          [
           1,
           1,
           500
          ],
          [
           1,
           1,
           54
          ],
          [
           1,
           1,
           246.4
          ],
          [
           1,
           1,
           60
          ],
          [
           1,
           1,
           57
          ],
          [
           4,
           2,
           616
          ],
          [
           1,
           1,
           310
          ],
          [
           1,
           1,
           200
          ],
          [
           2,
           2,
           800
          ],
          [
           13,
           3,
           6083
          ],
          [
           26,
           6,
           5542.2
          ],
          [
           2,
           1,
           1300
          ],
          [
           1,
           1,
           480
          ],
          [
           3,
           2,
           1770
          ],
          [
           1,
           1,
           719
          ],
          [
           3,
           2,
           620
          ],
          [
           1,
           1,
           300
          ],
          [
           1,
           1,
           151.2
          ],
          [
           1,
           1,
           110
          ],
          [
           2,
           1,
           840
          ],
          [
           1,
           1,
           249
          ],
          [
           5,
           3,
           977
          ],
          [
           1,
           1,
           500
          ],
          [
           1,
           1,
           200
          ],
          [
           1,
           1,
           500
          ],
          [
           1,
           1,
           190
          ],
          [
           1,
           1,
           500
          ],
          [
           1,
           1,
           600
          ],
          [
           1,
           1,
           600
          ],
          [
           1,
           1,
           400
          ],
          [
           2,
           2,
           570
          ],
          [
           1,
           1,
           57
          ],
          [
           1,
           1,
           500
          ],
          [
           10,
           3,
           4639.9
          ],
          [
           15,
           5,
           5153.9
          ],
          [
           3,
           2,
           3700
          ],
          [
           4,
           2,
           1038
          ],
          [
           2,
           2,
           960
          ],
          [
           1,
           1,
           400
          ],
          [
           1,
           1,
           250
          ],
          [
           1,
           1,
           1800
          ],
          [
           1,
           1,
           400
          ],
          [
           1,
           1,
           235
          ],
          [
           1,
           1,
           910
          ],
          [
           5,
           3,
           2530
          ],
          [
           18,
           5,
           8484.9
          ],
          [
           1,
           1,
           1500
          ],
          [
           1,
           1,
           249
          ],
          [
           3,
           3,
           1020
          ],
          [
           1,
           1,
           49.9
          ],
          [
           1,
           1,
           200
          ],
          [
           1,
           1,
           249
          ],
          [
           1,
           1,
           400
          ],
          [
           1,
           1,
           200
          ],
          [
           1,
           1,
           1000
          ],
          [
           1,
           1,
           400
          ],
          [
           1,
           1,
           400
          ],
          [
           2,
           2,
           649
          ],
          [
           7,
           2,
           3523
          ],
          [
           50,
           7,
           28550.9
          ],
          [
           1,
           1,
           150
          ],
          [
           1,
           1,
           400
          ],
          [
           1,
           1,
           530.03
          ],
          [
           2,
           2,
           2360
          ],
          [
           1,
           1,
           80
          ],
          [
           1,
           1,
           237.5
          ],
          [
           2,
           1,
           260
          ],
          [
           1,
           1,
           160
          ],
          [
           1,
           1,
           1400
          ],
          [
           1,
           1,
           550
          ],
          [
           2,
           1,
           907
          ],
          [
           1,
           1,
           50
          ],
          [
           1,
           1,
           600
          ],
          [
           1,
           1,
           1800
          ],
          [
           1,
           1,
           625
          ],
          [
           1,
           1,
           400
          ],
          [
           6,
           3,
           2890
          ],
          [
           7,
           4,
           4375
          ],
          [
           26,
           7,
           10624.5
          ],
          [
           1,
           1,
           250
          ],
          [
           1,
           1,
           1500
          ],
          [
           2,
           1,
           900
          ],
          [
           1,
           1,
           249
          ],
          [
           2,
           2,
           1507.005
          ],
          [
           2,
           1,
           900
          ],
          [
           2,
           1,
           489.9
          ],
          [
           3,
           2,
           1320
          ],
          [
           7,
           3,
           3646.8
          ],
          [
           1,
           1,
           165
          ],
          [
           2,
           1,
           729
          ],
          [
           1,
           1,
           249.9
          ],
          [
           1,
           1,
           600
          ],
          [
           1,
           1,
           850
          ],
          [
           6,
           3,
           1581.9
          ],
          [
           16,
           6,
           7717.9
          ],
          [
           52,
           10,
           24517.1
          ],
          [
           2,
           2,
           1150
          ],
          [
           1,
           1,
           249
          ],
          [
           1,
           1,
           249.9
          ],
          [
           1,
           1,
           400
          ],
          [
           1,
           1,
           600
          ],
          [
           1,
           1,
           70
          ],
          [
           2,
           1,
           557
          ],
          [
           3,
           1,
           1049
          ],
          [
           1,
           1,
           240
          ],
          [
           2,
           2,
           1425
          ],
          [
           13,
           5,
           5528
          ],
          [
           42,
           9,
           22000.9
          ],
          [
           1,
           1,
           7.005
          ],
          [
           1,
           1,
           500
          ],
          [
           4,
           3,
           2355.9
          ],
          [
           1,
           1,
           480
          ],
          [
           1,
           1,
           1670
          ],
          [
           6,
           2,
           3224.7
          ],
          [
           2,
           2,
           449.9
          ],
          [
           17,
           3,
           5725
          ],
          [
           20,
           5,
           22491.3
          ],
          [
           1,
           1,
           200
          ],
          [
           2,
           2,
           2070
          ],
          [
           6,
           2,
           1099.79
          ],
          [
           1,
           1,
           249
          ],
          [
           8,
           3,
           2548.9
          ],
          [
           10,
           2,
           3479.9
          ],
          [
           1,
           1,
           650
          ],
          [
           18,
           5,
           18015.9
          ],
          [
           1,
           1,
           200
          ],
          [
           1,
           1,
           1000
          ],
          [
           1,
           1,
           480
          ],
          [
           1,
           1,
           350
          ],
          [
           1,
           1,
           35.5
          ],
          [
           1,
           1,
           49.9
          ],
          [
           3,
           2,
           1350
          ],
          [
           6,
           2,
           2579.9
          ],
          [
           1,
           1,
           600
          ],
          [
           20,
           5,
           6609.09
          ],
          [
           90,
           11,
           35440.875
          ],
          [
           8,
           6,
           3788.9
          ],
          [
           1,
           1,
           240
          ],
          [
           1,
           1,
           240
          ],
          [
           9,
           3,
           3609.9
          ],
          [
           1,
           1,
           1000
          ],
          [
           1,
           1,
           200
          ],
          [
           2,
           2,
           400
          ],
          [
           1,
           1,
           700
          ],
          [
           1,
           1,
           700
          ],
          [
           1,
           1,
           200
          ],
          [
           1,
           1,
           119.9
          ],
          [
           10,
           2,
           3810.92
          ],
          [
           1,
           1,
           600
          ],
          [
           1,
           1,
           700
          ],
          [
           1,
           1,
           600
          ],
          [
           1,
           1,
           1000
          ]
         ],
         "hovertemplate": "<b>%{hovertext}</b><br><br>HOST TO=NGET<br>Connection Date=%{x}<br>Total Entry Capacity (MW)=%{y}<br>Number of Projects=%{customdata[0]}<br>Unique Plant Type=%{customdata[1]}<br>Total MW Change=%{customdata[2]}<extra></extra>",
         "hovertext": [
          "2019-09-06T00:00:00",
          "2020-10-01T00:00:00",
          "2022-09-25T00:00:00",
          "2022-10-30T00:00:00",
          "2022-10-31T00:00:00",
          "2022-12-30T00:00:00",
          "2023-01-12T00:00:00",
          "2023-01-31T00:00:00",
          "2023-02-15T00:00:00",
          "2023-03-01T00:00:00",
          "2023-03-07T00:00:00",
          "2023-04-01T00:00:00",
          "2023-05-01T00:00:00",
          "2023-05-31T00:00:00",
          "2023-06-30T00:00:00",
          "2023-07-31T00:00:00",
          "2023-08-15T00:00:00",
          "2023-08-31T00:00:00",
          "2023-09-29T00:00:00",
          "2023-09-30T00:00:00",
          "2023-10-30T00:00:00",
          "2023-10-31T00:00:00",
          "2023-11-01T00:00:00",
          "2023-11-10T00:00:00",
          "2024-03-22T00:00:00",
          "2024-03-29T00:00:00",
          "2024-04-01T00:00:00",
          "2024-04-25T00:00:00",
          "2024-05-01T00:00:00",
          "2024-05-30T00:00:00",
          "2024-06-07T00:00:00",
          "2024-06-28T00:00:00",
          "2024-06-30T00:00:00",
          "2024-07-01T00:00:00",
          "2024-07-30T00:00:00",
          "2024-08-30T00:00:00",
          "2024-08-31T00:00:00",
          "2024-09-01T00:00:00",
          "2024-09-14T00:00:00",
          "2024-09-30T00:00:00",
          "2024-10-01T00:00:00",
          "2024-10-25T00:00:00",
          "2024-10-30T00:00:00",
          "2024-10-31T00:00:00",
          "2024-11-01T00:00:00",
          "2025-02-28T00:00:00",
          "2025-03-31T00:00:00",
          "2025-04-01T00:00:00",
          "2025-04-15T00:00:00",
          "2025-04-30T00:00:00",
          "2025-05-01T00:00:00",
          "2025-05-20T00:00:00",
          "2025-05-30T00:00:00",
          "2025-05-31T00:00:00",
          "2025-06-01T00:00:00",
          "2025-06-30T00:00:00",
          "2025-07-01T00:00:00",
          "2025-07-31T00:00:00",
          "2025-08-31T00:00:00",
          "2025-09-29T00:00:00",
          "2025-09-30T00:00:00",
          "2025-10-30T00:00:00",
          "2025-10-31T00:00:00",
          "2025-11-01T00:00:00",
          "2025-11-30T00:00:00",
          "2025-12-01T00:00:00",
          "2026-01-16T00:00:00",
          "2026-01-31T00:00:00",
          "2026-03-11T00:00:00",
          "2026-04-01T00:00:00",
          "2026-04-30T00:00:00",
          "2026-05-16T00:00:00",
          "2026-05-29T00:00:00",
          "2026-05-31T00:00:00",
          "2026-06-30T00:00:00",
          "2026-07-31T00:00:00",
          "2026-08-01T00:00:00",
          "2026-08-24T00:00:00",
          "2026-08-30T00:00:00",
          "2026-09-25T00:00:00",
          "2026-09-30T00:00:00",
          "2026-10-01T00:00:00",
          "2026-10-23T00:00:00",
          "2026-10-25T00:00:00",
          "2026-10-30T00:00:00",
          "2026-10-31T00:00:00",
          "2026-11-01T00:00:00",
          "2026-11-30T00:00:00",
          "2026-12-13T00:00:00",
          "2026-12-30T00:00:00",
          "2027-01-13T00:00:00",
          "2027-02-04T00:00:00",
          "2027-04-01T00:00:00",
          "2027-04-06T00:00:00",
          "2027-04-30T00:00:00",
          "2027-05-01T00:00:00",
          "2027-06-01T00:00:00",
          "2027-06-30T00:00:00",
          "2027-07-15T00:00:00",
          "2027-08-31T00:00:00",
          "2027-09-01T00:00:00",
          "2027-09-11T00:00:00",
          "2027-09-30T00:00:00",
          "2027-10-01T00:00:00",
          "2027-10-29T00:00:00",
          "2027-10-30T00:00:00",
          "2027-10-31T00:00:00",
          "2027-12-15T00:00:00",
          "2028-01-01T00:00:00",
          "2028-03-20T00:00:00",
          "2028-03-30T00:00:00",
          "2028-03-31T00:00:00",
          "2028-04-01T00:00:00",
          "2028-04-06T00:00:00",
          "2028-05-01T00:00:00",
          "2028-06-01T00:00:00",
          "2028-06-30T00:00:00",
          "2028-07-26T00:00:00",
          "2028-08-01T00:00:00",
          "2028-08-31T00:00:00",
          "2028-09-11T00:00:00",
          "2028-09-22T00:00:00",
          "2028-09-29T00:00:00",
          "2028-10-01T00:00:00",
          "2028-10-06T00:00:00",
          "2028-10-25T00:00:00",
          "2028-10-27T00:00:00",
          "2028-10-30T00:00:00",
          "2028-10-31T00:00:00",
          "2028-11-01T00:00:00",
          "2028-11-30T00:00:00",
          "2028-12-31T00:00:00",
          "2029-01-01T00:00:00",
          "2029-03-31T00:00:00",
          "2029-04-02T00:00:00",
          "2029-05-10T00:00:00",
          "2029-05-12T00:00:00",
          "2029-06-01T00:00:00",
          "2029-06-14T00:00:00",
          "2029-06-30T00:00:00",
          "2029-07-01T00:00:00",
          "2029-07-12T00:00:00",
          "2029-07-21T00:00:00",
          "2029-07-30T00:00:00",
          "2029-07-31T00:00:00",
          "2029-08-30T00:00:00",
          "2029-09-01T00:00:00",
          "2029-09-30T00:00:00",
          "2029-10-01T00:00:00",
          "2029-10-17T00:00:00",
          "2029-10-26T00:00:00",
          "2029-10-30T00:00:00",
          "2029-10-31T00:00:00",
          "2029-11-30T00:00:00",
          "2029-12-31T00:00:00",
          "2030-03-31T00:00:00",
          "2030-04-01T00:00:00",
          "2030-07-30T00:00:00",
          "2030-08-30T00:00:00",
          "2030-09-01T00:00:00",
          "2030-09-30T00:00:00",
          "2030-10-04T00:00:00",
          "2030-10-30T00:00:00",
          "2030-10-31T00:00:00",
          "2030-11-30T00:00:00",
          "2030-12-30T00:00:00",
          "2030-12-31T00:00:00",
          "2031-01-31T00:00:00",
          "2031-02-24T00:00:00",
          "2031-03-31T00:00:00",
          "2031-04-30T00:00:00",
          "2031-05-30T00:00:00",
          "2031-09-30T00:00:00",
          "2031-10-04T00:00:00",
          "2031-10-21T00:00:00",
          "2031-10-22T00:00:00",
          "2031-10-30T00:00:00",
          "2031-10-31T00:00:00",
          "2031-11-01T00:00:00",
          "2031-11-24T00:00:00",
          "2031-11-28T00:00:00",
          "2031-11-30T00:00:00",
          "2032-03-31T00:00:00",
          "2032-04-16T00:00:00",
          "2032-05-01T00:00:00",
          "2032-05-31T00:00:00",
          "2032-06-01T00:00:00",
          "2032-06-16T00:00:00",
          "2032-07-01T00:00:00",
          "2032-07-30T00:00:00",
          "2032-07-31T00:00:00",
          "2032-08-30T00:00:00",
          "2032-08-31T00:00:00",
          "2032-10-25T00:00:00",
          "2032-10-29T00:00:00",
          "2032-10-30T00:00:00",
          "2032-10-31T00:00:00",
          "2032-11-30T00:00:00",
          "2033-01-01T00:00:00",
          "2033-03-30T00:00:00",
          "2033-03-31T00:00:00",
          "2033-04-01T00:00:00",
          "2033-04-04T00:00:00",
          "2033-05-30T00:00:00",
          "2033-05-31T00:00:00",
          "2033-06-30T00:00:00",
          "2033-07-01T00:00:00",
          "2033-07-30T00:00:00",
          "2033-08-30T00:00:00",
          "2033-09-30T00:00:00",
          "2033-10-01T00:00:00",
          "2033-10-28T00:00:00",
          "2033-10-30T00:00:00",
          "2033-10-31T00:00:00",
          "2033-11-01T00:00:00",
          "2033-11-17T00:00:00",
          "2033-11-30T00:00:00",
          "2034-05-30T00:00:00",
          "2034-06-01T00:00:00",
          "2034-06-15T00:00:00",
          "2034-06-30T00:00:00",
          "2034-08-30T00:00:00",
          "2034-09-30T00:00:00",
          "2034-10-01T00:00:00",
          "2034-10-30T00:00:00",
          "2034-10-31T00:00:00",
          "2035-04-01T00:00:00",
          "2035-04-30T00:00:00",
          "2035-05-30T00:00:00",
          "2035-05-31T00:00:00",
          "2035-07-31T00:00:00",
          "2035-10-24T00:00:00",
          "2035-10-26T00:00:00",
          "2035-10-30T00:00:00",
          "2035-10-31T00:00:00",
          "2036-06-02T00:00:00",
          "2036-07-31T00:00:00",
          "2036-10-24T00:00:00",
          "2036-10-26T00:00:00",
          "2036-10-30T00:00:00",
          "2036-10-31T00:00:00",
          "2036-11-01T00:00:00",
          "2036-12-06T00:00:00",
          "2036-12-19T00:00:00",
          "2037-04-24T00:00:00",
          "2037-04-28T00:00:00",
          "2037-05-10T00:00:00",
          "2037-06-28T00:00:00",
          "2037-09-11T00:00:00",
          "2037-09-15T00:00:00",
          "2037-10-15T00:00:00",
          "2037-10-20T00:00:00",
          "2037-10-30T00:00:00",
          "2037-10-31T00:00:00",
          "2037-11-01T00:00:00",
          "2037-11-09T00:00:00",
          "2037-11-16T00:00:00",
          "2037-11-30T00:00:00",
          "2037-12-19T00:00:00",
          "2038-03-30T00:00:00",
          "2038-04-30T00:00:00",
          "2038-05-30T00:00:00",
          "2038-06-30T00:00:00",
          "2038-10-01T00:00:00",
          "2038-10-30T00:00:00",
          "2038-10-31T00:00:00",
          "2038-11-01T00:00:00",
          "2038-11-30T00:00:00",
          "2039-10-01T00:00:00",
          "2039-10-31T00:00:00"
         ],
         "legendgroup": "NGET",
         "marker": {
          "color": "#636efa",
          "size": [
           1,
           1,
           1,
           1,
           2,
           1,
           1,
           1,
           1,
           1,
           2,
           1,
           1,
           1,
           3,
           1,
           1,
           1,
           1,
           2,
           1,
           8,
           2,
           1,
           1,
           1,
           2,
           1,
           3,
           2,
           1,
           4,
           4,
           1,
           2,
           1,
           2,
           1,
           1,
           2,
           1,
           1,
           6,
           15,
           1,
           1,
           1,
           4,
           1,
           3,
           2,
           1,
           4,
           4,
           1,
           8,
           1,
           2,
           1,
           1,
           4,
           4,
           18,
           2,
           2,
           1,
           1,
           2,
           1,
           1,
           1,
           1,
           1,
           1,
           6,
           1,
           2,
           1,
           1,
           1,
           2,
           7,
           1,
           2,
           11,
           14,
           1,
           1,
           1,
           3,
           1,
           5,
           3,
           1,
           2,
           1,
           2,
           2,
           1,
           2,
           2,
           1,
           3,
           2,
           3,
           5,
           16,
           1,
           1,
           1,
           1,
           3,
           2,
           1,
           1,
           1,
           2,
           1,
           1,
           1,
           1,
           1,
           1,
           4,
           1,
           1,
           2,
           13,
           26,
           2,
           1,
           3,
           1,
           3,
           1,
           1,
           1,
           2,
           1,
           5,
           1,
           1,
           1,
           1,
           1,
           1,
           1,
           1,
           2,
           1,
           1,
           10,
           15,
           3,
           4,
           2,
           1,
           1,
           1,
           1,
           1,
           1,
           5,
           18,
           1,
           1,
           3,
           1,
           1,
           1,
           1,
           1,
           1,
           1,
           1,
           2,
           7,
           50,
           1,
           1,
           1,
           2,
           1,
           1,
           2,
           1,
           1,
           1,
           2,
           1,
           1,
           1,
           1,
           1,
           6,
           7,
           26,
           1,
           1,
           2,
           1,
           2,
           2,
           2,
           3,
           7,
           1,
           2,
           1,
           1,
           1,
           6,
           16,
           52,
           2,
           1,
           1,
           1,
           1,
           1,
           2,
           3,
           1,
           2,
           13,
           42,
           1,
           1,
           4,
           1,
           1,
           6,
           2,
           17,
           20,
           1,
           2,
           6,
           1,
           8,
           10,
           1,
           18,
           1,
           1,
           1,
           1,
           1,
           1,
           3,
           6,
           1,
           20,
           90,
           8,
           1,
           1,
           9,
           1,
           1,
           2,
           1,
           1,
           1,
           1,
           10,
           1,
           1,
           1,
           1
          ],
          "sizemode": "area",
          "sizeref": 0.225,
          "symbol": "circle"
         },
         "mode": "markers",
         "name": "NGET",
         "orientation": "v",
         "showlegend": true,
         "type": "scatter",
         "x": [
          "2019-09-06T00:00:00",
          "2020-10-01T00:00:00",
          "2022-09-25T00:00:00",
          "2022-10-30T00:00:00",
          "2022-10-31T00:00:00",
          "2022-12-30T00:00:00",
          "2023-01-12T00:00:00",
          "2023-01-31T00:00:00",
          "2023-02-15T00:00:00",
          "2023-03-01T00:00:00",
          "2023-03-07T00:00:00",
          "2023-04-01T00:00:00",
          "2023-05-01T00:00:00",
          "2023-05-31T00:00:00",
          "2023-06-30T00:00:00",
          "2023-07-31T00:00:00",
          "2023-08-15T00:00:00",
          "2023-08-31T00:00:00",
          "2023-09-29T00:00:00",
          "2023-09-30T00:00:00",
          "2023-10-30T00:00:00",
          "2023-10-31T00:00:00",
          "2023-11-01T00:00:00",
          "2023-11-10T00:00:00",
          "2024-03-22T00:00:00",
          "2024-03-29T00:00:00",
          "2024-04-01T00:00:00",
          "2024-04-25T00:00:00",
          "2024-05-01T00:00:00",
          "2024-05-30T00:00:00",
          "2024-06-07T00:00:00",
          "2024-06-28T00:00:00",
          "2024-06-30T00:00:00",
          "2024-07-01T00:00:00",
          "2024-07-30T00:00:00",
          "2024-08-30T00:00:00",
          "2024-08-31T00:00:00",
          "2024-09-01T00:00:00",
          "2024-09-14T00:00:00",
          "2024-09-30T00:00:00",
          "2024-10-01T00:00:00",
          "2024-10-25T00:00:00",
          "2024-10-30T00:00:00",
          "2024-10-31T00:00:00",
          "2024-11-01T00:00:00",
          "2025-02-28T00:00:00",
          "2025-03-31T00:00:00",
          "2025-04-01T00:00:00",
          "2025-04-15T00:00:00",
          "2025-04-30T00:00:00",
          "2025-05-01T00:00:00",
          "2025-05-20T00:00:00",
          "2025-05-30T00:00:00",
          "2025-05-31T00:00:00",
          "2025-06-01T00:00:00",
          "2025-06-30T00:00:00",
          "2025-07-01T00:00:00",
          "2025-07-31T00:00:00",
          "2025-08-31T00:00:00",
          "2025-09-29T00:00:00",
          "2025-09-30T00:00:00",
          "2025-10-30T00:00:00",
          "2025-10-31T00:00:00",
          "2025-11-01T00:00:00",
          "2025-11-30T00:00:00",
          "2025-12-01T00:00:00",
          "2026-01-16T00:00:00",
          "2026-01-31T00:00:00",
          "2026-03-11T00:00:00",
          "2026-04-01T00:00:00",
          "2026-04-30T00:00:00",
          "2026-05-16T00:00:00",
          "2026-05-29T00:00:00",
          "2026-05-31T00:00:00",
          "2026-06-30T00:00:00",
          "2026-07-31T00:00:00",
          "2026-08-01T00:00:00",
          "2026-08-24T00:00:00",
          "2026-08-30T00:00:00",
          "2026-09-25T00:00:00",
          "2026-09-30T00:00:00",
          "2026-10-01T00:00:00",
          "2026-10-23T00:00:00",
          "2026-10-25T00:00:00",
          "2026-10-30T00:00:00",
          "2026-10-31T00:00:00",
          "2026-11-01T00:00:00",
          "2026-11-30T00:00:00",
          "2026-12-13T00:00:00",
          "2026-12-30T00:00:00",
          "2027-01-13T00:00:00",
          "2027-02-04T00:00:00",
          "2027-04-01T00:00:00",
          "2027-04-06T00:00:00",
          "2027-04-30T00:00:00",
          "2027-05-01T00:00:00",
          "2027-06-01T00:00:00",
          "2027-06-30T00:00:00",
          "2027-07-15T00:00:00",
          "2027-08-31T00:00:00",
          "2027-09-01T00:00:00",
          "2027-09-11T00:00:00",
          "2027-09-30T00:00:00",
          "2027-10-01T00:00:00",
          "2027-10-29T00:00:00",
          "2027-10-30T00:00:00",
          "2027-10-31T00:00:00",
          "2027-12-15T00:00:00",
          "2028-01-01T00:00:00",
          "2028-03-20T00:00:00",
          "2028-03-30T00:00:00",
          "2028-03-31T00:00:00",
          "2028-04-01T00:00:00",
          "2028-04-06T00:00:00",
          "2028-05-01T00:00:00",
          "2028-06-01T00:00:00",
          "2028-06-30T00:00:00",
          "2028-07-26T00:00:00",
          "2028-08-01T00:00:00",
          "2028-08-31T00:00:00",
          "2028-09-11T00:00:00",
          "2028-09-22T00:00:00",
          "2028-09-29T00:00:00",
          "2028-10-01T00:00:00",
          "2028-10-06T00:00:00",
          "2028-10-25T00:00:00",
          "2028-10-27T00:00:00",
          "2028-10-30T00:00:00",
          "2028-10-31T00:00:00",
          "2028-11-01T00:00:00",
          "2028-11-30T00:00:00",
          "2028-12-31T00:00:00",
          "2029-01-01T00:00:00",
          "2029-03-31T00:00:00",
          "2029-04-02T00:00:00",
          "2029-05-10T00:00:00",
          "2029-05-12T00:00:00",
          "2029-06-01T00:00:00",
          "2029-06-14T00:00:00",
          "2029-06-30T00:00:00",
          "2029-07-01T00:00:00",
          "2029-07-12T00:00:00",
          "2029-07-21T00:00:00",
          "2029-07-30T00:00:00",
          "2029-07-31T00:00:00",
          "2029-08-30T00:00:00",
          "2029-09-01T00:00:00",
          "2029-09-30T00:00:00",
          "2029-10-01T00:00:00",
          "2029-10-17T00:00:00",
          "2029-10-26T00:00:00",
          "2029-10-30T00:00:00",
          "2029-10-31T00:00:00",
          "2029-11-30T00:00:00",
          "2029-12-31T00:00:00",
          "2030-03-31T00:00:00",
          "2030-04-01T00:00:00",
          "2030-07-30T00:00:00",
          "2030-08-30T00:00:00",
          "2030-09-01T00:00:00",
          "2030-09-30T00:00:00",
          "2030-10-04T00:00:00",
          "2030-10-30T00:00:00",
          "2030-10-31T00:00:00",
          "2030-11-30T00:00:00",
          "2030-12-30T00:00:00",
          "2030-12-31T00:00:00",
          "2031-01-31T00:00:00",
          "2031-02-24T00:00:00",
          "2031-03-31T00:00:00",
          "2031-04-30T00:00:00",
          "2031-05-30T00:00:00",
          "2031-09-30T00:00:00",
          "2031-10-04T00:00:00",
          "2031-10-21T00:00:00",
          "2031-10-22T00:00:00",
          "2031-10-30T00:00:00",
          "2031-10-31T00:00:00",
          "2031-11-01T00:00:00",
          "2031-11-24T00:00:00",
          "2031-11-28T00:00:00",
          "2031-11-30T00:00:00",
          "2032-03-31T00:00:00",
          "2032-04-16T00:00:00",
          "2032-05-01T00:00:00",
          "2032-05-31T00:00:00",
          "2032-06-01T00:00:00",
          "2032-06-16T00:00:00",
          "2032-07-01T00:00:00",
          "2032-07-30T00:00:00",
          "2032-07-31T00:00:00",
          "2032-08-30T00:00:00",
          "2032-08-31T00:00:00",
          "2032-10-25T00:00:00",
          "2032-10-29T00:00:00",
          "2032-10-30T00:00:00",
          "2032-10-31T00:00:00",
          "2032-11-30T00:00:00",
          "2033-01-01T00:00:00",
          "2033-03-30T00:00:00",
          "2033-03-31T00:00:00",
          "2033-04-01T00:00:00",
          "2033-04-04T00:00:00",
          "2033-05-30T00:00:00",
          "2033-05-31T00:00:00",
          "2033-06-30T00:00:00",
          "2033-07-01T00:00:00",
          "2033-07-30T00:00:00",
          "2033-08-30T00:00:00",
          "2033-09-30T00:00:00",
          "2033-10-01T00:00:00",
          "2033-10-28T00:00:00",
          "2033-10-30T00:00:00",
          "2033-10-31T00:00:00",
          "2033-11-01T00:00:00",
          "2033-11-17T00:00:00",
          "2033-11-30T00:00:00",
          "2034-05-30T00:00:00",
          "2034-06-01T00:00:00",
          "2034-06-15T00:00:00",
          "2034-06-30T00:00:00",
          "2034-08-30T00:00:00",
          "2034-09-30T00:00:00",
          "2034-10-01T00:00:00",
          "2034-10-30T00:00:00",
          "2034-10-31T00:00:00",
          "2035-04-01T00:00:00",
          "2035-04-30T00:00:00",
          "2035-05-30T00:00:00",
          "2035-05-31T00:00:00",
          "2035-07-31T00:00:00",
          "2035-10-24T00:00:00",
          "2035-10-26T00:00:00",
          "2035-10-30T00:00:00",
          "2035-10-31T00:00:00",
          "2036-06-02T00:00:00",
          "2036-07-31T00:00:00",
          "2036-10-24T00:00:00",
          "2036-10-26T00:00:00",
          "2036-10-30T00:00:00",
          "2036-10-31T00:00:00",
          "2036-11-01T00:00:00",
          "2036-12-06T00:00:00",
          "2036-12-19T00:00:00",
          "2037-04-24T00:00:00",
          "2037-04-28T00:00:00",
          "2037-05-10T00:00:00",
          "2037-06-28T00:00:00",
          "2037-09-11T00:00:00",
          "2037-09-15T00:00:00",
          "2037-10-15T00:00:00",
          "2037-10-20T00:00:00",
          "2037-10-30T00:00:00",
          "2037-10-31T00:00:00",
          "2037-11-01T00:00:00",
          "2037-11-09T00:00:00",
          "2037-11-16T00:00:00",
          "2037-11-30T00:00:00",
          "2037-12-19T00:00:00",
          "2038-03-30T00:00:00",
          "2038-04-30T00:00:00",
          "2038-05-30T00:00:00",
          "2038-06-30T00:00:00",
          "2038-10-01T00:00:00",
          "2038-10-30T00:00:00",
          "2038-10-31T00:00:00",
          "2038-11-01T00:00:00",
          "2038-11-30T00:00:00",
          "2039-10-01T00:00:00",
          "2039-10-31T00:00:00"
         ],
         "xaxis": "x",
         "y": [
          30,
          380,
          49.9,
          49.9,
          99.8,
          11.58,
          99.8,
          49.5,
          49.5,
          20,
          99,
          1200,
          49.9,
          49.5,
          148.99,
          49.9,
          49.9,
          57,
          1268,
          449,
          49.99,
          441.8,
          106.9,
          39.9,
          350,
          99.9,
          1362,
          49.995,
          163.5,
          357,
          37.5,
          805,
          393.995,
          49.9,
          97.4,
          57,
          69,
          132,
          49.9,
          459.4,
          57,
          99.98,
          311.29,
          1524.1,
          49.9,
          47.5,
          47.5,
          2521,
          35,
          446.5,
          114,
          57,
          106.995,
          95,
          162.3,
          511.6,
          57,
          0,
          1800,
          49.995,
          606.895,
          1294.5,
          1430.65,
          99.8,
          95,
          1320,
          299,
          1212,
          700,
          150,
          860,
          57,
          437,
          100,
          406.39,
          83,
          1257,
          249,
          360,
          142.5,
          207,
          7790,
          199.96,
          390,
          4446.6,
          2306.5,
          57,
          200,
          57,
          340,
          47.5,
          693,
          2284,
          1670,
          108,
          57,
          124,
          106.9,
          300,
          347,
          999.9,
          88.4,
          2775,
          800,
          549.9,
          3323,
          2965.8,
          500,
          240,
          400,
          500,
          1760,
          1500,
          3340,
          800,
          49.9,
          228.5,
          95.25,
          500,
          54,
          246.4,
          60,
          57,
          616,
          310,
          200,
          999.96,
          6818,
          7154,
          1300,
          480,
          5620,
          719,
          660,
          300,
          151.2,
          110,
          840,
          249,
          977,
          500,
          200,
          500,
          190,
          500,
          600,
          600,
          400,
          570,
          57,
          500,
          5889.9,
          5153.9,
          3700,
          1458,
          1420,
          800,
          500,
          1800,
          400,
          1700,
          1220,
          2829.99,
          8484.9,
          1500,
          249,
          1880,
          49.9,
          200,
          249,
          400,
          200,
          1000,
          400,
          400,
          649,
          3523,
          30069.9,
          150,
          400,
          929.99,
          2360,
          180,
          237.5,
          260,
          160,
          1400,
          550,
          907,
          50,
          600,
          1800,
          1025,
          400,
          2890,
          4775,
          12186.4,
          590,
          1500,
          900,
          249,
          1557,
          900,
          489.9,
          1320,
          3646.8,
          165,
          729,
          249.9,
          600,
          850,
          2381.9,
          7717.9,
          25367.1,
          1150,
          249,
          249.9,
          400,
          1820,
          70,
          557,
          1049,
          240,
          2375,
          7361,
          22499.9,
          57,
          500,
          2355.9,
          480,
          1670,
          3224.7,
          449.9,
          5725,
          22491.3,
          200,
          3740,
          1099.79,
          249,
          3588.9,
          3929.8,
          650,
          18015.9,
          200,
          1000,
          480,
          350,
          35.5,
          49.9,
          1350,
          2579.9,
          600,
          6658.99,
          37625.57,
          3788.9,
          240,
          240,
          3609.9,
          1000,
          200,
          400,
          700,
          700,
          200,
          349.9,
          4410.92,
          600,
          700,
          600,
          1000
         ],
         "yaxis": "y"
        },
        {
         "customdata": [
          [
           1,
           1,
           10
          ],
          [
           2,
           1,
           75
          ],
          [
           1,
           1,
           590
          ],
          [
           1,
           1,
           475
          ],
          [
           1,
           1,
           40
          ],
          [
           2,
           2,
           37.5
          ],
          [
           1,
           1,
           200
          ],
          [
           1,
           1,
           20.622
          ],
          [
           2,
           2,
           36
          ],
          [
           1,
           1,
           800
          ],
          [
           1,
           1,
           106
          ],
          [
           2,
           2,
           48
          ],
          [
           2,
           1,
           65.99000000000001
          ],
          [
           1,
           1,
           443
          ],
          [
           6,
           3,
           704.1
          ],
          [
           1,
           1,
           50
          ],
          [
           1,
           1,
           20
          ],
          [
           1,
           1,
           49.9
          ],
          [
           2,
           2,
           136
          ],
          [
           3,
           3,
           104.275
          ],
          [
           2,
           2,
           200.8
          ],
          [
           1,
           1,
           49.9
          ],
          [
           1,
           1,
           70
          ],
          [
           1,
           1,
           77
          ],
          [
           2,
           1,
           63.5
          ],
          [
           10,
           4,
           840.1
          ],
          [
           1,
           1,
           45
          ],
          [
           1,
           1,
           49.7
          ],
          [
           3,
           2,
           316
          ],
          [
           1,
           1,
           207.6
          ],
          [
           1,
           1,
           50
          ],
          [
           1,
           1,
           105
          ],
          [
           2,
           1,
           169
          ],
          [
           5,
           2,
           520.4
          ],
          [
           1,
           1,
           99
          ],
          [
           1,
           1,
           49.5
          ],
          [
           1,
           1,
           14.8
          ],
          [
           1,
           1,
           210
          ],
          [
           6,
           3,
           555.3
          ],
          [
           1,
           1,
           68
          ],
          [
           1,
           1,
           105
          ],
          [
           3,
           1,
           209
          ],
          [
           1,
           1,
           36
          ],
          [
           4,
           1,
           418.4
          ],
          [
           1,
           1,
           450
          ],
          [
           2,
           1,
           118.30000000000001
          ],
          [
           2,
           1,
           40.8
          ],
          [
           15,
           5,
           1250.4
          ],
          [
           3,
           1,
           264.9
          ],
          [
           1,
           1,
           100
          ],
          [
           1,
           1,
           300
          ],
          [
           1,
           1,
           49.5
          ],
          [
           1,
           1,
           105
          ],
          [
           3,
           2,
           127
          ],
          [
           2,
           2,
           135
          ],
          [
           1,
           1,
           79.2
          ],
          [
           1,
           1,
           149
          ],
          [
           1,
           1,
           168
          ],
          [
           1,
           1,
           112.2
          ],
          [
           1,
           1,
           200
          ],
          [
           19,
           6,
           6820.4
          ],
          [
           1,
           1,
           48.6
          ],
          [
           1,
           1,
           144.8
          ],
          [
           1,
           1,
           150
          ],
          [
           3,
           1,
           470
          ],
          [
           1,
           1,
           44
          ],
          [
           1,
           1,
           36
          ],
          [
           2,
           2,
           153
          ],
          [
           19,
           7,
           3235.9
          ],
          [
           1,
           1,
           45
          ],
          [
           1,
           1,
           138
          ],
          [
           1,
           1,
           50
          ],
          [
           2,
           1,
           800
          ],
          [
           1,
           1,
           300
          ],
          [
           13,
           5,
           4014
          ],
          [
           1,
           1,
           104
          ],
          [
           3,
           2,
           394.65999999999997
          ],
          [
           1,
           1,
           500
          ],
          [
           1,
           1,
           50
          ],
          [
           5,
           4,
           819.2
          ],
          [
           50,
           8,
           30730.3
          ],
          [
           2,
           1,
           131.39999999999998
          ],
          [
           10,
           4,
           1880.6
          ],
          [
           6,
           4,
           2519.29
          ],
          [
           2,
           2,
           1744.9
          ]
         ],
         "hovertemplate": "<b>%{hovertext}</b><br><br>HOST TO=SHET<br>Connection Date=%{x}<br>Total Entry Capacity (MW)=%{y}<br>Number of Projects=%{customdata[0]}<br>Unique Plant Type=%{customdata[1]}<br>Total MW Change=%{customdata[2]}<extra></extra>",
         "hovertext": [
          "2022-02-15T00:00:00",
          "2022-02-21T00:00:00",
          "2022-04-01T00:00:00",
          "2022-07-01T00:00:00",
          "2023-07-31T00:00:00",
          "2023-10-31T00:00:00",
          "2024-02-01T00:00:00",
          "2024-03-29T00:00:00",
          "2024-03-31T00:00:00",
          "2024-04-01T00:00:00",
          "2024-04-30T00:00:00",
          "2024-05-31T00:00:00",
          "2024-06-30T00:00:00",
          "2024-07-01T00:00:00",
          "2024-10-31T00:00:00",
          "2025-04-30T00:00:00",
          "2025-06-30T00:00:00",
          "2025-08-30T00:00:00",
          "2025-08-31T00:00:00",
          "2025-10-31T00:00:00",
          "2026-04-01T00:00:00",
          "2026-05-31T00:00:00",
          "2026-07-31T00:00:00",
          "2026-08-31T00:00:00",
          "2026-09-30T00:00:00",
          "2026-10-31T00:00:00",
          "2027-01-15T00:00:00",
          "2027-03-31T00:00:00",
          "2027-04-01T00:00:00",
          "2027-04-25T00:00:00",
          "2027-04-30T00:00:00",
          "2027-05-31T00:00:00",
          "2027-06-30T00:00:00",
          "2027-07-31T00:00:00",
          "2027-08-01T00:00:00",
          "2027-08-31T00:00:00",
          "2027-09-30T00:00:00",
          "2027-10-30T00:00:00",
          "2027-10-31T00:00:00",
          "2028-02-01T00:00:00",
          "2028-03-30T00:00:00",
          "2028-04-01T00:00:00",
          "2028-05-31T00:00:00",
          "2028-06-30T00:00:00",
          "2028-07-31T00:00:00",
          "2028-08-31T00:00:00",
          "2028-10-30T00:00:00",
          "2028-10-31T00:00:00",
          "2028-11-30T00:00:00",
          "2028-12-31T00:00:00",
          "2029-03-31T00:00:00",
          "2029-05-01T00:00:00",
          "2029-05-30T00:00:00",
          "2029-05-31T00:00:00",
          "2029-06-30T00:00:00",
          "2029-07-30T00:00:00",
          "2029-07-31T00:00:00",
          "2029-09-18T00:00:00",
          "2029-09-28T00:00:00",
          "2029-09-30T00:00:00",
          "2029-10-31T00:00:00",
          "2030-01-01T00:00:00",
          "2030-01-20T00:00:00",
          "2030-04-30T00:00:00",
          "2030-05-30T00:00:00",
          "2030-05-31T00:00:00",
          "2030-06-01T00:00:00",
          "2030-09-30T00:00:00",
          "2030-10-31T00:00:00",
          "2031-03-31T00:00:00",
          "2031-04-30T00:00:00",
          "2031-06-30T00:00:00",
          "2031-07-31T00:00:00",
          "2031-08-15T00:00:00",
          "2031-10-31T00:00:00",
          "2031-11-30T00:00:00",
          "2032-06-30T00:00:00",
          "2032-07-31T00:00:00",
          "2032-10-01T00:00:00",
          "2032-10-31T00:00:00",
          "2033-10-31T00:00:00",
          "2034-04-30T00:00:00",
          "2034-10-31T00:00:00",
          "2035-10-31T00:00:00",
          "2036-11-11T00:00:00"
         ],
         "legendgroup": "SHET",
         "marker": {
          "color": "#EF553B",
          "size": [
           1,
           2,
           1,
           1,
           1,
           2,
           1,
           1,
           2,
           1,
           1,
           2,
           2,
           1,
           6,
           1,
           1,
           1,
           2,
           3,
           2,
           1,
           1,
           1,
           2,
           10,
           1,
           1,
           3,
           1,
           1,
           1,
           2,
           5,
           1,
           1,
           1,
           1,
           6,
           1,
           1,
           3,
           1,
           4,
           1,
           2,
           2,
           15,
           3,
           1,
           1,
           1,
           1,
           3,
           2,
           1,
           1,
           1,
           1,
           1,
           19,
           1,
           1,
           1,
           3,
           1,
           1,
           2,
           19,
           1,
           1,
           1,
           2,
           1,
           13,
           1,
           3,
           1,
           1,
           5,
           50,
           2,
           10,
           6,
           2
          ],
          "sizemode": "area",
          "sizeref": 0.225,
          "symbol": "circle"
         },
         "mode": "markers",
         "name": "SHET",
         "orientation": "v",
         "showlegend": true,
         "type": "scatter",
         "x": [
          "2022-02-15T00:00:00",
          "2022-02-21T00:00:00",
          "2022-04-01T00:00:00",
          "2022-07-01T00:00:00",
          "2023-07-31T00:00:00",
          "2023-10-31T00:00:00",
          "2024-02-01T00:00:00",
          "2024-03-29T00:00:00",
          "2024-03-31T00:00:00",
          "2024-04-01T00:00:00",
          "2024-04-30T00:00:00",
          "2024-05-31T00:00:00",
          "2024-06-30T00:00:00",
          "2024-07-01T00:00:00",
          "2024-10-31T00:00:00",
          "2025-04-30T00:00:00",
          "2025-06-30T00:00:00",
          "2025-08-30T00:00:00",
          "2025-08-31T00:00:00",
          "2025-10-31T00:00:00",
          "2026-04-01T00:00:00",
          "2026-05-31T00:00:00",
          "2026-07-31T00:00:00",
          "2026-08-31T00:00:00",
          "2026-09-30T00:00:00",
          "2026-10-31T00:00:00",
          "2027-01-15T00:00:00",
          "2027-03-31T00:00:00",
          "2027-04-01T00:00:00",
          "2027-04-25T00:00:00",
          "2027-04-30T00:00:00",
          "2027-05-31T00:00:00",
          "2027-06-30T00:00:00",
          "2027-07-31T00:00:00",
          "2027-08-01T00:00:00",
          "2027-08-31T00:00:00",
          "2027-09-30T00:00:00",
          "2027-10-30T00:00:00",
          "2027-10-31T00:00:00",
          "2028-02-01T00:00:00",
          "2028-03-30T00:00:00",
          "2028-04-01T00:00:00",
          "2028-05-31T00:00:00",
          "2028-06-30T00:00:00",
          "2028-07-31T00:00:00",
          "2028-08-31T00:00:00",
          "2028-10-30T00:00:00",
          "2028-10-31T00:00:00",
          "2028-11-30T00:00:00",
          "2028-12-31T00:00:00",
          "2029-03-31T00:00:00",
          "2029-05-01T00:00:00",
          "2029-05-30T00:00:00",
          "2029-05-31T00:00:00",
          "2029-06-30T00:00:00",
          "2029-07-30T00:00:00",
          "2029-07-31T00:00:00",
          "2029-09-18T00:00:00",
          "2029-09-28T00:00:00",
          "2029-09-30T00:00:00",
          "2029-10-31T00:00:00",
          "2030-01-01T00:00:00",
          "2030-01-20T00:00:00",
          "2030-04-30T00:00:00",
          "2030-05-30T00:00:00",
          "2030-05-31T00:00:00",
          "2030-06-01T00:00:00",
          "2030-09-30T00:00:00",
          "2030-10-31T00:00:00",
          "2031-03-31T00:00:00",
          "2031-04-30T00:00:00",
          "2031-06-30T00:00:00",
          "2031-07-31T00:00:00",
          "2031-08-15T00:00:00",
          "2031-10-31T00:00:00",
          "2031-11-30T00:00:00",
          "2032-06-30T00:00:00",
          "2032-07-31T00:00:00",
          "2032-10-01T00:00:00",
          "2032-10-31T00:00:00",
          "2033-10-31T00:00:00",
          "2034-04-30T00:00:00",
          "2034-10-31T00:00:00",
          "2035-10-31T00:00:00",
          "2036-11-11T00:00:00"
         ],
         "xaxis": "x",
         "y": [
          10,
          75,
          600,
          1075,
          40,
          37.5,
          200,
          20.622,
          36,
          800,
          106,
          48,
          65.99000000000001,
          443,
          704.1,
          50,
          20,
          49.9,
          136,
          104.275,
          400.8,
          49.9,
          70,
          77,
          117.9,
          1640.1,
          45,
          49.7,
          316,
          207.6,
          50,
          105,
          169,
          612.8,
          99,
          49.5,
          34.8,
          210,
          555.3,
          68,
          105,
          462,
          36,
          517.4,
          450,
          118.30000000000001,
          40.8,
          1250.4,
          264.9,
          100,
          300,
          49.5,
          105,
          127,
          135,
          79.2,
          149,
          168,
          112.2,
          200,
          7432.4,
          90,
          144.8,
          150,
          470,
          44,
          36,
          153,
          3472.9,
          45,
          138,
          50,
          800,
          300,
          4794,
          104,
          394.65999999999997,
          500,
          50,
          819.2,
          32205.3,
          181.39999999999998,
          2121.4,
          3119.29,
          1744.9
         ],
         "yaxis": "y"
        },
        {
         "customdata": [
          [
           1,
           1,
           42.64
          ],
          [
           1,
           1,
           32
          ],
          [
           1,
           1,
           69
          ],
          [
           1,
           1,
           448
          ],
          [
           1,
           1,
           49.99
          ],
          [
           1,
           1,
           50
          ],
          [
           1,
           1,
           50
          ],
          [
           1,
           1,
           48
          ],
          [
           1,
           1,
           40
          ],
          [
           1,
           1,
           0
          ],
          [
           5,
           3,
           800
          ],
          [
           3,
           2,
           512
          ],
          [
           2,
           1,
           84
          ],
          [
           1,
           1,
           50
          ],
          [
           1,
           1,
           57
          ],
          [
           4,
           1,
           147.2
          ],
          [
           2,
           2,
           284.6
          ],
          [
           1,
           1,
           0
          ],
          [
           1,
           1,
           89
          ],
          [
           2,
           2,
           200
          ],
          [
           1,
           1,
           43
          ],
          [
           1,
           1,
           114
          ],
          [
           2,
           2,
           53.43000000000001
          ],
          [
           1,
           1,
           72
          ],
          [
           2,
           1,
           1080
          ],
          [
           1,
           1,
           63
          ],
          [
           1,
           1,
           46
          ],
          [
           2,
           1,
           105
          ],
          [
           1,
           1,
           49.9
          ],
          [
           1,
           1,
           150
          ],
          [
           4,
           2,
           229.9
          ],
          [
           1,
           1,
           85
          ],
          [
           1,
           1,
           49.9
          ],
          [
           1,
           1,
           350
          ],
          [
           1,
           1,
           500
          ],
          [
           2,
           2,
           402
          ],
          [
           1,
           1,
           38.7
          ],
          [
           1,
           1,
           46
          ],
          [
           3,
           3,
           850
          ],
          [
           1,
           1,
           500
          ],
          [
           1,
           1,
           500
          ],
          [
           3,
           2,
           507
          ],
          [
           1,
           1,
           67.2
          ],
          [
           3,
           1,
           299.8
          ],
          [
           1,
           1,
           60
          ],
          [
           3,
           1,
           343
          ],
          [
           1,
           1,
           55
          ],
          [
           1,
           1,
           72.8
          ],
          [
           2,
           2,
           120
          ],
          [
           1,
           1,
           30
          ],
          [
           1,
           1,
           100
          ],
          [
           2,
           2,
           69
          ],
          [
           3,
           3,
           296
          ],
          [
           2,
           1,
           88
          ],
          [
           1,
           1,
           12
          ],
          [
           1,
           1,
           80
          ],
          [
           1,
           1,
           500
          ],
          [
           7,
           3,
           1375.5
          ],
          [
           1,
           1,
           600
          ],
          [
           1,
           1,
           63
          ],
          [
           1,
           1,
           40
          ],
          [
           3,
           2,
           392
          ],
          [
           1,
           1,
           96
          ],
          [
           1,
           1,
           50
          ],
          [
           1,
           1,
           36
          ],
          [
           1,
           1,
           100
          ],
          [
           1,
           1,
           89
          ],
          [
           1,
           1,
           150
          ],
          [
           1,
           1,
           100
          ],
          [
           1,
           1,
           250
          ],
          [
           3,
           2,
           400.78
          ],
          [
           2,
           2,
           585
          ],
          [
           13,
           4,
           822.7
          ],
          [
           1,
           1,
           750
          ],
          [
           1,
           1,
           38.3
          ],
          [
           3,
           1,
           297.2
          ],
          [
           1,
           1,
           100
          ],
          [
           6,
           3,
           2930
          ],
          [
           1,
           1,
           400
          ],
          [
           1,
           1,
           49.9
          ],
          [
           1,
           1,
           228
          ],
          [
           2,
           2,
           436
          ],
          [
           1,
           1,
           400
          ],
          [
           1,
           1,
           67.2
          ],
          [
           2,
           2,
           419
          ],
          [
           2,
           1,
           99
          ],
          [
           2,
           1,
           130
          ],
          [
           1,
           1,
           250
          ],
          [
           1,
           1,
           33.6
          ],
          [
           1,
           1,
           50
          ],
          [
           1,
           1,
           60
          ],
          [
           1,
           1,
           249.9
          ],
          [
           4,
           2,
           349.4
          ],
          [
           12,
           4,
           4001.61
          ],
          [
           2,
           2,
           108
          ],
          [
           1,
           1,
           84
          ],
          [
           1,
           1,
           150
          ],
          [
           1,
           1,
           84
          ],
          [
           1,
           1,
           45.5
          ],
          [
           2,
           1,
           399
          ],
          [
           1,
           1,
           67
          ],
          [
           1,
           1,
           500
          ],
          [
           2,
           1,
           577
          ],
          [
           1,
           1,
           10.5
          ],
          [
           1,
           1,
           49.9
          ],
          [
           1,
           1,
           150
          ],
          [
           1,
           1,
           33
          ],
          [
           1,
           1,
           350
          ],
          [
           1,
           1,
           150
          ],
          [
           1,
           1,
           38.4
          ],
          [
           1,
           1,
           500
          ],
          [
           1,
           1,
           400
          ],
          [
           3,
           1,
           1434
          ],
          [
           2,
           1,
           75
          ],
          [
           1,
           1,
           112
          ],
          [
           4,
           3,
           1292.8
          ],
          [
           6,
           4,
           597.9
          ],
          [
           1,
           1,
           400
          ],
          [
           6,
           2,
           564.8
          ],
          [
           1,
           1,
           166.61
          ],
          [
           2,
           2,
           185.8
          ],
          [
           1,
           1,
           95
          ],
          [
           2,
           1,
           750
          ],
          [
           2,
           2,
           370
          ],
          [
           1,
           1,
           150
          ],
          [
           4,
           1,
           900
          ],
          [
           11,
           4,
           3026
          ],
          [
           2,
           2,
           345.2
          ],
          [
           1,
           1,
           200
          ],
          [
           5,
           2,
           693
          ],
          [
           1,
           1,
           60
          ],
          [
           1,
           1,
           49.9
          ],
          [
           1,
           1,
           92.4
          ],
          [
           1,
           1,
           220
          ],
          [
           4,
           3,
           970
          ],
          [
           26,
           5,
           6589
          ],
          [
           1,
           1,
           216
          ],
          [
           2,
           1,
           599.9
          ],
          [
           2,
           2,
           144
          ],
          [
           1,
           1,
           100
          ],
          [
           3,
           1,
           1102.9
          ],
          [
           1,
           1,
           800
          ],
          [
           1,
           1,
           400
          ],
          [
           1,
           1,
           450
          ],
          [
           12,
           3,
           6547
          ],
          [
           1,
           1,
           297
          ],
          [
           1,
           1,
           80
          ],
          [
           2,
           2,
           700
          ],
          [
           7,
           4,
           1607.8
          ],
          [
           2,
           2,
           186
          ],
          [
           1,
           1,
           300
          ]
         ],
         "hovertemplate": "<b>%{hovertext}</b><br><br>HOST TO=SPT<br>Connection Date=%{x}<br>Total Entry Capacity (MW)=%{y}<br>Number of Projects=%{customdata[0]}<br>Unique Plant Type=%{customdata[1]}<br>Total MW Change=%{customdata[2]}<extra></extra>",
         "hovertext": [
          "2022-11-25T00:00:00",
          "2023-03-31T00:00:00",
          "2023-05-30T00:00:00",
          "2023-06-01T00:00:00",
          "2023-07-28T00:00:00",
          "2023-08-02T00:00:00",
          "2023-08-15T00:00:00",
          "2023-09-30T00:00:00",
          "2023-10-30T00:00:00",
          "2024-03-29T00:00:00",
          "2024-04-12T00:00:00",
          "2024-04-30T00:00:00",
          "2024-05-30T00:00:00",
          "2024-05-31T00:00:00",
          "2024-06-28T00:00:00",
          "2024-06-30T00:00:00",
          "2024-07-30T00:00:00",
          "2024-07-31T00:00:00",
          "2024-08-01T00:00:00",
          "2024-09-30T00:00:00",
          "2024-10-31T00:00:00",
          "2024-11-01T00:00:00",
          "2024-12-06T00:00:00",
          "2025-01-30T00:00:00",
          "2025-04-01T00:00:00",
          "2025-04-03T00:00:00",
          "2025-04-08T00:00:00",
          "2025-04-30T00:00:00",
          "2025-05-06T00:00:00",
          "2025-05-30T00:00:00",
          "2025-06-30T00:00:00",
          "2025-07-01T00:00:00",
          "2025-07-16T00:00:00",
          "2025-07-31T00:00:00",
          "2025-08-28T00:00:00",
          "2025-08-29T00:00:00",
          "2025-10-06T00:00:00",
          "2025-10-30T00:00:00",
          "2025-10-31T00:00:00",
          "2026-04-01T00:00:00",
          "2026-04-12T00:00:00",
          "2026-04-30T00:00:00",
          "2026-05-01T00:00:00",
          "2026-06-30T00:00:00",
          "2026-07-03T00:00:00",
          "2026-07-31T00:00:00",
          "2026-08-19T00:00:00",
          "2026-08-31T00:00:00",
          "2026-09-30T00:00:00",
          "2026-10-01T00:00:00",
          "2026-10-20T00:00:00",
          "2026-10-30T00:00:00",
          "2026-10-31T00:00:00",
          "2026-11-30T00:00:00",
          "2026-12-15T00:00:00",
          "2027-03-31T00:00:00",
          "2027-04-16T00:00:00",
          "2027-04-30T00:00:00",
          "2027-05-17T00:00:00",
          "2027-05-31T00:00:00",
          "2027-06-01T00:00:00",
          "2027-06-30T00:00:00",
          "2027-07-14T00:00:00",
          "2027-08-26T00:00:00",
          "2027-08-27T00:00:00",
          "2027-09-27T00:00:00",
          "2027-09-29T00:00:00",
          "2027-09-30T00:00:00",
          "2027-10-26T00:00:00",
          "2027-10-28T00:00:00",
          "2027-10-29T00:00:00",
          "2027-10-30T00:00:00",
          "2027-10-31T00:00:00",
          "2027-12-30T00:00:00",
          "2028-03-31T00:00:00",
          "2028-04-01T00:00:00",
          "2028-04-28T00:00:00",
          "2028-04-30T00:00:00",
          "2028-05-31T00:00:00",
          "2028-06-14T00:00:00",
          "2028-06-23T00:00:00",
          "2028-06-30T00:00:00",
          "2028-07-01T00:00:00",
          "2028-07-30T00:00:00",
          "2028-07-31T00:00:00",
          "2028-08-18T00:00:00",
          "2028-08-21T00:00:00",
          "2028-08-31T00:00:00",
          "2028-09-29T00:00:00",
          "2028-09-30T00:00:00",
          "2028-10-16T00:00:00",
          "2028-10-27T00:00:00",
          "2028-10-30T00:00:00",
          "2028-10-31T00:00:00",
          "2028-12-01T00:00:00",
          "2029-02-28T00:00:00",
          "2029-04-13T00:00:00",
          "2029-04-26T00:00:00",
          "2029-04-27T00:00:00",
          "2029-04-30T00:00:00",
          "2029-05-25T00:00:00",
          "2029-05-28T00:00:00",
          "2029-06-15T00:00:00",
          "2029-06-30T00:00:00",
          "2029-07-30T00:00:00",
          "2029-07-31T00:00:00",
          "2029-08-13T00:00:00",
          "2029-08-31T00:00:00",
          "2029-09-17T00:00:00",
          "2029-09-30T00:00:00",
          "2029-10-01T00:00:00",
          "2029-10-09T00:00:00",
          "2029-10-17T00:00:00",
          "2029-10-26T00:00:00",
          "2029-10-29T00:00:00",
          "2029-10-30T00:00:00",
          "2029-10-31T00:00:00",
          "2029-11-22T00:00:00",
          "2030-04-30T00:00:00",
          "2030-05-02T00:00:00",
          "2030-06-28T00:00:00",
          "2030-06-30T00:00:00",
          "2030-07-31T00:00:00",
          "2030-08-30T00:00:00",
          "2030-09-30T00:00:00",
          "2030-10-30T00:00:00",
          "2030-10-31T00:00:00",
          "2031-04-30T00:00:00",
          "2031-05-22T00:00:00",
          "2031-06-30T00:00:00",
          "2031-07-17T00:00:00",
          "2031-07-31T00:00:00",
          "2031-09-30T00:00:00",
          "2031-10-10T00:00:00",
          "2031-10-30T00:00:00",
          "2031-10-31T00:00:00",
          "2032-06-15T00:00:00",
          "2032-06-30T00:00:00",
          "2032-10-30T00:00:00",
          "2032-10-31T00:00:00",
          "2033-05-30T00:00:00",
          "2033-10-25T00:00:00",
          "2033-10-28T00:00:00",
          "2033-10-30T00:00:00",
          "2033-10-31T00:00:00",
          "2035-10-31T00:00:00",
          "2036-06-30T00:00:00",
          "2036-10-30T00:00:00",
          "2036-10-31T00:00:00",
          "2037-10-30T00:00:00",
          "2037-10-31T00:00:00"
         ],
         "legendgroup": "SPT",
         "marker": {
          "color": "#00cc96",
          "size": [
           1,
           1,
           1,
           1,
           1,
           1,
           1,
           1,
           1,
           1,
           5,
           3,
           2,
           1,
           1,
           4,
           2,
           1,
           1,
           2,
           1,
           1,
           2,
           1,
           2,
           1,
           1,
           2,
           1,
           1,
           4,
           1,
           1,
           1,
           1,
           2,
           1,
           1,
           3,
           1,
           1,
           3,
           1,
           3,
           1,
           3,
           1,
           1,
           2,
           1,
           1,
           2,
           3,
           2,
           1,
           1,
           1,
           7,
           1,
           1,
           1,
           3,
           1,
           1,
           1,
           1,
           1,
           1,
           1,
           1,
           3,
           2,
           13,
           1,
           1,
           3,
           1,
           6,
           1,
           1,
           1,
           2,
           1,
           1,
           2,
           2,
           2,
           1,
           1,
           1,
           1,
           1,
           4,
           12,
           2,
           1,
           1,
           1,
           1,
           2,
           1,
           1,
           2,
           1,
           1,
           1,
           1,
           1,
           1,
           1,
           1,
           1,
           3,
           2,
           1,
           4,
           6,
           1,
           6,
           1,
           2,
           1,
           2,
           2,
           1,
           4,
           11,
           2,
           1,
           5,
           1,
           1,
           1,
           1,
           4,
           26,
           1,
           2,
           2,
           1,
           3,
           1,
           1,
           1,
           12,
           1,
           1,
           2,
           7,
           2,
           1
          ],
          "sizemode": "area",
          "sizeref": 0.225,
          "symbol": "circle"
         },
         "mode": "markers",
         "name": "SPT",
         "orientation": "v",
         "showlegend": true,
         "type": "scatter",
         "x": [
          "2022-11-25T00:00:00",
          "2023-03-31T00:00:00",
          "2023-05-30T00:00:00",
          "2023-06-01T00:00:00",
          "2023-07-28T00:00:00",
          "2023-08-02T00:00:00",
          "2023-08-15T00:00:00",
          "2023-09-30T00:00:00",
          "2023-10-30T00:00:00",
          "2024-03-29T00:00:00",
          "2024-04-12T00:00:00",
          "2024-04-30T00:00:00",
          "2024-05-30T00:00:00",
          "2024-05-31T00:00:00",
          "2024-06-28T00:00:00",
          "2024-06-30T00:00:00",
          "2024-07-30T00:00:00",
          "2024-07-31T00:00:00",
          "2024-08-01T00:00:00",
          "2024-09-30T00:00:00",
          "2024-10-31T00:00:00",
          "2024-11-01T00:00:00",
          "2024-12-06T00:00:00",
          "2025-01-30T00:00:00",
          "2025-04-01T00:00:00",
          "2025-04-03T00:00:00",
          "2025-04-08T00:00:00",
          "2025-04-30T00:00:00",
          "2025-05-06T00:00:00",
          "2025-05-30T00:00:00",
          "2025-06-30T00:00:00",
          "2025-07-01T00:00:00",
          "2025-07-16T00:00:00",
          "2025-07-31T00:00:00",
          "2025-08-28T00:00:00",
          "2025-08-29T00:00:00",
          "2025-10-06T00:00:00",
          "2025-10-30T00:00:00",
          "2025-10-31T00:00:00",
          "2026-04-01T00:00:00",
          "2026-04-12T00:00:00",
          "2026-04-30T00:00:00",
          "2026-05-01T00:00:00",
          "2026-06-30T00:00:00",
          "2026-07-03T00:00:00",
          "2026-07-31T00:00:00",
          "2026-08-19T00:00:00",
          "2026-08-31T00:00:00",
          "2026-09-30T00:00:00",
          "2026-10-01T00:00:00",
          "2026-10-20T00:00:00",
          "2026-10-30T00:00:00",
          "2026-10-31T00:00:00",
          "2026-11-30T00:00:00",
          "2026-12-15T00:00:00",
          "2027-03-31T00:00:00",
          "2027-04-16T00:00:00",
          "2027-04-30T00:00:00",
          "2027-05-17T00:00:00",
          "2027-05-31T00:00:00",
          "2027-06-01T00:00:00",
          "2027-06-30T00:00:00",
          "2027-07-14T00:00:00",
          "2027-08-26T00:00:00",
          "2027-08-27T00:00:00",
          "2027-09-27T00:00:00",
          "2027-09-29T00:00:00",
          "2027-09-30T00:00:00",
          "2027-10-26T00:00:00",
          "2027-10-28T00:00:00",
          "2027-10-29T00:00:00",
          "2027-10-30T00:00:00",
          "2027-10-31T00:00:00",
          "2027-12-30T00:00:00",
          "2028-03-31T00:00:00",
          "2028-04-01T00:00:00",
          "2028-04-28T00:00:00",
          "2028-04-30T00:00:00",
          "2028-05-31T00:00:00",
          "2028-06-14T00:00:00",
          "2028-06-23T00:00:00",
          "2028-06-30T00:00:00",
          "2028-07-01T00:00:00",
          "2028-07-30T00:00:00",
          "2028-07-31T00:00:00",
          "2028-08-18T00:00:00",
          "2028-08-21T00:00:00",
          "2028-08-31T00:00:00",
          "2028-09-29T00:00:00",
          "2028-09-30T00:00:00",
          "2028-10-16T00:00:00",
          "2028-10-27T00:00:00",
          "2028-10-30T00:00:00",
          "2028-10-31T00:00:00",
          "2028-12-01T00:00:00",
          "2029-02-28T00:00:00",
          "2029-04-13T00:00:00",
          "2029-04-26T00:00:00",
          "2029-04-27T00:00:00",
          "2029-04-30T00:00:00",
          "2029-05-25T00:00:00",
          "2029-05-28T00:00:00",
          "2029-06-15T00:00:00",
          "2029-06-30T00:00:00",
          "2029-07-30T00:00:00",
          "2029-07-31T00:00:00",
          "2029-08-13T00:00:00",
          "2029-08-31T00:00:00",
          "2029-09-17T00:00:00",
          "2029-09-30T00:00:00",
          "2029-10-01T00:00:00",
          "2029-10-09T00:00:00",
          "2029-10-17T00:00:00",
          "2029-10-26T00:00:00",
          "2029-10-29T00:00:00",
          "2029-10-30T00:00:00",
          "2029-10-31T00:00:00",
          "2029-11-22T00:00:00",
          "2030-04-30T00:00:00",
          "2030-05-02T00:00:00",
          "2030-06-28T00:00:00",
          "2030-06-30T00:00:00",
          "2030-07-31T00:00:00",
          "2030-08-30T00:00:00",
          "2030-09-30T00:00:00",
          "2030-10-30T00:00:00",
          "2030-10-31T00:00:00",
          "2031-04-30T00:00:00",
          "2031-05-22T00:00:00",
          "2031-06-30T00:00:00",
          "2031-07-17T00:00:00",
          "2031-07-31T00:00:00",
          "2031-09-30T00:00:00",
          "2031-10-10T00:00:00",
          "2031-10-30T00:00:00",
          "2031-10-31T00:00:00",
          "2032-06-15T00:00:00",
          "2032-06-30T00:00:00",
          "2032-10-30T00:00:00",
          "2032-10-31T00:00:00",
          "2033-05-30T00:00:00",
          "2033-10-25T00:00:00",
          "2033-10-28T00:00:00",
          "2033-10-30T00:00:00",
          "2033-10-31T00:00:00",
          "2035-10-31T00:00:00",
          "2036-06-30T00:00:00",
          "2036-10-30T00:00:00",
          "2036-10-31T00:00:00",
          "2037-10-30T00:00:00",
          "2037-10-31T00:00:00"
         ],
         "xaxis": "x",
         "y": [
          42.64,
          238,
          69,
          448,
          49.99,
          50,
          50,
          48,
          40,
          0,
          800,
          512,
          84,
          50,
          57,
          252.2,
          284.6,
          0,
          89,
          200,
          43,
          114,
          53.43000000000001,
          72,
          1080,
          63,
          274,
          105,
          49.9,
          150,
          229.9,
          85,
          49.9,
          350,
          500,
          402,
          38.7,
          46,
          900,
          500,
          500,
          507,
          67.2,
          299.8,
          60,
          343,
          55,
          72.8,
          120,
          30,
          100,
          69,
          296,
          88,
          12,
          80,
          500,
          1375.5,
          600,
          63,
          480,
          392,
          96,
          50,
          36,
          100,
          89,
          150,
          100,
          250,
          400.78,
          585,
          978.1,
          750,
          163.3,
          382.2,
          100,
          2930,
          400,
          49.9,
          228,
          436,
          400,
          67.2,
          419,
          99,
          130,
          250,
          33.6,
          50,
          60,
          249.9,
          349.4,
          4001.61,
          108,
          84,
          150,
          84,
          45.5,
          399,
          67,
          500,
          1000,
          96,
          49.9,
          150,
          33,
          350,
          150,
          38.4,
          500,
          400,
          1434,
          75,
          112,
          1542.8,
          597.9,
          400,
          564.8,
          166.61,
          185.8,
          95,
          750,
          370,
          150,
          900,
          3026,
          345.2,
          200,
          743,
          60,
          49.9,
          92.4,
          220,
          970,
          6589,
          330,
          599.9,
          144,
          100,
          1102.9,
          800,
          400,
          450,
          6547,
          297,
          80,
          700,
          1607.8,
          274,
          300
         ],
         "yaxis": "y"
        }
       ],
       "layout": {
        "legend": {
         "itemsizing": "constant",
         "title": {
          "text": "HOST TO"
         },
         "tracegroupgap": 0
        },
        "showlegend": true,
        "template": {
         "data": {
          "bar": [
           {
            "error_x": {
             "color": "#2a3f5f"
            },
            "error_y": {
             "color": "#2a3f5f"
            },
            "marker": {
             "line": {
              "color": "#E5ECF6",
              "width": 0.5
             },
             "pattern": {
              "fillmode": "overlay",
              "size": 10,
              "solidity": 0.2
             }
            },
            "type": "bar"
           }
          ],
          "barpolar": [
           {
            "marker": {
             "line": {
              "color": "#E5ECF6",
              "width": 0.5
             },
             "pattern": {
              "fillmode": "overlay",
              "size": 10,
              "solidity": 0.2
             }
            },
            "type": "barpolar"
           }
          ],
          "carpet": [
           {
            "aaxis": {
             "endlinecolor": "#2a3f5f",
             "gridcolor": "white",
             "linecolor": "white",
             "minorgridcolor": "white",
             "startlinecolor": "#2a3f5f"
            },
            "baxis": {
             "endlinecolor": "#2a3f5f",
             "gridcolor": "white",
             "linecolor": "white",
             "minorgridcolor": "white",
             "startlinecolor": "#2a3f5f"
            },
            "type": "carpet"
           }
          ],
          "choropleth": [
           {
            "colorbar": {
             "outlinewidth": 0,
             "ticks": ""
            },
            "type": "choropleth"
           }
          ],
          "contour": [
           {
            "colorbar": {
             "outlinewidth": 0,
             "ticks": ""
            },
            "colorscale": [
             [
              0,
              "#0d0887"
             ],
             [
              0.1111111111111111,
              "#46039f"
             ],
             [
              0.2222222222222222,
              "#7201a8"
             ],
             [
              0.3333333333333333,
              "#9c179e"
             ],
             [
              0.4444444444444444,
              "#bd3786"
             ],
             [
              0.5555555555555556,
              "#d8576b"
             ],
             [
              0.6666666666666666,
              "#ed7953"
             ],
             [
              0.7777777777777778,
              "#fb9f3a"
             ],
             [
              0.8888888888888888,
              "#fdca26"
             ],
             [
              1,
              "#f0f921"
             ]
            ],
            "type": "contour"
           }
          ],
          "contourcarpet": [
           {
            "colorbar": {
             "outlinewidth": 0,
             "ticks": ""
            },
            "type": "contourcarpet"
           }
          ],
          "heatmap": [
           {
            "colorbar": {
             "outlinewidth": 0,
             "ticks": ""
            },
            "colorscale": [
             [
              0,
              "#0d0887"
             ],
             [
              0.1111111111111111,
              "#46039f"
             ],
             [
              0.2222222222222222,
              "#7201a8"
             ],
             [
              0.3333333333333333,
              "#9c179e"
             ],
             [
              0.4444444444444444,
              "#bd3786"
             ],
             [
              0.5555555555555556,
              "#d8576b"
             ],
             [
              0.6666666666666666,
              "#ed7953"
             ],
             [
              0.7777777777777778,
              "#fb9f3a"
             ],
             [
              0.8888888888888888,
              "#fdca26"
             ],
             [
              1,
              "#f0f921"
             ]
            ],
            "type": "heatmap"
           }
          ],
          "heatmapgl": [
           {
            "colorbar": {
             "outlinewidth": 0,
             "ticks": ""
            },
            "colorscale": [
             [
              0,
              "#0d0887"
             ],
             [
              0.1111111111111111,
              "#46039f"
             ],
             [
              0.2222222222222222,
              "#7201a8"
             ],
             [
              0.3333333333333333,
              "#9c179e"
             ],
             [
              0.4444444444444444,
              "#bd3786"
             ],
             [
              0.5555555555555556,
              "#d8576b"
             ],
             [
              0.6666666666666666,
              "#ed7953"
             ],
             [
              0.7777777777777778,
              "#fb9f3a"
             ],
             [
              0.8888888888888888,
              "#fdca26"
             ],
             [
              1,
              "#f0f921"
             ]
            ],
            "type": "heatmapgl"
           }
          ],
          "histogram": [
           {
            "marker": {
             "pattern": {
              "fillmode": "overlay",
              "size": 10,
              "solidity": 0.2
             }
            },
            "type": "histogram"
           }
          ],
          "histogram2d": [
           {
            "colorbar": {
             "outlinewidth": 0,
             "ticks": ""
            },
            "colorscale": [
             [
              0,
              "#0d0887"
             ],
             [
              0.1111111111111111,
              "#46039f"
             ],
             [
              0.2222222222222222,
              "#7201a8"
             ],
             [
              0.3333333333333333,
              "#9c179e"
             ],
             [
              0.4444444444444444,
              "#bd3786"
             ],
             [
              0.5555555555555556,
              "#d8576b"
             ],
             [
              0.6666666666666666,
              "#ed7953"
             ],
             [
              0.7777777777777778,
              "#fb9f3a"
             ],
             [
              0.8888888888888888,
              "#fdca26"
             ],
             [
              1,
              "#f0f921"
             ]
            ],
            "type": "histogram2d"
           }
          ],
          "histogram2dcontour": [
           {
            "colorbar": {
             "outlinewidth": 0,
             "ticks": ""
            },
            "colorscale": [
             [
              0,
              "#0d0887"
             ],
             [
              0.1111111111111111,
              "#46039f"
             ],
             [
              0.2222222222222222,
              "#7201a8"
             ],
             [
              0.3333333333333333,
              "#9c179e"
             ],
             [
              0.4444444444444444,
              "#bd3786"
             ],
             [
              0.5555555555555556,
              "#d8576b"
             ],
             [
              0.6666666666666666,
              "#ed7953"
             ],
             [
              0.7777777777777778,
              "#fb9f3a"
             ],
             [
              0.8888888888888888,
              "#fdca26"
             ],
             [
              1,
              "#f0f921"
             ]
            ],
            "type": "histogram2dcontour"
           }
          ],
          "mesh3d": [
           {
            "colorbar": {
             "outlinewidth": 0,
             "ticks": ""
            },
            "type": "mesh3d"
           }
          ],
          "parcoords": [
           {
            "line": {
             "colorbar": {
              "outlinewidth": 0,
              "ticks": ""
             }
            },
            "type": "parcoords"
           }
          ],
          "pie": [
           {
            "automargin": true,
            "type": "pie"
           }
          ],
          "scatter": [
           {
            "fillpattern": {
             "fillmode": "overlay",
             "size": 10,
             "solidity": 0.2
            },
            "type": "scatter"
           }
          ],
          "scatter3d": [
           {
            "line": {
             "colorbar": {
              "outlinewidth": 0,
              "ticks": ""
             }
            },
            "marker": {
             "colorbar": {
              "outlinewidth": 0,
              "ticks": ""
             }
            },
            "type": "scatter3d"
           }
          ],
          "scattercarpet": [
           {
            "marker": {
             "colorbar": {
              "outlinewidth": 0,
              "ticks": ""
             }
            },
            "type": "scattercarpet"
           }
          ],
          "scattergeo": [
           {
            "marker": {
             "colorbar": {
              "outlinewidth": 0,
              "ticks": ""
             }
            },
            "type": "scattergeo"
           }
          ],
          "scattergl": [
           {
            "marker": {
             "colorbar": {
              "outlinewidth": 0,
              "ticks": ""
             }
            },
            "type": "scattergl"
           }
          ],
          "scattermapbox": [
           {
            "marker": {
             "colorbar": {
              "outlinewidth": 0,
              "ticks": ""
             }
            },
            "type": "scattermapbox"
           }
          ],
          "scatterpolar": [
           {
            "marker": {
             "colorbar": {
              "outlinewidth": 0,
              "ticks": ""
             }
            },
            "type": "scatterpolar"
           }
          ],
          "scatterpolargl": [
           {
            "marker": {
             "colorbar": {
              "outlinewidth": 0,
              "ticks": ""
             }
            },
            "type": "scatterpolargl"
           }
          ],
          "scatterternary": [
           {
            "marker": {
             "colorbar": {
              "outlinewidth": 0,
              "ticks": ""
             }
            },
            "type": "scatterternary"
           }
          ],
          "surface": [
           {
            "colorbar": {
             "outlinewidth": 0,
             "ticks": ""
            },
            "colorscale": [
             [
              0,
              "#0d0887"
             ],
             [
              0.1111111111111111,
              "#46039f"
             ],
             [
              0.2222222222222222,
              "#7201a8"
             ],
             [
              0.3333333333333333,
              "#9c179e"
             ],
             [
              0.4444444444444444,
              "#bd3786"
             ],
             [
              0.5555555555555556,
              "#d8576b"
             ],
             [
              0.6666666666666666,
              "#ed7953"
             ],
             [
              0.7777777777777778,
              "#fb9f3a"
             ],
             [
              0.8888888888888888,
              "#fdca26"
             ],
             [
              1,
              "#f0f921"
             ]
            ],
            "type": "surface"
           }
          ],
          "table": [
           {
            "cells": {
             "fill": {
              "color": "#EBF0F8"
             },
             "line": {
              "color": "white"
             }
            },
            "header": {
             "fill": {
              "color": "#C8D4E3"
             },
             "line": {
              "color": "white"
             }
            },
            "type": "table"
           }
          ]
         },
         "layout": {
          "annotationdefaults": {
           "arrowcolor": "#2a3f5f",
           "arrowhead": 0,
           "arrowwidth": 1
          },
          "autotypenumbers": "strict",
          "coloraxis": {
           "colorbar": {
            "outlinewidth": 0,
            "ticks": ""
           }
          },
          "colorscale": {
           "diverging": [
            [
             0,
             "#8e0152"
            ],
            [
             0.1,
             "#c51b7d"
            ],
            [
             0.2,
             "#de77ae"
            ],
            [
             0.3,
             "#f1b6da"
            ],
            [
             0.4,
             "#fde0ef"
            ],
            [
             0.5,
             "#f7f7f7"
            ],
            [
             0.6,
             "#e6f5d0"
            ],
            [
             0.7,
             "#b8e186"
            ],
            [
             0.8,
             "#7fbc41"
            ],
            [
             0.9,
             "#4d9221"
            ],
            [
             1,
             "#276419"
            ]
           ],
           "sequential": [
            [
             0,
             "#0d0887"
            ],
            [
             0.1111111111111111,
             "#46039f"
            ],
            [
             0.2222222222222222,
             "#7201a8"
            ],
            [
             0.3333333333333333,
             "#9c179e"
            ],
            [
             0.4444444444444444,
             "#bd3786"
            ],
            [
             0.5555555555555556,
             "#d8576b"
            ],
            [
             0.6666666666666666,
             "#ed7953"
            ],
            [
             0.7777777777777778,
             "#fb9f3a"
            ],
            [
             0.8888888888888888,
             "#fdca26"
            ],
            [
             1,
             "#f0f921"
            ]
           ],
           "sequentialminus": [
            [
             0,
             "#0d0887"
            ],
            [
             0.1111111111111111,
             "#46039f"
            ],
            [
             0.2222222222222222,
             "#7201a8"
            ],
            [
             0.3333333333333333,
             "#9c179e"
            ],
            [
             0.4444444444444444,
             "#bd3786"
            ],
            [
             0.5555555555555556,
             "#d8576b"
            ],
            [
             0.6666666666666666,
             "#ed7953"
            ],
            [
             0.7777777777777778,
             "#fb9f3a"
            ],
            [
             0.8888888888888888,
             "#fdca26"
            ],
            [
             1,
             "#f0f921"
            ]
           ]
          },
          "colorway": [
           "#636efa",
           "#EF553B",
           "#00cc96",
           "#ab63fa",
           "#FFA15A",
           "#19d3f3",
           "#FF6692",
           "#B6E880",
           "#FF97FF",
           "#FECB52"
          ],
          "font": {
           "color": "#2a3f5f"
          },
          "geo": {
           "bgcolor": "white",
           "lakecolor": "white",
           "landcolor": "#E5ECF6",
           "showlakes": true,
           "showland": true,
           "subunitcolor": "white"
          },
          "hoverlabel": {
           "align": "left"
          },
          "hovermode": "closest",
          "mapbox": {
           "style": "light"
          },
          "paper_bgcolor": "white",
          "plot_bgcolor": "#E5ECF6",
          "polar": {
           "angularaxis": {
            "gridcolor": "white",
            "linecolor": "white",
            "ticks": ""
           },
           "bgcolor": "#E5ECF6",
           "radialaxis": {
            "gridcolor": "white",
            "linecolor": "white",
            "ticks": ""
           }
          },
          "scene": {
           "xaxis": {
            "backgroundcolor": "#E5ECF6",
            "gridcolor": "white",
            "gridwidth": 2,
            "linecolor": "white",
            "showbackground": true,
            "ticks": "",
            "zerolinecolor": "white"
           },
           "yaxis": {
            "backgroundcolor": "#E5ECF6",
            "gridcolor": "white",
            "gridwidth": 2,
            "linecolor": "white",
            "showbackground": true,
            "ticks": "",
            "zerolinecolor": "white"
           },
           "zaxis": {
            "backgroundcolor": "#E5ECF6",
            "gridcolor": "white",
            "gridwidth": 2,
            "linecolor": "white",
            "showbackground": true,
            "ticks": "",
            "zerolinecolor": "white"
           }
          },
          "shapedefaults": {
           "line": {
            "color": "#2a3f5f"
           }
          },
          "ternary": {
           "aaxis": {
            "gridcolor": "white",
            "linecolor": "white",
            "ticks": ""
           },
           "baxis": {
            "gridcolor": "white",
            "linecolor": "white",
            "ticks": ""
           },
           "bgcolor": "#E5ECF6",
           "caxis": {
            "gridcolor": "white",
            "linecolor": "white",
            "ticks": ""
           }
          },
          "title": {
           "x": 0.05
          },
          "xaxis": {
           "automargin": true,
           "gridcolor": "white",
           "linecolor": "white",
           "ticks": "",
           "title": {
            "standoff": 15
           },
           "zerolinecolor": "white",
           "zerolinewidth": 2
          },
          "yaxis": {
           "automargin": true,
           "gridcolor": "white",
           "linecolor": "white",
           "ticks": "",
           "title": {
            "standoff": 15
           },
           "zerolinecolor": "white",
           "zerolinewidth": 2
          }
         }
        },
        "title": {
         "text": "Timeline of Connection Capacity, Projects, Plant Types, and MW Change"
        },
        "xaxis": {
         "anchor": "y",
         "domain": [
          0,
          1
         ],
         "title": {
          "text": "Connection Date"
         }
        },
        "yaxis": {
         "anchor": "x",
         "domain": [
          0,
          1
         ],
         "title": {
          "text": "Total Connection Capacity (MW)"
         }
        }
       }
      }
     },
     "metadata": {},
     "output_type": "display_data"
    }
   ],
   "source": [
    "\n",
    "# Grouping the data by 'Connection Date'\n",
    "time_group = data.groupby(['Connection Date', 'HOST TO']).agg({\n",
    "    'Connection Cap (MW)': 'sum',\n",
    "    'Project Name': 'count',\n",
    "    'Plant Type': 'nunique',\n",
    "    'MW Change': 'sum'\n",
    "}).reset_index()\n",
    "\n",
    "# Create a scatter plot\n",
    "timeline_plot = px.scatter(\n",
    "    data_frame=time_group,\n",
    "    x='Connection Date',\n",
    "    y='Connection Cap (MW)',\n",
    "    size='Project Name',  \n",
    "    hover_name='Connection Date', \n",
    "    color='HOST TO',\n",
    "    hover_data={\n",
    "        'Project Name': True,\n",
    "        'Plant Type': True,\n",
    "        'MW Change': True\n",
    "    },\n",
    "    title='Timeline of Connection Capacity, Projects, Plant Types, and MW Change',\n",
    "    labels={\n",
    "        'Connection Cap (MW)': 'Total Entry Capacity (MW)',\n",
    "        'MW Change': 'Total MW Change',\n",
    "        'Project Name': 'Number of Projects',\n",
    "        'Plant Type': 'Unique Plant Type'\n",
    "    },\n",
    "    # template='plotly_white'\n",
    ")\n",
    "\n",
    "# Update layout for improved aesthetics\n",
    "timeline_plot.update_layout(\n",
    "    yaxis_title='Total Connection Capacity (MW)',\n",
    "    xaxis_title='Connection Date',\n",
    "    legend_title='HOST TO',\n",
    "    showlegend=True\n",
    ")\n",
    "\n",
    "# Show the plot\n",
    "timeline_plot.show()\n"
   ]
  },
  {
   "cell_type": "code",
   "execution_count": 563,
   "metadata": {},
   "outputs": [],
   "source": [
    "time_group.to_csv('time_group.csv')"
   ]
  }
 ],
 "metadata": {
  "kernelspec": {
   "display_name": "base",
   "language": "python",
   "name": "python3"
  },
  "language_info": {
   "codemirror_mode": {
    "name": "ipython",
    "version": 3
   },
   "file_extension": ".py",
   "mimetype": "text/x-python",
   "name": "python",
   "nbconvert_exporter": "python",
   "pygments_lexer": "ipython3",
   "version": "3.12.2"
  }
 },
 "nbformat": 4,
 "nbformat_minor": 2
}
